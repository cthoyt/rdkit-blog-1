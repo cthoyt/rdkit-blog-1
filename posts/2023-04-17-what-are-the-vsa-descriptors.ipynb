{
 "cells": [
  {
   "cell_type": "raw",
   "id": "252b2f07",
   "metadata": {},
   "source": [
    "---\n",
    "badges: true\n",
    "categories:\n",
    "- descriptors\n",
    "date: '2023-04-17'\n",
    "title: What are the VSA Descriptors?\n",
    "description: Making sense of something \"uninterpretable\"\n",
    "image: images/blog/what-are-the-vsa-descriptors-1.png\n",
    "toc: true\n",
    "\n",
    "---"
   ]
  },
  {
   "cell_type": "markdown",
   "id": "dbc258a7",
   "metadata": {},
   "source": [
    "A couple of weeks ago I read a fun preprint from a collaboration between Microsoft Research and Novartis: [\"Learning chemical intuition from humans in the loop\"](https://doi.org/10.26434/chemrxiv-2023-knwnv) and noticed that one of the high-ranking descriptors in the authors' analysis of the model they built is `SMR_VSA3` (look at figure 4 in the preprint). Since I've seen that descriptor, or other descriptors from the same family, show up repeatedly when analyzing models, and because I bet that most people don't really have much (if any) idea of what exactly those descriptors are, I figured it's worth a short blog post. \n",
    "\n",
    "The descriptors were introduced in the paper \"A widely applicable set of descriptors\" published by Paul Labute in the Journal of Molecular Graphics and Modelling back in 2000. [Here's a link](https://dx.doi.org/10.1016/S1093-3263(00)00068-1) Random aside: I'm a bit surprised to see that JMGM still exists... it used to be on my standard reading list back in the day, but I haven't thought about it in years. :-)\n",
    "\n",
    "I won't get deeply into the motivation and derivation, read the paper for that, but Paul wanted to come up with a set of descriptors which were generally useful for QSAR studies. He published a three sets of related descriptors: `SlogP_VSAX`, `SMR_VSAX`, and `PEOE_VSAX` which are all based on the same idea: you calculate the contribution of each atom in the molecule to a molecular property (either LogP, MR, or the partial charge) along with the contribution of each atom to an approximate molecular surface area measure (this is the VSA part), assign the atoms to bins based on the property contributions, and then sum up the VSA contributions for each atom in a bin.\n",
    "\n",
    "Sounds complicated, but it isn't. Here's a simple example, the molecule methylamine `CN`\n",
    "\n",
    "| atom | logp contribution | VSA contribution |\n",
    "|---|---------|-------|\n",
    "| C | -0.2035 | 7.048 |\n",
    "| N | -1.019  | 5.734 |\n",
    "\n",
    "\n",
    "The boundaries of the LogP bins for the `SlogP_VSA` descriptor that the RDKit uses are:\n",
    "```\n",
    "[-0.4, -0.2, 0, 0.1, 0.15, 0.2, 0.25, 0.3, 0.4, 0.5, 0.6]\n",
    "```\n",
    "So the N would add a contribution of 5.734 to bin 1 and the C would add a contribution of 7.048 to bin 2 (for this descriptor the bins are labelled from 1).\n",
    "\n",
    "The boundaries for SMR and PEOE are:\n",
    "```\n",
    "[1.29, 1.82, 2.24, 2.45, 2.75, 3.05, 3.63, 3.8, 4.0]\n",
    "```\n",
    "and\n",
    "```\n",
    "[-.3, -.25, -.20, -.15, -.10, -.05, 0, .05, .10, .15, .20, .25, .30]\n",
    "```\n",
    "For what it's worth, Here's where you can find those bin definitions in the RDKit source code:\n",
    "\n",
    "- [`SlogP_VSA`](https://github.com/rdkit/rdkit-orig/blob/master/Code/GraphMol/Descriptors/MolSurf.cpp#L256)\n",
    "- [`SMR_VSA`](https://github.com/rdkit/rdkit-orig/blob/master/Code/GraphMol/Descriptors/MolSurf.cpp#L281)\n",
    "- [`PEOE_VSA`](https://github.com/rdkit/rdkit-orig/blob/master/Code/GraphMol/Descriptors/MolSurf.cpp#L306)\n",
    "\n",
    "These descriptors do end up being quite useful, but they at first seem totally non-interpretable. It turns out that this isn't completely true: with a bit of digging it's possible to get a bit of a sense of what the descriptors actually mean.\n",
    "\n",
    "So with that background, let's go figure out what `SMR_VSA3` is all about."
   ]
  },
  {
   "cell_type": "code",
   "execution_count": 1,
   "id": "edc1bb03",
   "metadata": {
    "ExecuteTime": {
     "end_time": "2023-04-12T13:25:24.213023Z",
     "start_time": "2023-04-12T13:25:24.210663Z"
    }
   },
   "outputs": [
    {
     "name": "stdout",
     "output_type": "stream",
     "text": [
      "2022.09.5\n"
     ]
    }
   ],
   "source": [
    "from rdkit import Chem\n",
    "from rdkit.Chem import rdMolDescriptors\n",
    "from rdkit.Chem import Descriptors\n",
    "from rdkit.Chem.Draw import IPythonConsole\n",
    "from rdkit.Chem import Draw\n",
    "from rdkit.Chem import Crippen\n",
    "import rdkit\n",
    "print(rdkit.__version__)"
   ]
  },
  {
   "cell_type": "markdown",
   "id": "716d4d5a",
   "metadata": {},
   "source": [
    "Let's start by looking at the docstring for `SMR_VSA3`, because that will tell us what the bins are (we could also look them up above, but then we'd have to figure out which bins are where... this is easier:"
   ]
  },
  {
   "cell_type": "code",
   "execution_count": 5,
   "id": "7082b9bc",
   "metadata": {
    "ExecuteTime": {
     "end_time": "2023-04-12T12:28:50.591644Z",
     "start_time": "2023-04-12T12:28:50.589060Z"
    },
    "scrolled": false
   },
   "outputs": [
    {
     "name": "stdout",
     "output_type": "stream",
     "text": [
      "MOE MR VSA Descriptor 3 ( 1.82 <= x <  2.24)\n"
     ]
    }
   ],
   "source": [
    "print(Descriptors.SMR_VSA3.__doc__)"
   ]
  },
  {
   "cell_type": "markdown",
   "id": "686cd2f2",
   "metadata": {},
   "source": [
    "So we know that `SMR_VSA3` is the sum of the VSA contributions from atoms which contribute between 1.82 and 2.24 to the SMR value.\n",
    "\n",
    "The SMR (and SlogP) contributions are calculated using a method published by Wildman and Crippen back in 1999: https://doi.org/10.1021/ci990307l) using SMARTS definitions.\n",
    "\n",
    "Here's the data that the RDKit uses for that:"
   ]
  },
  {
   "cell_type": "code",
   "execution_count": 20,
   "id": "e085873f",
   "metadata": {
    "ExecuteTime": {
     "end_time": "2023-04-12T13:08:08.455627Z",
     "start_time": "2023-04-12T13:08:08.452307Z"
    }
   },
   "outputs": [],
   "source": [
    "# from: https://github.com/rdkit/rdkit/blob/master/Code/GraphMol/Descriptors/Crippen.cpp#L194\n",
    "# each line includes the atom label, the SMARTS, the logP contribution, the MR contribution, and an optional note\n",
    "rdkit_data='''C1\t[CH4]\t0.1441\t2.503\t\n",
    "C1\t[CH3]C\t0.1441\t2.503\t\n",
    "C1\t[CH2](C)C\t0.1441\t2.503\t\n",
    "C2\t[CH](C)(C)C\t0\t2.433\t\n",
    "C2\t[C](C)(C)(C)C\t0\t2.433\t\n",
    "C3\t[CH3][N,O,P,S,F,Cl,Br,I]\t-0.2035\t2.753\t\n",
    "C3\t[CH2X4]([N,O,P,S,F,Cl,Br,I])[A;!#1]\t-0.2035\t2.753\t\n",
    "C4\t[CH1X4]([N,O,P,S,F,Cl,Br,I])([A;!#1])[A;!#1]\t-0.2051\t2.731\t\n",
    "C4\t[CH0X4]([N,O,P,S,F,Cl,Br,I])([A;!#1])([A;!#1])[A;!#1]\t-0.2051\t2.731\t\n",
    "C5\t[C]=[!C;A;!#1]\t-0.2783\t5.007\t\n",
    "C6\t[CH2]=C\t0.1551\t3.513\t\n",
    "C6\t[CH1](=C)[A;!#1]\t0.1551\t3.513\t\n",
    "C6\t[CH0](=C)([A;!#1])[A;!#1]\t0.1551\t3.513\t\n",
    "C6\t[C](=C)=C\t0.1551\t3.513\t\n",
    "C7\t[CX2]#[A;!#1]\t0.0017\t3.888\t\n",
    "C8\t[CH3]c\t0.08452\t2.464\t\n",
    "C9\t[CH3]a\t-0.1444\t2.412\t\n",
    "C10\t[CH2X4]a\t-0.0516\t2.488\t\n",
    "C11\t[CHX4]a\t0.1193\t2.582\t\n",
    "C12\t[CH0X4]a\t-0.0967\t2.576\t\n",
    "C13\t[cH0]-[A;!C;!N;!O;!S;!F;!Cl;!Br;!I;!#1]\t-0.5443\t4.041\t\n",
    "C14\t[c][#9]\t0\t3.257\t\n",
    "C15\t[c][#17]\t0.245\t3.564\t\n",
    "C16\t[c][#35]\t0.198\t3.18\t\n",
    "C17\t[c][#53]\t0\t3.104\t\n",
    "C18\t[cH]\t0.1581\t3.35\t\n",
    "C19\t[c](:a)(:a):a\t0.2955\t4.346\t\n",
    "C20\t[c](:a)(:a)-a\t0.2713\t3.904\t\n",
    "C21\t[c](:a)(:a)-C\t0.136\t3.509\t\n",
    "C22\t[c](:a)(:a)-N\t0.4619\t4.067\t\n",
    "C23\t[c](:a)(:a)-O\t0.5437\t3.853\t\n",
    "C24\t[c](:a)(:a)-S\t0.1893\t2.673\t\n",
    "C25\t[c](:a)(:a)=[C,N,O]\t-0.8186\t3.135\t\n",
    "C26\t[C](=C)(a)[A;!#1]\t0.264\t4.305\t\n",
    "C26\t[C](=C)(c)a\t0.264\t4.305\t\n",
    "C26\t[CH1](=C)a\t0.264\t4.305\t\n",
    "C26\t[C]=c\t0.264\t4.305\t\n",
    "C27\t[CX4][A;!C;!N;!O;!P;!S;!F;!Cl;!Br;!I;!#1]\t0.2148\t2.693\t\n",
    "CS\t[#6]\t0.08129\t3.243\t\n",
    "H1\t[#1][#6,#1]\t0.123\t1.057\t\n",
    "H2\t[#1]O[CX4,c]\t-0.2677\t1.395\t\n",
    "H2\t[#1]O[!#6;!#7;!#8;!#16]\t-0.2677\t1.395\t\n",
    "H2\t[#1][!#6;!#7;!#8]\t-0.2677\t1.395\t\n",
    "H3\t[#1][#7]\t0.2142\t0.9627\t\n",
    "H3\t[#1]O[#7]\t0.2142\t0.9627\t\n",
    "H4\t[#1]OC=[#6,#7,O,S]\t0.298\t1.805\t\n",
    "H4\t[#1]O[O,S]\t0.298\t1.805\t\n",
    "HS\t[#1]\t0.1125\t1.112\t\n",
    "N1\t[NH2+0][A;!#1]\t-1.019\t2.262\t\n",
    "N2\t[NH+0]([A;!#1])[A;!#1]\t-0.7096\t2.173\t\n",
    "N3\t[NH2+0]a\t-1.027\t2.827\t\n",
    "N4\t[NH1+0]([!#1;A,a])a\t-0.5188\t3\t\n",
    "N5\t[NH+0]=[!#1;A,a]\t0.08387\t1.757\t\n",
    "N6\t[N+0](=[!#1;A,a])[!#1;A,a]\t0.1836\t2.428\t\n",
    "N7\t[N+0]([A;!#1])([A;!#1])[A;!#1]\t-0.3187\t1.839\t\n",
    "N8\t[N+0](a)([!#1;A,a])[A;!#1]\t-0.4458\t2.819\t\n",
    "N8\t[N+0](a)(a)a\t-0.4458\t2.819\t\n",
    "N9\t[N+0]#[A;!#1]\t0.01508\t1.725\t\n",
    "N10\t[NH3,NH2,NH;+,+2,+3]\t-1.95\t\t\n",
    "N11\t[n+0]\t-0.3239\t2.202\t\n",
    "N12\t[n;+,+2,+3]\t-1.119\t\t\n",
    "N13\t[NH0;+,+2,+3]([A;!#1])([A;!#1])([A;!#1])[A;!#1]\t-0.3396\t0.2604\t\n",
    "N13\t[NH0;+,+2,+3](=[A;!#1])([A;!#1])[!#1;A,a]\t-0.3396\t0.2604\t\n",
    "N13\t[NH0;+,+2,+3](=[#6])=[#7]\t-0.3396\t0.2604\t\n",
    "N14\t[N;+,+2,+3]#[A;!#1]\t0.2887\t3.359\t\n",
    "N14\t[N;-,-2,-3]\t0.2887\t3.359\t\n",
    "N14\t[N;+,+2,+3](=[N;-,-2,-3])=N\t0.2887\t3.359\t\n",
    "NS\t[#7]\t-0.4806\t2.134\t\n",
    "O1\t[o]\t0.1552\t1.08\t\n",
    "O2\t[OH,OH2]\t-0.2893\t0.8238\t\n",
    "O3\t[O]([A;!#1])[A;!#1]\t-0.0684\t1.085\t\n",
    "O4\t[O](a)[!#1;A,a]\t-0.4195\t1.182\t\n",
    "O5\t[O]=[#7,#8]\t0.0335\t3.367\t\n",
    "O5\t[OX1;-,-2,-3][#7]\t0.0335\t3.367\t\n",
    "O6\t[OX1;-,-2,-2][#16]\t-0.3339\t0.7774\t\n",
    "O6\t[O;-0]=[#16;-0]\t-0.3339\t0.7774\t\n",
    "O12\t[O-]C(=O)\t-1.326\t\t\\\"order flip here intentional\\\"\n",
    "O7\t[OX1;-,-2,-3][!#1;!N;!S]\t-1.189\t0\t\n",
    "O8\t[O]=c\t0.1788\t3.135\t\n",
    "O9\t[O]=[CH]C\t-0.1526\t0\t\n",
    "O9\t[O]=C(C)([A;!#1])\t-0.1526\t0\t\n",
    "O9\t[O]=[CH][N,O]\t-0.1526\t0\t\n",
    "O9\t[O]=[CH2]\t-0.1526\t0\t\n",
    "O9\t[O]=[CX2]=O\t-0.1526\t0\t\n",
    "O10\t[O]=[CH]c\t0.1129\t0.2215\t\n",
    "O10\t[O]=C([C,c])[a;!#1]\t0.1129\t0.2215\t\n",
    "O10\t[O]=C(c)[A;!#1]\t0.1129\t0.2215\t\n",
    "O11\t[O]=C([!#1;!#6])[!#1;!#6]\t0.4833\t0.389\t\n",
    "OS\t[#8]\t-0.1188\t0.6865\t\n",
    "F\t[#9-0]\t0.4202\t1.108\t\n",
    "Cl\t[#17-0]\t0.6895\t5.853\t\n",
    "Br\t[#35-0]\t0.8456\t8.927\t\n",
    "I\t[#53-0]\t0.8857\t14.02\t\n",
    "Hal\t[#9,#17,#35,#53;-]\t-2.996\t\t\n",
    "Hal\t[#53;+,+2,+3]\t-2.996\t\t\n",
    "Hal\t[+;#3,#11,#19,#37,#55]\t-2.996\t\t\\\"Footnote h indicates these should be here?\\\"\n",
    "P\t[#15]\t0.8612\t6.92\t\n",
    "S2\t[S;-,-2,-3,-4,+1,+2,+3,+5,+6]\t-0.0024\t7.365\t\\\"Order flip here is intentional\\\"\n",
    "S2\t[S-0]=[N,O,P,S]\t-0.0024\t7.365\t\\\"Expanded definition of (pseudo-)ionic S\\\"\n",
    "S1\t[S;A]\t0.6482\t7.591\t\\\"Order flip here is intentional\\\"\n",
    "S3\t[s;a]\t0.6237\t6.691\t\n",
    "Me1\t[#3,#11,#19,#37,#55]\t-0.3808\t5.754\t\n",
    "Me1\t[#4,#12,#20,#38,#56]\t-0.3808\t5.754\t\n",
    "Me1\t[#5,#13,#31,#49,#81]\t-0.3808\t5.754\t\n",
    "Me1\t[#14,#32,#50,#82]\t-0.3808\t5.754\t\n",
    "Me1\t[#33,#51,#83]\t-0.3808\t5.754\t\n",
    "Me1\t[#34,#52,#84]\t-0.3808\t5.754\t\n",
    "Me2\t[#21,#22,#23,#24,#25,#26,#27,#28,#29,#30]\t-0.0025\t\t\n",
    "Me2\t[#39,#40,#41,#42,#43,#44,#45,#46,#47,#48]\t-0.0025\t\t\n",
    "Me2\t[#72,#73,#74,#75,#76,#77,#78,#79,#80]\t-0.0025\t\t'''"
   ]
  },
  {
   "cell_type": "markdown",
   "id": "f9f17bec",
   "metadata": {},
   "source": [
    "Let's parse that data so that we can do something with it:"
   ]
  },
  {
   "cell_type": "code",
   "execution_count": 9,
   "id": "343e9ca1",
   "metadata": {
    "ExecuteTime": {
     "end_time": "2023-04-12T13:15:05.254940Z",
     "start_time": "2023-04-12T13:15:05.251806Z"
    }
   },
   "outputs": [
    {
     "name": "stdout",
     "output_type": "stream",
     "text": [
      "[CrippenTuple(name='C1', smarts='[CH4]', logp_contrib=0.1441, mr_contrib=2.503, note=''), CrippenTuple(name='C1', smarts='[CH3]C', logp_contrib=0.1441, mr_contrib=2.503, note=''), CrippenTuple(name='C1', smarts='[CH2](C)C', logp_contrib=0.1441, mr_contrib=2.503, note='')]\n"
     ]
    }
   ],
   "source": [
    "from collections import namedtuple\n",
    "\n",
    "CrippenTuple = namedtuple('CrippenTuple',('name','smarts','logp_contrib','mr_contrib','note'))\n",
    "lines = [x.split('\\t') for x in rdkit_data.split('\\n')]\n",
    "\n",
    "crippenData = []\n",
    "for i,entry in enumerate(lines):\n",
    "    entry[2] = float(entry[2])\n",
    "    if entry[3]:\n",
    "        entry[3] = float(entry[3])\n",
    "    else:\n",
    "        entry[3] = None\n",
    "    crippenData.append(CrippenTuple(*entry))\n",
    "print(crippenData[:3])"
   ]
  },
  {
   "cell_type": "markdown",
   "id": "93cc48b4",
   "metadata": {},
   "source": [
    "Now define two functions to look things up in that data:"
   ]
  },
  {
   "cell_type": "code",
   "execution_count": 22,
   "id": "42e3c8e0",
   "metadata": {
    "ExecuteTime": {
     "end_time": "2023-04-12T13:50:55.250065Z",
     "start_time": "2023-04-12T13:50:55.246953Z"
    }
   },
   "outputs": [],
   "source": [
    "import re\n",
    "def find_contribs_for_bin(lower,upper,crippenData=crippenData,which='mr_contrib'):\n",
    "    ' returns a list of Crippen contributions which are between lower and upper '\n",
    "    res = []\n",
    "    for tpl in crippenData:\n",
    "        v = getattr(tpl,which)\n",
    "        if v is not None and v>=lower and v<=upper:\n",
    "            res.append(tpl)\n",
    "    return res\n",
    "def find_tuples_for_atom(symbol,crippenData=crippenData):\n",
    "    ' returns a list of crippen contributions for a particular atomic symbol, i.e. \"C\" or \"N\"'\n",
    "    res = []\n",
    "    anum = Chem.GetPeriodicTable().GetAtomicNumber(symbol)\n",
    "    for tpl in crippenData:\n",
    "        if tpl.name.startswith(symbol) or re.match(f'\\[[^\\]]*#{anum}[^0-9]',tpl.smarts):\n",
    "            res.append(tpl)\n",
    "    return res"
   ]
  },
  {
   "cell_type": "markdown",
   "id": "8ce9fb54",
   "metadata": {},
   "source": [
    "Now we can use that function to lookup the contributions which fall within the `SMR_VSA3` SMR bins:"
   ]
  },
  {
   "cell_type": "code",
   "execution_count": 23,
   "id": "c806515e",
   "metadata": {
    "ExecuteTime": {
     "end_time": "2023-04-12T13:21:15.114074Z",
     "start_time": "2023-04-12T13:21:15.108418Z"
    },
    "scrolled": true
   },
   "outputs": [
    {
     "data": {
      "text/plain": [
       "[CrippenTuple(name='N2', smarts='[NH+0]([A;!#1])[A;!#1]', logp_contrib=-0.7096, mr_contrib=2.173, note=''),\n",
       " CrippenTuple(name='N7', smarts='[N+0]([A;!#1])([A;!#1])[A;!#1]', logp_contrib=-0.3187, mr_contrib=1.839, note=''),\n",
       " CrippenTuple(name='N11', smarts='[n+0]', logp_contrib=-0.3239, mr_contrib=2.202, note=''),\n",
       " CrippenTuple(name='NS', smarts='[#7]', logp_contrib=-0.4806, mr_contrib=2.134, note='')]"
      ]
     },
     "execution_count": 23,
     "metadata": {},
     "output_type": "execute_result"
    }
   ],
   "source": [
    "find_contribs_for_bin(1.82,2.24)"
   ]
  },
  {
   "cell_type": "markdown",
   "id": "3cc7f6b9",
   "metadata": {},
   "source": [
    "So the only atom types which can contribute to this bin are Ns.\n",
    "\n",
    "The first two atom type definitions are reasonably specific:\n",
    "\n",
    "- N2: neutral aliphatic N with one H and two non-hydrogen aliphatic neighbors\n",
    "- N7: neutral aliphatic N with three non-hydrogen aliphatic neighbors\n",
    "\n",
    "The last two are less specific:\n",
    "\n",
    "- N11: neutral aromatic N\n",
    "- NS: any nitrogen\n",
    "\n",
    "These would only be matched to atoms which haven't matched any of the more specific defintions for N.\n",
    "\n",
    "Here's the full set of N definitions:"
   ]
  },
  {
   "cell_type": "code",
   "execution_count": 12,
   "id": "c9a6948a",
   "metadata": {
    "ExecuteTime": {
     "end_time": "2023-04-12T13:52:58.511323Z",
     "start_time": "2023-04-12T13:52:58.508175Z"
    }
   },
   "outputs": [
    {
     "data": {
      "text/plain": [
       "[CrippenTuple(name='N1', smarts='[NH2+0][A;!#1]', logp_contrib=-1.019, mr_contrib=2.262, note=''),\n",
       " CrippenTuple(name='N2', smarts='[NH+0]([A;!#1])[A;!#1]', logp_contrib=-0.7096, mr_contrib=2.173, note=''),\n",
       " CrippenTuple(name='N3', smarts='[NH2+0]a', logp_contrib=-1.027, mr_contrib=2.827, note=''),\n",
       " CrippenTuple(name='N4', smarts='[NH1+0]([!#1;A,a])a', logp_contrib=-0.5188, mr_contrib=3.0, note=''),\n",
       " CrippenTuple(name='N5', smarts='[NH+0]=[!#1;A,a]', logp_contrib=0.08387, mr_contrib=1.757, note=''),\n",
       " CrippenTuple(name='N6', smarts='[N+0](=[!#1;A,a])[!#1;A,a]', logp_contrib=0.1836, mr_contrib=2.428, note=''),\n",
       " CrippenTuple(name='N7', smarts='[N+0]([A;!#1])([A;!#1])[A;!#1]', logp_contrib=-0.3187, mr_contrib=1.839, note=''),\n",
       " CrippenTuple(name='N8', smarts='[N+0](a)([!#1;A,a])[A;!#1]', logp_contrib=-0.4458, mr_contrib=2.819, note=''),\n",
       " CrippenTuple(name='N8', smarts='[N+0](a)(a)a', logp_contrib=-0.4458, mr_contrib=2.819, note=''),\n",
       " CrippenTuple(name='N9', smarts='[N+0]#[A;!#1]', logp_contrib=0.01508, mr_contrib=1.725, note=''),\n",
       " CrippenTuple(name='N10', smarts='[NH3,NH2,NH;+,+2,+3]', logp_contrib=-1.95, mr_contrib=None, note=''),\n",
       " CrippenTuple(name='N11', smarts='[n+0]', logp_contrib=-0.3239, mr_contrib=2.202, note=''),\n",
       " CrippenTuple(name='N12', smarts='[n;+,+2,+3]', logp_contrib=-1.119, mr_contrib=None, note=''),\n",
       " CrippenTuple(name='N13', smarts='[NH0;+,+2,+3]([A;!#1])([A;!#1])([A;!#1])[A;!#1]', logp_contrib=-0.3396, mr_contrib=0.2604, note=''),\n",
       " CrippenTuple(name='N13', smarts='[NH0;+,+2,+3](=[A;!#1])([A;!#1])[!#1;A,a]', logp_contrib=-0.3396, mr_contrib=0.2604, note=''),\n",
       " CrippenTuple(name='N13', smarts='[NH0;+,+2,+3](=[#6])=[#7]', logp_contrib=-0.3396, mr_contrib=0.2604, note=''),\n",
       " CrippenTuple(name='N14', smarts='[N;+,+2,+3]#[A;!#1]', logp_contrib=0.2887, mr_contrib=3.359, note=''),\n",
       " CrippenTuple(name='N14', smarts='[N;-,-2,-3]', logp_contrib=0.2887, mr_contrib=3.359, note=''),\n",
       " CrippenTuple(name='N14', smarts='[N;+,+2,+3](=[N;-,-2,-3])=N', logp_contrib=0.2887, mr_contrib=3.359, note=''),\n",
       " CrippenTuple(name='NS', smarts='[#7]', logp_contrib=-0.4806, mr_contrib=2.134, note='')]"
      ]
     },
     "execution_count": 12,
     "metadata": {},
     "output_type": "execute_result"
    }
   ],
   "source": [
    "find_tuples_for_atom('N')"
   ]
  },
  {
   "cell_type": "markdown",
   "id": "24041f4c",
   "metadata": {},
   "source": [
    "Let's check our understanding...\n",
    "\n",
    "Start by constructing a molecule with a neutral aliphatic N which has one H and two non-H aliphatic neighbors:"
   ]
  },
  {
   "cell_type": "code",
   "execution_count": 24,
   "id": "22768b90",
   "metadata": {
    "ExecuteTime": {
     "end_time": "2023-04-12T13:26:03.748942Z",
     "start_time": "2023-04-12T13:26:03.746231Z"
    }
   },
   "outputs": [],
   "source": [
    "m = Chem.MolFromSmiles('CNC')"
   ]
  },
  {
   "cell_type": "markdown",
   "id": "cbc1f190",
   "metadata": {},
   "source": [
    "Calculate the Crippen contribs for that. We expect the second atom to be of type `N2`, with an MR contribution (the second element of each of the 2-tuples in the list below) of 2.173:"
   ]
  },
  {
   "cell_type": "code",
   "execution_count": 26,
   "id": "4471f100",
   "metadata": {},
   "outputs": [
    {
     "data": {
      "text/plain": [
       "[(-0.2035, 2.753), (-0.7096, 2.173), (-0.2035, 2.753)]"
      ]
     },
     "execution_count": 26,
     "metadata": {},
     "output_type": "execute_result"
    }
   ],
   "source": [
    "rdMolDescriptors._CalcCrippenContribs(m)"
   ]
  },
  {
   "cell_type": "markdown",
   "id": "e5a10d36",
   "metadata": {},
   "source": [
    "Perfect!"
   ]
  },
  {
   "cell_type": "markdown",
   "id": "a899358c",
   "metadata": {},
   "source": [
    "What's the VSA contribution of the atoms? For historical reasons we get these with the function `rdMolDescriptors._CalcLabuteASAContribs()`:"
   ]
  },
  {
   "cell_type": "code",
   "execution_count": 14,
   "id": "df9bda29",
   "metadata": {
    "ExecuteTime": {
     "end_time": "2023-04-12T13:26:44.738016Z",
     "start_time": "2023-04-12T13:26:44.732169Z"
    }
   },
   "outputs": [
    {
     "data": {
      "text/plain": [
       "[7.04767198267719, 5.316788604006331, 7.04767198267719]"
      ]
     },
     "execution_count": 14,
     "metadata": {},
     "output_type": "execute_result"
    }
   ],
   "source": [
    "list(rdMolDescriptors._CalcLabuteASAContribs(m)[0])"
   ]
  },
  {
   "cell_type": "markdown",
   "id": "3991785b",
   "metadata": {},
   "source": [
    "Based on this, we'd expect `SMR_VSA3` for this molecule to be 5.317:"
   ]
  },
  {
   "cell_type": "code",
   "execution_count": 15,
   "id": "8519319d",
   "metadata": {
    "ExecuteTime": {
     "end_time": "2023-04-12T13:27:10.276230Z",
     "start_time": "2023-04-12T13:27:10.273766Z"
    }
   },
   "outputs": [
    {
     "data": {
      "text/plain": [
       "5.316788604006331"
      ]
     },
     "execution_count": 15,
     "metadata": {},
     "output_type": "execute_result"
    }
   ],
   "source": [
    "Descriptors.SMR_VSA3(m)"
   ]
  },
  {
   "cell_type": "markdown",
   "id": "b00fadd1",
   "metadata": {},
   "source": [
    "Yep! That was right."
   ]
  },
  {
   "cell_type": "markdown",
   "id": "77ae0001",
   "metadata": {},
   "source": [
    "Let's try another one... this time with a neutral aromatic N. We'll use pyridine:"
   ]
  },
  {
   "cell_type": "code",
   "execution_count": 27,
   "id": "e3e7110b",
   "metadata": {
    "ExecuteTime": {
     "end_time": "2023-04-12T13:28:30.619925Z",
     "start_time": "2023-04-12T13:28:30.617157Z"
    }
   },
   "outputs": [
    {
     "data": {
      "text/plain": [
       "4.9839785209472085"
      ]
     },
     "execution_count": 27,
     "metadata": {},
     "output_type": "execute_result"
    }
   ],
   "source": [
    "pyridine = Chem.MolFromSmiles('n1ccccc1')\n",
    "Descriptors.SMR_VSA3(pyridine)"
   ]
  },
  {
   "cell_type": "code",
   "execution_count": 31,
   "id": "867f1442",
   "metadata": {},
   "outputs": [
    {
     "data": {
      "text/plain": [
       "(-0.3239, 2.202)"
      ]
     },
     "execution_count": 31,
     "metadata": {},
     "output_type": "execute_result"
    }
   ],
   "source": [
    "rdMolDescriptors._CalcCrippenContribs(pyridine)[0]"
   ]
  },
  {
   "cell_type": "markdown",
   "id": "41e0e575",
   "metadata": {},
   "source": [
    "Since the SMR contribution of the N in pyridine is also in our bin, we know that the VSA contribution from that atom will be 4.984:"
   ]
  },
  {
   "cell_type": "code",
   "execution_count": 34,
   "id": "eb2623ab",
   "metadata": {
    "ExecuteTime": {
     "end_time": "2023-04-12T13:28:40.027983Z",
     "start_time": "2023-04-12T13:28:40.025434Z"
    }
   },
   "outputs": [
    {
     "data": {
      "text/plain": [
       "4.9839785209472085"
      ]
     },
     "execution_count": 34,
     "metadata": {},
     "output_type": "execute_result"
    }
   ],
   "source": [
    "list(rdMolDescriptors._CalcLabuteASAContribs(pyridine)[0])[0]"
   ]
  },
  {
   "cell_type": "markdown",
   "id": "35e44ad1",
   "metadata": {},
   "source": [
    "To come back to the original point: what does this tell us about the model from the preprint I mentioned at the beginning of the post?\n",
    "\n",
    "The fact that `SMR_VSA3` has a reasonably large negative correlation with the compound scores in the paper indicates that adding neutral N atoms has a tendency to make molecules more attractive to medicinal chemists. Take a look at the preprint to understand more about the model the authors built; it's worth reading.\n",
    "\n",
    "Note that the code above can be used to help decipher other `SlogP_VSA` and `SMR_VSA` descriptors. I hope it's useful!"
   ]
  }
 ],
 "metadata": {
  "kernelspec": {
   "display_name": "Python 3 (ipykernel)",
   "language": "python",
   "name": "python3"
  },
  "language_info": {
   "codemirror_mode": {
    "name": "ipython",
    "version": 3
   },
   "file_extension": ".py",
   "mimetype": "text/x-python",
   "name": "python",
   "nbconvert_exporter": "python",
   "pygments_lexer": "ipython3",
   "version": "3.10.8"
  },
  "toc": {
   "base_numbering": 1,
   "nav_menu": {},
   "number_sections": true,
   "sideBar": true,
   "skip_h1_title": false,
   "title_cell": "Table of Contents",
   "title_sidebar": "Contents",
   "toc_cell": false,
   "toc_position": {},
   "toc_section_display": true,
   "toc_window_display": false
  },
  "varInspector": {
   "cols": {
    "lenName": 16,
    "lenType": 16,
    "lenVar": 40
   },
   "kernels_config": {
    "python": {
     "delete_cmd_postfix": "",
     "delete_cmd_prefix": "del ",
     "library": "var_list.py",
     "varRefreshCmd": "print(var_dic_list())"
    },
    "r": {
     "delete_cmd_postfix": ") ",
     "delete_cmd_prefix": "rm(",
     "library": "var_list.r",
     "varRefreshCmd": "cat(var_dic_list()) "
    }
   },
   "types_to_exclude": [
    "module",
    "function",
    "builtin_function_or_method",
    "instance",
    "_Feature"
   ],
   "window_display": false
  }
 },
 "nbformat": 4,
 "nbformat_minor": 5
}
