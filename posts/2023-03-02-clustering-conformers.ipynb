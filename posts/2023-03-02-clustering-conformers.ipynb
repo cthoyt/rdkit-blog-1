{
 "cells": [
  {
   "cell_type": "raw",
   "id": "96f1b700",
   "metadata": {},
   "source": [
    "---\n",
    "badges: true\n",
    "categories:\n",
    "- tutorial\n",
    "- 3d\n",
    "- conformers\n",
    "date: '2023-03-02'\n",
    "title: Clustering conformers\n",
    "description: Tutorial on how to cluster molecular conformers.\n",
    "image: images/blog/clustering-conformers-1.png\n",
    "toc: true\n",
    "\n",
    "---"
   ]
  },
  {
   "attachments": {},
   "cell_type": "markdown",
   "metadata": {},
   "source": [
    "This one came up during a conversation with Felix Pultar, a postdoc in the group, and I thought it made for a nice blog post, so here we go.\n",
    "\n",
    "One common workflow in conformational analysis is to generate a bunch of conformers for a molecule and then find a representative subset by clustering them.\n",
    "\n",
    "The RDKit has everything required to do this, but there's not all that much info out there showing how to do it. \n",
    "\n",
    "This blog post aims to change that."
   ]
  },
  {
   "cell_type": "code",
   "execution_count": 1,
   "id": "0cb40cf8",
   "metadata": {
    "ExecuteTime": {
     "end_time": "2023-03-02T18:21:37.658151Z",
     "start_time": "2023-03-02T18:21:37.574673Z"
    }
   },
   "outputs": [
    {
     "name": "stdout",
     "output_type": "stream",
     "text": [
      "2022.09.4\n"
     ]
    }
   ],
   "source": [
    "from rdkit.Chem import Draw\n",
    "from rdkit.Chem.Draw import IPythonConsole\n",
    "from rdkit import Chem\n",
    "from rdkit.Chem import rdDistGeom\n",
    "from rdkit.Chem import rdMolAlign\n",
    "import rdkit\n",
    "print(rdkit.__version__)"
   ]
  },
  {
   "cell_type": "markdown",
   "id": "a0ab3703",
   "metadata": {},
   "source": [
    "# Generate conformers\n",
    "\n",
    "Start by constructing a molecule and then generating a set of 300 conformers for it using [ETKDGv3](https://doi.org/10.1021/acs.jcim.0c00025)."
   ]
  },
  {
   "cell_type": "code",
   "execution_count": 2,
   "id": "f3337afe",
   "metadata": {
    "ExecuteTime": {
     "end_time": "2023-03-02T18:21:37.714550Z",
     "start_time": "2023-03-02T18:21:37.659255Z"
    }
   },
   "outputs": [
    {
     "data": {
      "image/png": "[encoded data removed]",
      "text/plain": [
       "<rdkit.Chem.rdchem.Mol at 0x7f40f139d820>"
      ]
     },
     "execution_count": 2,
     "metadata": {},
     "output_type": "execute_result"
    }
   ],
   "source": [
    "# modified CHEMBL12747, ionized\n",
    "m = Chem.MolFromSmiles('O=C([O-])CCn1c(=O)c(=O)[nH]c2cc([N+](=O)[O-])c(-n3ccc(C=NOCc4ccccc4)c3)cc21')\n",
    "m"
   ]
  },
  {
   "cell_type": "code",
   "execution_count": 3,
   "id": "5399f452",
   "metadata": {
    "ExecuteTime": {
     "end_time": "2023-03-02T18:21:39.365950Z",
     "start_time": "2023-03-02T18:21:37.716081Z"
    }
   },
   "outputs": [
    {
     "data": {
      "text/plain": [
       "300"
      ]
     },
     "execution_count": 3,
     "metadata": {},
     "output_type": "execute_result"
    }
   ],
   "source": [
    "mh = Chem.AddHs(m)\n",
    "ps = rdDistGeom.ETKDGv3()\n",
    "ps.randomSeed = 0xd06f00d\n",
    "ps.numThreads = 10\n",
    "cids = rdDistGeom.EmbedMultipleConfs(mh,300,ps)\n",
    "len(cids)"
   ]
  },
  {
   "cell_type": "markdown",
   "id": "38cea753",
   "metadata": {},
   "source": [
    "Remove Hs from the molecule at this point because they aren't \n",
    "particularly informative for the rest of the analysis and they\n",
    "just make things more difficult\n"
   ]
  },
  {
   "cell_type": "code",
   "execution_count": 4,
   "id": "d19ff6b3",
   "metadata": {
    "ExecuteTime": {
     "end_time": "2023-03-02T18:21:39.369588Z",
     "start_time": "2023-03-02T18:21:39.367022Z"
    }
   },
   "outputs": [],
   "source": [
    "m3d = Chem.RemoveHs(mh)"
   ]
  },
  {
   "cell_type": "markdown",
   "id": "dee3259d",
   "metadata": {},
   "source": [
    "# Direct alignment vs best alignment"
   ]
  },
  {
   "cell_type": "markdown",
   "id": "9c811df7",
   "metadata": {},
   "source": [
    "Find a pair of conformers with a decent size mismatch between the direct alignment (which does not take symmetry into account) and the best alignment (which does):"
   ]
  },
  {
   "cell_type": "code",
   "execution_count": 5,
   "id": "15de34bd",
   "metadata": {
    "ExecuteTime": {
     "end_time": "2023-03-02T18:21:39.852970Z",
     "start_time": "2023-03-02T18:21:39.370652Z"
    }
   },
   "outputs": [
    {
     "name": "stdout",
     "output_type": "stream",
     "text": [
      "282 0.703433090406554 1.0038182177331938 0.3003851273604343\n"
     ]
    }
   ],
   "source": [
    "maxd = -100\n",
    "for j in range(0,5):\n",
    "    for i in range(j,len(cids)):\n",
    "        d1 = rdMolAlign.AlignMol(m3d,m3d,prbCid=cids[i],refCid=cids[j])\n",
    "        d2 = rdMolAlign.GetBestRMS(m3d,m3d,prbId=cids[i],refId=cids[j])\n",
    "        delt = d1-d2\n",
    "        if delt<-1e-5:\n",
    "            print(f'ooops, {i}, {delt}')\n",
    "        if delt>maxd:\n",
    "            maxd = delt\n",
    "            maxi = i\n",
    "            maxj = j\n",
    "d1 = rdMolAlign.AlignMol(m3d,m3d,prbCid=cids[maxi],refCid=cids[maxj])\n",
    "d2 = rdMolAlign.GetBestRMS(m3d,m3d,prbId=cids[maxi],refId=cids[maxj])\n",
    "print(maxi,maxd,d1,d2)"
   ]
  },
  {
   "cell_type": "markdown",
   "metadata": {},
   "source": [
    "Now show those two conformers:"
   ]
  },
  {
   "cell_type": "code",
   "execution_count": 6,
   "id": "e4eaa984",
   "metadata": {
    "ExecuteTime": {
     "end_time": "2023-03-02T18:21:39.857191Z",
     "start_time": "2023-03-02T18:21:39.854251Z"
    }
   },
   "outputs": [],
   "source": [
    "import py3Dmol\n",
    "def drawit(m, cids=[-1], p=None, removeHs=True,\n",
    "           colors=('cyanCarbon','redCarbon','blueCarbon','magentaCarbon','whiteCarbon','purpleCarbon')):\n",
    "        if removeHs:\n",
    "            m = Chem.RemoveHs(m)\n",
    "        if p is None:\n",
    "            p = py3Dmol.view(width=400, height=400)\n",
    "        p.removeAllModels()\n",
    "        for i,cid in enumerate(cids):\n",
    "            IPythonConsole.addMolToView(m,p,confId=cid)\n",
    "        for i,cid in enumerate(cids):\n",
    "            p.setStyle({'model':i,},\n",
    "                            {'stick':{'colorscheme':colors[i%len(colors)]}})\n",
    "        p.zoomTo()\n",
    "        return p.show()"
   ]
  },
  {
   "cell_type": "markdown",
   "metadata": {},
   "source": [
    "Here are the two conformers aligned using the atom indices:"
   ]
  },
  {
   "cell_type": "code",
   "execution_count": 7,
   "id": "aac27d16",
   "metadata": {
    "ExecuteTime": {
     "end_time": "2023-03-02T18:21:39.957868Z",
     "start_time": "2023-03-02T18:21:39.858054Z"
    }
   },
   "outputs": [
    {
     "data": {
      "application/3dmoljs_load.v0": "<div id=\"3dmolviewer_16777812999559639\"  style=\"position: relative; width: 400px; height: 400px\">\n        <p id=\"3dmolwarning_16777812999559639\" style=\"background-color:#ffcccc;color:black\">You appear to be running in JupyterLab (or JavaScript failed to load for some other reason).  You need to install the 3dmol extension: <br>\n        <tt>jupyter labextension install jupyterlab_3dmol</tt></p>\n        </div>\n<script>\n\nvar loadScriptAsync = function(uri){\n  return new Promise((resolve, reject) => {\n    //this is to ignore the existence of requirejs amd\n    var savedexports, savedmodule;\n    if (typeof exports !== 'undefined') savedexports = exports;\n    else exports = {}\n    if (typeof module !== 'undefined') savedmodule = module;\n    else module = {}\n\n    var tag = document.createElement('script');\n    tag.src = uri;\n    tag.async = true;\n    tag.onload = () => {\n        exports = savedexports;\n        module = savedmodule;\n        resolve();\n    };\n  var firstScriptTag = document.getElementsByTagName('script')[0];\n  firstScriptTag.parentNode.insertBefore(tag, firstScriptTag);\n});\n};\n\nif(typeof $3Dmolpromise === 'undefined') {\n$3Dmolpromise = null;\n  $3Dmolpromise = loadScriptAsync('https://cdn.jsdelivr.net/npm/3dmol@latest/build/3Dmol-min.min.js');\n}\n\nvar viewer_16777812999559639 = null;\nvar warn = document.getElementById(\"3dmolwarning_16777812999559639\");\nif(warn) {\n    warn.parentNode.removeChild(warn);\n}\n$3Dmolpromise.then(function() {\nviewer_16777812999559639 = $3Dmol.createViewer(document.getElementById(\"3dmolviewer_16777812999559639\"),{backgroundColor:\"white\"});\nviewer_16777812999559639.zoomTo();\n\tviewer_16777812999559639.removeAllModels();\n\tviewer_16777812999559639.addModel(\"\\n     RDKit          3D\\n\\n 35 38  0  0  0  0  0  0  0  0999 V2000\\n   -5.5569   -3.2683    1.6319 O   0  0  0  0  0  0  0  0  0  0  0  0\\n   -5.1663   -2.3070    2.3054 C   0  0  0  0  0  0  0  0  0  0  0  0\\n   -4.9678   -2.4908    3.6698 O   0  0  0  0  0  1  0  0  0  0  0  0\\n   -4.9160   -1.0003    1.6875 C   0  0  0  0  0  0  0  0  0  0  0  0\\n   -5.2093   -1.0823    0.1988 C   0  0  0  0  0  0  0  0  0  0  0  0\\n   -4.9704    0.1936   -0.4306 N   0  0  0  0  0  0  0  0  0  0  0  0\\n   -5.9705    1.0854   -0.5259 C   0  0  0  0  0  0  0  0  0  0  0  0\\n   -7.1233    0.7927   -0.0579 O   0  0  0  0  0  0  0  0  0  0  0  0\\n   -5.8110    2.3196   -1.1129 C   0  0  0  0  0  0  0  0  0  0  0  0\\n   -6.7961    3.1329   -1.1783 O   0  0  0  0  0  0  0  0  0  0  0  0\\n   -4.6090    2.6392   -1.6071 N   0  0  0  0  0  0  0  0  0  0  0  0\\n   -3.5623    1.7911   -1.5445 C   0  0  0  0  0  0  0  0  0  0  0  0\\n   -2.3328    2.1402   -2.0583 C   0  0  0  0  0  0  0  0  0  0  0  0\\n   -1.2982    1.2529   -1.9734 C   0  0  0  0  0  0  0  0  0  0  0  0\\n    0.0127    1.5567   -2.4905 N   0  0  0  0  0  4  0  0  0  0  0  0\\n    0.7024    0.6216   -2.9342 O   0  0  0  0  0  0  0  0  0  0  0  0\\n    0.5248    2.8099   -2.5160 O   0  0  0  0  0  1  0  0  0  0  0  0\\n   -1.4615    0.0139   -1.3828 C   0  0  0  0  0  0  0  0  0  0  0  0\\n   -0.3989   -0.9342   -1.2798 N   0  0  0  0  0  0  0  0  0  0  0  0\\n   -0.2828   -2.1404   -1.8450 C   0  0  0  0  0  0  0  0  0  0  0  0\\n    0.8978   -2.7382   -1.4926 C   0  0  0  0  0  0  0  0  0  0  0  0\\n    1.5542   -1.8507   -0.6587 C   0  0  0  0  0  0  0  0  0  0  0  0\\n    2.8507   -2.0959   -0.0573 C   0  0  0  0  0  0  0  0  0  0  0  0\\n    3.4605   -1.2786    0.7139 N   0  0  0  0  0  0  0  0  0  0  0  0\\n    3.0014   -0.0617    1.0928 O   0  0  0  0  0  0  0  0  0  0  0  0\\n    3.7539    0.6181    2.0962 C   0  0  0  0  0  0  0  0  0  0  0  0\\n    5.1183    0.8028    1.5391 C   0  0  0  0  0  0  0  0  0  0  0  0\\n    6.0436   -0.1946    1.7683 C   0  0  0  0  0  0  0  0  0  0  0  0\\n    7.3307   -0.0946    1.2834 C   0  0  0  0  0  0  0  0  0  0  0  0\\n    7.6939    1.0147    0.5624 C   0  0  0  0  0  0  0  0  0  0  0  0\\n    6.7815    2.0065    0.3320 C   0  0  0  0  0  0  0  0  0  0  0  0\\n    5.4854    1.9068    0.8198 C   0  0  0  0  0  0  0  0  0  0  0  0\\n    0.7414   -0.7689   -0.5509 C   0  0  0  0  0  0  0  0  0  0  0  0\\n   -2.7126   -0.3299   -0.8651 C   0  0  0  0  0  0  0  0  0  0  0  0\\n   -3.7693    0.5493   -0.9401 C   0  0  0  0  0  0  0  0  0  0  0  0\\n  1  2  2  0\\n  2  3  1  0\\n  2  4  1  0\\n  4  5  1  0\\n  5  6  1  0\\n  6  7  1  0\\n  7  8  2  0\\n  7  9  1  0\\n  9 10  2  0\\n  9 11  1  0\\n 11 12  1  0\\n 12 13  2  0\\n 13 14  1  0\\n 14 15  1  0\\n 15 16  2  0\\n 15 17  1  0\\n 14 18  2  0\\n 18 19  1  0\\n 19 20  1  0\\n 20 21  2  0\\n 21 22  1  0\\n 22 23  1  0\\n 23 24  2  3\\n 24 25  1  0\\n 25 26  1  0\\n 26 27  1  0\\n 27 28  2  0\\n 28 29  1  0\\n 29 30  2  0\\n 30 31  1  0\\n 31 32  2  0\\n 22 33  2  0\\n 18 34  1  0\\n 34 35  2  0\\n 35  6  1  0\\n 35 12  1  0\\n 33 19  1  0\\n 32 27  1  0\\nM  CHG  3   3  -1  15   1  17  -1\\nM  END\\n\",\"sdf\");\n\tviewer_16777812999559639.setStyle({\"stick\": {}});\n\tviewer_16777812999559639.addModel(\"\\n     RDKit          3D\\n\\n 35 38  0  0  0  0  0  0  0  0999 V2000\\n   -5.5768   -3.2594    1.5240 O   0  0  0  0  0  0  0  0  0  0  0  0\\n   -5.1620   -2.3290    2.2613 C   0  0  0  0  0  0  0  0  0  0  0  0\\n   -4.9988   -2.5822    3.5974 O   0  0  0  0  0  1  0  0  0  0  0  0\\n   -4.8762   -1.0145    1.6318 C   0  0  0  0  0  0  0  0  0  0  0  0\\n   -5.1567   -1.0458    0.1402 C   0  0  0  0  0  0  0  0  0  0  0  0\\n   -4.8709    0.2381   -0.4372 N   0  0  0  0  0  0  0  0  0  0  0  0\\n   -5.8493    1.1719   -0.5118 C   0  0  0  0  0  0  0  0  0  0  0  0\\n   -6.9818    0.8421   -0.0567 O   0  0  0  0  0  0  0  0  0  0  0  0\\n   -5.6064    2.4080   -1.0569 C   0  0  0  0  0  0  0  0  0  0  0  0\\n   -6.5292    3.2624   -1.1172 O   0  0  0  0  0  0  0  0  0  0  0  0\\n   -4.3927    2.7162   -1.5273 N   0  0  0  0  0  0  0  0  0  0  0  0\\n   -3.3950    1.8041   -1.4664 C   0  0  0  0  0  0  0  0  0  0  0  0\\n   -2.1444    2.1523   -1.9619 C   0  0  0  0  0  0  0  0  0  0  0  0\\n   -1.1402    1.2228   -1.8951 C   0  0  0  0  0  0  0  0  0  0  0  0\\n    0.1756    1.5186   -2.3886 N   0  0  0  0  0  4  0  0  0  0  0  0\\n    0.6059    2.7014   -2.4170 O   0  0  0  0  0  0  0  0  0  0  0  0\\n    0.9445    0.4921   -2.8238 O   0  0  0  0  0  1  0  0  0  0  0  0\\n   -1.3778   -0.0216   -1.3482 C   0  0  0  0  0  0  0  0  0  0  0  0\\n   -0.3462   -1.0003   -1.2730 N   0  0  0  0  0  0  0  0  0  0  0  0\\n   -0.1990   -2.1590   -1.9350 C   0  0  0  0  0  0  0  0  0  0  0  0\\n    0.9626   -2.7823   -1.5355 C   0  0  0  0  0  0  0  0  0  0  0  0\\n    1.5575   -1.9712   -0.5849 C   0  0  0  0  0  0  0  0  0  0  0  0\\n    2.8090   -2.2597    0.0975 C   0  0  0  0  0  0  0  0  0  0  0  0\\n    3.3712   -1.5395    0.9656 N   0  0  0  0  0  0  0  0  0  0  0  0\\n    2.8621   -0.3616    1.3888 O   0  0  0  0  0  0  0  0  0  0  0  0\\n    3.6670    0.4518    2.2437 C   0  0  0  0  0  0  0  0  0  0  0  0\\n    4.8973    0.7781    1.5138 C   0  0  0  0  0  0  0  0  0  0  0  0\\n    4.9345    1.9140    0.7391 C   0  0  0  0  0  0  0  0  0  0  0  0\\n    6.0808    2.2522    0.0357 C   0  0  0  0  0  0  0  0  0  0  0  0\\n    7.1723    1.4370    0.1260 C   0  0  0  0  0  0  0  0  0  0  0  0\\n    7.1459    0.3070    0.8923 C   0  0  0  0  0  0  0  0  0  0  0  0\\n    6.0043   -0.0320    1.5943 C   0  0  0  0  0  0  0  0  0  0  0  0\\n    0.7410   -0.9000   -0.4478 C   0  0  0  0  0  0  0  0  0  0  0  0\\n   -2.6384   -0.3596   -0.8538 C   0  0  0  0  0  0  0  0  0  0  0  0\\n   -3.6518    0.5589   -0.9139 C   0  0  0  0  0  0  0  0  0  0  0  0\\n  1  2  2  0\\n  2  3  1  0\\n  2  4  1  0\\n  4  5  1  0\\n  5  6  1  0\\n  6  7  1  0\\n  7  8  2  0\\n  7  9  1  0\\n  9 10  2  0\\n  9 11  1  0\\n 11 12  1  0\\n 12 13  2  0\\n 13 14  1  0\\n 14 15  1  0\\n 15 16  2  0\\n 15 17  1  0\\n 14 18  2  0\\n 18 19  1  0\\n 19 20  1  0\\n 20 21  2  0\\n 21 22  1  0\\n 22 23  1  0\\n 23 24  2  3\\n 24 25  1  0\\n 25 26  1  0\\n 26 27  1  0\\n 27 28  2  0\\n 28 29  1  0\\n 29 30  2  0\\n 30 31  1  0\\n 31 32  2  0\\n 22 33  2  0\\n 18 34  1  0\\n 34 35  2  0\\n 35  6  1  0\\n 35 12  1  0\\n 33 19  1  0\\n 32 27  1  0\\nM  CHG  3   3  -1  15   1  17  -1\\nM  END\\n\",\"sdf\");\n\tviewer_16777812999559639.setStyle({\"stick\": {}});\n\tviewer_16777812999559639.setStyle({\"model\": 0},{\"stick\": {\"colorscheme\": \"cyanCarbon\"}});\n\tviewer_16777812999559639.setStyle({\"model\": 1},{\"stick\": {\"colorscheme\": \"redCarbon\"}});\n\tviewer_16777812999559639.zoomTo();\nviewer_16777812999559639.render();\n});\n</script>",
      "text/html": [
       "<div id=\"3dmolviewer_16777812999559639\"  style=\"position: relative; width: 400px; height: 400px\">\n",
       "        <p id=\"3dmolwarning_16777812999559639\" style=\"background-color:#ffcccc;color:black\">You appear to be running in JupyterLab (or JavaScript failed to load for some other reason).  You need to install the 3dmol extension: <br>\n",
       "        <tt>jupyter labextension install jupyterlab_3dmol</tt></p>\n",
       "        </div>\n",
       "<script>\n",
       "\n",
       "var loadScriptAsync = function(uri){\n",
       "  return new Promise((resolve, reject) => {\n",
       "    //this is to ignore the existence of requirejs amd\n",
       "    var savedexports, savedmodule;\n",
       "    if (typeof exports !== 'undefined') savedexports = exports;\n",
       "    else exports = {}\n",
       "    if (typeof module !== 'undefined') savedmodule = module;\n",
       "    else module = {}\n",
       "\n",
       "    var tag = document.createElement('script');\n",
       "    tag.src = uri;\n",
       "    tag.async = true;\n",
       "    tag.onload = () => {\n",
       "        exports = savedexports;\n",
       "        module = savedmodule;\n",
       "        resolve();\n",
       "    };\n",
       "  var firstScriptTag = document.getElementsByTagName('script')[0];\n",
       "  firstScriptTag.parentNode.insertBefore(tag, firstScriptTag);\n",
       "});\n",
       "};\n",
       "\n",
       "if(typeof $3Dmolpromise === 'undefined') {\n",
       "$3Dmolpromise = null;\n",
       "  $3Dmolpromise = loadScriptAsync('https://cdn.jsdelivr.net/npm/3dmol@latest/build/3Dmol-min.min.js');\n",
       "}\n",
       "\n",
       "var viewer_16777812999559639 = null;\n",
       "var warn = document.getElementById(\"3dmolwarning_16777812999559639\");\n",
       "if(warn) {\n",
       "    warn.parentNode.removeChild(warn);\n",
       "}\n",
       "$3Dmolpromise.then(function() {\n",
       "viewer_16777812999559639 = $3Dmol.createViewer(document.getElementById(\"3dmolviewer_16777812999559639\"),{backgroundColor:\"white\"});\n",
       "viewer_16777812999559639.zoomTo();\n",
       "\tviewer_16777812999559639.removeAllModels();\n",
       "\tviewer_16777812999559639.addModel(\"\\n     RDKit          3D\\n\\n 35 38  0  0  0  0  0  0  0  0999 V2000\\n   -5.5569   -3.2683    1.6319 O   0  0  0  0  0  0  0  0  0  0  0  0\\n   -5.1663   -2.3070    2.3054 C   0  0  0  0  0  0  0  0  0  0  0  0\\n   -4.9678   -2.4908    3.6698 O   0  0  0  0  0  1  0  0  0  0  0  0\\n   -4.9160   -1.0003    1.6875 C   0  0  0  0  0  0  0  0  0  0  0  0\\n   -5.2093   -1.0823    0.1988 C   0  0  0  0  0  0  0  0  0  0  0  0\\n   -4.9704    0.1936   -0.4306 N   0  0  0  0  0  0  0  0  0  0  0  0\\n   -5.9705    1.0854   -0.5259 C   0  0  0  0  0  0  0  0  0  0  0  0\\n   -7.1233    0.7927   -0.0579 O   0  0  0  0  0  0  0  0  0  0  0  0\\n   -5.8110    2.3196   -1.1129 C   0  0  0  0  0  0  0  0  0  0  0  0\\n   -6.7961    3.1329   -1.1783 O   0  0  0  0  0  0  0  0  0  0  0  0\\n   -4.6090    2.6392   -1.6071 N   0  0  0  0  0  0  0  0  0  0  0  0\\n   -3.5623    1.7911   -1.5445 C   0  0  0  0  0  0  0  0  0  0  0  0\\n   -2.3328    2.1402   -2.0583 C   0  0  0  0  0  0  0  0  0  0  0  0\\n   -1.2982    1.2529   -1.9734 C   0  0  0  0  0  0  0  0  0  0  0  0\\n    0.0127    1.5567   -2.4905 N   0  0  0  0  0  4  0  0  0  0  0  0\\n    0.7024    0.6216   -2.9342 O   0  0  0  0  0  0  0  0  0  0  0  0\\n    0.5248    2.8099   -2.5160 O   0  0  0  0  0  1  0  0  0  0  0  0\\n   -1.4615    0.0139   -1.3828 C   0  0  0  0  0  0  0  0  0  0  0  0\\n   -0.3989   -0.9342   -1.2798 N   0  0  0  0  0  0  0  0  0  0  0  0\\n   -0.2828   -2.1404   -1.8450 C   0  0  0  0  0  0  0  0  0  0  0  0\\n    0.8978   -2.7382   -1.4926 C   0  0  0  0  0  0  0  0  0  0  0  0\\n    1.5542   -1.8507   -0.6587 C   0  0  0  0  0  0  0  0  0  0  0  0\\n    2.8507   -2.0959   -0.0573 C   0  0  0  0  0  0  0  0  0  0  0  0\\n    3.4605   -1.2786    0.7139 N   0  0  0  0  0  0  0  0  0  0  0  0\\n    3.0014   -0.0617    1.0928 O   0  0  0  0  0  0  0  0  0  0  0  0\\n    3.7539    0.6181    2.0962 C   0  0  0  0  0  0  0  0  0  0  0  0\\n    5.1183    0.8028    1.5391 C   0  0  0  0  0  0  0  0  0  0  0  0\\n    6.0436   -0.1946    1.7683 C   0  0  0  0  0  0  0  0  0  0  0  0\\n    7.3307   -0.0946    1.2834 C   0  0  0  0  0  0  0  0  0  0  0  0\\n    7.6939    1.0147    0.5624 C   0  0  0  0  0  0  0  0  0  0  0  0\\n    6.7815    2.0065    0.3320 C   0  0  0  0  0  0  0  0  0  0  0  0\\n    5.4854    1.9068    0.8198 C   0  0  0  0  0  0  0  0  0  0  0  0\\n    0.7414   -0.7689   -0.5509 C   0  0  0  0  0  0  0  0  0  0  0  0\\n   -2.7126   -0.3299   -0.8651 C   0  0  0  0  0  0  0  0  0  0  0  0\\n   -3.7693    0.5493   -0.9401 C   0  0  0  0  0  0  0  0  0  0  0  0\\n  1  2  2  0\\n  2  3  1  0\\n  2  4  1  0\\n  4  5  1  0\\n  5  6  1  0\\n  6  7  1  0\\n  7  8  2  0\\n  7  9  1  0\\n  9 10  2  0\\n  9 11  1  0\\n 11 12  1  0\\n 12 13  2  0\\n 13 14  1  0\\n 14 15  1  0\\n 15 16  2  0\\n 15 17  1  0\\n 14 18  2  0\\n 18 19  1  0\\n 19 20  1  0\\n 20 21  2  0\\n 21 22  1  0\\n 22 23  1  0\\n 23 24  2  3\\n 24 25  1  0\\n 25 26  1  0\\n 26 27  1  0\\n 27 28  2  0\\n 28 29  1  0\\n 29 30  2  0\\n 30 31  1  0\\n 31 32  2  0\\n 22 33  2  0\\n 18 34  1  0\\n 34 35  2  0\\n 35  6  1  0\\n 35 12  1  0\\n 33 19  1  0\\n 32 27  1  0\\nM  CHG  3   3  -1  15   1  17  -1\\nM  END\\n\",\"sdf\");\n",
       "\tviewer_16777812999559639.setStyle({\"stick\": {}});\n",
       "\tviewer_16777812999559639.addModel(\"\\n     RDKit          3D\\n\\n 35 38  0  0  0  0  0  0  0  0999 V2000\\n   -5.5768   -3.2594    1.5240 O   0  0  0  0  0  0  0  0  0  0  0  0\\n   -5.1620   -2.3290    2.2613 C   0  0  0  0  0  0  0  0  0  0  0  0\\n   -4.9988   -2.5822    3.5974 O   0  0  0  0  0  1  0  0  0  0  0  0\\n   -4.8762   -1.0145    1.6318 C   0  0  0  0  0  0  0  0  0  0  0  0\\n   -5.1567   -1.0458    0.1402 C   0  0  0  0  0  0  0  0  0  0  0  0\\n   -4.8709    0.2381   -0.4372 N   0  0  0  0  0  0  0  0  0  0  0  0\\n   -5.8493    1.1719   -0.5118 C   0  0  0  0  0  0  0  0  0  0  0  0\\n   -6.9818    0.8421   -0.0567 O   0  0  0  0  0  0  0  0  0  0  0  0\\n   -5.6064    2.4080   -1.0569 C   0  0  0  0  0  0  0  0  0  0  0  0\\n   -6.5292    3.2624   -1.1172 O   0  0  0  0  0  0  0  0  0  0  0  0\\n   -4.3927    2.7162   -1.5273 N   0  0  0  0  0  0  0  0  0  0  0  0\\n   -3.3950    1.8041   -1.4664 C   0  0  0  0  0  0  0  0  0  0  0  0\\n   -2.1444    2.1523   -1.9619 C   0  0  0  0  0  0  0  0  0  0  0  0\\n   -1.1402    1.2228   -1.8951 C   0  0  0  0  0  0  0  0  0  0  0  0\\n    0.1756    1.5186   -2.3886 N   0  0  0  0  0  4  0  0  0  0  0  0\\n    0.6059    2.7014   -2.4170 O   0  0  0  0  0  0  0  0  0  0  0  0\\n    0.9445    0.4921   -2.8238 O   0  0  0  0  0  1  0  0  0  0  0  0\\n   -1.3778   -0.0216   -1.3482 C   0  0  0  0  0  0  0  0  0  0  0  0\\n   -0.3462   -1.0003   -1.2730 N   0  0  0  0  0  0  0  0  0  0  0  0\\n   -0.1990   -2.1590   -1.9350 C   0  0  0  0  0  0  0  0  0  0  0  0\\n    0.9626   -2.7823   -1.5355 C   0  0  0  0  0  0  0  0  0  0  0  0\\n    1.5575   -1.9712   -0.5849 C   0  0  0  0  0  0  0  0  0  0  0  0\\n    2.8090   -2.2597    0.0975 C   0  0  0  0  0  0  0  0  0  0  0  0\\n    3.3712   -1.5395    0.9656 N   0  0  0  0  0  0  0  0  0  0  0  0\\n    2.8621   -0.3616    1.3888 O   0  0  0  0  0  0  0  0  0  0  0  0\\n    3.6670    0.4518    2.2437 C   0  0  0  0  0  0  0  0  0  0  0  0\\n    4.8973    0.7781    1.5138 C   0  0  0  0  0  0  0  0  0  0  0  0\\n    4.9345    1.9140    0.7391 C   0  0  0  0  0  0  0  0  0  0  0  0\\n    6.0808    2.2522    0.0357 C   0  0  0  0  0  0  0  0  0  0  0  0\\n    7.1723    1.4370    0.1260 C   0  0  0  0  0  0  0  0  0  0  0  0\\n    7.1459    0.3070    0.8923 C   0  0  0  0  0  0  0  0  0  0  0  0\\n    6.0043   -0.0320    1.5943 C   0  0  0  0  0  0  0  0  0  0  0  0\\n    0.7410   -0.9000   -0.4478 C   0  0  0  0  0  0  0  0  0  0  0  0\\n   -2.6384   -0.3596   -0.8538 C   0  0  0  0  0  0  0  0  0  0  0  0\\n   -3.6518    0.5589   -0.9139 C   0  0  0  0  0  0  0  0  0  0  0  0\\n  1  2  2  0\\n  2  3  1  0\\n  2  4  1  0\\n  4  5  1  0\\n  5  6  1  0\\n  6  7  1  0\\n  7  8  2  0\\n  7  9  1  0\\n  9 10  2  0\\n  9 11  1  0\\n 11 12  1  0\\n 12 13  2  0\\n 13 14  1  0\\n 14 15  1  0\\n 15 16  2  0\\n 15 17  1  0\\n 14 18  2  0\\n 18 19  1  0\\n 19 20  1  0\\n 20 21  2  0\\n 21 22  1  0\\n 22 23  1  0\\n 23 24  2  3\\n 24 25  1  0\\n 25 26  1  0\\n 26 27  1  0\\n 27 28  2  0\\n 28 29  1  0\\n 29 30  2  0\\n 30 31  1  0\\n 31 32  2  0\\n 22 33  2  0\\n 18 34  1  0\\n 34 35  2  0\\n 35  6  1  0\\n 35 12  1  0\\n 33 19  1  0\\n 32 27  1  0\\nM  CHG  3   3  -1  15   1  17  -1\\nM  END\\n\",\"sdf\");\n",
       "\tviewer_16777812999559639.setStyle({\"stick\": {}});\n",
       "\tviewer_16777812999559639.setStyle({\"model\": 0},{\"stick\": {\"colorscheme\": \"cyanCarbon\"}});\n",
       "\tviewer_16777812999559639.setStyle({\"model\": 1},{\"stick\": {\"colorscheme\": \"redCarbon\"}});\n",
       "\tviewer_16777812999559639.zoomTo();\n",
       "viewer_16777812999559639.render();\n",
       "});\n",
       "</script>"
      ]
     },
     "metadata": {},
     "output_type": "display_data"
    }
   ],
   "source": [
    "d1 = rdMolAlign.AlignMol(m3d,m3d,prbCid=cids[maxi],refCid=cids[maxj])\n",
    "drawit(m3d,[cids[maxj],cids[maxi]])\n"
   ]
  },
  {
   "cell_type": "markdown",
   "metadata": {},
   "source": [
    "And then aligned with GetBestRMS:"
   ]
  },
  {
   "cell_type": "code",
   "execution_count": 8,
   "id": "ec88ee48",
   "metadata": {
    "ExecuteTime": {
     "end_time": "2023-03-02T18:21:40.033487Z",
     "start_time": "2023-03-02T18:21:39.959173Z"
    }
   },
   "outputs": [
    {
     "data": {
      "application/3dmoljs_load.v0": "<div id=\"3dmolviewer_16777813000313938\"  style=\"position: relative; width: 400px; height: 400px\">\n        <p id=\"3dmolwarning_16777813000313938\" style=\"background-color:#ffcccc;color:black\">You appear to be running in JupyterLab (or JavaScript failed to load for some other reason).  You need to install the 3dmol extension: <br>\n        <tt>jupyter labextension install jupyterlab_3dmol</tt></p>\n        </div>\n<script>\n\nvar loadScriptAsync = function(uri){\n  return new Promise((resolve, reject) => {\n    //this is to ignore the existence of requirejs amd\n    var savedexports, savedmodule;\n    if (typeof exports !== 'undefined') savedexports = exports;\n    else exports = {}\n    if (typeof module !== 'undefined') savedmodule = module;\n    else module = {}\n\n    var tag = document.createElement('script');\n    tag.src = uri;\n    tag.async = true;\n    tag.onload = () => {\n        exports = savedexports;\n        module = savedmodule;\n        resolve();\n    };\n  var firstScriptTag = document.getElementsByTagName('script')[0];\n  firstScriptTag.parentNode.insertBefore(tag, firstScriptTag);\n});\n};\n\nif(typeof $3Dmolpromise === 'undefined') {\n$3Dmolpromise = null;\n  $3Dmolpromise = loadScriptAsync('https://cdn.jsdelivr.net/npm/3dmol@latest/build/3Dmol-min.min.js');\n}\n\nvar viewer_16777813000313938 = null;\nvar warn = document.getElementById(\"3dmolwarning_16777813000313938\");\nif(warn) {\n    warn.parentNode.removeChild(warn);\n}\n$3Dmolpromise.then(function() {\nviewer_16777813000313938 = $3Dmol.createViewer(document.getElementById(\"3dmolviewer_16777813000313938\"),{backgroundColor:\"white\"});\nviewer_16777813000313938.zoomTo();\n\tviewer_16777813000313938.removeAllModels();\n\tviewer_16777813000313938.addModel(\"\\n     RDKit          3D\\n\\n 35 38  0  0  0  0  0  0  0  0999 V2000\\n   -5.5569   -3.2683    1.6319 O   0  0  0  0  0  0  0  0  0  0  0  0\\n   -5.1663   -2.3070    2.3054 C   0  0  0  0  0  0  0  0  0  0  0  0\\n   -4.9678   -2.4908    3.6698 O   0  0  0  0  0  1  0  0  0  0  0  0\\n   -4.9160   -1.0003    1.6875 C   0  0  0  0  0  0  0  0  0  0  0  0\\n   -5.2093   -1.0823    0.1988 C   0  0  0  0  0  0  0  0  0  0  0  0\\n   -4.9704    0.1936   -0.4306 N   0  0  0  0  0  0  0  0  0  0  0  0\\n   -5.9705    1.0854   -0.5259 C   0  0  0  0  0  0  0  0  0  0  0  0\\n   -7.1233    0.7927   -0.0579 O   0  0  0  0  0  0  0  0  0  0  0  0\\n   -5.8110    2.3196   -1.1129 C   0  0  0  0  0  0  0  0  0  0  0  0\\n   -6.7961    3.1329   -1.1783 O   0  0  0  0  0  0  0  0  0  0  0  0\\n   -4.6090    2.6392   -1.6071 N   0  0  0  0  0  0  0  0  0  0  0  0\\n   -3.5623    1.7911   -1.5445 C   0  0  0  0  0  0  0  0  0  0  0  0\\n   -2.3328    2.1402   -2.0583 C   0  0  0  0  0  0  0  0  0  0  0  0\\n   -1.2982    1.2529   -1.9734 C   0  0  0  0  0  0  0  0  0  0  0  0\\n    0.0127    1.5567   -2.4905 N   0  0  0  0  0  4  0  0  0  0  0  0\\n    0.7024    0.6216   -2.9342 O   0  0  0  0  0  0  0  0  0  0  0  0\\n    0.5248    2.8099   -2.5160 O   0  0  0  0  0  1  0  0  0  0  0  0\\n   -1.4615    0.0139   -1.3828 C   0  0  0  0  0  0  0  0  0  0  0  0\\n   -0.3989   -0.9342   -1.2798 N   0  0  0  0  0  0  0  0  0  0  0  0\\n   -0.2828   -2.1404   -1.8450 C   0  0  0  0  0  0  0  0  0  0  0  0\\n    0.8978   -2.7382   -1.4926 C   0  0  0  0  0  0  0  0  0  0  0  0\\n    1.5542   -1.8507   -0.6587 C   0  0  0  0  0  0  0  0  0  0  0  0\\n    2.8507   -2.0959   -0.0573 C   0  0  0  0  0  0  0  0  0  0  0  0\\n    3.4605   -1.2786    0.7139 N   0  0  0  0  0  0  0  0  0  0  0  0\\n    3.0014   -0.0617    1.0928 O   0  0  0  0  0  0  0  0  0  0  0  0\\n    3.7539    0.6181    2.0962 C   0  0  0  0  0  0  0  0  0  0  0  0\\n    5.1183    0.8028    1.5391 C   0  0  0  0  0  0  0  0  0  0  0  0\\n    6.0436   -0.1946    1.7683 C   0  0  0  0  0  0  0  0  0  0  0  0\\n    7.3307   -0.0946    1.2834 C   0  0  0  0  0  0  0  0  0  0  0  0\\n    7.6939    1.0147    0.5624 C   0  0  0  0  0  0  0  0  0  0  0  0\\n    6.7815    2.0065    0.3320 C   0  0  0  0  0  0  0  0  0  0  0  0\\n    5.4854    1.9068    0.8198 C   0  0  0  0  0  0  0  0  0  0  0  0\\n    0.7414   -0.7689   -0.5509 C   0  0  0  0  0  0  0  0  0  0  0  0\\n   -2.7126   -0.3299   -0.8651 C   0  0  0  0  0  0  0  0  0  0  0  0\\n   -3.7693    0.5493   -0.9401 C   0  0  0  0  0  0  0  0  0  0  0  0\\n  1  2  2  0\\n  2  3  1  0\\n  2  4  1  0\\n  4  5  1  0\\n  5  6  1  0\\n  6  7  1  0\\n  7  8  2  0\\n  7  9  1  0\\n  9 10  2  0\\n  9 11  1  0\\n 11 12  1  0\\n 12 13  2  0\\n 13 14  1  0\\n 14 15  1  0\\n 15 16  2  0\\n 15 17  1  0\\n 14 18  2  0\\n 18 19  1  0\\n 19 20  1  0\\n 20 21  2  0\\n 21 22  1  0\\n 22 23  1  0\\n 23 24  2  3\\n 24 25  1  0\\n 25 26  1  0\\n 26 27  1  0\\n 27 28  2  0\\n 28 29  1  0\\n 29 30  2  0\\n 30 31  1  0\\n 31 32  2  0\\n 22 33  2  0\\n 18 34  1  0\\n 34 35  2  0\\n 35  6  1  0\\n 35 12  1  0\\n 33 19  1  0\\n 32 27  1  0\\nM  CHG  3   3  -1  15   1  17  -1\\nM  END\\n\",\"sdf\");\n\tviewer_16777813000313938.setStyle({\"stick\": {}});\n\tviewer_16777813000313938.addModel(\"\\n     RDKit          3D\\n\\n 35 38  0  0  0  0  0  0  0  0999 V2000\\n   -5.5909   -3.2400    1.5217 O   0  0  0  0  0  0  0  0  0  0  0  0\\n   -5.1736   -2.3102    2.2585 C   0  0  0  0  0  0  0  0  0  0  0  0\\n   -5.0129   -2.5625    3.5950 O   0  0  0  0  0  1  0  0  0  0  0  0\\n   -4.8824   -0.9974    1.6279 C   0  0  0  0  0  0  0  0  0  0  0  0\\n   -5.1612   -1.0293    0.1360 C   0  0  0  0  0  0  0  0  0  0  0  0\\n   -4.8703    0.2530   -0.4424 N   0  0  0  0  0  0  0  0  0  0  0  0\\n   -5.8452    1.1901   -0.5192 C   0  0  0  0  0  0  0  0  0  0  0  0\\n   -6.9795    0.8648   -0.0651 O   0  0  0  0  0  0  0  0  0  0  0  0\\n   -5.5973    2.4248   -1.0653 C   0  0  0  0  0  0  0  0  0  0  0  0\\n   -6.5170    3.2824   -1.1276 O   0  0  0  0  0  0  0  0  0  0  0  0\\n   -4.3819    2.7281   -1.5346 N   0  0  0  0  0  0  0  0  0  0  0  0\\n   -3.3876    1.8126   -1.4716 C   0  0  0  0  0  0  0  0  0  0  0  0\\n   -2.1352    2.1559   -1.9659 C   0  0  0  0  0  0  0  0  0  0  0  0\\n   -1.1343    1.2230   -1.8969 C   0  0  0  0  0  0  0  0  0  0  0  0\\n    0.1831    1.5135   -2.3892 N   0  0  0  0  0  4  0  0  0  0  0  0\\n    0.6176    2.6948   -2.4183 O   0  0  0  0  0  0  0  0  0  0  0  0\\n    0.9488    0.4838   -2.8223 O   0  0  0  0  0  1  0  0  0  0  0  0\\n   -1.3770   -0.0201   -1.3490 C   0  0  0  0  0  0  0  0  0  0  0  0\\n   -0.3489   -1.0023   -1.2715 N   0  0  0  0  0  0  0  0  0  0  0  0\\n   -0.2050   -2.1622   -1.9321 C   0  0  0  0  0  0  0  0  0  0  0  0\\n    0.9539   -2.7892   -1.5305 C   0  0  0  0  0  0  0  0  0  0  0  0\\n    1.5505   -1.9791   -0.5801 C   0  0  0  0  0  0  0  0  0  0  0  0\\n    2.8002   -2.2714    0.1042 C   0  0  0  0  0  0  0  0  0  0  0  0\\n    3.3638   -1.5522    0.9721 N   0  0  0  0  0  0  0  0  0  0  0  0\\n    2.8584   -0.3721    1.3934 O   0  0  0  0  0  0  0  0  0  0  0  0\\n    3.6652    0.4394    2.2485 C   0  0  0  0  0  0  0  0  0  0  0  0\\n    4.8975    0.7605    1.5197 C   0  0  0  0  0  0  0  0  0  0  0  0\\n    4.9396    1.8955    0.7438 C   0  0  0  0  0  0  0  0  0  0  0  0\\n    6.0879    2.2289    0.0415 C   0  0  0  0  0  0  0  0  0  0  0  0\\n    7.1764    1.4100    0.1339 C   0  0  0  0  0  0  0  0  0  0  0  0\\n    7.1452    0.2809    0.9014 C   0  0  0  0  0  0  0  0  0  0  0  0\\n    6.0015   -0.0534    1.6024 C   0  0  0  0  0  0  0  0  0  0  0  0\\n    0.7376   -0.9050   -0.4451 C   0  0  0  0  0  0  0  0  0  0  0  0\\n   -2.6394   -0.3531   -0.8557 C   0  0  0  0  0  0  0  0  0  0  0  0\\n   -3.6495    0.5690   -0.9180 C   0  0  0  0  0  0  0  0  0  0  0  0\\n  1  2  2  0\\n  2  3  1  0\\n  2  4  1  0\\n  4  5  1  0\\n  5  6  1  0\\n  6  7  1  0\\n  7  8  2  0\\n  7  9  1  0\\n  9 10  2  0\\n  9 11  1  0\\n 11 12  1  0\\n 12 13  2  0\\n 13 14  1  0\\n 14 15  1  0\\n 15 16  2  0\\n 15 17  1  0\\n 14 18  2  0\\n 18 19  1  0\\n 19 20  1  0\\n 20 21  2  0\\n 21 22  1  0\\n 22 23  1  0\\n 23 24  2  3\\n 24 25  1  0\\n 25 26  1  0\\n 26 27  1  0\\n 27 28  2  0\\n 28 29  1  0\\n 29 30  2  0\\n 30 31  1  0\\n 31 32  2  0\\n 22 33  2  0\\n 18 34  1  0\\n 34 35  2  0\\n 35  6  1  0\\n 35 12  1  0\\n 33 19  1  0\\n 32 27  1  0\\nM  CHG  3   3  -1  15   1  17  -1\\nM  END\\n\",\"sdf\");\n\tviewer_16777813000313938.setStyle({\"stick\": {}});\n\tviewer_16777813000313938.setStyle({\"model\": 0},{\"stick\": {\"colorscheme\": \"cyanCarbon\"}});\n\tviewer_16777813000313938.setStyle({\"model\": 1},{\"stick\": {\"colorscheme\": \"redCarbon\"}});\n\tviewer_16777813000313938.zoomTo();\nviewer_16777813000313938.render();\n});\n</script>",
      "text/html": [
       "<div id=\"3dmolviewer_16777813000313938\"  style=\"position: relative; width: 400px; height: 400px\">\n",
       "        <p id=\"3dmolwarning_16777813000313938\" style=\"background-color:#ffcccc;color:black\">You appear to be running in JupyterLab (or JavaScript failed to load for some other reason).  You need to install the 3dmol extension: <br>\n",
       "        <tt>jupyter labextension install jupyterlab_3dmol</tt></p>\n",
       "        </div>\n",
       "<script>\n",
       "\n",
       "var loadScriptAsync = function(uri){\n",
       "  return new Promise((resolve, reject) => {\n",
       "    //this is to ignore the existence of requirejs amd\n",
       "    var savedexports, savedmodule;\n",
       "    if (typeof exports !== 'undefined') savedexports = exports;\n",
       "    else exports = {}\n",
       "    if (typeof module !== 'undefined') savedmodule = module;\n",
       "    else module = {}\n",
       "\n",
       "    var tag = document.createElement('script');\n",
       "    tag.src = uri;\n",
       "    tag.async = true;\n",
       "    tag.onload = () => {\n",
       "        exports = savedexports;\n",
       "        module = savedmodule;\n",
       "        resolve();\n",
       "    };\n",
       "  var firstScriptTag = document.getElementsByTagName('script')[0];\n",
       "  firstScriptTag.parentNode.insertBefore(tag, firstScriptTag);\n",
       "});\n",
       "};\n",
       "\n",
       "if(typeof $3Dmolpromise === 'undefined') {\n",
       "$3Dmolpromise = null;\n",
       "  $3Dmolpromise = loadScriptAsync('https://cdn.jsdelivr.net/npm/3dmol@latest/build/3Dmol-min.min.js');\n",
       "}\n",
       "\n",
       "var viewer_16777813000313938 = null;\n",
       "var warn = document.getElementById(\"3dmolwarning_16777813000313938\");\n",
       "if(warn) {\n",
       "    warn.parentNode.removeChild(warn);\n",
       "}\n",
       "$3Dmolpromise.then(function() {\n",
       "viewer_16777813000313938 = $3Dmol.createViewer(document.getElementById(\"3dmolviewer_16777813000313938\"),{backgroundColor:\"white\"});\n",
       "viewer_16777813000313938.zoomTo();\n",
       "\tviewer_16777813000313938.removeAllModels();\n",
       "\tviewer_16777813000313938.addModel(\"\\n     RDKit          3D\\n\\n 35 38  0  0  0  0  0  0  0  0999 V2000\\n   -5.5569   -3.2683    1.6319 O   0  0  0  0  0  0  0  0  0  0  0  0\\n   -5.1663   -2.3070    2.3054 C   0  0  0  0  0  0  0  0  0  0  0  0\\n   -4.9678   -2.4908    3.6698 O   0  0  0  0  0  1  0  0  0  0  0  0\\n   -4.9160   -1.0003    1.6875 C   0  0  0  0  0  0  0  0  0  0  0  0\\n   -5.2093   -1.0823    0.1988 C   0  0  0  0  0  0  0  0  0  0  0  0\\n   -4.9704    0.1936   -0.4306 N   0  0  0  0  0  0  0  0  0  0  0  0\\n   -5.9705    1.0854   -0.5259 C   0  0  0  0  0  0  0  0  0  0  0  0\\n   -7.1233    0.7927   -0.0579 O   0  0  0  0  0  0  0  0  0  0  0  0\\n   -5.8110    2.3196   -1.1129 C   0  0  0  0  0  0  0  0  0  0  0  0\\n   -6.7961    3.1329   -1.1783 O   0  0  0  0  0  0  0  0  0  0  0  0\\n   -4.6090    2.6392   -1.6071 N   0  0  0  0  0  0  0  0  0  0  0  0\\n   -3.5623    1.7911   -1.5445 C   0  0  0  0  0  0  0  0  0  0  0  0\\n   -2.3328    2.1402   -2.0583 C   0  0  0  0  0  0  0  0  0  0  0  0\\n   -1.2982    1.2529   -1.9734 C   0  0  0  0  0  0  0  0  0  0  0  0\\n    0.0127    1.5567   -2.4905 N   0  0  0  0  0  4  0  0  0  0  0  0\\n    0.7024    0.6216   -2.9342 O   0  0  0  0  0  0  0  0  0  0  0  0\\n    0.5248    2.8099   -2.5160 O   0  0  0  0  0  1  0  0  0  0  0  0\\n   -1.4615    0.0139   -1.3828 C   0  0  0  0  0  0  0  0  0  0  0  0\\n   -0.3989   -0.9342   -1.2798 N   0  0  0  0  0  0  0  0  0  0  0  0\\n   -0.2828   -2.1404   -1.8450 C   0  0  0  0  0  0  0  0  0  0  0  0\\n    0.8978   -2.7382   -1.4926 C   0  0  0  0  0  0  0  0  0  0  0  0\\n    1.5542   -1.8507   -0.6587 C   0  0  0  0  0  0  0  0  0  0  0  0\\n    2.8507   -2.0959   -0.0573 C   0  0  0  0  0  0  0  0  0  0  0  0\\n    3.4605   -1.2786    0.7139 N   0  0  0  0  0  0  0  0  0  0  0  0\\n    3.0014   -0.0617    1.0928 O   0  0  0  0  0  0  0  0  0  0  0  0\\n    3.7539    0.6181    2.0962 C   0  0  0  0  0  0  0  0  0  0  0  0\\n    5.1183    0.8028    1.5391 C   0  0  0  0  0  0  0  0  0  0  0  0\\n    6.0436   -0.1946    1.7683 C   0  0  0  0  0  0  0  0  0  0  0  0\\n    7.3307   -0.0946    1.2834 C   0  0  0  0  0  0  0  0  0  0  0  0\\n    7.6939    1.0147    0.5624 C   0  0  0  0  0  0  0  0  0  0  0  0\\n    6.7815    2.0065    0.3320 C   0  0  0  0  0  0  0  0  0  0  0  0\\n    5.4854    1.9068    0.8198 C   0  0  0  0  0  0  0  0  0  0  0  0\\n    0.7414   -0.7689   -0.5509 C   0  0  0  0  0  0  0  0  0  0  0  0\\n   -2.7126   -0.3299   -0.8651 C   0  0  0  0  0  0  0  0  0  0  0  0\\n   -3.7693    0.5493   -0.9401 C   0  0  0  0  0  0  0  0  0  0  0  0\\n  1  2  2  0\\n  2  3  1  0\\n  2  4  1  0\\n  4  5  1  0\\n  5  6  1  0\\n  6  7  1  0\\n  7  8  2  0\\n  7  9  1  0\\n  9 10  2  0\\n  9 11  1  0\\n 11 12  1  0\\n 12 13  2  0\\n 13 14  1  0\\n 14 15  1  0\\n 15 16  2  0\\n 15 17  1  0\\n 14 18  2  0\\n 18 19  1  0\\n 19 20  1  0\\n 20 21  2  0\\n 21 22  1  0\\n 22 23  1  0\\n 23 24  2  3\\n 24 25  1  0\\n 25 26  1  0\\n 26 27  1  0\\n 27 28  2  0\\n 28 29  1  0\\n 29 30  2  0\\n 30 31  1  0\\n 31 32  2  0\\n 22 33  2  0\\n 18 34  1  0\\n 34 35  2  0\\n 35  6  1  0\\n 35 12  1  0\\n 33 19  1  0\\n 32 27  1  0\\nM  CHG  3   3  -1  15   1  17  -1\\nM  END\\n\",\"sdf\");\n",
       "\tviewer_16777813000313938.setStyle({\"stick\": {}});\n",
       "\tviewer_16777813000313938.addModel(\"\\n     RDKit          3D\\n\\n 35 38  0  0  0  0  0  0  0  0999 V2000\\n   -5.5909   -3.2400    1.5217 O   0  0  0  0  0  0  0  0  0  0  0  0\\n   -5.1736   -2.3102    2.2585 C   0  0  0  0  0  0  0  0  0  0  0  0\\n   -5.0129   -2.5625    3.5950 O   0  0  0  0  0  1  0  0  0  0  0  0\\n   -4.8824   -0.9974    1.6279 C   0  0  0  0  0  0  0  0  0  0  0  0\\n   -5.1612   -1.0293    0.1360 C   0  0  0  0  0  0  0  0  0  0  0  0\\n   -4.8703    0.2530   -0.4424 N   0  0  0  0  0  0  0  0  0  0  0  0\\n   -5.8452    1.1901   -0.5192 C   0  0  0  0  0  0  0  0  0  0  0  0\\n   -6.9795    0.8648   -0.0651 O   0  0  0  0  0  0  0  0  0  0  0  0\\n   -5.5973    2.4248   -1.0653 C   0  0  0  0  0  0  0  0  0  0  0  0\\n   -6.5170    3.2824   -1.1276 O   0  0  0  0  0  0  0  0  0  0  0  0\\n   -4.3819    2.7281   -1.5346 N   0  0  0  0  0  0  0  0  0  0  0  0\\n   -3.3876    1.8126   -1.4716 C   0  0  0  0  0  0  0  0  0  0  0  0\\n   -2.1352    2.1559   -1.9659 C   0  0  0  0  0  0  0  0  0  0  0  0\\n   -1.1343    1.2230   -1.8969 C   0  0  0  0  0  0  0  0  0  0  0  0\\n    0.1831    1.5135   -2.3892 N   0  0  0  0  0  4  0  0  0  0  0  0\\n    0.6176    2.6948   -2.4183 O   0  0  0  0  0  0  0  0  0  0  0  0\\n    0.9488    0.4838   -2.8223 O   0  0  0  0  0  1  0  0  0  0  0  0\\n   -1.3770   -0.0201   -1.3490 C   0  0  0  0  0  0  0  0  0  0  0  0\\n   -0.3489   -1.0023   -1.2715 N   0  0  0  0  0  0  0  0  0  0  0  0\\n   -0.2050   -2.1622   -1.9321 C   0  0  0  0  0  0  0  0  0  0  0  0\\n    0.9539   -2.7892   -1.5305 C   0  0  0  0  0  0  0  0  0  0  0  0\\n    1.5505   -1.9791   -0.5801 C   0  0  0  0  0  0  0  0  0  0  0  0\\n    2.8002   -2.2714    0.1042 C   0  0  0  0  0  0  0  0  0  0  0  0\\n    3.3638   -1.5522    0.9721 N   0  0  0  0  0  0  0  0  0  0  0  0\\n    2.8584   -0.3721    1.3934 O   0  0  0  0  0  0  0  0  0  0  0  0\\n    3.6652    0.4394    2.2485 C   0  0  0  0  0  0  0  0  0  0  0  0\\n    4.8975    0.7605    1.5197 C   0  0  0  0  0  0  0  0  0  0  0  0\\n    4.9396    1.8955    0.7438 C   0  0  0  0  0  0  0  0  0  0  0  0\\n    6.0879    2.2289    0.0415 C   0  0  0  0  0  0  0  0  0  0  0  0\\n    7.1764    1.4100    0.1339 C   0  0  0  0  0  0  0  0  0  0  0  0\\n    7.1452    0.2809    0.9014 C   0  0  0  0  0  0  0  0  0  0  0  0\\n    6.0015   -0.0534    1.6024 C   0  0  0  0  0  0  0  0  0  0  0  0\\n    0.7376   -0.9050   -0.4451 C   0  0  0  0  0  0  0  0  0  0  0  0\\n   -2.6394   -0.3531   -0.8557 C   0  0  0  0  0  0  0  0  0  0  0  0\\n   -3.6495    0.5690   -0.9180 C   0  0  0  0  0  0  0  0  0  0  0  0\\n  1  2  2  0\\n  2  3  1  0\\n  2  4  1  0\\n  4  5  1  0\\n  5  6  1  0\\n  6  7  1  0\\n  7  8  2  0\\n  7  9  1  0\\n  9 10  2  0\\n  9 11  1  0\\n 11 12  1  0\\n 12 13  2  0\\n 13 14  1  0\\n 14 15  1  0\\n 15 16  2  0\\n 15 17  1  0\\n 14 18  2  0\\n 18 19  1  0\\n 19 20  1  0\\n 20 21  2  0\\n 21 22  1  0\\n 22 23  1  0\\n 23 24  2  3\\n 24 25  1  0\\n 25 26  1  0\\n 26 27  1  0\\n 27 28  2  0\\n 28 29  1  0\\n 29 30  2  0\\n 30 31  1  0\\n 31 32  2  0\\n 22 33  2  0\\n 18 34  1  0\\n 34 35  2  0\\n 35  6  1  0\\n 35 12  1  0\\n 33 19  1  0\\n 32 27  1  0\\nM  CHG  3   3  -1  15   1  17  -1\\nM  END\\n\",\"sdf\");\n",
       "\tviewer_16777813000313938.setStyle({\"stick\": {}});\n",
       "\tviewer_16777813000313938.setStyle({\"model\": 0},{\"stick\": {\"colorscheme\": \"cyanCarbon\"}});\n",
       "\tviewer_16777813000313938.setStyle({\"model\": 1},{\"stick\": {\"colorscheme\": \"redCarbon\"}});\n",
       "\tviewer_16777813000313938.zoomTo();\n",
       "viewer_16777813000313938.render();\n",
       "});\n",
       "</script>"
      ]
     },
     "metadata": {},
     "output_type": "display_data"
    }
   ],
   "source": [
    "d2 = rdMolAlign.GetBestRMS(m3d,m3d,prbId=cids[maxi],refId=cids[maxj])\n",
    "drawit(m3d,[cids[maxj],cids[maxi]])\n"
   ]
  },
  {
   "cell_type": "markdown",
   "metadata": {},
   "source": [
    "The alignments don't actually look all that different. The difference in RMSD is due to the atoms in the nitro group and the terminal phenyl ring: `GetBestRMS()` recognizes that the symmetry while `AlignMol()` just matches atoms by their indices."
   ]
  },
  {
   "attachments": {},
   "cell_type": "markdown",
   "id": "32dd038d",
   "metadata": {},
   "source": [
    "# Cluster Them"
   ]
  },
  {
   "cell_type": "markdown",
   "id": "52f0a2e8",
   "metadata": {},
   "source": [
    "Now generate the RMSD distance matrix using `GetBestRMS()`. Note that as of the 2022.09 release cycle the convenience function `AllChem.GetConformerRMSMatrix()` does not take symmetry into account, so we need to build the symmetric matrix (we just store the lower triangle) manually:"
   ]
  },
  {
   "cell_type": "code",
   "execution_count": 9,
   "id": "ef2325c5",
   "metadata": {
    "ExecuteTime": {
     "end_time": "2023-03-02T18:21:49.591567Z",
     "start_time": "2023-03-02T18:21:40.034806Z"
    }
   },
   "outputs": [],
   "source": [
    "dists = []\n",
    "for i in range(len(cids)):\n",
    "    for j in range(i):\n",
    "        dists.append(rdMolAlign.GetBestRMS(m3d,m3d,i,j))"
   ]
  },
  {
   "cell_type": "markdown",
   "metadata": {},
   "source": [
    "Now we can do Butina clustering. We use a distance threshold of 1.5 &Aring;:"
   ]
  },
  {
   "cell_type": "code",
   "execution_count": 10,
   "id": "3cba811d",
   "metadata": {
    "ExecuteTime": {
     "end_time": "2023-03-02T18:21:49.602008Z",
     "start_time": "2023-03-02T18:21:49.592593Z"
    }
   },
   "outputs": [
    {
     "data": {
      "text/plain": [
       "10"
      ]
     },
     "execution_count": 10,
     "metadata": {},
     "output_type": "execute_result"
    }
   ],
   "source": [
    "from rdkit.ML.Cluster import Butina\n",
    "clusts = Butina.ClusterData(dists, len(cids), 1.5, isDistData=True, reordering=True)\n",
    "len(clusts)"
   ]
  },
  {
   "cell_type": "markdown",
   "id": "5785eb32",
   "metadata": {},
   "source": [
    "That's it. The 300 conformers form 10 clusters. Let's visualize the centroids (the first conformer in each cluster)\n",
    "\n",
    "\n",
    "To make visualization of the clusters easier to interpret, align all the conformers to the rigid 6-6 core:"
   ]
  },
  {
   "cell_type": "code",
   "execution_count": 11,
   "id": "e957a99d",
   "metadata": {
    "ExecuteTime": {
     "end_time": "2023-03-02T18:21:50.128378Z",
     "start_time": "2023-03-02T18:21:49.602888Z"
    }
   },
   "outputs": [
    {
     "data": {
      "image/png": "[encoded data removed]",
      "text/plain": [
       "<rdkit.Chem.rdchem.Mol at 0x7f40f139d820>"
      ]
     },
     "execution_count": 11,
     "metadata": {},
     "output_type": "execute_result"
    }
   ],
   "source": [
    "m"
   ]
  },
  {
   "cell_type": "code",
   "execution_count": 12,
   "id": "dfbd67b7",
   "metadata": {
    "ExecuteTime": {
     "end_time": "2023-03-02T18:21:50.239372Z",
     "start_time": "2023-03-02T18:21:50.132165Z"
    }
   },
   "outputs": [
    {
     "data": {
      "image/png": "[encoded data removed]",
      "text/plain": [
       "<rdkit.Chem.rdchem.Mol at 0x7f40f1122580>"
      ]
     },
     "execution_count": 12,
     "metadata": {},
     "output_type": "execute_result"
    }
   ],
   "source": [
    "core = Chem.MolFromSmiles('O=C1C(=O)N(C)c2cc(N)c(N)cc2N1')\n",
    "core"
   ]
  },
  {
   "cell_type": "code",
   "execution_count": 13,
   "id": "30c12aaf",
   "metadata": {
    "ExecuteTime": {
     "end_time": "2023-03-02T18:21:50.306462Z",
     "start_time": "2023-03-02T18:21:50.243581Z"
    }
   },
   "outputs": [],
   "source": [
    "rdMolAlign.AlignMolConformers(m3d,atomIds = m3d.GetSubstructMatch(core))"
   ]
  },
  {
   "cell_type": "markdown",
   "metadata": {},
   "source": [
    "Now look at the first five cluster centroids;"
   ]
  },
  {
   "cell_type": "code",
   "execution_count": 14,
   "id": "7ca2accc",
   "metadata": {
    "ExecuteTime": {
     "end_time": "2023-03-02T18:21:50.387066Z",
     "start_time": "2023-03-02T18:21:50.310811Z"
    }
   },
   "outputs": [
    {
     "data": {
      "application/3dmoljs_load.v0": "<div id=\"3dmolviewer_16777813103808172\"  style=\"position: relative; width: 400px; height: 400px\">\n        <p id=\"3dmolwarning_16777813103808172\" style=\"background-color:#ffcccc;color:black\">You appear to be running in JupyterLab (or JavaScript failed to load for some other reason).  You need to install the 3dmol extension: <br>\n        <tt>jupyter labextension install jupyterlab_3dmol</tt></p>\n        </div>\n<script>\n\nvar loadScriptAsync = function(uri){\n  return new Promise((resolve, reject) => {\n    //this is to ignore the existence of requirejs amd\n    var savedexports, savedmodule;\n    if (typeof exports !== 'undefined') savedexports = exports;\n    else exports = {}\n    if (typeof module !== 'undefined') savedmodule = module;\n    else module = {}\n\n    var tag = document.createElement('script');\n    tag.src = uri;\n    tag.async = true;\n    tag.onload = () => {\n        exports = savedexports;\n        module = savedmodule;\n        resolve();\n    };\n  var firstScriptTag = document.getElementsByTagName('script')[0];\n  firstScriptTag.parentNode.insertBefore(tag, firstScriptTag);\n});\n};\n\nif(typeof $3Dmolpromise === 'undefined') {\n$3Dmolpromise = null;\n  $3Dmolpromise = loadScriptAsync('https://cdn.jsdelivr.net/npm/3dmol@latest/build/3Dmol-min.min.js');\n}\n\nvar viewer_16777813103808172 = null;\nvar warn = document.getElementById(\"3dmolwarning_16777813103808172\");\nif(warn) {\n    warn.parentNode.removeChild(warn);\n}\n$3Dmolpromise.then(function() {\nviewer_16777813103808172 = $3Dmol.createViewer(document.getElementById(\"3dmolviewer_16777813103808172\"),{backgroundColor:\"white\"});\nviewer_16777813103808172.zoomTo();\n\tviewer_16777813103808172.removeAllModels();\n\tviewer_16777813103808172.addModel(\"\\n     RDKit          3D\\n\\n 35 38  0  0  0  0  0  0  0  0999 V2000\\n   -5.2527   -3.2471    2.9715 O   0  0  0  0  0  0  0  0  0  0  0  0\\n   -5.2476   -2.0418    2.5783 C   0  0  0  0  0  0  0  0  0  0  0  0\\n   -5.2054   -1.0051    3.4795 O   0  0  0  0  0  1  0  0  0  0  0  0\\n   -5.2883   -1.7861    1.1176 C   0  0  0  0  0  0  0  0  0  0  0  0\\n   -5.2749   -0.3005    0.8981 C   0  0  0  0  0  0  0  0  0  0  0  0\\n   -5.3123    0.0754   -0.4855 N   0  0  0  0  0  0  0  0  0  0  0  0\\n   -6.5304    0.2881   -1.0581 C   0  0  0  0  0  0  0  0  0  0  0  0\\n   -7.5884    0.1525   -0.3678 O   0  0  0  0  0  0  0  0  0  0  0  0\\n   -6.5427    0.6461   -2.3827 C   0  0  0  0  0  0  0  0  0  0  0  0\\n   -7.6549    0.8563   -2.9646 O   0  0  0  0  0  0  0  0  0  0  0  0\\n   -5.3964    0.7762   -3.0681 N   0  0  0  0  0  0  0  0  0  0  0  0\\n   -4.1855    0.5639   -2.4971 C   0  0  0  0  0  0  0  0  0  0  0  0\\n   -3.0180    0.7018   -3.2328 C   0  0  0  0  0  0  0  0  0  0  0  0\\n   -1.7758    0.4852   -2.6713 C   0  0  0  0  0  0  0  0  0  0  0  0\\n   -0.6074    0.6393   -3.4659 N   0  0  0  0  0  4  0  0  0  0  0  0\\n   -0.5580    1.4020   -4.4502 O   0  0  0  0  0  0  0  0  0  0  0  0\\n    0.5281   -0.0702   -3.1578 O   0  0  0  0  0  1  0  0  0  0  0  0\\n   -1.7415    0.1250   -1.3458 C   0  0  0  0  0  0  0  0  0  0  0  0\\n   -0.4463   -0.1056   -0.7451 N   0  0  0  0  0  0  0  0  0  0  0  0\\n   -0.0154   -1.3007   -0.3052 C   0  0  0  0  0  0  0  0  0  0  0  0\\n    1.2665   -1.1642    0.2113 C   0  0  0  0  0  0  0  0  0  0  0  0\\n    1.6066    0.1450    0.0749 C   0  0  0  0  0  0  0  0  0  0  0  0\\n    2.8355    0.8343    0.4494 C   0  0  0  0  0  0  0  0  0  0  0  0\\n    3.8118    0.2394    0.9915 N   0  0  0  0  0  0  0  0  0  0  0  0\\n    3.8285   -1.0804    1.2810 O   0  0  0  0  0  0  0  0  0  0  0  0\\n    4.7510   -1.8938    0.5463 C   0  0  0  0  0  0  0  0  0  0  0  0\\n    6.1218   -1.4036    0.7962 C   0  0  0  0  0  0  0  0  0  0  0  0\\n    6.6721   -0.4344   -0.0203 C   0  0  0  0  0  0  0  0  0  0  0  0\\n    7.9485    0.0275    0.2059 C   0  0  0  0  0  0  0  0  0  0  0  0\\n    8.6827   -0.4895    1.2648 C   0  0  0  0  0  0  0  0  0  0  0  0\\n    8.1319   -1.4507    2.0714 C   0  0  0  0  0  0  0  0  0  0  0  0\\n    6.8523   -1.9144    1.8457 C   0  0  0  0  0  0  0  0  0  0  0  0\\n    0.5072    0.7743   -0.5282 C   0  0  0  0  0  0  0  0  0  0  0  0\\n   -2.9033   -0.0130   -0.6103 C   0  0  0  0  0  0  0  0  0  0  0  0\\n   -4.1639    0.2030   -1.1636 C   0  0  0  0  0  0  0  0  0  0  0  0\\n  1  2  2  0\\n  2  3  1  0\\n  2  4  1  0\\n  4  5  1  0\\n  5  6  1  0\\n  6  7  1  0\\n  7  8  2  0\\n  7  9  1  0\\n  9 10  2  0\\n  9 11  1  0\\n 11 12  1  0\\n 12 13  2  0\\n 13 14  1  0\\n 14 15  1  0\\n 15 16  2  0\\n 15 17  1  0\\n 14 18  2  0\\n 18 19  1  0\\n 19 20  1  0\\n 20 21  2  0\\n 21 22  1  0\\n 22 23  1  0\\n 23 24  2  3\\n 24 25  1  0\\n 25 26  1  0\\n 26 27  1  0\\n 27 28  2  0\\n 28 29  1  0\\n 29 30  2  0\\n 30 31  1  0\\n 31 32  2  0\\n 22 33  2  0\\n 18 34  1  0\\n 34 35  2  0\\n 35  6  1  0\\n 35 12  1  0\\n 33 19  1  0\\n 32 27  1  0\\nM  CHG  3   3  -1  15   1  17  -1\\nM  END\\n\",\"sdf\");\n\tviewer_16777813103808172.setStyle({\"stick\": {}});\n\tviewer_16777813103808172.addModel(\"\\n     RDKit          3D\\n\\n 35 38  0  0  0  0  0  0  0  0999 V2000\\n   -7.2695    1.5988    2.3238 O   0  0  0  0  0  0  0  0  0  0  0  0\\n   -6.1864    1.8403    1.7391 C   0  0  0  0  0  0  0  0  0  0  0  0\\n   -6.0620    3.0171    1.0230 O   0  0  0  0  0  1  0  0  0  0  0  0\\n   -5.0875    0.8837    1.8243 C   0  0  0  0  0  0  0  0  0  0  0  0\\n   -5.2325   -0.3043    0.8908 C   0  0  0  0  0  0  0  0  0  0  0  0\\n   -5.2928    0.0742   -0.4986 N   0  0  0  0  0  0  0  0  0  0  0  0\\n   -6.4963    0.2886   -1.0587 C   0  0  0  0  0  0  0  0  0  0  0  0\\n   -7.5564    0.1675   -0.4024 O   0  0  0  0  0  0  0  0  0  0  0  0\\n   -6.5600    0.6479   -2.3789 C   0  0  0  0  0  0  0  0  0  0  0  0\\n   -7.6736    0.8645   -2.9648 O   0  0  0  0  0  0  0  0  0  0  0  0\\n   -5.4301    0.7806   -3.0914 N   0  0  0  0  0  0  0  0  0  0  0  0\\n   -4.2355    0.5643   -2.5211 C   0  0  0  0  0  0  0  0  0  0  0  0\\n   -3.0539    0.7027   -3.2458 C   0  0  0  0  0  0  0  0  0  0  0  0\\n   -1.8287    0.4845   -2.6550 C   0  0  0  0  0  0  0  0  0  0  0  0\\n   -0.6392    0.6324   -3.4185 N   0  0  0  0  0  4  0  0  0  0  0  0\\n    0.4067    1.0191   -2.8712 O   0  0  0  0  0  0  0  0  0  0  0  0\\n   -0.7065    0.3330   -4.7566 O   0  0  0  0  0  1  0  0  0  0  0  0\\n   -1.7073    0.1226   -1.3330 C   0  0  0  0  0  0  0  0  0  0  0  0\\n   -0.4366   -0.1100   -0.7016 N   0  0  0  0  0  0  0  0  0  0  0  0\\n    0.2700    0.7135    0.0929 C   0  0  0  0  0  0  0  0  0  0  0  0\\n    1.4384    0.0759    0.4783 C   0  0  0  0  0  0  0  0  0  0  0  0\\n    1.4553   -1.1751   -0.0925 C   0  0  0  0  0  0  0  0  0  0  0  0\\n    2.4814   -2.2006    0.0316 C   0  0  0  0  0  0  0  0  0  0  0  0\\n    2.3734   -3.3345   -0.5583 N   0  0  0  0  0  0  0  0  0  0  0  0\\n    3.3591   -4.2801   -0.4205 O   0  0  0  0  0  0  0  0  0  0  0  0\\n    4.6177   -4.1553   -1.0551 C   0  0  0  0  0  0  0  0  0  0  0  0\\n    5.4155   -5.3480   -0.6866 C   0  0  0  0  0  0  0  0  0  0  0  0\\n    5.3608   -6.4768   -1.4735 C   0  0  0  0  0  0  0  0  0  0  0  0\\n    6.1340   -7.5646   -1.0710 C   0  0  0  0  0  0  0  0  0  0  0  0\\n    6.9156   -7.5116    0.0607 C   0  0  0  0  0  0  0  0  0  0  0  0\\n    6.9709   -6.3919    0.8423 C   0  0  0  0  0  0  0  0  0  0  0  0\\n    6.1991   -5.2973    0.4463 C   0  0  0  0  0  0  0  0  0  0  0  0\\n    0.2684   -1.2490   -0.8193 C   0  0  0  0  0  0  0  0  0  0  0  0\\n   -2.8821   -0.0168   -0.6066 C   0  0  0  0  0  0  0  0  0  0  0  0\\n   -4.1168    0.1952   -1.1749 C   0  0  0  0  0  0  0  0  0  0  0  0\\n  1  2  2  0\\n  2  3  1  0\\n  2  4  1  0\\n  4  5  1  0\\n  5  6  1  0\\n  6  7  1  0\\n  7  8  2  0\\n  7  9  1  0\\n  9 10  2  0\\n  9 11  1  0\\n 11 12  1  0\\n 12 13  2  0\\n 13 14  1  0\\n 14 15  1  0\\n 15 16  2  0\\n 15 17  1  0\\n 14 18  2  0\\n 18 19  1  0\\n 19 20  1  0\\n 20 21  2  0\\n 21 22  1  0\\n 22 23  1  0\\n 23 24  2  3\\n 24 25  1  0\\n 25 26  1  0\\n 26 27  1  0\\n 27 28  2  0\\n 28 29  1  0\\n 29 30  2  0\\n 30 31  1  0\\n 31 32  2  0\\n 22 33  2  0\\n 18 34  1  0\\n 34 35  2  0\\n 35  6  1  0\\n 35 12  1  0\\n 33 19  1  0\\n 32 27  1  0\\nM  CHG  3   3  -1  15   1  17  -1\\nM  END\\n\",\"sdf\");\n\tviewer_16777813103808172.setStyle({\"stick\": {}});\n\tviewer_16777813103808172.addModel(\"\\n     RDKit          3D\\n\\n 35 38  0  0  0  0  0  0  0  0999 V2000\\n   -5.2110   -3.5686    2.5489 O   0  0  0  0  0  0  0  0  0  0  0  0\\n   -5.1880   -2.3216    2.3811 C   0  0  0  0  0  0  0  0  0  0  0  0\\n   -5.1138   -1.5254    3.5136 O   0  0  0  0  0  1  0  0  0  0  0  0\\n   -5.2416   -1.8226    1.0025 C   0  0  0  0  0  0  0  0  0  0  0  0\\n   -5.2082   -0.3126    0.9221 C   0  0  0  0  0  0  0  0  0  0  0  0\\n   -5.2650    0.0629   -0.4526 N   0  0  0  0  0  0  0  0  0  0  0  0\\n   -6.4614    0.2896   -1.0738 C   0  0  0  0  0  0  0  0  0  0  0  0\\n   -7.4978    0.1543   -0.3829 O   0  0  0  0  0  0  0  0  0  0  0  0\\n   -6.5430    0.6509   -2.3974 C   0  0  0  0  0  0  0  0  0  0  0  0\\n   -7.6609    0.8525   -2.9399 O   0  0  0  0  0  0  0  0  0  0  0  0\\n   -5.4141    0.7891   -3.1158 N   0  0  0  0  0  0  0  0  0  0  0  0\\n   -4.2138    0.5757   -2.5451 C   0  0  0  0  0  0  0  0  0  0  0  0\\n   -3.0468    0.7112   -3.2677 C   0  0  0  0  0  0  0  0  0  0  0  0\\n   -1.8209    0.4875   -2.6710 C   0  0  0  0  0  0  0  0  0  0  0  0\\n   -0.6025    0.6184   -3.3898 N   0  0  0  0  0  4  0  0  0  0  0  0\\n   -0.6278    0.4254   -4.6317 O   0  0  0  0  0  0  0  0  0  0  0  0\\n    0.5971    0.9397   -2.8269 O   0  0  0  0  0  1  0  0  0  0  0  0\\n   -1.7841    0.1288   -1.3489 C   0  0  0  0  0  0  0  0  0  0  0  0\\n   -0.5376   -0.1047   -0.7157 N   0  0  0  0  0  0  0  0  0  0  0  0\\n    0.1430   -1.2538   -0.5972 C   0  0  0  0  0  0  0  0  0  0  0  0\\n    1.3189   -1.0571    0.0921 C   0  0  0  0  0  0  0  0  0  0  0  0\\n    1.3511    0.2896    0.4090 C   0  0  0  0  0  0  0  0  0  0  0  0\\n    2.3776    1.0165    1.1336 C   0  0  0  0  0  0  0  0  0  0  0  0\\n    2.3589    2.2586    1.3989 N   0  0  0  0  0  0  0  0  0  0  0  0\\n    1.4235    3.1770    1.0895 O   0  0  0  0  0  0  0  0  0  0  0  0\\n    1.6149    4.1975    0.1044 C   0  0  0  0  0  0  0  0  0  0  0  0\\n    2.7583    5.0764    0.4397 C   0  0  0  0  0  0  0  0  0  0  0  0\\n    2.6103    6.2210    1.2000 C   0  0  0  0  0  0  0  0  0  0  0  0\\n    3.7010    7.0165    1.4920 C   0  0  0  0  0  0  0  0  0  0  0  0\\n    4.9581    6.6724    1.0232 C   0  0  0  0  0  0  0  0  0  0  0  0\\n    5.1387    5.5266    0.2555 C   0  0  0  0  0  0  0  0  0  0  0  0\\n    4.0280    4.7562   -0.0164 C   0  0  0  0  0  0  0  0  0  0  0  0\\n    0.2044    0.8466   -0.0968 C   0  0  0  0  0  0  0  0  0  0  0  0\\n   -2.9368   -0.0187   -0.5847 C   0  0  0  0  0  0  0  0  0  0  0  0\\n   -4.1490    0.2087   -1.1974 C   0  0  0  0  0  0  0  0  0  0  0  0\\n  1  2  2  0\\n  2  3  1  0\\n  2  4  1  0\\n  4  5  1  0\\n  5  6  1  0\\n  6  7  1  0\\n  7  8  2  0\\n  7  9  1  0\\n  9 10  2  0\\n  9 11  1  0\\n 11 12  1  0\\n 12 13  2  0\\n 13 14  1  0\\n 14 15  1  0\\n 15 16  2  0\\n 15 17  1  0\\n 14 18  2  0\\n 18 19  1  0\\n 19 20  1  0\\n 20 21  2  0\\n 21 22  1  0\\n 22 23  1  0\\n 23 24  2  3\\n 24 25  1  0\\n 25 26  1  0\\n 26 27  1  0\\n 27 28  2  0\\n 28 29  1  0\\n 29 30  2  0\\n 30 31  1  0\\n 31 32  2  0\\n 22 33  2  0\\n 18 34  1  0\\n 34 35  2  0\\n 35  6  1  0\\n 35 12  1  0\\n 33 19  1  0\\n 32 27  1  0\\nM  CHG  3   3  -1  15   1  17  -1\\nM  END\\n\",\"sdf\");\n\tviewer_16777813103808172.setStyle({\"stick\": {}});\n\tviewer_16777813103808172.addModel(\"\\n     RDKit          3D\\n\\n 35 38  0  0  0  0  0  0  0  0999 V2000\\n   -5.1075   -0.8023    3.5093 O   0  0  0  0  0  0  0  0  0  0  0  0\\n   -5.0756    0.4254    3.2389 C   0  0  0  0  0  0  0  0  0  0  0  0\\n   -4.9866    1.2946    4.3177 O   0  0  0  0  0  1  0  0  0  0  0  0\\n   -5.1304    0.9107    1.8358 C   0  0  0  0  0  0  0  0  0  0  0  0\\n   -5.2308   -0.3105    0.9211 C   0  0  0  0  0  0  0  0  0  0  0  0\\n   -5.2855    0.0651   -0.4594 N   0  0  0  0  0  0  0  0  0  0  0  0\\n   -6.4583    0.2939   -1.0896 C   0  0  0  0  0  0  0  0  0  0  0  0\\n   -7.5072    0.1584   -0.3923 O   0  0  0  0  0  0  0  0  0  0  0  0\\n   -6.5670    0.6546   -2.4057 C   0  0  0  0  0  0  0  0  0  0  0  0\\n   -7.6719    0.8631   -2.9733 O   0  0  0  0  0  0  0  0  0  0  0  0\\n   -5.4212    0.7826   -3.0937 N   0  0  0  0  0  0  0  0  0  0  0  0\\n   -4.2108    0.5653   -2.5145 C   0  0  0  0  0  0  0  0  0  0  0  0\\n   -3.0622    0.7086   -3.2595 C   0  0  0  0  0  0  0  0  0  0  0  0\\n   -1.8432    0.4862   -2.6608 C   0  0  0  0  0  0  0  0  0  0  0  0\\n   -0.6374    0.6255   -3.3992 N   0  0  0  0  0  4  0  0  0  0  0  0\\n   -0.6132    1.4056   -4.3702 O   0  0  0  0  0  0  0  0  0  0  0  0\\n    0.4751   -0.0942   -3.0368 O   0  0  0  0  0  1  0  0  0  0  0  0\\n   -1.7232    0.1230   -1.3356 C   0  0  0  0  0  0  0  0  0  0  0  0\\n   -0.4741   -0.1086   -0.7173 N   0  0  0  0  0  0  0  0  0  0  0  0\\n    0.4811    0.7328   -0.3806 C   0  0  0  0  0  0  0  0  0  0  0  0\\n    1.5430    0.0602    0.2121 C   0  0  0  0  0  0  0  0  0  0  0  0\\n    1.2171   -1.2577    0.2374 C   0  0  0  0  0  0  0  0  0  0  0  0\\n    2.0069   -2.3398    0.7669 C   0  0  0  0  0  0  0  0  0  0  0  0\\n    3.1317   -2.1918    1.3010 N   0  0  0  0  0  0  0  0  0  0  0  0\\n    3.8978   -1.1273    1.5398 O   0  0  0  0  0  0  0  0  0  0  0  0\\n    3.9731   -0.4078    2.7512 C   0  0  0  0  0  0  0  0  0  0  0  0\\n    4.4164   -1.2607    3.8805 C   0  0  0  0  0  0  0  0  0  0  0  0\\n    3.4446   -1.9174    4.5987 C   0  0  0  0  0  0  0  0  0  0  0  0\\n    3.7606   -2.7311    5.6605 C   0  0  0  0  0  0  0  0  0  0  0  0\\n    5.0753   -2.9104    6.0354 C   0  0  0  0  0  0  0  0  0  0  0  0\\n    6.0493   -2.2359    5.2952 C   0  0  0  0  0  0  0  0  0  0  0  0\\n    5.7275   -1.4338    4.2474 C   0  0  0  0  0  0  0  0  0  0  0  0\\n   -0.0512   -1.3296   -0.3519 C   0  0  0  0  0  0  0  0  0  0  0  0\\n   -2.9024   -0.0113   -0.6179 C   0  0  0  0  0  0  0  0  0  0  0  0\\n   -4.1466    0.1976   -1.1628 C   0  0  0  0  0  0  0  0  0  0  0  0\\n  1  2  2  0\\n  2  3  1  0\\n  2  4  1  0\\n  4  5  1  0\\n  5  6  1  0\\n  6  7  1  0\\n  7  8  2  0\\n  7  9  1  0\\n  9 10  2  0\\n  9 11  1  0\\n 11 12  1  0\\n 12 13  2  0\\n 13 14  1  0\\n 14 15  1  0\\n 15 16  2  0\\n 15 17  1  0\\n 14 18  2  0\\n 18 19  1  0\\n 19 20  1  0\\n 20 21  2  0\\n 21 22  1  0\\n 22 23  1  0\\n 23 24  2  3\\n 24 25  1  0\\n 25 26  1  0\\n 26 27  1  0\\n 27 28  2  0\\n 28 29  1  0\\n 29 30  2  0\\n 30 31  1  0\\n 31 32  2  0\\n 22 33  2  0\\n 18 34  1  0\\n 34 35  2  0\\n 35  6  1  0\\n 35 12  1  0\\n 33 19  1  0\\n 32 27  1  0\\nM  CHG  3   3  -1  15   1  17  -1\\nM  END\\n\",\"sdf\");\n\tviewer_16777813103808172.setStyle({\"stick\": {}});\n\tviewer_16777813103808172.addModel(\"\\n     RDKit          3D\\n\\n 35 38  0  0  0  0  0  0  0  0999 V2000\\n   -4.9367   -3.9079    1.3997 O   0  0  0  0  0  0  0  0  0  0  0  0\\n   -4.7905   -2.7693    0.7646 C   0  0  0  0  0  0  0  0  0  0  0  0\\n   -3.9025   -2.8636   -0.2733 O   0  0  0  0  0  1  0  0  0  0  0  0\\n   -5.5632   -1.6797    1.2588 C   0  0  0  0  0  0  0  0  0  0  0  0\\n   -5.2837   -0.2738    0.8930 C   0  0  0  0  0  0  0  0  0  0  0  0\\n   -5.3006    0.0577   -0.4933 N   0  0  0  0  0  0  0  0  0  0  0  0\\n   -6.5246    0.2889   -1.0653 C   0  0  0  0  0  0  0  0  0  0  0  0\\n   -7.5800    0.1598   -0.3600 O   0  0  0  0  0  0  0  0  0  0  0  0\\n   -6.5517    0.6511   -2.3814 C   0  0  0  0  0  0  0  0  0  0  0  0\\n   -7.6552    0.8693   -2.9346 O   0  0  0  0  0  0  0  0  0  0  0  0\\n   -5.4064    0.7741   -3.0833 N   0  0  0  0  0  0  0  0  0  0  0  0\\n   -4.2106    0.5491   -2.5238 C   0  0  0  0  0  0  0  0  0  0  0  0\\n   -3.0474    0.6971   -3.2371 C   0  0  0  0  0  0  0  0  0  0  0  0\\n   -1.7841    0.4892   -2.6631 C   0  0  0  0  0  0  0  0  0  0  0  0\\n   -0.6028    0.6507   -3.4234 N   0  0  0  0  0  4  0  0  0  0  0  0\\n   -0.7340    0.4388   -4.6671 O   0  0  0  0  0  0  0  0  0  0  0  0\\n    0.6147    1.0000   -2.9409 O   0  0  0  0  0  1  0  0  0  0  0  0\\n   -1.7108    0.1256   -1.3476 C   0  0  0  0  0  0  0  0  0  0  0  0\\n   -0.4412   -0.1008   -0.7207 N   0  0  0  0  0  0  0  0  0  0  0  0\\n    0.0640    0.5281    0.3601 C   0  0  0  0  0  0  0  0  0  0  0  0\\n    1.2911    0.0462    0.6787 C   0  0  0  0  0  0  0  0  0  0  0  0\\n    1.5918   -0.9486   -0.2503 C   0  0  0  0  0  0  0  0  0  0  0  0\\n    2.8155   -1.7133   -0.2448 C   0  0  0  0  0  0  0  0  0  0  0  0\\n    3.0820   -2.6064   -1.0988 N   0  0  0  0  0  0  0  0  0  0  0  0\\n    2.2168   -2.9136   -2.1039 O   0  0  0  0  0  0  0  0  0  0  0  0\\n    2.6748   -2.5556   -3.4234 C   0  0  0  0  0  0  0  0  0  0  0  0\\n    3.9336   -3.3175   -3.6050 C   0  0  0  0  0  0  0  0  0  0  0  0\\n    3.8910   -4.5616   -4.1775 C   0  0  0  0  0  0  0  0  0  0  0  0\\n    5.0418   -5.3241   -4.3641 C   0  0  0  0  0  0  0  0  0  0  0  0\\n    6.2490   -4.7987   -3.9565 C   0  0  0  0  0  0  0  0  0  0  0  0\\n    6.3037   -3.5506   -3.3808 C   0  0  0  0  0  0  0  0  0  0  0  0\\n    5.1368   -2.8055   -3.2043 C   0  0  0  0  0  0  0  0  0  0  0  0\\n    0.5038   -0.9998   -1.0822 C   0  0  0  0  0  0  0  0  0  0  0  0\\n   -2.8927   -0.0211   -0.6412 C   0  0  0  0  0  0  0  0  0  0  0  0\\n   -4.1499    0.1769   -1.1788 C   0  0  0  0  0  0  0  0  0  0  0  0\\n  1  2  2  0\\n  2  3  1  0\\n  2  4  1  0\\n  4  5  1  0\\n  5  6  1  0\\n  6  7  1  0\\n  7  8  2  0\\n  7  9  1  0\\n  9 10  2  0\\n  9 11  1  0\\n 11 12  1  0\\n 12 13  2  0\\n 13 14  1  0\\n 14 15  1  0\\n 15 16  2  0\\n 15 17  1  0\\n 14 18  2  0\\n 18 19  1  0\\n 19 20  1  0\\n 20 21  2  0\\n 21 22  1  0\\n 22 23  1  0\\n 23 24  2  3\\n 24 25  1  0\\n 25 26  1  0\\n 26 27  1  0\\n 27 28  2  0\\n 28 29  1  0\\n 29 30  2  0\\n 30 31  1  0\\n 31 32  2  0\\n 22 33  2  0\\n 18 34  1  0\\n 34 35  2  0\\n 35  6  1  0\\n 35 12  1  0\\n 33 19  1  0\\n 32 27  1  0\\nM  CHG  3   3  -1  15   1  17  -1\\nM  END\\n\",\"sdf\");\n\tviewer_16777813103808172.setStyle({\"stick\": {}});\n\tviewer_16777813103808172.setStyle({\"model\": 0},{\"stick\": {\"colorscheme\": \"cyanCarbon\"}});\n\tviewer_16777813103808172.setStyle({\"model\": 1},{\"stick\": {\"colorscheme\": \"redCarbon\"}});\n\tviewer_16777813103808172.setStyle({\"model\": 2},{\"stick\": {\"colorscheme\": \"blueCarbon\"}});\n\tviewer_16777813103808172.setStyle({\"model\": 3},{\"stick\": {\"colorscheme\": \"magentaCarbon\"}});\n\tviewer_16777813103808172.setStyle({\"model\": 4},{\"stick\": {\"colorscheme\": \"whiteCarbon\"}});\n\tviewer_16777813103808172.zoomTo();\nviewer_16777813103808172.render();\n});\n</script>",
      "text/html": [
       "<div id=\"3dmolviewer_16777813103808172\"  style=\"position: relative; width: 400px; height: 400px\">\n",
       "        <p id=\"3dmolwarning_16777813103808172\" style=\"background-color:#ffcccc;color:black\">You appear to be running in JupyterLab (or JavaScript failed to load for some other reason).  You need to install the 3dmol extension: <br>\n",
       "        <tt>jupyter labextension install jupyterlab_3dmol</tt></p>\n",
       "        </div>\n",
       "<script>\n",
       "\n",
       "var loadScriptAsync = function(uri){\n",
       "  return new Promise((resolve, reject) => {\n",
       "    //this is to ignore the existence of requirejs amd\n",
       "    var savedexports, savedmodule;\n",
       "    if (typeof exports !== 'undefined') savedexports = exports;\n",
       "    else exports = {}\n",
       "    if (typeof module !== 'undefined') savedmodule = module;\n",
       "    else module = {}\n",
       "\n",
       "    var tag = document.createElement('script');\n",
       "    tag.src = uri;\n",
       "    tag.async = true;\n",
       "    tag.onload = () => {\n",
       "        exports = savedexports;\n",
       "        module = savedmodule;\n",
       "        resolve();\n",
       "    };\n",
       "  var firstScriptTag = document.getElementsByTagName('script')[0];\n",
       "  firstScriptTag.parentNode.insertBefore(tag, firstScriptTag);\n",
       "});\n",
       "};\n",
       "\n",
       "if(typeof $3Dmolpromise === 'undefined') {\n",
       "$3Dmolpromise = null;\n",
       "  $3Dmolpromise = loadScriptAsync('https://cdn.jsdelivr.net/npm/3dmol@latest/build/3Dmol-min.min.js');\n",
       "}\n",
       "\n",
       "var viewer_16777813103808172 = null;\n",
       "var warn = document.getElementById(\"3dmolwarning_16777813103808172\");\n",
       "if(warn) {\n",
       "    warn.parentNode.removeChild(warn);\n",
       "}\n",
       "$3Dmolpromise.then(function() {\n",
       "viewer_16777813103808172 = $3Dmol.createViewer(document.getElementById(\"3dmolviewer_16777813103808172\"),{backgroundColor:\"white\"});\n",
       "viewer_16777813103808172.zoomTo();\n",
       "\tviewer_16777813103808172.removeAllModels();\n",
       "\tviewer_16777813103808172.addModel(\"\\n     RDKit          3D\\n\\n 35 38  0  0  0  0  0  0  0  0999 V2000\\n   -5.2527   -3.2471    2.9715 O   0  0  0  0  0  0  0  0  0  0  0  0\\n   -5.2476   -2.0418    2.5783 C   0  0  0  0  0  0  0  0  0  0  0  0\\n   -5.2054   -1.0051    3.4795 O   0  0  0  0  0  1  0  0  0  0  0  0\\n   -5.2883   -1.7861    1.1176 C   0  0  0  0  0  0  0  0  0  0  0  0\\n   -5.2749   -0.3005    0.8981 C   0  0  0  0  0  0  0  0  0  0  0  0\\n   -5.3123    0.0754   -0.4855 N   0  0  0  0  0  0  0  0  0  0  0  0\\n   -6.5304    0.2881   -1.0581 C   0  0  0  0  0  0  0  0  0  0  0  0\\n   -7.5884    0.1525   -0.3678 O   0  0  0  0  0  0  0  0  0  0  0  0\\n   -6.5427    0.6461   -2.3827 C   0  0  0  0  0  0  0  0  0  0  0  0\\n   -7.6549    0.8563   -2.9646 O   0  0  0  0  0  0  0  0  0  0  0  0\\n   -5.3964    0.7762   -3.0681 N   0  0  0  0  0  0  0  0  0  0  0  0\\n   -4.1855    0.5639   -2.4971 C   0  0  0  0  0  0  0  0  0  0  0  0\\n   -3.0180    0.7018   -3.2328 C   0  0  0  0  0  0  0  0  0  0  0  0\\n   -1.7758    0.4852   -2.6713 C   0  0  0  0  0  0  0  0  0  0  0  0\\n   -0.6074    0.6393   -3.4659 N   0  0  0  0  0  4  0  0  0  0  0  0\\n   -0.5580    1.4020   -4.4502 O   0  0  0  0  0  0  0  0  0  0  0  0\\n    0.5281   -0.0702   -3.1578 O   0  0  0  0  0  1  0  0  0  0  0  0\\n   -1.7415    0.1250   -1.3458 C   0  0  0  0  0  0  0  0  0  0  0  0\\n   -0.4463   -0.1056   -0.7451 N   0  0  0  0  0  0  0  0  0  0  0  0\\n   -0.0154   -1.3007   -0.3052 C   0  0  0  0  0  0  0  0  0  0  0  0\\n    1.2665   -1.1642    0.2113 C   0  0  0  0  0  0  0  0  0  0  0  0\\n    1.6066    0.1450    0.0749 C   0  0  0  0  0  0  0  0  0  0  0  0\\n    2.8355    0.8343    0.4494 C   0  0  0  0  0  0  0  0  0  0  0  0\\n    3.8118    0.2394    0.9915 N   0  0  0  0  0  0  0  0  0  0  0  0\\n    3.8285   -1.0804    1.2810 O   0  0  0  0  0  0  0  0  0  0  0  0\\n    4.7510   -1.8938    0.5463 C   0  0  0  0  0  0  0  0  0  0  0  0\\n    6.1218   -1.4036    0.7962 C   0  0  0  0  0  0  0  0  0  0  0  0\\n    6.6721   -0.4344   -0.0203 C   0  0  0  0  0  0  0  0  0  0  0  0\\n    7.9485    0.0275    0.2059 C   0  0  0  0  0  0  0  0  0  0  0  0\\n    8.6827   -0.4895    1.2648 C   0  0  0  0  0  0  0  0  0  0  0  0\\n    8.1319   -1.4507    2.0714 C   0  0  0  0  0  0  0  0  0  0  0  0\\n    6.8523   -1.9144    1.8457 C   0  0  0  0  0  0  0  0  0  0  0  0\\n    0.5072    0.7743   -0.5282 C   0  0  0  0  0  0  0  0  0  0  0  0\\n   -2.9033   -0.0130   -0.6103 C   0  0  0  0  0  0  0  0  0  0  0  0\\n   -4.1639    0.2030   -1.1636 C   0  0  0  0  0  0  0  0  0  0  0  0\\n  1  2  2  0\\n  2  3  1  0\\n  2  4  1  0\\n  4  5  1  0\\n  5  6  1  0\\n  6  7  1  0\\n  7  8  2  0\\n  7  9  1  0\\n  9 10  2  0\\n  9 11  1  0\\n 11 12  1  0\\n 12 13  2  0\\n 13 14  1  0\\n 14 15  1  0\\n 15 16  2  0\\n 15 17  1  0\\n 14 18  2  0\\n 18 19  1  0\\n 19 20  1  0\\n 20 21  2  0\\n 21 22  1  0\\n 22 23  1  0\\n 23 24  2  3\\n 24 25  1  0\\n 25 26  1  0\\n 26 27  1  0\\n 27 28  2  0\\n 28 29  1  0\\n 29 30  2  0\\n 30 31  1  0\\n 31 32  2  0\\n 22 33  2  0\\n 18 34  1  0\\n 34 35  2  0\\n 35  6  1  0\\n 35 12  1  0\\n 33 19  1  0\\n 32 27  1  0\\nM  CHG  3   3  -1  15   1  17  -1\\nM  END\\n\",\"sdf\");\n",
       "\tviewer_16777813103808172.setStyle({\"stick\": {}});\n",
       "\tviewer_16777813103808172.addModel(\"\\n     RDKit          3D\\n\\n 35 38  0  0  0  0  0  0  0  0999 V2000\\n   -7.2695    1.5988    2.3238 O   0  0  0  0  0  0  0  0  0  0  0  0\\n   -6.1864    1.8403    1.7391 C   0  0  0  0  0  0  0  0  0  0  0  0\\n   -6.0620    3.0171    1.0230 O   0  0  0  0  0  1  0  0  0  0  0  0\\n   -5.0875    0.8837    1.8243 C   0  0  0  0  0  0  0  0  0  0  0  0\\n   -5.2325   -0.3043    0.8908 C   0  0  0  0  0  0  0  0  0  0  0  0\\n   -5.2928    0.0742   -0.4986 N   0  0  0  0  0  0  0  0  0  0  0  0\\n   -6.4963    0.2886   -1.0587 C   0  0  0  0  0  0  0  0  0  0  0  0\\n   -7.5564    0.1675   -0.4024 O   0  0  0  0  0  0  0  0  0  0  0  0\\n   -6.5600    0.6479   -2.3789 C   0  0  0  0  0  0  0  0  0  0  0  0\\n   -7.6736    0.8645   -2.9648 O   0  0  0  0  0  0  0  0  0  0  0  0\\n   -5.4301    0.7806   -3.0914 N   0  0  0  0  0  0  0  0  0  0  0  0\\n   -4.2355    0.5643   -2.5211 C   0  0  0  0  0  0  0  0  0  0  0  0\\n   -3.0539    0.7027   -3.2458 C   0  0  0  0  0  0  0  0  0  0  0  0\\n   -1.8287    0.4845   -2.6550 C   0  0  0  0  0  0  0  0  0  0  0  0\\n   -0.6392    0.6324   -3.4185 N   0  0  0  0  0  4  0  0  0  0  0  0\\n    0.4067    1.0191   -2.8712 O   0  0  0  0  0  0  0  0  0  0  0  0\\n   -0.7065    0.3330   -4.7566 O   0  0  0  0  0  1  0  0  0  0  0  0\\n   -1.7073    0.1226   -1.3330 C   0  0  0  0  0  0  0  0  0  0  0  0\\n   -0.4366   -0.1100   -0.7016 N   0  0  0  0  0  0  0  0  0  0  0  0\\n    0.2700    0.7135    0.0929 C   0  0  0  0  0  0  0  0  0  0  0  0\\n    1.4384    0.0759    0.4783 C   0  0  0  0  0  0  0  0  0  0  0  0\\n    1.4553   -1.1751   -0.0925 C   0  0  0  0  0  0  0  0  0  0  0  0\\n    2.4814   -2.2006    0.0316 C   0  0  0  0  0  0  0  0  0  0  0  0\\n    2.3734   -3.3345   -0.5583 N   0  0  0  0  0  0  0  0  0  0  0  0\\n    3.3591   -4.2801   -0.4205 O   0  0  0  0  0  0  0  0  0  0  0  0\\n    4.6177   -4.1553   -1.0551 C   0  0  0  0  0  0  0  0  0  0  0  0\\n    5.4155   -5.3480   -0.6866 C   0  0  0  0  0  0  0  0  0  0  0  0\\n    5.3608   -6.4768   -1.4735 C   0  0  0  0  0  0  0  0  0  0  0  0\\n    6.1340   -7.5646   -1.0710 C   0  0  0  0  0  0  0  0  0  0  0  0\\n    6.9156   -7.5116    0.0607 C   0  0  0  0  0  0  0  0  0  0  0  0\\n    6.9709   -6.3919    0.8423 C   0  0  0  0  0  0  0  0  0  0  0  0\\n    6.1991   -5.2973    0.4463 C   0  0  0  0  0  0  0  0  0  0  0  0\\n    0.2684   -1.2490   -0.8193 C   0  0  0  0  0  0  0  0  0  0  0  0\\n   -2.8821   -0.0168   -0.6066 C   0  0  0  0  0  0  0  0  0  0  0  0\\n   -4.1168    0.1952   -1.1749 C   0  0  0  0  0  0  0  0  0  0  0  0\\n  1  2  2  0\\n  2  3  1  0\\n  2  4  1  0\\n  4  5  1  0\\n  5  6  1  0\\n  6  7  1  0\\n  7  8  2  0\\n  7  9  1  0\\n  9 10  2  0\\n  9 11  1  0\\n 11 12  1  0\\n 12 13  2  0\\n 13 14  1  0\\n 14 15  1  0\\n 15 16  2  0\\n 15 17  1  0\\n 14 18  2  0\\n 18 19  1  0\\n 19 20  1  0\\n 20 21  2  0\\n 21 22  1  0\\n 22 23  1  0\\n 23 24  2  3\\n 24 25  1  0\\n 25 26  1  0\\n 26 27  1  0\\n 27 28  2  0\\n 28 29  1  0\\n 29 30  2  0\\n 30 31  1  0\\n 31 32  2  0\\n 22 33  2  0\\n 18 34  1  0\\n 34 35  2  0\\n 35  6  1  0\\n 35 12  1  0\\n 33 19  1  0\\n 32 27  1  0\\nM  CHG  3   3  -1  15   1  17  -1\\nM  END\\n\",\"sdf\");\n",
       "\tviewer_16777813103808172.setStyle({\"stick\": {}});\n",
       "\tviewer_16777813103808172.addModel(\"\\n     RDKit          3D\\n\\n 35 38  0  0  0  0  0  0  0  0999 V2000\\n   -5.2110   -3.5686    2.5489 O   0  0  0  0  0  0  0  0  0  0  0  0\\n   -5.1880   -2.3216    2.3811 C   0  0  0  0  0  0  0  0  0  0  0  0\\n   -5.1138   -1.5254    3.5136 O   0  0  0  0  0  1  0  0  0  0  0  0\\n   -5.2416   -1.8226    1.0025 C   0  0  0  0  0  0  0  0  0  0  0  0\\n   -5.2082   -0.3126    0.9221 C   0  0  0  0  0  0  0  0  0  0  0  0\\n   -5.2650    0.0629   -0.4526 N   0  0  0  0  0  0  0  0  0  0  0  0\\n   -6.4614    0.2896   -1.0738 C   0  0  0  0  0  0  0  0  0  0  0  0\\n   -7.4978    0.1543   -0.3829 O   0  0  0  0  0  0  0  0  0  0  0  0\\n   -6.5430    0.6509   -2.3974 C   0  0  0  0  0  0  0  0  0  0  0  0\\n   -7.6609    0.8525   -2.9399 O   0  0  0  0  0  0  0  0  0  0  0  0\\n   -5.4141    0.7891   -3.1158 N   0  0  0  0  0  0  0  0  0  0  0  0\\n   -4.2138    0.5757   -2.5451 C   0  0  0  0  0  0  0  0  0  0  0  0\\n   -3.0468    0.7112   -3.2677 C   0  0  0  0  0  0  0  0  0  0  0  0\\n   -1.8209    0.4875   -2.6710 C   0  0  0  0  0  0  0  0  0  0  0  0\\n   -0.6025    0.6184   -3.3898 N   0  0  0  0  0  4  0  0  0  0  0  0\\n   -0.6278    0.4254   -4.6317 O   0  0  0  0  0  0  0  0  0  0  0  0\\n    0.5971    0.9397   -2.8269 O   0  0  0  0  0  1  0  0  0  0  0  0\\n   -1.7841    0.1288   -1.3489 C   0  0  0  0  0  0  0  0  0  0  0  0\\n   -0.5376   -0.1047   -0.7157 N   0  0  0  0  0  0  0  0  0  0  0  0\\n    0.1430   -1.2538   -0.5972 C   0  0  0  0  0  0  0  0  0  0  0  0\\n    1.3189   -1.0571    0.0921 C   0  0  0  0  0  0  0  0  0  0  0  0\\n    1.3511    0.2896    0.4090 C   0  0  0  0  0  0  0  0  0  0  0  0\\n    2.3776    1.0165    1.1336 C   0  0  0  0  0  0  0  0  0  0  0  0\\n    2.3589    2.2586    1.3989 N   0  0  0  0  0  0  0  0  0  0  0  0\\n    1.4235    3.1770    1.0895 O   0  0  0  0  0  0  0  0  0  0  0  0\\n    1.6149    4.1975    0.1044 C   0  0  0  0  0  0  0  0  0  0  0  0\\n    2.7583    5.0764    0.4397 C   0  0  0  0  0  0  0  0  0  0  0  0\\n    2.6103    6.2210    1.2000 C   0  0  0  0  0  0  0  0  0  0  0  0\\n    3.7010    7.0165    1.4920 C   0  0  0  0  0  0  0  0  0  0  0  0\\n    4.9581    6.6724    1.0232 C   0  0  0  0  0  0  0  0  0  0  0  0\\n    5.1387    5.5266    0.2555 C   0  0  0  0  0  0  0  0  0  0  0  0\\n    4.0280    4.7562   -0.0164 C   0  0  0  0  0  0  0  0  0  0  0  0\\n    0.2044    0.8466   -0.0968 C   0  0  0  0  0  0  0  0  0  0  0  0\\n   -2.9368   -0.0187   -0.5847 C   0  0  0  0  0  0  0  0  0  0  0  0\\n   -4.1490    0.2087   -1.1974 C   0  0  0  0  0  0  0  0  0  0  0  0\\n  1  2  2  0\\n  2  3  1  0\\n  2  4  1  0\\n  4  5  1  0\\n  5  6  1  0\\n  6  7  1  0\\n  7  8  2  0\\n  7  9  1  0\\n  9 10  2  0\\n  9 11  1  0\\n 11 12  1  0\\n 12 13  2  0\\n 13 14  1  0\\n 14 15  1  0\\n 15 16  2  0\\n 15 17  1  0\\n 14 18  2  0\\n 18 19  1  0\\n 19 20  1  0\\n 20 21  2  0\\n 21 22  1  0\\n 22 23  1  0\\n 23 24  2  3\\n 24 25  1  0\\n 25 26  1  0\\n 26 27  1  0\\n 27 28  2  0\\n 28 29  1  0\\n 29 30  2  0\\n 30 31  1  0\\n 31 32  2  0\\n 22 33  2  0\\n 18 34  1  0\\n 34 35  2  0\\n 35  6  1  0\\n 35 12  1  0\\n 33 19  1  0\\n 32 27  1  0\\nM  CHG  3   3  -1  15   1  17  -1\\nM  END\\n\",\"sdf\");\n",
       "\tviewer_16777813103808172.setStyle({\"stick\": {}});\n",
       "\tviewer_16777813103808172.addModel(\"\\n     RDKit          3D\\n\\n 35 38  0  0  0  0  0  0  0  0999 V2000\\n   -5.1075   -0.8023    3.5093 O   0  0  0  0  0  0  0  0  0  0  0  0\\n   -5.0756    0.4254    3.2389 C   0  0  0  0  0  0  0  0  0  0  0  0\\n   -4.9866    1.2946    4.3177 O   0  0  0  0  0  1  0  0  0  0  0  0\\n   -5.1304    0.9107    1.8358 C   0  0  0  0  0  0  0  0  0  0  0  0\\n   -5.2308   -0.3105    0.9211 C   0  0  0  0  0  0  0  0  0  0  0  0\\n   -5.2855    0.0651   -0.4594 N   0  0  0  0  0  0  0  0  0  0  0  0\\n   -6.4583    0.2939   -1.0896 C   0  0  0  0  0  0  0  0  0  0  0  0\\n   -7.5072    0.1584   -0.3923 O   0  0  0  0  0  0  0  0  0  0  0  0\\n   -6.5670    0.6546   -2.4057 C   0  0  0  0  0  0  0  0  0  0  0  0\\n   -7.6719    0.8631   -2.9733 O   0  0  0  0  0  0  0  0  0  0  0  0\\n   -5.4212    0.7826   -3.0937 N   0  0  0  0  0  0  0  0  0  0  0  0\\n   -4.2108    0.5653   -2.5145 C   0  0  0  0  0  0  0  0  0  0  0  0\\n   -3.0622    0.7086   -3.2595 C   0  0  0  0  0  0  0  0  0  0  0  0\\n   -1.8432    0.4862   -2.6608 C   0  0  0  0  0  0  0  0  0  0  0  0\\n   -0.6374    0.6255   -3.3992 N   0  0  0  0  0  4  0  0  0  0  0  0\\n   -0.6132    1.4056   -4.3702 O   0  0  0  0  0  0  0  0  0  0  0  0\\n    0.4751   -0.0942   -3.0368 O   0  0  0  0  0  1  0  0  0  0  0  0\\n   -1.7232    0.1230   -1.3356 C   0  0  0  0  0  0  0  0  0  0  0  0\\n   -0.4741   -0.1086   -0.7173 N   0  0  0  0  0  0  0  0  0  0  0  0\\n    0.4811    0.7328   -0.3806 C   0  0  0  0  0  0  0  0  0  0  0  0\\n    1.5430    0.0602    0.2121 C   0  0  0  0  0  0  0  0  0  0  0  0\\n    1.2171   -1.2577    0.2374 C   0  0  0  0  0  0  0  0  0  0  0  0\\n    2.0069   -2.3398    0.7669 C   0  0  0  0  0  0  0  0  0  0  0  0\\n    3.1317   -2.1918    1.3010 N   0  0  0  0  0  0  0  0  0  0  0  0\\n    3.8978   -1.1273    1.5398 O   0  0  0  0  0  0  0  0  0  0  0  0\\n    3.9731   -0.4078    2.7512 C   0  0  0  0  0  0  0  0  0  0  0  0\\n    4.4164   -1.2607    3.8805 C   0  0  0  0  0  0  0  0  0  0  0  0\\n    3.4446   -1.9174    4.5987 C   0  0  0  0  0  0  0  0  0  0  0  0\\n    3.7606   -2.7311    5.6605 C   0  0  0  0  0  0  0  0  0  0  0  0\\n    5.0753   -2.9104    6.0354 C   0  0  0  0  0  0  0  0  0  0  0  0\\n    6.0493   -2.2359    5.2952 C   0  0  0  0  0  0  0  0  0  0  0  0\\n    5.7275   -1.4338    4.2474 C   0  0  0  0  0  0  0  0  0  0  0  0\\n   -0.0512   -1.3296   -0.3519 C   0  0  0  0  0  0  0  0  0  0  0  0\\n   -2.9024   -0.0113   -0.6179 C   0  0  0  0  0  0  0  0  0  0  0  0\\n   -4.1466    0.1976   -1.1628 C   0  0  0  0  0  0  0  0  0  0  0  0\\n  1  2  2  0\\n  2  3  1  0\\n  2  4  1  0\\n  4  5  1  0\\n  5  6  1  0\\n  6  7  1  0\\n  7  8  2  0\\n  7  9  1  0\\n  9 10  2  0\\n  9 11  1  0\\n 11 12  1  0\\n 12 13  2  0\\n 13 14  1  0\\n 14 15  1  0\\n 15 16  2  0\\n 15 17  1  0\\n 14 18  2  0\\n 18 19  1  0\\n 19 20  1  0\\n 20 21  2  0\\n 21 22  1  0\\n 22 23  1  0\\n 23 24  2  3\\n 24 25  1  0\\n 25 26  1  0\\n 26 27  1  0\\n 27 28  2  0\\n 28 29  1  0\\n 29 30  2  0\\n 30 31  1  0\\n 31 32  2  0\\n 22 33  2  0\\n 18 34  1  0\\n 34 35  2  0\\n 35  6  1  0\\n 35 12  1  0\\n 33 19  1  0\\n 32 27  1  0\\nM  CHG  3   3  -1  15   1  17  -1\\nM  END\\n\",\"sdf\");\n",
       "\tviewer_16777813103808172.setStyle({\"stick\": {}});\n",
       "\tviewer_16777813103808172.addModel(\"\\n     RDKit          3D\\n\\n 35 38  0  0  0  0  0  0  0  0999 V2000\\n   -4.9367   -3.9079    1.3997 O   0  0  0  0  0  0  0  0  0  0  0  0\\n   -4.7905   -2.7693    0.7646 C   0  0  0  0  0  0  0  0  0  0  0  0\\n   -3.9025   -2.8636   -0.2733 O   0  0  0  0  0  1  0  0  0  0  0  0\\n   -5.5632   -1.6797    1.2588 C   0  0  0  0  0  0  0  0  0  0  0  0\\n   -5.2837   -0.2738    0.8930 C   0  0  0  0  0  0  0  0  0  0  0  0\\n   -5.3006    0.0577   -0.4933 N   0  0  0  0  0  0  0  0  0  0  0  0\\n   -6.5246    0.2889   -1.0653 C   0  0  0  0  0  0  0  0  0  0  0  0\\n   -7.5800    0.1598   -0.3600 O   0  0  0  0  0  0  0  0  0  0  0  0\\n   -6.5517    0.6511   -2.3814 C   0  0  0  0  0  0  0  0  0  0  0  0\\n   -7.6552    0.8693   -2.9346 O   0  0  0  0  0  0  0  0  0  0  0  0\\n   -5.4064    0.7741   -3.0833 N   0  0  0  0  0  0  0  0  0  0  0  0\\n   -4.2106    0.5491   -2.5238 C   0  0  0  0  0  0  0  0  0  0  0  0\\n   -3.0474    0.6971   -3.2371 C   0  0  0  0  0  0  0  0  0  0  0  0\\n   -1.7841    0.4892   -2.6631 C   0  0  0  0  0  0  0  0  0  0  0  0\\n   -0.6028    0.6507   -3.4234 N   0  0  0  0  0  4  0  0  0  0  0  0\\n   -0.7340    0.4388   -4.6671 O   0  0  0  0  0  0  0  0  0  0  0  0\\n    0.6147    1.0000   -2.9409 O   0  0  0  0  0  1  0  0  0  0  0  0\\n   -1.7108    0.1256   -1.3476 C   0  0  0  0  0  0  0  0  0  0  0  0\\n   -0.4412   -0.1008   -0.7207 N   0  0  0  0  0  0  0  0  0  0  0  0\\n    0.0640    0.5281    0.3601 C   0  0  0  0  0  0  0  0  0  0  0  0\\n    1.2911    0.0462    0.6787 C   0  0  0  0  0  0  0  0  0  0  0  0\\n    1.5918   -0.9486   -0.2503 C   0  0  0  0  0  0  0  0  0  0  0  0\\n    2.8155   -1.7133   -0.2448 C   0  0  0  0  0  0  0  0  0  0  0  0\\n    3.0820   -2.6064   -1.0988 N   0  0  0  0  0  0  0  0  0  0  0  0\\n    2.2168   -2.9136   -2.1039 O   0  0  0  0  0  0  0  0  0  0  0  0\\n    2.6748   -2.5556   -3.4234 C   0  0  0  0  0  0  0  0  0  0  0  0\\n    3.9336   -3.3175   -3.6050 C   0  0  0  0  0  0  0  0  0  0  0  0\\n    3.8910   -4.5616   -4.1775 C   0  0  0  0  0  0  0  0  0  0  0  0\\n    5.0418   -5.3241   -4.3641 C   0  0  0  0  0  0  0  0  0  0  0  0\\n    6.2490   -4.7987   -3.9565 C   0  0  0  0  0  0  0  0  0  0  0  0\\n    6.3037   -3.5506   -3.3808 C   0  0  0  0  0  0  0  0  0  0  0  0\\n    5.1368   -2.8055   -3.2043 C   0  0  0  0  0  0  0  0  0  0  0  0\\n    0.5038   -0.9998   -1.0822 C   0  0  0  0  0  0  0  0  0  0  0  0\\n   -2.8927   -0.0211   -0.6412 C   0  0  0  0  0  0  0  0  0  0  0  0\\n   -4.1499    0.1769   -1.1788 C   0  0  0  0  0  0  0  0  0  0  0  0\\n  1  2  2  0\\n  2  3  1  0\\n  2  4  1  0\\n  4  5  1  0\\n  5  6  1  0\\n  6  7  1  0\\n  7  8  2  0\\n  7  9  1  0\\n  9 10  2  0\\n  9 11  1  0\\n 11 12  1  0\\n 12 13  2  0\\n 13 14  1  0\\n 14 15  1  0\\n 15 16  2  0\\n 15 17  1  0\\n 14 18  2  0\\n 18 19  1  0\\n 19 20  1  0\\n 20 21  2  0\\n 21 22  1  0\\n 22 23  1  0\\n 23 24  2  3\\n 24 25  1  0\\n 25 26  1  0\\n 26 27  1  0\\n 27 28  2  0\\n 28 29  1  0\\n 29 30  2  0\\n 30 31  1  0\\n 31 32  2  0\\n 22 33  2  0\\n 18 34  1  0\\n 34 35  2  0\\n 35  6  1  0\\n 35 12  1  0\\n 33 19  1  0\\n 32 27  1  0\\nM  CHG  3   3  -1  15   1  17  -1\\nM  END\\n\",\"sdf\");\n",
       "\tviewer_16777813103808172.setStyle({\"stick\": {}});\n",
       "\tviewer_16777813103808172.setStyle({\"model\": 0},{\"stick\": {\"colorscheme\": \"cyanCarbon\"}});\n",
       "\tviewer_16777813103808172.setStyle({\"model\": 1},{\"stick\": {\"colorscheme\": \"redCarbon\"}});\n",
       "\tviewer_16777813103808172.setStyle({\"model\": 2},{\"stick\": {\"colorscheme\": \"blueCarbon\"}});\n",
       "\tviewer_16777813103808172.setStyle({\"model\": 3},{\"stick\": {\"colorscheme\": \"magentaCarbon\"}});\n",
       "\tviewer_16777813103808172.setStyle({\"model\": 4},{\"stick\": {\"colorscheme\": \"whiteCarbon\"}});\n",
       "\tviewer_16777813103808172.zoomTo();\n",
       "viewer_16777813103808172.render();\n",
       "});\n",
       "</script>"
      ]
     },
     "metadata": {},
     "output_type": "display_data"
    }
   ],
   "source": [
    "centroids = [x[0] for x in clusts]\n",
    "drawit(m3d,centroids[:5])"
   ]
  },
  {
   "cell_type": "code",
   "execution_count": null,
   "id": "470da2e6",
   "metadata": {},
   "outputs": [],
   "source": []
  }
 ],
 "metadata": {
  "kernelspec": {
   "display_name": "Python 3",
   "language": "python",
   "name": "python3"
  },
  "language_info": {
   "codemirror_mode": {
    "name": "ipython",
    "version": 3
   },
   "file_extension": ".py",
   "mimetype": "text/x-python",
   "name": "python",
   "nbconvert_exporter": "python",
   "pygments_lexer": "ipython3",
   "version": "3.9.9"
  },
  "toc": {
   "base_numbering": 1,
   "nav_menu": {},
   "number_sections": true,
   "sideBar": true,
   "skip_h1_title": false,
   "title_cell": "Table of Contents",
   "title_sidebar": "Contents",
   "toc_cell": false,
   "toc_position": {},
   "toc_section_display": true,
   "toc_window_display": false
  }
 },
 "nbformat": 4,
 "nbformat_minor": 5
}
