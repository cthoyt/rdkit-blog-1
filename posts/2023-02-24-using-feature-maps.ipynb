{
 "cells": [
  {
   "cell_type": "raw",
   "metadata": {},
   "source": [
    "---\n",
    "badges: true\n",
    "categories:\n",
    "- tutorial\n",
    "- 3d\n",
    "date: '2023-02-24'\n",
    "title: Using Feature Maps\n",
    "description: A useful tool for working with collections of chemical features.\n",
    "image: images/blog/using-feature-maps-1.png\n",
    "toc: true\n",
    "\n",
    "---"
   ]
  },
  {
   "cell_type": "markdown",
   "metadata": {},
   "source": [
    "This is a revised and updated version of an [older post](http://rdkit.blogspot.com/2017/11/using-feature-maps.html).\n",
    "\n",
    "This post provides a short demonstration of how to use the RDKit's feature map implementation to score aligned 3D conformations against each other based on the overlap of their pharmacophoric features.\n",
    "The idea of the feature map is not a new one and there are numerous publications on the topic. These two come closest to describing the RDKit implementation:\n",
    "\n",
    "1. Putta, S., Landrum, G. A. & Penzotti, J. E. \"Conformation mining: An algorithm for finding biologically relevant conformations.\" *J. Med. Chem.* **48**, 3313–3318 (2005).\n",
    "http://pubs.acs.org/doi/abs/10.1021/jm049066l\n",
    "2. Landrum, G. A., Penzotti, J. E. & Putta, S. \"Feature-map vectors: a new class of informative descriptors for computational drug discovery.\" *J. Comput. Aided. Mol. Des.* **20**, 751–762 (2007).\n",
    "https://link.springer.com/article/10.1007/s10822-006-9085-8\n"
   ]
  },
  {
   "cell_type": "code",
   "execution_count": 1,
   "metadata": {
    "ExecuteTime": {
     "end_time": "2023-02-24T08:44:30.011994Z",
     "start_time": "2023-02-24T08:44:29.922201Z"
    }
   },
   "outputs": [
    {
     "name": "stdout",
     "output_type": "stream",
     "text": [
      "Fri Feb 24 09:44:30 2023\n",
      "2022.09.4\n"
     ]
    }
   ],
   "source": [
    "from rdkit.Chem import AllChem\n",
    "from rdkit import Chem\n",
    "from rdkit.Chem.Draw import IPythonConsole\n",
    "IPythonConsole.ipython_3d = True\n",
    "from rdkit.Chem import Draw\n",
    "import time\n",
    "print(time.asctime())\n",
    "from rdkit import rdBase\n",
    "print(rdBase.rdkitVersion)"
   ]
  },
  {
   "cell_type": "markdown",
   "metadata": {},
   "source": [
    "For this post we'll use a set of three 5HT-3 ligands."
   ]
  },
  {
   "cell_type": "code",
   "execution_count": 2,
   "metadata": {
    "ExecuteTime": {
     "end_time": "2023-02-24T08:44:30.025797Z",
     "start_time": "2023-02-24T08:44:30.012866Z"
    }
   },
   "outputs": [
    {
     "data": {
      "image/png": "[encoded data removed]",
      "text/plain": [
       "<IPython.core.display.Image object>"
      ]
     },
     "execution_count": 2,
     "metadata": {},
     "output_type": "execute_result"
    }
   ],
   "source": [
    "smis = ['CC(OC(=O)c1c[nH]c2ccccc12)C1CCCCN1C',\n",
    " 'CN1CCOc2c(C(=O)NC3CC4CCC(C3)N4C)cc(Cl)cc21',\n",
    " 'CN1CC2CCC1CC2n1nnc2ccc(Cl)cc2c1=O']\n",
    "ms = [Chem.MolFromSmiles(x) for x in smis]\n",
    "Draw.MolsToGridImage(ms)"
   ]
  },
  {
   "cell_type": "markdown",
   "metadata": {},
   "source": [
    "Start by generating a conformation for each:"
   ]
  },
  {
   "cell_type": "code",
   "execution_count": 3,
   "metadata": {
    "ExecuteTime": {
     "end_time": "2023-02-24T08:44:30.222184Z",
     "start_time": "2023-02-24T08:44:30.026758Z"
    }
   },
   "outputs": [],
   "source": [
    "ms = [Chem.AddHs(m) for m in ms]\n",
    "ps = AllChem.ETKDGv3()\n",
    "ps.randomSeed = 0xf00d  # we seed the RNG so that this is reproducible\n",
    "for m in ms:\n",
    "    AllChem.EmbedMolecule(m,ps)"
   ]
  },
  {
   "cell_type": "markdown",
   "metadata": {},
   "source": [
    "To get sensible scores for the feature maps, we need to start from aligned structures. For this example we'll just use the RDKit's Open3D Align implementation:"
   ]
  },
  {
   "cell_type": "code",
   "execution_count": 4,
   "metadata": {
    "ExecuteTime": {
     "end_time": "2023-02-24T08:44:30.240878Z",
     "start_time": "2023-02-24T08:44:30.223286Z"
    }
   },
   "outputs": [
    {
     "data": {
      "text/plain": [
       "0.2892771161742461"
      ]
     },
     "execution_count": 4,
     "metadata": {},
     "output_type": "execute_result"
    }
   ],
   "source": [
    "from rdkit.Chem import rdMolAlign\n",
    "o3d = rdMolAlign.GetO3A(ms[1],ms[0])\n",
    "o3d.Align()"
   ]
  },
  {
   "cell_type": "code",
   "execution_count": 5,
   "metadata": {
    "ExecuteTime": {
     "end_time": "2023-02-24T08:44:30.323227Z",
     "start_time": "2023-02-24T08:44:30.241696Z"
    }
   },
   "outputs": [
    {
     "data": {
      "text/plain": [
       "0.5564120832536971"
      ]
     },
     "execution_count": 5,
     "metadata": {},
     "output_type": "execute_result"
    }
   ],
   "source": [
    "o3d = rdMolAlign.GetO3A(ms[2],ms[0])\n",
    "o3d.Align()"
   ]
  },
  {
   "cell_type": "code",
   "execution_count": 6,
   "metadata": {
    "ExecuteTime": {
     "end_time": "2023-02-24T08:44:30.394260Z",
     "start_time": "2023-02-24T08:44:30.323955Z"
    }
   },
   "outputs": [],
   "source": [
    "import py3Dmol\n",
    "def drawit(ms, p=None, confId=-1, removeHs=True,colors=('cyanCarbon','redCarbon','blueCarbon')):\n",
    "        if p is None:\n",
    "            p = py3Dmol.view(width=400, height=400)\n",
    "        p.removeAllModels()\n",
    "        for i,m in enumerate(ms):\n",
    "            if removeHs:\n",
    "                m = Chem.RemoveHs(m)\n",
    "            IPythonConsole.addMolToView(m,p,confId=confId)\n",
    "        for i,m in enumerate(ms):\n",
    "            p.setStyle({'model':i,},\n",
    "                            {'stick':{'colorscheme':colors[i%len(colors)]}})\n",
    "        p.zoomTo()\n",
    "        return p.show()"
   ]
  },
  {
   "cell_type": "code",
   "execution_count": 7,
   "metadata": {
    "ExecuteTime": {
     "end_time": "2023-02-24T08:44:30.505393Z",
     "start_time": "2023-02-24T08:44:30.398512Z"
    }
   },
   "outputs": [
    {
     "data": {
      "application/3dmoljs_load.v0": "<div id=\"3dmolviewer_16772282704996767\"  style=\"position: relative; width: 400px; height: 400px\">\n        <p id=\"3dmolwarning_16772282704996767\" style=\"background-color:#ffcccc;color:black\">You appear to be running in JupyterLab (or JavaScript failed to load for some other reason).  You need to install the 3dmol extension: <br>\n        <tt>jupyter labextension install jupyterlab_3dmol</tt></p>\n        </div>\n<script>\n\nvar loadScriptAsync = function(uri){\n  return new Promise((resolve, reject) => {\n    //this is to ignore the existence of requirejs amd\n    var savedexports, savedmodule;\n    if (typeof exports !== 'undefined') savedexports = exports;\n    else exports = {}\n    if (typeof module !== 'undefined') savedmodule = module;\n    else module = {}\n\n    var tag = document.createElement('script');\n    tag.src = uri;\n    tag.async = true;\n    tag.onload = () => {\n        exports = savedexports;\n        module = savedmodule;\n        resolve();\n    };\n  var firstScriptTag = document.getElementsByTagName('script')[0];\n  firstScriptTag.parentNode.insertBefore(tag, firstScriptTag);\n});\n};\n\nif(typeof $3Dmolpromise === 'undefined') {\n$3Dmolpromise = null;\n  $3Dmolpromise = loadScriptAsync('https://cdn.jsdelivr.net/npm/3dmol@latest/build/3Dmol-min.min.js');\n}\n\nvar viewer_16772282704996767 = null;\nvar warn = document.getElementById(\"3dmolwarning_16772282704996767\");\nif(warn) {\n    warn.parentNode.removeChild(warn);\n}\n$3Dmolpromise.then(function() {\nviewer_16772282704996767 = $3Dmol.createViewer(document.getElementById(\"3dmolviewer_16772282704996767\"),{backgroundColor:\"white\"});\nviewer_16772282704996767.zoomTo();\n\tviewer_16772282704996767.removeAllModels();\n\tviewer_16772282704996767.addModel(\"\\n     RDKit          3D\\n\\n 21 23  0  0  0  0  0  0  0  0999 V2000\\n   -1.7517   -1.1720   -2.1292 C   0  0  0  0  0  0  0  0  0  0  0  0\\n   -1.0891   -0.1338   -1.2821 C   0  0  0  0  0  0  0  0  0  0  0  0\\n    0.1046   -0.5942   -0.6815 O   0  0  0  0  0  0  0  0  0  0  0  0\\n    1.3526   -0.1011   -0.9261 C   0  0  0  0  0  0  0  0  0  0  0  0\\n    1.4889    0.8292   -1.7374 O   0  0  0  0  0  0  0  0  0  0  0  0\\n    2.4914   -0.6788   -0.2293 C   0  0  0  0  0  0  0  0  0  0  0  0\\n    2.4807   -1.7076    0.6896 C   0  0  0  0  0  0  0  0  0  0  0  0\\n    3.7031   -1.9796    1.1257 N   0  0  0  0  0  0  0  0  0  0  0  0\\n    4.5367   -1.1170    0.4852 C   0  0  0  0  0  0  0  0  0  0  0  0\\n    5.9062   -0.9768    0.5755 C   0  0  0  0  0  0  0  0  0  0  0  0\\n    6.5566   -0.0069   -0.1902 C   0  0  0  0  0  0  0  0  0  0  0  0\\n    5.8470    0.8163   -1.0387 C   0  0  0  0  0  0  0  0  0  0  0  0\\n    4.4789    0.6624   -1.1165 C   0  0  0  0  0  0  0  0  0  0  0  0\\n    3.8163   -0.3051   -0.3549 C   0  0  0  0  0  0  0  0  0  0  0  0\\n   -1.9923    0.5031   -0.2670 C   0  0  0  0  0  0  0  0  0  0  0  0\\n   -3.1849    1.1816   -0.8998 C   0  0  0  0  0  0  0  0  0  0  0  0\\n   -3.7780    2.1002    0.1429 C   0  0  0  0  0  0  0  0  0  0  0  0\\n   -3.9585    1.4632    1.4792 C   0  0  0  0  0  0  0  0  0  0  0  0\\n   -2.8102    0.5794    1.9024 C   0  0  0  0  0  0  0  0  0  0  0  0\\n   -2.4152   -0.3181    0.7979 N   0  0  0  0  0  0  0  0  0  0  0  0\\n   -3.5375   -1.1597    0.5636 C   0  0  0  0  0  0  0  0  0  0  0  0\\n  1  2  1  0\\n  2  3  1  0\\n  3  4  1  0\\n  4  5  2  0\\n  4  6  1  0\\n  6  7  2  0\\n  7  8  1  0\\n  8  9  1  0\\n  9 10  2  0\\n 10 11  1  0\\n 11 12  2  0\\n 12 13  1  0\\n 13 14  2  0\\n  2 15  1  0\\n 15 16  1  0\\n 16 17  1  0\\n 17 18  1  0\\n 18 19  1  0\\n 19 20  1  0\\n 20 21  1  0\\n 14  6  1  0\\n 20 15  1  0\\n 14  9  1  0\\nM  END\\n\",\"sdf\");\n\tviewer_16772282704996767.setStyle({\"stick\": {}});\n\tviewer_16772282704996767.addModel(\"\\n     RDKit          3D\\n\\n 24 27  0  0  0  0  0  0  0  0999 V2000\\n    5.0325   -3.8374    2.6234 C   0  0  0  0  0  0  0  0  0  0  0  0\\n    3.7944   -3.2238    2.1889 N   0  0  0  0  0  0  0  0  0  0  0  0\\n    2.5490   -3.7225    2.7371 C   0  0  0  0  0  0  0  0  0  0  0  0\\n    1.3849   -2.8334    2.3990 C   0  0  0  0  0  0  0  0  0  0  0  0\\n    1.4545   -2.3373    1.0770 O   0  0  0  0  0  0  0  0  0  0  0  0\\n    2.5976   -1.6923    0.6716 C   0  0  0  0  0  0  0  0  0  0  0  0\\n    2.5398   -0.6644   -0.2417 C   0  0  0  0  0  0  0  0  0  0  0  0\\n    1.3381   -0.1530   -0.8620 C   0  0  0  0  0  0  0  0  0  0  0  0\\n    1.4697    0.8127   -1.6939 O   0  0  0  0  0  0  0  0  0  0  0  0\\n    0.0241   -0.5915   -0.6617 N   0  0  0  0  0  0  0  0  0  0  0  0\\n   -1.1070    0.0323   -1.3710 C   0  0  0  0  0  0  0  0  0  0  0  0\\n   -2.0263    0.7001   -0.3754 C   0  0  0  0  0  0  0  0  0  0  0  0\\n   -3.3332    1.0021   -1.0541 C   0  0  0  0  0  0  0  0  0  0  0  0\\n   -3.1253    1.6978   -2.3886 C   0  0  0  0  0  0  0  0  0  0  0  0\\n   -3.2536    0.5968   -3.4181 C   0  0  0  0  0  0  0  0  0  0  0  0\\n   -3.1990   -0.6537   -2.5771 C   0  0  0  0  0  0  0  0  0  0  0  0\\n   -1.7843   -1.0173   -2.1879 C   0  0  0  0  0  0  0  0  0  0  0  0\\n   -3.9476   -0.2706   -1.3977 N   0  0  0  0  0  0  0  0  0  0  0  0\\n   -5.3516   -0.0896   -1.7734 C   0  0  0  0  0  0  0  0  0  0  0  0\\n    3.7681   -0.0845   -0.5785 C   0  0  0  0  0  0  0  0  0  0  0  0\\n    4.9452   -0.5323   -0.0175 C   0  0  0  0  0  0  0  0  0  0  0  0\\n    6.4474    0.2320   -0.4779 Cl  0  0  0  0  0  0  0  0  0  0  0  0\\n    4.9726   -1.5636    0.8946 C   0  0  0  0  0  0  0  0  0  0  0  0\\n    3.7804   -2.1541    1.2458 C   0  0  0  0  0  0  0  0  0  0  0  0\\n  1  2  1  0\\n  2  3  1  0\\n  3  4  1  0\\n  4  5  1  0\\n  5  6  1  0\\n  6  7  2  0\\n  7  8  1  0\\n  8  9  2  0\\n  8 10  1  0\\n 10 11  1  0\\n 11 12  1  0\\n 12 13  1  0\\n 13 14  1  0\\n 14 15  1  0\\n 15 16  1  0\\n 16 17  1  0\\n 16 18  1  0\\n 18 19  1  0\\n  7 20  1  0\\n 20 21  2  0\\n 21 22  1  0\\n 21 23  1  0\\n 23 24  2  0\\n 24  2  1  0\\n 24  6  1  0\\n 17 11  1  0\\n 18 13  1  0\\nM  END\\n\",\"sdf\");\n\tviewer_16772282704996767.setStyle({\"stick\": {}});\n\tviewer_16772282704996767.addModel(\"\\n     RDKit          3D\\n\\n 21 24  0  0  0  0  0  0  0  0999 V2000\\n   -3.8307   -1.0120    0.5984 C   0  0  0  0  0  0  0  0  0  0  0  0\\n   -2.4455   -0.6326    0.7254 N   0  0  0  0  0  0  0  0  0  0  0  0\\n   -1.8823   -0.1584   -0.5004 C   0  0  0  0  0  0  0  0  0  0  0  0\\n   -0.4146   -0.5134   -0.6505 C   0  0  0  0  0  0  0  0  0  0  0  0\\n   -0.3308   -2.0247   -0.8724 C   0  0  0  0  0  0  0  0  0  0  0  0\\n   -1.3355   -2.6516    0.0714 C   0  0  0  0  0  0  0  0  0  0  0  0\\n   -1.6252   -1.7212    1.2209 C   0  0  0  0  0  0  0  0  0  0  0  0\\n   -0.3257   -1.1045    1.7084 C   0  0  0  0  0  0  0  0  0  0  0  0\\n    0.2624   -0.1734    0.6476 C   0  0  0  0  0  0  0  0  0  0  0  0\\n    1.6959   -0.4084    0.5989 N   0  0  0  0  0  0  0  0  0  0  0  0\\n    2.2824   -1.2818    1.4055 N   0  0  0  0  0  0  0  0  0  0  0  0\\n    3.5820   -1.5233    1.3917 N   0  0  0  0  0  0  0  0  0  0  0  0\\n    4.4001   -0.8814    0.5388 C   0  0  0  0  0  0  0  0  0  0  0  0\\n    5.7544   -1.1060    0.4956 C   0  0  0  0  0  0  0  0  0  0  0  0\\n    6.5096   -0.4056   -0.4064 C   0  0  0  0  0  0  0  0  0  0  0  0\\n    5.9629    0.5247   -1.2816 C   0  0  0  0  0  0  0  0  0  0  0  0\\n    6.9935    1.3900   -2.4161 Cl  0  0  0  0  0  0  0  0  0  0  0  0\\n    4.6034    0.7487   -1.2367 C   0  0  0  0  0  0  0  0  0  0  0  0\\n    3.8311    0.0491   -0.3320 C   0  0  0  0  0  0  0  0  0  0  0  0\\n    2.4696    0.2639   -0.2770 C   0  0  0  0  0  0  0  0  0  0  0  0\\n    1.9931    1.1100   -1.0774 O   0  0  0  0  0  0  0  0  0  0  0  0\\n  1  2  1  0\\n  2  3  1  0\\n  3  4  1  0\\n  4  5  1  0\\n  5  6  1  0\\n  6  7  1  0\\n  7  8  1  0\\n  8  9  1  0\\n  9 10  1  0\\n 10 11  1  0\\n 11 12  2  0\\n 12 13  1  0\\n 13 14  2  0\\n 14 15  1  0\\n 15 16  2  0\\n 16 17  1  0\\n 16 18  1  0\\n 18 19  2  0\\n 19 20  1  0\\n 20 21  2  0\\n  7  2  1  0\\n 20 10  1  0\\n  9  4  1  0\\n 19 13  1  0\\nM  END\\n\",\"sdf\");\n\tviewer_16772282704996767.setStyle({\"stick\": {}});\n\tviewer_16772282704996767.setStyle({\"model\": 0},{\"stick\": {\"colorscheme\": \"cyanCarbon\"}});\n\tviewer_16772282704996767.setStyle({\"model\": 1},{\"stick\": {\"colorscheme\": \"redCarbon\"}});\n\tviewer_16772282704996767.setStyle({\"model\": 2},{\"stick\": {\"colorscheme\": \"blueCarbon\"}});\n\tviewer_16772282704996767.zoomTo();\nviewer_16772282704996767.render();\n});\n</script>",
      "text/html": [
       "<div id=\"3dmolviewer_16772282704996767\"  style=\"position: relative; width: 400px; height: 400px\">\n",
       "        <p id=\"3dmolwarning_16772282704996767\" style=\"background-color:#ffcccc;color:black\">You appear to be running in JupyterLab (or JavaScript failed to load for some other reason).  You need to install the 3dmol extension: <br>\n",
       "        <tt>jupyter labextension install jupyterlab_3dmol</tt></p>\n",
       "        </div>\n",
       "<script>\n",
       "\n",
       "var loadScriptAsync = function(uri){\n",
       "  return new Promise((resolve, reject) => {\n",
       "    //this is to ignore the existence of requirejs amd\n",
       "    var savedexports, savedmodule;\n",
       "    if (typeof exports !== 'undefined') savedexports = exports;\n",
       "    else exports = {}\n",
       "    if (typeof module !== 'undefined') savedmodule = module;\n",
       "    else module = {}\n",
       "\n",
       "    var tag = document.createElement('script');\n",
       "    tag.src = uri;\n",
       "    tag.async = true;\n",
       "    tag.onload = () => {\n",
       "        exports = savedexports;\n",
       "        module = savedmodule;\n",
       "        resolve();\n",
       "    };\n",
       "  var firstScriptTag = document.getElementsByTagName('script')[0];\n",
       "  firstScriptTag.parentNode.insertBefore(tag, firstScriptTag);\n",
       "});\n",
       "};\n",
       "\n",
       "if(typeof $3Dmolpromise === 'undefined') {\n",
       "$3Dmolpromise = null;\n",
       "  $3Dmolpromise = loadScriptAsync('https://cdn.jsdelivr.net/npm/3dmol@latest/build/3Dmol-min.min.js');\n",
       "}\n",
       "\n",
       "var viewer_16772282704996767 = null;\n",
       "var warn = document.getElementById(\"3dmolwarning_16772282704996767\");\n",
       "if(warn) {\n",
       "    warn.parentNode.removeChild(warn);\n",
       "}\n",
       "$3Dmolpromise.then(function() {\n",
       "viewer_16772282704996767 = $3Dmol.createViewer(document.getElementById(\"3dmolviewer_16772282704996767\"),{backgroundColor:\"white\"});\n",
       "viewer_16772282704996767.zoomTo();\n",
       "\tviewer_16772282704996767.removeAllModels();\n",
       "\tviewer_16772282704996767.addModel(\"\\n     RDKit          3D\\n\\n 21 23  0  0  0  0  0  0  0  0999 V2000\\n   -1.7517   -1.1720   -2.1292 C   0  0  0  0  0  0  0  0  0  0  0  0\\n   -1.0891   -0.1338   -1.2821 C   0  0  0  0  0  0  0  0  0  0  0  0\\n    0.1046   -0.5942   -0.6815 O   0  0  0  0  0  0  0  0  0  0  0  0\\n    1.3526   -0.1011   -0.9261 C   0  0  0  0  0  0  0  0  0  0  0  0\\n    1.4889    0.8292   -1.7374 O   0  0  0  0  0  0  0  0  0  0  0  0\\n    2.4914   -0.6788   -0.2293 C   0  0  0  0  0  0  0  0  0  0  0  0\\n    2.4807   -1.7076    0.6896 C   0  0  0  0  0  0  0  0  0  0  0  0\\n    3.7031   -1.9796    1.1257 N   0  0  0  0  0  0  0  0  0  0  0  0\\n    4.5367   -1.1170    0.4852 C   0  0  0  0  0  0  0  0  0  0  0  0\\n    5.9062   -0.9768    0.5755 C   0  0  0  0  0  0  0  0  0  0  0  0\\n    6.5566   -0.0069   -0.1902 C   0  0  0  0  0  0  0  0  0  0  0  0\\n    5.8470    0.8163   -1.0387 C   0  0  0  0  0  0  0  0  0  0  0  0\\n    4.4789    0.6624   -1.1165 C   0  0  0  0  0  0  0  0  0  0  0  0\\n    3.8163   -0.3051   -0.3549 C   0  0  0  0  0  0  0  0  0  0  0  0\\n   -1.9923    0.5031   -0.2670 C   0  0  0  0  0  0  0  0  0  0  0  0\\n   -3.1849    1.1816   -0.8998 C   0  0  0  0  0  0  0  0  0  0  0  0\\n   -3.7780    2.1002    0.1429 C   0  0  0  0  0  0  0  0  0  0  0  0\\n   -3.9585    1.4632    1.4792 C   0  0  0  0  0  0  0  0  0  0  0  0\\n   -2.8102    0.5794    1.9024 C   0  0  0  0  0  0  0  0  0  0  0  0\\n   -2.4152   -0.3181    0.7979 N   0  0  0  0  0  0  0  0  0  0  0  0\\n   -3.5375   -1.1597    0.5636 C   0  0  0  0  0  0  0  0  0  0  0  0\\n  1  2  1  0\\n  2  3  1  0\\n  3  4  1  0\\n  4  5  2  0\\n  4  6  1  0\\n  6  7  2  0\\n  7  8  1  0\\n  8  9  1  0\\n  9 10  2  0\\n 10 11  1  0\\n 11 12  2  0\\n 12 13  1  0\\n 13 14  2  0\\n  2 15  1  0\\n 15 16  1  0\\n 16 17  1  0\\n 17 18  1  0\\n 18 19  1  0\\n 19 20  1  0\\n 20 21  1  0\\n 14  6  1  0\\n 20 15  1  0\\n 14  9  1  0\\nM  END\\n\",\"sdf\");\n",
       "\tviewer_16772282704996767.setStyle({\"stick\": {}});\n",
       "\tviewer_16772282704996767.addModel(\"\\n     RDKit          3D\\n\\n 24 27  0  0  0  0  0  0  0  0999 V2000\\n    5.0325   -3.8374    2.6234 C   0  0  0  0  0  0  0  0  0  0  0  0\\n    3.7944   -3.2238    2.1889 N   0  0  0  0  0  0  0  0  0  0  0  0\\n    2.5490   -3.7225    2.7371 C   0  0  0  0  0  0  0  0  0  0  0  0\\n    1.3849   -2.8334    2.3990 C   0  0  0  0  0  0  0  0  0  0  0  0\\n    1.4545   -2.3373    1.0770 O   0  0  0  0  0  0  0  0  0  0  0  0\\n    2.5976   -1.6923    0.6716 C   0  0  0  0  0  0  0  0  0  0  0  0\\n    2.5398   -0.6644   -0.2417 C   0  0  0  0  0  0  0  0  0  0  0  0\\n    1.3381   -0.1530   -0.8620 C   0  0  0  0  0  0  0  0  0  0  0  0\\n    1.4697    0.8127   -1.6939 O   0  0  0  0  0  0  0  0  0  0  0  0\\n    0.0241   -0.5915   -0.6617 N   0  0  0  0  0  0  0  0  0  0  0  0\\n   -1.1070    0.0323   -1.3710 C   0  0  0  0  0  0  0  0  0  0  0  0\\n   -2.0263    0.7001   -0.3754 C   0  0  0  0  0  0  0  0  0  0  0  0\\n   -3.3332    1.0021   -1.0541 C   0  0  0  0  0  0  0  0  0  0  0  0\\n   -3.1253    1.6978   -2.3886 C   0  0  0  0  0  0  0  0  0  0  0  0\\n   -3.2536    0.5968   -3.4181 C   0  0  0  0  0  0  0  0  0  0  0  0\\n   -3.1990   -0.6537   -2.5771 C   0  0  0  0  0  0  0  0  0  0  0  0\\n   -1.7843   -1.0173   -2.1879 C   0  0  0  0  0  0  0  0  0  0  0  0\\n   -3.9476   -0.2706   -1.3977 N   0  0  0  0  0  0  0  0  0  0  0  0\\n   -5.3516   -0.0896   -1.7734 C   0  0  0  0  0  0  0  0  0  0  0  0\\n    3.7681   -0.0845   -0.5785 C   0  0  0  0  0  0  0  0  0  0  0  0\\n    4.9452   -0.5323   -0.0175 C   0  0  0  0  0  0  0  0  0  0  0  0\\n    6.4474    0.2320   -0.4779 Cl  0  0  0  0  0  0  0  0  0  0  0  0\\n    4.9726   -1.5636    0.8946 C   0  0  0  0  0  0  0  0  0  0  0  0\\n    3.7804   -2.1541    1.2458 C   0  0  0  0  0  0  0  0  0  0  0  0\\n  1  2  1  0\\n  2  3  1  0\\n  3  4  1  0\\n  4  5  1  0\\n  5  6  1  0\\n  6  7  2  0\\n  7  8  1  0\\n  8  9  2  0\\n  8 10  1  0\\n 10 11  1  0\\n 11 12  1  0\\n 12 13  1  0\\n 13 14  1  0\\n 14 15  1  0\\n 15 16  1  0\\n 16 17  1  0\\n 16 18  1  0\\n 18 19  1  0\\n  7 20  1  0\\n 20 21  2  0\\n 21 22  1  0\\n 21 23  1  0\\n 23 24  2  0\\n 24  2  1  0\\n 24  6  1  0\\n 17 11  1  0\\n 18 13  1  0\\nM  END\\n\",\"sdf\");\n",
       "\tviewer_16772282704996767.setStyle({\"stick\": {}});\n",
       "\tviewer_16772282704996767.addModel(\"\\n     RDKit          3D\\n\\n 21 24  0  0  0  0  0  0  0  0999 V2000\\n   -3.8307   -1.0120    0.5984 C   0  0  0  0  0  0  0  0  0  0  0  0\\n   -2.4455   -0.6326    0.7254 N   0  0  0  0  0  0  0  0  0  0  0  0\\n   -1.8823   -0.1584   -0.5004 C   0  0  0  0  0  0  0  0  0  0  0  0\\n   -0.4146   -0.5134   -0.6505 C   0  0  0  0  0  0  0  0  0  0  0  0\\n   -0.3308   -2.0247   -0.8724 C   0  0  0  0  0  0  0  0  0  0  0  0\\n   -1.3355   -2.6516    0.0714 C   0  0  0  0  0  0  0  0  0  0  0  0\\n   -1.6252   -1.7212    1.2209 C   0  0  0  0  0  0  0  0  0  0  0  0\\n   -0.3257   -1.1045    1.7084 C   0  0  0  0  0  0  0  0  0  0  0  0\\n    0.2624   -0.1734    0.6476 C   0  0  0  0  0  0  0  0  0  0  0  0\\n    1.6959   -0.4084    0.5989 N   0  0  0  0  0  0  0  0  0  0  0  0\\n    2.2824   -1.2818    1.4055 N   0  0  0  0  0  0  0  0  0  0  0  0\\n    3.5820   -1.5233    1.3917 N   0  0  0  0  0  0  0  0  0  0  0  0\\n    4.4001   -0.8814    0.5388 C   0  0  0  0  0  0  0  0  0  0  0  0\\n    5.7544   -1.1060    0.4956 C   0  0  0  0  0  0  0  0  0  0  0  0\\n    6.5096   -0.4056   -0.4064 C   0  0  0  0  0  0  0  0  0  0  0  0\\n    5.9629    0.5247   -1.2816 C   0  0  0  0  0  0  0  0  0  0  0  0\\n    6.9935    1.3900   -2.4161 Cl  0  0  0  0  0  0  0  0  0  0  0  0\\n    4.6034    0.7487   -1.2367 C   0  0  0  0  0  0  0  0  0  0  0  0\\n    3.8311    0.0491   -0.3320 C   0  0  0  0  0  0  0  0  0  0  0  0\\n    2.4696    0.2639   -0.2770 C   0  0  0  0  0  0  0  0  0  0  0  0\\n    1.9931    1.1100   -1.0774 O   0  0  0  0  0  0  0  0  0  0  0  0\\n  1  2  1  0\\n  2  3  1  0\\n  3  4  1  0\\n  4  5  1  0\\n  5  6  1  0\\n  6  7  1  0\\n  7  8  1  0\\n  8  9  1  0\\n  9 10  1  0\\n 10 11  1  0\\n 11 12  2  0\\n 12 13  1  0\\n 13 14  2  0\\n 14 15  1  0\\n 15 16  2  0\\n 16 17  1  0\\n 16 18  1  0\\n 18 19  2  0\\n 19 20  1  0\\n 20 21  2  0\\n  7  2  1  0\\n 20 10  1  0\\n  9  4  1  0\\n 19 13  1  0\\nM  END\\n\",\"sdf\");\n",
       "\tviewer_16772282704996767.setStyle({\"stick\": {}});\n",
       "\tviewer_16772282704996767.setStyle({\"model\": 0},{\"stick\": {\"colorscheme\": \"cyanCarbon\"}});\n",
       "\tviewer_16772282704996767.setStyle({\"model\": 1},{\"stick\": {\"colorscheme\": \"redCarbon\"}});\n",
       "\tviewer_16772282704996767.setStyle({\"model\": 2},{\"stick\": {\"colorscheme\": \"blueCarbon\"}});\n",
       "\tviewer_16772282704996767.zoomTo();\n",
       "viewer_16772282704996767.render();\n",
       "});\n",
       "</script>"
      ]
     },
     "metadata": {},
     "output_type": "display_data"
    }
   ],
   "source": [
    "drawit(ms)"
   ]
  },
  {
   "cell_type": "markdown",
   "metadata": {},
   "source": [
    "Now let's build a feature map.\n",
    "\n",
    "We need to start by building a `FeatureFactory` object which defines the set of pharmacophore features being used. We'll use this to find features on the molecules."
   ]
  },
  {
   "cell_type": "code",
   "execution_count": 8,
   "metadata": {
    "ExecuteTime": {
     "end_time": "2023-02-24T08:44:30.613333Z",
     "start_time": "2023-02-24T08:44:30.512752Z"
    }
   },
   "outputs": [
    {
     "name": "stdout",
     "output_type": "stream",
     "text": [
      "('Donor', 'Acceptor', 'NegIonizable', 'PosIonizable', 'ZnBinder', 'Aromatic', 'Hydrophobe', 'LumpedHydrophobe')\n"
     ]
    }
   ],
   "source": [
    "import os\n",
    "from rdkit import RDConfig\n",
    "from rdkit.Chem.FeatMaps import FeatMaps\n",
    "fdef = AllChem.BuildFeatureFactory(os.path.join(RDConfig.RDDataDir,'BaseFeatures.fdef'))\n",
    "print(fdef.GetFeatureFamilies())"
   ]
  },
  {
   "cell_type": "markdown",
   "metadata": {},
   "source": [
    "We also need the parameters for the points used to make up the feature map.\n",
    "The feature points are defined by\n",
    "  - a `FeatProfile` - `Gaussian`, `Triangle`, or `Box`. `Gaussian` is the default.\n",
    "  - a width - the precise meaning is determined by the profile, but this is the `sigma` factor for the `Gaussian`. The default value is 1.0.\n",
    "  - a cutoff radius - Feature-feature overlaps at a distance longer than this will not be considered. The default is 2.5.\n",
    "\n",
    "Here we'll take the defaults."
   ]
  },
  {
   "cell_type": "code",
   "execution_count": 9,
   "metadata": {
    "ExecuteTime": {
     "end_time": "2023-02-24T08:44:30.666727Z",
     "start_time": "2023-02-24T08:44:30.618638Z"
    }
   },
   "outputs": [],
   "source": [
    "fmParams = {}\n",
    "for k in fdef.GetFeatureFamilies():\n",
    "    fparams = FeatMaps.FeatMapParams()\n",
    "    fmParams[k] = fparams"
   ]
  },
  {
   "cell_type": "markdown",
   "metadata": {},
   "source": [
    "Next go through and find the features on each molecule. We'll only consider a subset of the features defined by the `FeatureFactory`. In \"real\" use we'd more likely use a `FeatureFactory` that only defines the features we are interested in, but this example of how to limit the features returned may still be interesting:"
   ]
  },
  {
   "cell_type": "code",
   "execution_count": 10,
   "metadata": {
    "ExecuteTime": {
     "end_time": "2023-02-24T08:44:30.778671Z",
     "start_time": "2023-02-24T08:44:30.667827Z"
    }
   },
   "outputs": [],
   "source": [
    "keep = ('Donor','Acceptor','NegIonizable','PosIonizable','Aromatic')\n",
    "featLists = []\n",
    "for m in ms:\n",
    "    rawFeats = fdef.GetFeaturesForMol(m)\n",
    "    # filter that list down to only include the ones we're intereted in \n",
    "    featLists.append([f for f in rawFeats if f.GetFamily() in keep])"
   ]
  },
  {
   "cell_type": "markdown",
   "metadata": {},
   "source": [
    "Let's look at the features:"
   ]
  },
  {
   "cell_type": "code",
   "execution_count": 11,
   "metadata": {
    "ExecuteTime": {
     "end_time": "2023-02-24T08:44:30.851566Z",
     "start_time": "2023-02-24T08:44:30.780172Z"
    }
   },
   "outputs": [],
   "source": [
    "import py3Dmol\n",
    "from rdkit.Chem.Features.ShowFeats import _featColors as featColors\n",
    "def colorToHex(rgb):\n",
    "    rgb = [f'{int(255*x):x}' for x in rgb]\n",
    "    return '0x'+''.join(rgb)\n",
    "def drawit(m, feats, p=None, confId=-1, removeHs=True):\n",
    "        if p is None:\n",
    "            p = py3Dmol.view(width=400, height=400)\n",
    "        p.removeAllModels()\n",
    "        if removeHs:\n",
    "            m = Chem.RemoveHs(m)\n",
    "        IPythonConsole.addMolToView(m,p,confId=confId)\n",
    "        for feat in feats:\n",
    "            pos = feat.GetPos()\n",
    "            clr = featColors.get(feat.GetFamily(),(.5,.5,.5))\n",
    "            p.addSphere({'center':{'x':pos.x,'y':pos.y,'z':pos.z},'radius':.5,'color':colorToHex(clr)});\n",
    "        p.zoomTo()\n",
    "        return p.show()"
   ]
  },
  {
   "cell_type": "code",
   "execution_count": 12,
   "metadata": {
    "ExecuteTime": {
     "end_time": "2023-02-24T08:44:30.924161Z",
     "start_time": "2023-02-24T08:44:30.856183Z"
    }
   },
   "outputs": [
    {
     "data": {
      "application/3dmoljs_load.v0": "<div id=\"3dmolviewer_16772282709182594\"  style=\"position: relative; width: 400px; height: 400px\">\n        <p id=\"3dmolwarning_16772282709182594\" style=\"background-color:#ffcccc;color:black\">You appear to be running in JupyterLab (or JavaScript failed to load for some other reason).  You need to install the 3dmol extension: <br>\n        <tt>jupyter labextension install jupyterlab_3dmol</tt></p>\n        </div>\n<script>\n\nvar loadScriptAsync = function(uri){\n  return new Promise((resolve, reject) => {\n    //this is to ignore the existence of requirejs amd\n    var savedexports, savedmodule;\n    if (typeof exports !== 'undefined') savedexports = exports;\n    else exports = {}\n    if (typeof module !== 'undefined') savedmodule = module;\n    else module = {}\n\n    var tag = document.createElement('script');\n    tag.src = uri;\n    tag.async = true;\n    tag.onload = () => {\n        exports = savedexports;\n        module = savedmodule;\n        resolve();\n    };\n  var firstScriptTag = document.getElementsByTagName('script')[0];\n  firstScriptTag.parentNode.insertBefore(tag, firstScriptTag);\n});\n};\n\nif(typeof $3Dmolpromise === 'undefined') {\n$3Dmolpromise = null;\n  $3Dmolpromise = loadScriptAsync('https://cdn.jsdelivr.net/npm/3dmol@latest/build/3Dmol-min.min.js');\n}\n\nvar viewer_16772282709182594 = null;\nvar warn = document.getElementById(\"3dmolwarning_16772282709182594\");\nif(warn) {\n    warn.parentNode.removeChild(warn);\n}\n$3Dmolpromise.then(function() {\nviewer_16772282709182594 = $3Dmol.createViewer(document.getElementById(\"3dmolviewer_16772282709182594\"),{backgroundColor:\"white\"});\nviewer_16772282709182594.zoomTo();\n\tviewer_16772282709182594.removeAllModels();\n\tviewer_16772282709182594.addModel(\"\\n     RDKit          3D\\n\\n 21 23  0  0  0  0  0  0  0  0999 V2000\\n   -1.7517   -1.1720   -2.1292 C   0  0  0  0  0  0  0  0  0  0  0  0\\n   -1.0891   -0.1338   -1.2821 C   0  0  0  0  0  0  0  0  0  0  0  0\\n    0.1046   -0.5942   -0.6815 O   0  0  0  0  0  0  0  0  0  0  0  0\\n    1.3526   -0.1011   -0.9261 C   0  0  0  0  0  0  0  0  0  0  0  0\\n    1.4889    0.8292   -1.7374 O   0  0  0  0  0  0  0  0  0  0  0  0\\n    2.4914   -0.6788   -0.2293 C   0  0  0  0  0  0  0  0  0  0  0  0\\n    2.4807   -1.7076    0.6896 C   0  0  0  0  0  0  0  0  0  0  0  0\\n    3.7031   -1.9796    1.1257 N   0  0  0  0  0  0  0  0  0  0  0  0\\n    4.5367   -1.1170    0.4852 C   0  0  0  0  0  0  0  0  0  0  0  0\\n    5.9062   -0.9768    0.5755 C   0  0  0  0  0  0  0  0  0  0  0  0\\n    6.5566   -0.0069   -0.1902 C   0  0  0  0  0  0  0  0  0  0  0  0\\n    5.8470    0.8163   -1.0387 C   0  0  0  0  0  0  0  0  0  0  0  0\\n    4.4789    0.6624   -1.1165 C   0  0  0  0  0  0  0  0  0  0  0  0\\n    3.8163   -0.3051   -0.3549 C   0  0  0  0  0  0  0  0  0  0  0  0\\n   -1.9923    0.5031   -0.2670 C   0  0  0  0  0  0  0  0  0  0  0  0\\n   -3.1849    1.1816   -0.8998 C   0  0  0  0  0  0  0  0  0  0  0  0\\n   -3.7780    2.1002    0.1429 C   0  0  0  0  0  0  0  0  0  0  0  0\\n   -3.9585    1.4632    1.4792 C   0  0  0  0  0  0  0  0  0  0  0  0\\n   -2.8102    0.5794    1.9024 C   0  0  0  0  0  0  0  0  0  0  0  0\\n   -2.4152   -0.3181    0.7979 N   0  0  0  0  0  0  0  0  0  0  0  0\\n   -3.5375   -1.1597    0.5636 C   0  0  0  0  0  0  0  0  0  0  0  0\\n  1  2  1  0\\n  2  3  1  0\\n  3  4  1  0\\n  4  5  2  0\\n  4  6  1  0\\n  6  7  2  0\\n  7  8  1  0\\n  8  9  1  0\\n  9 10  2  0\\n 10 11  1  0\\n 11 12  2  0\\n 12 13  1  0\\n 13 14  2  0\\n  2 15  1  0\\n 15 16  1  0\\n 16 17  1  0\\n 17 18  1  0\\n 18 19  1  0\\n 19 20  1  0\\n 20 21  1  0\\n 14  6  1  0\\n 20 15  1  0\\n 14  9  1  0\\nM  END\\n\",\"sdf\");\n\tviewer_16772282709182594.setStyle({\"stick\": {}});\n\tviewer_16772282709182594.addSphere({\"center\": {\"x\": 3.7030583830584276, \"y\": -1.9796022711037298, \"z\": 1.1257380506896977}, \"radius\": 0.5, \"color\": \"0x0ffff\"});\n\tviewer_16772282709182594.addSphere({\"center\": {\"x\": -2.4152476921622847, \"y\": -0.3181142856489917, \"z\": 0.7979153974084473}, \"radius\": 0.5, \"color\": \"0x0ffff\"});\n\tviewer_16772282709182594.addSphere({\"center\": {\"x\": 0.10461182189820079, \"y\": -0.5941839865743946, \"z\": -0.6815387153812356}, \"radius\": 0.5, \"color\": \"0xff0ff\"});\n\tviewer_16772282709182594.addSphere({\"center\": {\"x\": 1.4888818471340608, \"y\": 0.8291507783526, \"z\": -1.737368311626531}, \"radius\": 0.5, \"color\": \"0xff0ff\"});\n\tviewer_16772282709182594.addSphere({\"center\": {\"x\": -2.4152476921622847, \"y\": -0.3181142856489917, \"z\": 0.7979153974084473}, \"radius\": 0.5, \"color\": \"0x00ff\"});\n\tviewer_16772282709182594.addSphere({\"center\": {\"x\": 3.405628841470898, \"y\": -1.157629668148325, \"z\": 0.34326377175255157}, \"radius\": 0.5, \"color\": \"0xffcc33\"});\n\tviewer_16772282709182594.addSphere({\"center\": {\"x\": 5.19026997128125, \"y\": -0.15452569601626737, \"z\": -0.27327712689966754}, \"radius\": 0.5, \"color\": \"0xffcc33\"});\n\tviewer_16772282709182594.zoomTo();\nviewer_16772282709182594.render();\n});\n</script>",
      "text/html": [
       "<div id=\"3dmolviewer_16772282709182594\"  style=\"position: relative; width: 400px; height: 400px\">\n",
       "        <p id=\"3dmolwarning_16772282709182594\" style=\"background-color:#ffcccc;color:black\">You appear to be running in JupyterLab (or JavaScript failed to load for some other reason).  You need to install the 3dmol extension: <br>\n",
       "        <tt>jupyter labextension install jupyterlab_3dmol</tt></p>\n",
       "        </div>\n",
       "<script>\n",
       "\n",
       "var loadScriptAsync = function(uri){\n",
       "  return new Promise((resolve, reject) => {\n",
       "    //this is to ignore the existence of requirejs amd\n",
       "    var savedexports, savedmodule;\n",
       "    if (typeof exports !== 'undefined') savedexports = exports;\n",
       "    else exports = {}\n",
       "    if (typeof module !== 'undefined') savedmodule = module;\n",
       "    else module = {}\n",
       "\n",
       "    var tag = document.createElement('script');\n",
       "    tag.src = uri;\n",
       "    tag.async = true;\n",
       "    tag.onload = () => {\n",
       "        exports = savedexports;\n",
       "        module = savedmodule;\n",
       "        resolve();\n",
       "    };\n",
       "  var firstScriptTag = document.getElementsByTagName('script')[0];\n",
       "  firstScriptTag.parentNode.insertBefore(tag, firstScriptTag);\n",
       "});\n",
       "};\n",
       "\n",
       "if(typeof $3Dmolpromise === 'undefined') {\n",
       "$3Dmolpromise = null;\n",
       "  $3Dmolpromise = loadScriptAsync('https://cdn.jsdelivr.net/npm/3dmol@latest/build/3Dmol-min.min.js');\n",
       "}\n",
       "\n",
       "var viewer_16772282709182594 = null;\n",
       "var warn = document.getElementById(\"3dmolwarning_16772282709182594\");\n",
       "if(warn) {\n",
       "    warn.parentNode.removeChild(warn);\n",
       "}\n",
       "$3Dmolpromise.then(function() {\n",
       "viewer_16772282709182594 = $3Dmol.createViewer(document.getElementById(\"3dmolviewer_16772282709182594\"),{backgroundColor:\"white\"});\n",
       "viewer_16772282709182594.zoomTo();\n",
       "\tviewer_16772282709182594.removeAllModels();\n",
       "\tviewer_16772282709182594.addModel(\"\\n     RDKit          3D\\n\\n 21 23  0  0  0  0  0  0  0  0999 V2000\\n   -1.7517   -1.1720   -2.1292 C   0  0  0  0  0  0  0  0  0  0  0  0\\n   -1.0891   -0.1338   -1.2821 C   0  0  0  0  0  0  0  0  0  0  0  0\\n    0.1046   -0.5942   -0.6815 O   0  0  0  0  0  0  0  0  0  0  0  0\\n    1.3526   -0.1011   -0.9261 C   0  0  0  0  0  0  0  0  0  0  0  0\\n    1.4889    0.8292   -1.7374 O   0  0  0  0  0  0  0  0  0  0  0  0\\n    2.4914   -0.6788   -0.2293 C   0  0  0  0  0  0  0  0  0  0  0  0\\n    2.4807   -1.7076    0.6896 C   0  0  0  0  0  0  0  0  0  0  0  0\\n    3.7031   -1.9796    1.1257 N   0  0  0  0  0  0  0  0  0  0  0  0\\n    4.5367   -1.1170    0.4852 C   0  0  0  0  0  0  0  0  0  0  0  0\\n    5.9062   -0.9768    0.5755 C   0  0  0  0  0  0  0  0  0  0  0  0\\n    6.5566   -0.0069   -0.1902 C   0  0  0  0  0  0  0  0  0  0  0  0\\n    5.8470    0.8163   -1.0387 C   0  0  0  0  0  0  0  0  0  0  0  0\\n    4.4789    0.6624   -1.1165 C   0  0  0  0  0  0  0  0  0  0  0  0\\n    3.8163   -0.3051   -0.3549 C   0  0  0  0  0  0  0  0  0  0  0  0\\n   -1.9923    0.5031   -0.2670 C   0  0  0  0  0  0  0  0  0  0  0  0\\n   -3.1849    1.1816   -0.8998 C   0  0  0  0  0  0  0  0  0  0  0  0\\n   -3.7780    2.1002    0.1429 C   0  0  0  0  0  0  0  0  0  0  0  0\\n   -3.9585    1.4632    1.4792 C   0  0  0  0  0  0  0  0  0  0  0  0\\n   -2.8102    0.5794    1.9024 C   0  0  0  0  0  0  0  0  0  0  0  0\\n   -2.4152   -0.3181    0.7979 N   0  0  0  0  0  0  0  0  0  0  0  0\\n   -3.5375   -1.1597    0.5636 C   0  0  0  0  0  0  0  0  0  0  0  0\\n  1  2  1  0\\n  2  3  1  0\\n  3  4  1  0\\n  4  5  2  0\\n  4  6  1  0\\n  6  7  2  0\\n  7  8  1  0\\n  8  9  1  0\\n  9 10  2  0\\n 10 11  1  0\\n 11 12  2  0\\n 12 13  1  0\\n 13 14  2  0\\n  2 15  1  0\\n 15 16  1  0\\n 16 17  1  0\\n 17 18  1  0\\n 18 19  1  0\\n 19 20  1  0\\n 20 21  1  0\\n 14  6  1  0\\n 20 15  1  0\\n 14  9  1  0\\nM  END\\n\",\"sdf\");\n",
       "\tviewer_16772282709182594.setStyle({\"stick\": {}});\n",
       "\tviewer_16772282709182594.addSphere({\"center\": {\"x\": 3.7030583830584276, \"y\": -1.9796022711037298, \"z\": 1.1257380506896977}, \"radius\": 0.5, \"color\": \"0x0ffff\"});\n",
       "\tviewer_16772282709182594.addSphere({\"center\": {\"x\": -2.4152476921622847, \"y\": -0.3181142856489917, \"z\": 0.7979153974084473}, \"radius\": 0.5, \"color\": \"0x0ffff\"});\n",
       "\tviewer_16772282709182594.addSphere({\"center\": {\"x\": 0.10461182189820079, \"y\": -0.5941839865743946, \"z\": -0.6815387153812356}, \"radius\": 0.5, \"color\": \"0xff0ff\"});\n",
       "\tviewer_16772282709182594.addSphere({\"center\": {\"x\": 1.4888818471340608, \"y\": 0.8291507783526, \"z\": -1.737368311626531}, \"radius\": 0.5, \"color\": \"0xff0ff\"});\n",
       "\tviewer_16772282709182594.addSphere({\"center\": {\"x\": -2.4152476921622847, \"y\": -0.3181142856489917, \"z\": 0.7979153974084473}, \"radius\": 0.5, \"color\": \"0x00ff\"});\n",
       "\tviewer_16772282709182594.addSphere({\"center\": {\"x\": 3.405628841470898, \"y\": -1.157629668148325, \"z\": 0.34326377175255157}, \"radius\": 0.5, \"color\": \"0xffcc33\"});\n",
       "\tviewer_16772282709182594.addSphere({\"center\": {\"x\": 5.19026997128125, \"y\": -0.15452569601626737, \"z\": -0.27327712689966754}, \"radius\": 0.5, \"color\": \"0xffcc33\"});\n",
       "\tviewer_16772282709182594.zoomTo();\n",
       "viewer_16772282709182594.render();\n",
       "});\n",
       "</script>"
      ]
     },
     "metadata": {},
     "output_type": "display_data"
    }
   ],
   "source": [
    "drawit(ms[0],featLists[0])"
   ]
  },
  {
   "cell_type": "code",
   "execution_count": 13,
   "metadata": {
    "ExecuteTime": {
     "end_time": "2023-02-24T08:44:31.003503Z",
     "start_time": "2023-02-24T08:44:30.928618Z"
    }
   },
   "outputs": [
    {
     "data": {
      "application/3dmoljs_load.v0": "<div id=\"3dmolviewer_16772282710017638\"  style=\"position: relative; width: 400px; height: 400px\">\n        <p id=\"3dmolwarning_16772282710017638\" style=\"background-color:#ffcccc;color:black\">You appear to be running in JupyterLab (or JavaScript failed to load for some other reason).  You need to install the 3dmol extension: <br>\n        <tt>jupyter labextension install jupyterlab_3dmol</tt></p>\n        </div>\n<script>\n\nvar loadScriptAsync = function(uri){\n  return new Promise((resolve, reject) => {\n    //this is to ignore the existence of requirejs amd\n    var savedexports, savedmodule;\n    if (typeof exports !== 'undefined') savedexports = exports;\n    else exports = {}\n    if (typeof module !== 'undefined') savedmodule = module;\n    else module = {}\n\n    var tag = document.createElement('script');\n    tag.src = uri;\n    tag.async = true;\n    tag.onload = () => {\n        exports = savedexports;\n        module = savedmodule;\n        resolve();\n    };\n  var firstScriptTag = document.getElementsByTagName('script')[0];\n  firstScriptTag.parentNode.insertBefore(tag, firstScriptTag);\n});\n};\n\nif(typeof $3Dmolpromise === 'undefined') {\n$3Dmolpromise = null;\n  $3Dmolpromise = loadScriptAsync('https://cdn.jsdelivr.net/npm/3dmol@latest/build/3Dmol-min.min.js');\n}\n\nvar viewer_16772282710017638 = null;\nvar warn = document.getElementById(\"3dmolwarning_16772282710017638\");\nif(warn) {\n    warn.parentNode.removeChild(warn);\n}\n$3Dmolpromise.then(function() {\nviewer_16772282710017638 = $3Dmol.createViewer(document.getElementById(\"3dmolviewer_16772282710017638\"),{backgroundColor:\"white\"});\nviewer_16772282710017638.zoomTo();\n\tviewer_16772282710017638.removeAllModels();\n\tviewer_16772282710017638.addModel(\"\\n     RDKit          3D\\n\\n 24 27  0  0  0  0  0  0  0  0999 V2000\\n    5.0325   -3.8374    2.6234 C   0  0  0  0  0  0  0  0  0  0  0  0\\n    3.7944   -3.2238    2.1889 N   0  0  0  0  0  0  0  0  0  0  0  0\\n    2.5490   -3.7225    2.7371 C   0  0  0  0  0  0  0  0  0  0  0  0\\n    1.3849   -2.8334    2.3990 C   0  0  0  0  0  0  0  0  0  0  0  0\\n    1.4545   -2.3373    1.0770 O   0  0  0  0  0  0  0  0  0  0  0  0\\n    2.5976   -1.6923    0.6716 C   0  0  0  0  0  0  0  0  0  0  0  0\\n    2.5398   -0.6644   -0.2417 C   0  0  0  0  0  0  0  0  0  0  0  0\\n    1.3381   -0.1530   -0.8620 C   0  0  0  0  0  0  0  0  0  0  0  0\\n    1.4697    0.8127   -1.6939 O   0  0  0  0  0  0  0  0  0  0  0  0\\n    0.0241   -0.5915   -0.6617 N   0  0  0  0  0  0  0  0  0  0  0  0\\n   -1.1070    0.0323   -1.3710 C   0  0  0  0  0  0  0  0  0  0  0  0\\n   -2.0263    0.7001   -0.3754 C   0  0  0  0  0  0  0  0  0  0  0  0\\n   -3.3332    1.0021   -1.0541 C   0  0  0  0  0  0  0  0  0  0  0  0\\n   -3.1253    1.6978   -2.3886 C   0  0  0  0  0  0  0  0  0  0  0  0\\n   -3.2536    0.5968   -3.4181 C   0  0  0  0  0  0  0  0  0  0  0  0\\n   -3.1990   -0.6537   -2.5771 C   0  0  0  0  0  0  0  0  0  0  0  0\\n   -1.7843   -1.0173   -2.1879 C   0  0  0  0  0  0  0  0  0  0  0  0\\n   -3.9476   -0.2706   -1.3977 N   0  0  0  0  0  0  0  0  0  0  0  0\\n   -5.3516   -0.0896   -1.7734 C   0  0  0  0  0  0  0  0  0  0  0  0\\n    3.7681   -0.0845   -0.5785 C   0  0  0  0  0  0  0  0  0  0  0  0\\n    4.9452   -0.5323   -0.0175 C   0  0  0  0  0  0  0  0  0  0  0  0\\n    6.4474    0.2320   -0.4779 Cl  0  0  0  0  0  0  0  0  0  0  0  0\\n    4.9726   -1.5636    0.8946 C   0  0  0  0  0  0  0  0  0  0  0  0\\n    3.7804   -2.1541    1.2458 C   0  0  0  0  0  0  0  0  0  0  0  0\\n  1  2  1  0\\n  2  3  1  0\\n  3  4  1  0\\n  4  5  1  0\\n  5  6  1  0\\n  6  7  2  0\\n  7  8  1  0\\n  8  9  2  0\\n  8 10  1  0\\n 10 11  1  0\\n 11 12  1  0\\n 12 13  1  0\\n 13 14  1  0\\n 14 15  1  0\\n 15 16  1  0\\n 16 17  1  0\\n 16 18  1  0\\n 18 19  1  0\\n  7 20  1  0\\n 20 21  2  0\\n 21 22  1  0\\n 21 23  1  0\\n 23 24  2  0\\n 24  2  1  0\\n 24  6  1  0\\n 17 11  1  0\\n 18 13  1  0\\nM  END\\n\",\"sdf\");\n\tviewer_16772282710017638.setStyle({\"stick\": {}});\n\tviewer_16772282710017638.addSphere({\"center\": {\"x\": 0.024058041756935836, \"y\": -0.591547518509357, \"z\": -0.6616974314090667}, \"radius\": 0.5, \"color\": \"0x0ffff\"});\n\tviewer_16772282710017638.addSphere({\"center\": {\"x\": -3.947633192300894, \"y\": -0.2706013814223983, \"z\": -1.3977456810714146}, \"radius\": 0.5, \"color\": \"0x0ffff\"});\n\tviewer_16772282710017638.addSphere({\"center\": {\"x\": 1.4544693141060625, \"y\": -2.33734200255177, \"z\": 1.077026790472152}, \"radius\": 0.5, \"color\": \"0xff0ff\"});\n\tviewer_16772282710017638.addSphere({\"center\": {\"x\": 1.4696906999931945, \"y\": 0.8127411546419141, \"z\": -1.693856221455591}, \"radius\": 0.5, \"color\": \"0xff0ff\"});\n\tviewer_16772282710017638.addSphere({\"center\": {\"x\": -3.947633192300894, \"y\": -0.2706013814223983, \"z\": -1.3977456810714146}, \"radius\": 0.5, \"color\": \"0x00ff\"});\n\tviewer_16772282710017638.addSphere({\"center\": {\"x\": 3.767279012982093, \"y\": -1.1152270557903072, \"z\": 0.3290360039500191}, \"radius\": 0.5, \"color\": \"0xffcc33\"});\n\tviewer_16772282710017638.zoomTo();\nviewer_16772282710017638.render();\n});\n</script>",
      "text/html": [
       "<div id=\"3dmolviewer_16772282710017638\"  style=\"position: relative; width: 400px; height: 400px\">\n",
       "        <p id=\"3dmolwarning_16772282710017638\" style=\"background-color:#ffcccc;color:black\">You appear to be running in JupyterLab (or JavaScript failed to load for some other reason).  You need to install the 3dmol extension: <br>\n",
       "        <tt>jupyter labextension install jupyterlab_3dmol</tt></p>\n",
       "        </div>\n",
       "<script>\n",
       "\n",
       "var loadScriptAsync = function(uri){\n",
       "  return new Promise((resolve, reject) => {\n",
       "    //this is to ignore the existence of requirejs amd\n",
       "    var savedexports, savedmodule;\n",
       "    if (typeof exports !== 'undefined') savedexports = exports;\n",
       "    else exports = {}\n",
       "    if (typeof module !== 'undefined') savedmodule = module;\n",
       "    else module = {}\n",
       "\n",
       "    var tag = document.createElement('script');\n",
       "    tag.src = uri;\n",
       "    tag.async = true;\n",
       "    tag.onload = () => {\n",
       "        exports = savedexports;\n",
       "        module = savedmodule;\n",
       "        resolve();\n",
       "    };\n",
       "  var firstScriptTag = document.getElementsByTagName('script')[0];\n",
       "  firstScriptTag.parentNode.insertBefore(tag, firstScriptTag);\n",
       "});\n",
       "};\n",
       "\n",
       "if(typeof $3Dmolpromise === 'undefined') {\n",
       "$3Dmolpromise = null;\n",
       "  $3Dmolpromise = loadScriptAsync('https://cdn.jsdelivr.net/npm/3dmol@latest/build/3Dmol-min.min.js');\n",
       "}\n",
       "\n",
       "var viewer_16772282710017638 = null;\n",
       "var warn = document.getElementById(\"3dmolwarning_16772282710017638\");\n",
       "if(warn) {\n",
       "    warn.parentNode.removeChild(warn);\n",
       "}\n",
       "$3Dmolpromise.then(function() {\n",
       "viewer_16772282710017638 = $3Dmol.createViewer(document.getElementById(\"3dmolviewer_16772282710017638\"),{backgroundColor:\"white\"});\n",
       "viewer_16772282710017638.zoomTo();\n",
       "\tviewer_16772282710017638.removeAllModels();\n",
       "\tviewer_16772282710017638.addModel(\"\\n     RDKit          3D\\n\\n 24 27  0  0  0  0  0  0  0  0999 V2000\\n    5.0325   -3.8374    2.6234 C   0  0  0  0  0  0  0  0  0  0  0  0\\n    3.7944   -3.2238    2.1889 N   0  0  0  0  0  0  0  0  0  0  0  0\\n    2.5490   -3.7225    2.7371 C   0  0  0  0  0  0  0  0  0  0  0  0\\n    1.3849   -2.8334    2.3990 C   0  0  0  0  0  0  0  0  0  0  0  0\\n    1.4545   -2.3373    1.0770 O   0  0  0  0  0  0  0  0  0  0  0  0\\n    2.5976   -1.6923    0.6716 C   0  0  0  0  0  0  0  0  0  0  0  0\\n    2.5398   -0.6644   -0.2417 C   0  0  0  0  0  0  0  0  0  0  0  0\\n    1.3381   -0.1530   -0.8620 C   0  0  0  0  0  0  0  0  0  0  0  0\\n    1.4697    0.8127   -1.6939 O   0  0  0  0  0  0  0  0  0  0  0  0\\n    0.0241   -0.5915   -0.6617 N   0  0  0  0  0  0  0  0  0  0  0  0\\n   -1.1070    0.0323   -1.3710 C   0  0  0  0  0  0  0  0  0  0  0  0\\n   -2.0263    0.7001   -0.3754 C   0  0  0  0  0  0  0  0  0  0  0  0\\n   -3.3332    1.0021   -1.0541 C   0  0  0  0  0  0  0  0  0  0  0  0\\n   -3.1253    1.6978   -2.3886 C   0  0  0  0  0  0  0  0  0  0  0  0\\n   -3.2536    0.5968   -3.4181 C   0  0  0  0  0  0  0  0  0  0  0  0\\n   -3.1990   -0.6537   -2.5771 C   0  0  0  0  0  0  0  0  0  0  0  0\\n   -1.7843   -1.0173   -2.1879 C   0  0  0  0  0  0  0  0  0  0  0  0\\n   -3.9476   -0.2706   -1.3977 N   0  0  0  0  0  0  0  0  0  0  0  0\\n   -5.3516   -0.0896   -1.7734 C   0  0  0  0  0  0  0  0  0  0  0  0\\n    3.7681   -0.0845   -0.5785 C   0  0  0  0  0  0  0  0  0  0  0  0\\n    4.9452   -0.5323   -0.0175 C   0  0  0  0  0  0  0  0  0  0  0  0\\n    6.4474    0.2320   -0.4779 Cl  0  0  0  0  0  0  0  0  0  0  0  0\\n    4.9726   -1.5636    0.8946 C   0  0  0  0  0  0  0  0  0  0  0  0\\n    3.7804   -2.1541    1.2458 C   0  0  0  0  0  0  0  0  0  0  0  0\\n  1  2  1  0\\n  2  3  1  0\\n  3  4  1  0\\n  4  5  1  0\\n  5  6  1  0\\n  6  7  2  0\\n  7  8  1  0\\n  8  9  2  0\\n  8 10  1  0\\n 10 11  1  0\\n 11 12  1  0\\n 12 13  1  0\\n 13 14  1  0\\n 14 15  1  0\\n 15 16  1  0\\n 16 17  1  0\\n 16 18  1  0\\n 18 19  1  0\\n  7 20  1  0\\n 20 21  2  0\\n 21 22  1  0\\n 21 23  1  0\\n 23 24  2  0\\n 24  2  1  0\\n 24  6  1  0\\n 17 11  1  0\\n 18 13  1  0\\nM  END\\n\",\"sdf\");\n",
       "\tviewer_16772282710017638.setStyle({\"stick\": {}});\n",
       "\tviewer_16772282710017638.addSphere({\"center\": {\"x\": 0.024058041756935836, \"y\": -0.591547518509357, \"z\": -0.6616974314090667}, \"radius\": 0.5, \"color\": \"0x0ffff\"});\n",
       "\tviewer_16772282710017638.addSphere({\"center\": {\"x\": -3.947633192300894, \"y\": -0.2706013814223983, \"z\": -1.3977456810714146}, \"radius\": 0.5, \"color\": \"0x0ffff\"});\n",
       "\tviewer_16772282710017638.addSphere({\"center\": {\"x\": 1.4544693141060625, \"y\": -2.33734200255177, \"z\": 1.077026790472152}, \"radius\": 0.5, \"color\": \"0xff0ff\"});\n",
       "\tviewer_16772282710017638.addSphere({\"center\": {\"x\": 1.4696906999931945, \"y\": 0.8127411546419141, \"z\": -1.693856221455591}, \"radius\": 0.5, \"color\": \"0xff0ff\"});\n",
       "\tviewer_16772282710017638.addSphere({\"center\": {\"x\": -3.947633192300894, \"y\": -0.2706013814223983, \"z\": -1.3977456810714146}, \"radius\": 0.5, \"color\": \"0x00ff\"});\n",
       "\tviewer_16772282710017638.addSphere({\"center\": {\"x\": 3.767279012982093, \"y\": -1.1152270557903072, \"z\": 0.3290360039500191}, \"radius\": 0.5, \"color\": \"0xffcc33\"});\n",
       "\tviewer_16772282710017638.zoomTo();\n",
       "viewer_16772282710017638.render();\n",
       "});\n",
       "</script>"
      ]
     },
     "metadata": {},
     "output_type": "display_data"
    }
   ],
   "source": [
    "drawit(ms[1],featLists[1])"
   ]
  },
  {
   "cell_type": "code",
   "execution_count": 14,
   "metadata": {
    "ExecuteTime": {
     "end_time": "2023-02-24T08:44:31.096396Z",
     "start_time": "2023-02-24T08:44:31.004393Z"
    }
   },
   "outputs": [
    {
     "data": {
      "application/3dmoljs_load.v0": "<div id=\"3dmolviewer_16772282710911655\"  style=\"position: relative; width: 400px; height: 400px\">\n        <p id=\"3dmolwarning_16772282710911655\" style=\"background-color:#ffcccc;color:black\">You appear to be running in JupyterLab (or JavaScript failed to load for some other reason).  You need to install the 3dmol extension: <br>\n        <tt>jupyter labextension install jupyterlab_3dmol</tt></p>\n        </div>\n<script>\n\nvar loadScriptAsync = function(uri){\n  return new Promise((resolve, reject) => {\n    //this is to ignore the existence of requirejs amd\n    var savedexports, savedmodule;\n    if (typeof exports !== 'undefined') savedexports = exports;\n    else exports = {}\n    if (typeof module !== 'undefined') savedmodule = module;\n    else module = {}\n\n    var tag = document.createElement('script');\n    tag.src = uri;\n    tag.async = true;\n    tag.onload = () => {\n        exports = savedexports;\n        module = savedmodule;\n        resolve();\n    };\n  var firstScriptTag = document.getElementsByTagName('script')[0];\n  firstScriptTag.parentNode.insertBefore(tag, firstScriptTag);\n});\n};\n\nif(typeof $3Dmolpromise === 'undefined') {\n$3Dmolpromise = null;\n  $3Dmolpromise = loadScriptAsync('https://cdn.jsdelivr.net/npm/3dmol@latest/build/3Dmol-min.min.js');\n}\n\nvar viewer_16772282710911655 = null;\nvar warn = document.getElementById(\"3dmolwarning_16772282710911655\");\nif(warn) {\n    warn.parentNode.removeChild(warn);\n}\n$3Dmolpromise.then(function() {\nviewer_16772282710911655 = $3Dmol.createViewer(document.getElementById(\"3dmolviewer_16772282710911655\"),{backgroundColor:\"white\"});\nviewer_16772282710911655.zoomTo();\n\tviewer_16772282710911655.removeAllModels();\n\tviewer_16772282710911655.addModel(\"\\n     RDKit          3D\\n\\n 21 24  0  0  0  0  0  0  0  0999 V2000\\n   -3.8307   -1.0120    0.5984 C   0  0  0  0  0  0  0  0  0  0  0  0\\n   -2.4455   -0.6326    0.7254 N   0  0  0  0  0  0  0  0  0  0  0  0\\n   -1.8823   -0.1584   -0.5004 C   0  0  0  0  0  0  0  0  0  0  0  0\\n   -0.4146   -0.5134   -0.6505 C   0  0  0  0  0  0  0  0  0  0  0  0\\n   -0.3308   -2.0247   -0.8724 C   0  0  0  0  0  0  0  0  0  0  0  0\\n   -1.3355   -2.6516    0.0714 C   0  0  0  0  0  0  0  0  0  0  0  0\\n   -1.6252   -1.7212    1.2209 C   0  0  0  0  0  0  0  0  0  0  0  0\\n   -0.3257   -1.1045    1.7084 C   0  0  0  0  0  0  0  0  0  0  0  0\\n    0.2624   -0.1734    0.6476 C   0  0  0  0  0  0  0  0  0  0  0  0\\n    1.6959   -0.4084    0.5989 N   0  0  0  0  0  0  0  0  0  0  0  0\\n    2.2824   -1.2818    1.4055 N   0  0  0  0  0  0  0  0  0  0  0  0\\n    3.5820   -1.5233    1.3917 N   0  0  0  0  0  0  0  0  0  0  0  0\\n    4.4001   -0.8814    0.5388 C   0  0  0  0  0  0  0  0  0  0  0  0\\n    5.7544   -1.1060    0.4956 C   0  0  0  0  0  0  0  0  0  0  0  0\\n    6.5096   -0.4056   -0.4064 C   0  0  0  0  0  0  0  0  0  0  0  0\\n    5.9629    0.5247   -1.2816 C   0  0  0  0  0  0  0  0  0  0  0  0\\n    6.9935    1.3900   -2.4161 Cl  0  0  0  0  0  0  0  0  0  0  0  0\\n    4.6034    0.7487   -1.2367 C   0  0  0  0  0  0  0  0  0  0  0  0\\n    3.8311    0.0491   -0.3320 C   0  0  0  0  0  0  0  0  0  0  0  0\\n    2.4696    0.2639   -0.2770 C   0  0  0  0  0  0  0  0  0  0  0  0\\n    1.9931    1.1100   -1.0774 O   0  0  0  0  0  0  0  0  0  0  0  0\\n  1  2  1  0\\n  2  3  1  0\\n  3  4  1  0\\n  4  5  1  0\\n  5  6  1  0\\n  6  7  1  0\\n  7  8  1  0\\n  8  9  1  0\\n  9 10  1  0\\n 10 11  1  0\\n 11 12  2  0\\n 12 13  1  0\\n 13 14  2  0\\n 14 15  1  0\\n 15 16  2  0\\n 16 17  1  0\\n 16 18  1  0\\n 18 19  2  0\\n 19 20  1  0\\n 20 21  2  0\\n  7  2  1  0\\n 20 10  1  0\\n  9  4  1  0\\n 19 13  1  0\\nM  END\\n\",\"sdf\");\n\tviewer_16772282710911655.setStyle({\"stick\": {}});\n\tviewer_16772282710911655.addSphere({\"center\": {\"x\": -2.445546877609724, \"y\": -0.632614243347905, \"z\": 0.7254461329676191}, \"radius\": 0.5, \"color\": \"0x0ffff\"});\n\tviewer_16772282710911655.addSphere({\"center\": {\"x\": 1.9930725940323837, \"y\": 1.1100295865955054, \"z\": -1.077350329787604}, \"radius\": 0.5, \"color\": \"0xff0ff\"});\n\tviewer_16772282710911655.addSphere({\"center\": {\"x\": -2.445546877609724, \"y\": -0.632614243347905, \"z\": 0.7254461329676191}, \"radius\": 0.5, \"color\": \"0x00ff\"});\n\tviewer_16772282710911655.addSphere({\"center\": {\"x\": 5.176920885186684, \"y\": -0.17840771638504901, \"z\": -0.37038217716846755}, \"radius\": 0.5, \"color\": \"0xffcc33\"});\n\tviewer_16772282710911655.zoomTo();\nviewer_16772282710911655.render();\n});\n</script>",
      "text/html": [
       "<div id=\"3dmolviewer_16772282710911655\"  style=\"position: relative; width: 400px; height: 400px\">\n",
       "        <p id=\"3dmolwarning_16772282710911655\" style=\"background-color:#ffcccc;color:black\">You appear to be running in JupyterLab (or JavaScript failed to load for some other reason).  You need to install the 3dmol extension: <br>\n",
       "        <tt>jupyter labextension install jupyterlab_3dmol</tt></p>\n",
       "        </div>\n",
       "<script>\n",
       "\n",
       "var loadScriptAsync = function(uri){\n",
       "  return new Promise((resolve, reject) => {\n",
       "    //this is to ignore the existence of requirejs amd\n",
       "    var savedexports, savedmodule;\n",
       "    if (typeof exports !== 'undefined') savedexports = exports;\n",
       "    else exports = {}\n",
       "    if (typeof module !== 'undefined') savedmodule = module;\n",
       "    else module = {}\n",
       "\n",
       "    var tag = document.createElement('script');\n",
       "    tag.src = uri;\n",
       "    tag.async = true;\n",
       "    tag.onload = () => {\n",
       "        exports = savedexports;\n",
       "        module = savedmodule;\n",
       "        resolve();\n",
       "    };\n",
       "  var firstScriptTag = document.getElementsByTagName('script')[0];\n",
       "  firstScriptTag.parentNode.insertBefore(tag, firstScriptTag);\n",
       "});\n",
       "};\n",
       "\n",
       "if(typeof $3Dmolpromise === 'undefined') {\n",
       "$3Dmolpromise = null;\n",
       "  $3Dmolpromise = loadScriptAsync('https://cdn.jsdelivr.net/npm/3dmol@latest/build/3Dmol-min.min.js');\n",
       "}\n",
       "\n",
       "var viewer_16772282710911655 = null;\n",
       "var warn = document.getElementById(\"3dmolwarning_16772282710911655\");\n",
       "if(warn) {\n",
       "    warn.parentNode.removeChild(warn);\n",
       "}\n",
       "$3Dmolpromise.then(function() {\n",
       "viewer_16772282710911655 = $3Dmol.createViewer(document.getElementById(\"3dmolviewer_16772282710911655\"),{backgroundColor:\"white\"});\n",
       "viewer_16772282710911655.zoomTo();\n",
       "\tviewer_16772282710911655.removeAllModels();\n",
       "\tviewer_16772282710911655.addModel(\"\\n     RDKit          3D\\n\\n 21 24  0  0  0  0  0  0  0  0999 V2000\\n   -3.8307   -1.0120    0.5984 C   0  0  0  0  0  0  0  0  0  0  0  0\\n   -2.4455   -0.6326    0.7254 N   0  0  0  0  0  0  0  0  0  0  0  0\\n   -1.8823   -0.1584   -0.5004 C   0  0  0  0  0  0  0  0  0  0  0  0\\n   -0.4146   -0.5134   -0.6505 C   0  0  0  0  0  0  0  0  0  0  0  0\\n   -0.3308   -2.0247   -0.8724 C   0  0  0  0  0  0  0  0  0  0  0  0\\n   -1.3355   -2.6516    0.0714 C   0  0  0  0  0  0  0  0  0  0  0  0\\n   -1.6252   -1.7212    1.2209 C   0  0  0  0  0  0  0  0  0  0  0  0\\n   -0.3257   -1.1045    1.7084 C   0  0  0  0  0  0  0  0  0  0  0  0\\n    0.2624   -0.1734    0.6476 C   0  0  0  0  0  0  0  0  0  0  0  0\\n    1.6959   -0.4084    0.5989 N   0  0  0  0  0  0  0  0  0  0  0  0\\n    2.2824   -1.2818    1.4055 N   0  0  0  0  0  0  0  0  0  0  0  0\\n    3.5820   -1.5233    1.3917 N   0  0  0  0  0  0  0  0  0  0  0  0\\n    4.4001   -0.8814    0.5388 C   0  0  0  0  0  0  0  0  0  0  0  0\\n    5.7544   -1.1060    0.4956 C   0  0  0  0  0  0  0  0  0  0  0  0\\n    6.5096   -0.4056   -0.4064 C   0  0  0  0  0  0  0  0  0  0  0  0\\n    5.9629    0.5247   -1.2816 C   0  0  0  0  0  0  0  0  0  0  0  0\\n    6.9935    1.3900   -2.4161 Cl  0  0  0  0  0  0  0  0  0  0  0  0\\n    4.6034    0.7487   -1.2367 C   0  0  0  0  0  0  0  0  0  0  0  0\\n    3.8311    0.0491   -0.3320 C   0  0  0  0  0  0  0  0  0  0  0  0\\n    2.4696    0.2639   -0.2770 C   0  0  0  0  0  0  0  0  0  0  0  0\\n    1.9931    1.1100   -1.0774 O   0  0  0  0  0  0  0  0  0  0  0  0\\n  1  2  1  0\\n  2  3  1  0\\n  3  4  1  0\\n  4  5  1  0\\n  5  6  1  0\\n  6  7  1  0\\n  7  8  1  0\\n  8  9  1  0\\n  9 10  1  0\\n 10 11  1  0\\n 11 12  2  0\\n 12 13  1  0\\n 13 14  2  0\\n 14 15  1  0\\n 15 16  2  0\\n 16 17  1  0\\n 16 18  1  0\\n 18 19  2  0\\n 19 20  1  0\\n 20 21  2  0\\n  7  2  1  0\\n 20 10  1  0\\n  9  4  1  0\\n 19 13  1  0\\nM  END\\n\",\"sdf\");\n",
       "\tviewer_16772282710911655.setStyle({\"stick\": {}});\n",
       "\tviewer_16772282710911655.addSphere({\"center\": {\"x\": -2.445546877609724, \"y\": -0.632614243347905, \"z\": 0.7254461329676191}, \"radius\": 0.5, \"color\": \"0x0ffff\"});\n",
       "\tviewer_16772282710911655.addSphere({\"center\": {\"x\": 1.9930725940323837, \"y\": 1.1100295865955054, \"z\": -1.077350329787604}, \"radius\": 0.5, \"color\": \"0xff0ff\"});\n",
       "\tviewer_16772282710911655.addSphere({\"center\": {\"x\": -2.445546877609724, \"y\": -0.632614243347905, \"z\": 0.7254461329676191}, \"radius\": 0.5, \"color\": \"0x00ff\"});\n",
       "\tviewer_16772282710911655.addSphere({\"center\": {\"x\": 5.176920885186684, \"y\": -0.17840771638504901, \"z\": -0.37038217716846755}, \"radius\": 0.5, \"color\": \"0xffcc33\"});\n",
       "\tviewer_16772282710911655.zoomTo();\n",
       "viewer_16772282710911655.render();\n",
       "});\n",
       "</script>"
      ]
     },
     "metadata": {},
     "output_type": "display_data"
    }
   ],
   "source": [
    "drawit(ms[2],featLists[2])"
   ]
  },
  {
   "cell_type": "markdown",
   "metadata": {},
   "source": [
    "The fact that this one has neither acceptors nor an aromatic feature in the second planar six-ring indicates that we should take a look at the feature definitions. That's a topic for another blog post."
   ]
  },
  {
   "cell_type": "markdown",
   "metadata": {},
   "source": [
    "Now it's straightforward to create `FeatMap` objects from the feature lists:"
   ]
  },
  {
   "cell_type": "code",
   "execution_count": 15,
   "metadata": {
    "ExecuteTime": {
     "end_time": "2023-02-24T08:44:31.175538Z",
     "start_time": "2023-02-24T08:44:31.101037Z"
    }
   },
   "outputs": [],
   "source": [
    "fms = [FeatMaps.FeatMap(feats = x,weights=[1]*len(x),params=fmParams) for x in featLists]"
   ]
  },
  {
   "cell_type": "markdown",
   "metadata": {},
   "source": [
    "We can, of course, draw a feature map as well. In these simple cases the feature maps look the same as drawing all of the molecule's features:"
   ]
  },
  {
   "cell_type": "code",
   "execution_count": 16,
   "metadata": {
    "ExecuteTime": {
     "end_time": "2023-02-24T08:44:31.275560Z",
     "start_time": "2023-02-24T08:44:31.176604Z"
    }
   },
   "outputs": [],
   "source": [
    "def drawFeatMap(m, fMap, p=None, confId=-1, removeHs=True):\n",
    "        if p is None:\n",
    "            p = py3Dmol.view(width=400, height=400)\n",
    "        p.removeAllModels()\n",
    "        if removeHs:\n",
    "            m = Chem.RemoveHs(m)\n",
    "        IPythonConsole.addMolToView(m,p,confId=confId)\n",
    "        for feat in fMap.GetFeatures():\n",
    "            pos = feat.GetPos()\n",
    "            clr = featColors.get(feat.GetFamily(),(.5,.5,.5))\n",
    "            p.addSphere({'center':{'x':pos.x,'y':pos.y,'z':pos.z},'radius':feat.weight*.5,'color':colorToHex(clr)});\n",
    "        p.zoomTo()\n",
    "        return p.show()"
   ]
  },
  {
   "cell_type": "code",
   "execution_count": 17,
   "metadata": {
    "ExecuteTime": {
     "end_time": "2023-02-24T08:44:31.354914Z",
     "start_time": "2023-02-24T08:44:31.279960Z"
    }
   },
   "outputs": [
    {
     "data": {
      "application/3dmoljs_load.v0": "<div id=\"3dmolviewer_167722827134946\"  style=\"position: relative; width: 400px; height: 400px\">\n        <p id=\"3dmolwarning_167722827134946\" style=\"background-color:#ffcccc;color:black\">You appear to be running in JupyterLab (or JavaScript failed to load for some other reason).  You need to install the 3dmol extension: <br>\n        <tt>jupyter labextension install jupyterlab_3dmol</tt></p>\n        </div>\n<script>\n\nvar loadScriptAsync = function(uri){\n  return new Promise((resolve, reject) => {\n    //this is to ignore the existence of requirejs amd\n    var savedexports, savedmodule;\n    if (typeof exports !== 'undefined') savedexports = exports;\n    else exports = {}\n    if (typeof module !== 'undefined') savedmodule = module;\n    else module = {}\n\n    var tag = document.createElement('script');\n    tag.src = uri;\n    tag.async = true;\n    tag.onload = () => {\n        exports = savedexports;\n        module = savedmodule;\n        resolve();\n    };\n  var firstScriptTag = document.getElementsByTagName('script')[0];\n  firstScriptTag.parentNode.insertBefore(tag, firstScriptTag);\n});\n};\n\nif(typeof $3Dmolpromise === 'undefined') {\n$3Dmolpromise = null;\n  $3Dmolpromise = loadScriptAsync('https://cdn.jsdelivr.net/npm/3dmol@latest/build/3Dmol-min.min.js');\n}\n\nvar viewer_167722827134946 = null;\nvar warn = document.getElementById(\"3dmolwarning_167722827134946\");\nif(warn) {\n    warn.parentNode.removeChild(warn);\n}\n$3Dmolpromise.then(function() {\nviewer_167722827134946 = $3Dmol.createViewer(document.getElementById(\"3dmolviewer_167722827134946\"),{backgroundColor:\"white\"});\nviewer_167722827134946.zoomTo();\n\tviewer_167722827134946.removeAllModels();\n\tviewer_167722827134946.addModel(\"\\n     RDKit          3D\\n\\n 21 23  0  0  0  0  0  0  0  0999 V2000\\n   -1.7517   -1.1720   -2.1292 C   0  0  0  0  0  0  0  0  0  0  0  0\\n   -1.0891   -0.1338   -1.2821 C   0  0  0  0  0  0  0  0  0  0  0  0\\n    0.1046   -0.5942   -0.6815 O   0  0  0  0  0  0  0  0  0  0  0  0\\n    1.3526   -0.1011   -0.9261 C   0  0  0  0  0  0  0  0  0  0  0  0\\n    1.4889    0.8292   -1.7374 O   0  0  0  0  0  0  0  0  0  0  0  0\\n    2.4914   -0.6788   -0.2293 C   0  0  0  0  0  0  0  0  0  0  0  0\\n    2.4807   -1.7076    0.6896 C   0  0  0  0  0  0  0  0  0  0  0  0\\n    3.7031   -1.9796    1.1257 N   0  0  0  0  0  0  0  0  0  0  0  0\\n    4.5367   -1.1170    0.4852 C   0  0  0  0  0  0  0  0  0  0  0  0\\n    5.9062   -0.9768    0.5755 C   0  0  0  0  0  0  0  0  0  0  0  0\\n    6.5566   -0.0069   -0.1902 C   0  0  0  0  0  0  0  0  0  0  0  0\\n    5.8470    0.8163   -1.0387 C   0  0  0  0  0  0  0  0  0  0  0  0\\n    4.4789    0.6624   -1.1165 C   0  0  0  0  0  0  0  0  0  0  0  0\\n    3.8163   -0.3051   -0.3549 C   0  0  0  0  0  0  0  0  0  0  0  0\\n   -1.9923    0.5031   -0.2670 C   0  0  0  0  0  0  0  0  0  0  0  0\\n   -3.1849    1.1816   -0.8998 C   0  0  0  0  0  0  0  0  0  0  0  0\\n   -3.7780    2.1002    0.1429 C   0  0  0  0  0  0  0  0  0  0  0  0\\n   -3.9585    1.4632    1.4792 C   0  0  0  0  0  0  0  0  0  0  0  0\\n   -2.8102    0.5794    1.9024 C   0  0  0  0  0  0  0  0  0  0  0  0\\n   -2.4152   -0.3181    0.7979 N   0  0  0  0  0  0  0  0  0  0  0  0\\n   -3.5375   -1.1597    0.5636 C   0  0  0  0  0  0  0  0  0  0  0  0\\n  1  2  1  0\\n  2  3  1  0\\n  3  4  1  0\\n  4  5  2  0\\n  4  6  1  0\\n  6  7  2  0\\n  7  8  1  0\\n  8  9  1  0\\n  9 10  2  0\\n 10 11  1  0\\n 11 12  2  0\\n 12 13  1  0\\n 13 14  2  0\\n  2 15  1  0\\n 15 16  1  0\\n 16 17  1  0\\n 17 18  1  0\\n 18 19  1  0\\n 19 20  1  0\\n 20 21  1  0\\n 14  6  1  0\\n 20 15  1  0\\n 14  9  1  0\\nM  END\\n\",\"sdf\");\n\tviewer_167722827134946.setStyle({\"stick\": {}});\n\tviewer_167722827134946.addSphere({\"center\": {\"x\": 3.7030583830584276, \"y\": -1.9796022711037298, \"z\": 1.1257380506896977}, \"radius\": 0.5, \"color\": \"0x0ffff\"});\n\tviewer_167722827134946.addSphere({\"center\": {\"x\": -2.4152476921622847, \"y\": -0.3181142856489917, \"z\": 0.7979153974084473}, \"radius\": 0.5, \"color\": \"0x0ffff\"});\n\tviewer_167722827134946.addSphere({\"center\": {\"x\": 0.10461182189820079, \"y\": -0.5941839865743946, \"z\": -0.6815387153812356}, \"radius\": 0.5, \"color\": \"0xff0ff\"});\n\tviewer_167722827134946.addSphere({\"center\": {\"x\": 1.4888818471340608, \"y\": 0.8291507783526, \"z\": -1.737368311626531}, \"radius\": 0.5, \"color\": \"0xff0ff\"});\n\tviewer_167722827134946.addSphere({\"center\": {\"x\": -2.4152476921622847, \"y\": -0.3181142856489917, \"z\": 0.7979153974084473}, \"radius\": 0.5, \"color\": \"0x00ff\"});\n\tviewer_167722827134946.addSphere({\"center\": {\"x\": 3.405628841470898, \"y\": -1.157629668148325, \"z\": 0.34326377175255157}, \"radius\": 0.5, \"color\": \"0xffcc33\"});\n\tviewer_167722827134946.addSphere({\"center\": {\"x\": 5.19026997128125, \"y\": -0.15452569601626737, \"z\": -0.27327712689966754}, \"radius\": 0.5, \"color\": \"0xffcc33\"});\n\tviewer_167722827134946.zoomTo();\nviewer_167722827134946.render();\n});\n</script>",
      "text/html": [
       "<div id=\"3dmolviewer_167722827134946\"  style=\"position: relative; width: 400px; height: 400px\">\n",
       "        <p id=\"3dmolwarning_167722827134946\" style=\"background-color:#ffcccc;color:black\">You appear to be running in JupyterLab (or JavaScript failed to load for some other reason).  You need to install the 3dmol extension: <br>\n",
       "        <tt>jupyter labextension install jupyterlab_3dmol</tt></p>\n",
       "        </div>\n",
       "<script>\n",
       "\n",
       "var loadScriptAsync = function(uri){\n",
       "  return new Promise((resolve, reject) => {\n",
       "    //this is to ignore the existence of requirejs amd\n",
       "    var savedexports, savedmodule;\n",
       "    if (typeof exports !== 'undefined') savedexports = exports;\n",
       "    else exports = {}\n",
       "    if (typeof module !== 'undefined') savedmodule = module;\n",
       "    else module = {}\n",
       "\n",
       "    var tag = document.createElement('script');\n",
       "    tag.src = uri;\n",
       "    tag.async = true;\n",
       "    tag.onload = () => {\n",
       "        exports = savedexports;\n",
       "        module = savedmodule;\n",
       "        resolve();\n",
       "    };\n",
       "  var firstScriptTag = document.getElementsByTagName('script')[0];\n",
       "  firstScriptTag.parentNode.insertBefore(tag, firstScriptTag);\n",
       "});\n",
       "};\n",
       "\n",
       "if(typeof $3Dmolpromise === 'undefined') {\n",
       "$3Dmolpromise = null;\n",
       "  $3Dmolpromise = loadScriptAsync('https://cdn.jsdelivr.net/npm/3dmol@latest/build/3Dmol-min.min.js');\n",
       "}\n",
       "\n",
       "var viewer_167722827134946 = null;\n",
       "var warn = document.getElementById(\"3dmolwarning_167722827134946\");\n",
       "if(warn) {\n",
       "    warn.parentNode.removeChild(warn);\n",
       "}\n",
       "$3Dmolpromise.then(function() {\n",
       "viewer_167722827134946 = $3Dmol.createViewer(document.getElementById(\"3dmolviewer_167722827134946\"),{backgroundColor:\"white\"});\n",
       "viewer_167722827134946.zoomTo();\n",
       "\tviewer_167722827134946.removeAllModels();\n",
       "\tviewer_167722827134946.addModel(\"\\n     RDKit          3D\\n\\n 21 23  0  0  0  0  0  0  0  0999 V2000\\n   -1.7517   -1.1720   -2.1292 C   0  0  0  0  0  0  0  0  0  0  0  0\\n   -1.0891   -0.1338   -1.2821 C   0  0  0  0  0  0  0  0  0  0  0  0\\n    0.1046   -0.5942   -0.6815 O   0  0  0  0  0  0  0  0  0  0  0  0\\n    1.3526   -0.1011   -0.9261 C   0  0  0  0  0  0  0  0  0  0  0  0\\n    1.4889    0.8292   -1.7374 O   0  0  0  0  0  0  0  0  0  0  0  0\\n    2.4914   -0.6788   -0.2293 C   0  0  0  0  0  0  0  0  0  0  0  0\\n    2.4807   -1.7076    0.6896 C   0  0  0  0  0  0  0  0  0  0  0  0\\n    3.7031   -1.9796    1.1257 N   0  0  0  0  0  0  0  0  0  0  0  0\\n    4.5367   -1.1170    0.4852 C   0  0  0  0  0  0  0  0  0  0  0  0\\n    5.9062   -0.9768    0.5755 C   0  0  0  0  0  0  0  0  0  0  0  0\\n    6.5566   -0.0069   -0.1902 C   0  0  0  0  0  0  0  0  0  0  0  0\\n    5.8470    0.8163   -1.0387 C   0  0  0  0  0  0  0  0  0  0  0  0\\n    4.4789    0.6624   -1.1165 C   0  0  0  0  0  0  0  0  0  0  0  0\\n    3.8163   -0.3051   -0.3549 C   0  0  0  0  0  0  0  0  0  0  0  0\\n   -1.9923    0.5031   -0.2670 C   0  0  0  0  0  0  0  0  0  0  0  0\\n   -3.1849    1.1816   -0.8998 C   0  0  0  0  0  0  0  0  0  0  0  0\\n   -3.7780    2.1002    0.1429 C   0  0  0  0  0  0  0  0  0  0  0  0\\n   -3.9585    1.4632    1.4792 C   0  0  0  0  0  0  0  0  0  0  0  0\\n   -2.8102    0.5794    1.9024 C   0  0  0  0  0  0  0  0  0  0  0  0\\n   -2.4152   -0.3181    0.7979 N   0  0  0  0  0  0  0  0  0  0  0  0\\n   -3.5375   -1.1597    0.5636 C   0  0  0  0  0  0  0  0  0  0  0  0\\n  1  2  1  0\\n  2  3  1  0\\n  3  4  1  0\\n  4  5  2  0\\n  4  6  1  0\\n  6  7  2  0\\n  7  8  1  0\\n  8  9  1  0\\n  9 10  2  0\\n 10 11  1  0\\n 11 12  2  0\\n 12 13  1  0\\n 13 14  2  0\\n  2 15  1  0\\n 15 16  1  0\\n 16 17  1  0\\n 17 18  1  0\\n 18 19  1  0\\n 19 20  1  0\\n 20 21  1  0\\n 14  6  1  0\\n 20 15  1  0\\n 14  9  1  0\\nM  END\\n\",\"sdf\");\n",
       "\tviewer_167722827134946.setStyle({\"stick\": {}});\n",
       "\tviewer_167722827134946.addSphere({\"center\": {\"x\": 3.7030583830584276, \"y\": -1.9796022711037298, \"z\": 1.1257380506896977}, \"radius\": 0.5, \"color\": \"0x0ffff\"});\n",
       "\tviewer_167722827134946.addSphere({\"center\": {\"x\": -2.4152476921622847, \"y\": -0.3181142856489917, \"z\": 0.7979153974084473}, \"radius\": 0.5, \"color\": \"0x0ffff\"});\n",
       "\tviewer_167722827134946.addSphere({\"center\": {\"x\": 0.10461182189820079, \"y\": -0.5941839865743946, \"z\": -0.6815387153812356}, \"radius\": 0.5, \"color\": \"0xff0ff\"});\n",
       "\tviewer_167722827134946.addSphere({\"center\": {\"x\": 1.4888818471340608, \"y\": 0.8291507783526, \"z\": -1.737368311626531}, \"radius\": 0.5, \"color\": \"0xff0ff\"});\n",
       "\tviewer_167722827134946.addSphere({\"center\": {\"x\": -2.4152476921622847, \"y\": -0.3181142856489917, \"z\": 0.7979153974084473}, \"radius\": 0.5, \"color\": \"0x00ff\"});\n",
       "\tviewer_167722827134946.addSphere({\"center\": {\"x\": 3.405628841470898, \"y\": -1.157629668148325, \"z\": 0.34326377175255157}, \"radius\": 0.5, \"color\": \"0xffcc33\"});\n",
       "\tviewer_167722827134946.addSphere({\"center\": {\"x\": 5.19026997128125, \"y\": -0.15452569601626737, \"z\": -0.27327712689966754}, \"radius\": 0.5, \"color\": \"0xffcc33\"});\n",
       "\tviewer_167722827134946.zoomTo();\n",
       "viewer_167722827134946.render();\n",
       "});\n",
       "</script>"
      ]
     },
     "metadata": {},
     "output_type": "display_data"
    }
   ],
   "source": [
    "drawFeatMap(ms[0],fms[0])"
   ]
  },
  {
   "cell_type": "markdown",
   "metadata": {},
   "source": [
    "Now let's look at scoring the features from each molecule against the feature map. Since scores are affected by the number of features in each `FeatMap`, we'll normalize here using the number of features in the molecule with less features."
   ]
  },
  {
   "cell_type": "code",
   "execution_count": 18,
   "metadata": {
    "ExecuteTime": {
     "end_time": "2023-02-24T08:44:31.441061Z",
     "start_time": "2023-02-24T08:44:31.359450Z"
    }
   },
   "outputs": [
    {
     "data": {
      "text/plain": [
       "0.31955076703314267"
      ]
     },
     "execution_count": 18,
     "metadata": {},
     "output_type": "execute_result"
    }
   ],
   "source": [
    "fms[0].ScoreFeats(fms[1].GetFeatures())/min(fms[0].GetNumFeatures(),fms[1].GetNumFeatures())"
   ]
  },
  {
   "cell_type": "code",
   "execution_count": 19,
   "metadata": {
    "ExecuteTime": {
     "end_time": "2023-02-24T08:44:31.515270Z",
     "start_time": "2023-02-24T08:44:31.446379Z"
    }
   },
   "outputs": [
    {
     "data": {
      "text/plain": [
       "0.815994417450649"
      ]
     },
     "execution_count": 19,
     "metadata": {},
     "output_type": "execute_result"
    }
   ],
   "source": [
    "fms[0].ScoreFeats(fms[2].GetFeatures())/min(fms[0].GetNumFeatures(),fms[2].GetNumFeatures())"
   ]
  },
  {
   "cell_type": "code",
   "execution_count": 20,
   "metadata": {
    "ExecuteTime": {
     "end_time": "2023-02-24T08:44:31.587616Z",
     "start_time": "2023-02-24T08:44:31.517667Z"
    }
   },
   "outputs": [
    {
     "data": {
      "text/plain": [
       "0.12773080957394894"
      ]
     },
     "execution_count": 20,
     "metadata": {},
     "output_type": "execute_result"
    }
   ],
   "source": [
    "fms[1].ScoreFeats(fms[2].GetFeatures())/min(fms[1].GetNumFeatures(),fms[2].GetNumFeatures())"
   ]
  },
  {
   "cell_type": "markdown",
   "metadata": {},
   "source": [
    "An aside: since the weights on the features in `FeatMap` are all 1.0, the scoring is symmetric:"
   ]
  },
  {
   "cell_type": "code",
   "execution_count": 21,
   "metadata": {
    "ExecuteTime": {
     "end_time": "2023-02-24T08:44:31.683185Z",
     "start_time": "2023-02-24T08:44:31.591934Z"
    }
   },
   "outputs": [
    {
     "data": {
      "text/plain": [
       "0.12773080957394894"
      ]
     },
     "execution_count": 21,
     "metadata": {},
     "output_type": "execute_result"
    }
   ],
   "source": [
    "fms[2].ScoreFeats(fms[1].GetFeatures())/min(fms[0].GetNumFeatures(),fms[2].GetNumFeatures())"
   ]
  },
  {
   "cell_type": "markdown",
   "metadata": {},
   "source": [
    "The `ScoreFeats()` method can also generate a feature map vector: the breakdown of the score by the contributions of individual features in the feature map."
   ]
  },
  {
   "cell_type": "code",
   "execution_count": 22,
   "metadata": {
    "ExecuteTime": {
     "end_time": "2023-02-24T08:44:31.757030Z",
     "start_time": "2023-02-24T08:44:31.687833Z"
    }
   },
   "outputs": [
    {
     "data": {
      "text/plain": [
       "[0.0, 0.47597567297942583, 0.0, 0.03494756531636994]"
      ]
     },
     "execution_count": 22,
     "metadata": {},
     "output_type": "execute_result"
    }
   ],
   "source": [
    "scoreVect = [0]*fms[2].GetNumFeatures()\n",
    "fms[2].ScoreFeats(featLists[1],mapScoreVect=scoreVect)\n",
    "scoreVect"
   ]
  },
  {
   "cell_type": "code",
   "execution_count": 23,
   "metadata": {
    "ExecuteTime": {
     "end_time": "2023-02-24T08:44:31.846337Z",
     "start_time": "2023-02-24T08:44:31.760686Z"
    }
   },
   "outputs": [
    {
     "data": {
      "text/plain": [
       "[0.900252447002704, 0.4636038094112722, 0.900252447002704, 0.999868966385916]"
      ]
     },
     "execution_count": 23,
     "metadata": {},
     "output_type": "execute_result"
    }
   ],
   "source": [
    "scoreVect = [0]*fms[2].GetNumFeatures()\n",
    "fms[2].ScoreFeats(featLists[0],mapScoreVect=scoreVect)\n",
    "scoreVect"
   ]
  },
  {
   "cell_type": "markdown",
   "metadata": {},
   "source": [
    "Feature map vectors can also be used as descriptors for machine learning, as shown in the second reference mentioned above. If I find a good example system I'll try and do a blog post on that as well."
   ]
  },
  {
   "cell_type": "markdown",
   "metadata": {
    "collapsed": true
   },
   "source": [
    "Hopefully others find this brief introduction to the RDKit's `FeatMap` implementation useful."
   ]
  }
 ],
 "metadata": {
  "kernelspec": {
   "display_name": "Python 3",
   "language": "python",
   "name": "python3"
  },
  "language_info": {
   "codemirror_mode": {
    "name": "ipython",
    "version": 3
   },
   "file_extension": ".py",
   "mimetype": "text/x-python",
   "name": "python",
   "nbconvert_exporter": "python",
   "pygments_lexer": "ipython3",
   "version": "3.9.9"
  },
  "toc": {
   "base_numbering": 1,
   "nav_menu": {},
   "number_sections": true,
   "sideBar": true,
   "skip_h1_title": false,
   "title_cell": "Table of Contents",
   "title_sidebar": "Contents",
   "toc_cell": false,
   "toc_position": {},
   "toc_section_display": true,
   "toc_window_display": false
  }
 },
 "nbformat": 4,
 "nbformat_minor": 2
}
