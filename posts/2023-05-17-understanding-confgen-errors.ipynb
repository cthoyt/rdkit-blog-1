{
 "cells": [
  {
   "cell_type": "raw",
   "id": "0b22dc13",
   "metadata": {},
   "source": [
    "---\n",
    "badges: true\n",
    "categories:\n",
    "- 3d\n",
    "- documentation\n",
    "date: '2023-05-17'\n",
    "title: Understanding conformer generation failures\n",
    "description: Getting more information when the conformer generation doesn't work\n",
    "image: images/blog/understanding_confgen_errors1.png\n",
    "toc: true\n",
    "\n",
    "---"
   ]
  },
  {
   "attachments": {},
   "cell_type": "markdown",
   "id": "ce24ca30",
   "metadata": {},
   "source": [
    "When the RDKit generates conformers for a molecule it performs a number of checks along the way to make sure that the atomic coordinates are reasonable/correct. When one of these checks fails, the current conformer is abandoned and the coordinate generation process starts from scratch. The maximum number of times this restart can happen is controlled by the `maxIterations` parameter: after `maxIterations` restarts the conformer generation fails. If you've called `EmbedMolecule()`, asking for a single conformer, you'll get a conformation ID of -1 to mark this failure. If you've asked for multiple conformers, you won't get as many as you requested. \n",
    "\n",
    "One of the changes for the 2023.03.1 release of the RDKit was the addition of an option to track which checks are failing during conformer generation. This can help understand what problems were encountered and to understand why conformer generation is not generating the expected results. Since, as is often the case, the RDKit's capabilities are ahead of its documentation, this short blog post will explain how to use this functionality and interpret the results.\n",
    "\n",
    "A general overview of the conformer generation process can be found in [the documentation](https://www.rdkit.org/docs/RDKit_Book.html#introduction)."
   ]
  },
  {
   "cell_type": "code",
   "execution_count": 1,
   "id": "c10ad6e9",
   "metadata": {},
   "outputs": [
    {
     "name": "stdout",
     "output_type": "stream",
     "text": [
      "2023.03.1\n"
     ]
    }
   ],
   "source": [
    "from rdkit import Chem\n",
    "from rdkit.Chem import rdDistGeom\n",
    "from rdkit.Chem import rdDepictor\n",
    "rdDepictor.SetPreferCoordGen(True)\n",
    "from rdkit.Chem.Draw import IPythonConsole\n",
    "IPythonConsole.ipython_3d = True\n",
    "import rdkit\n",
    "print(rdkit.__version__)"
   ]
  },
  {
   "attachments": {},
   "cell_type": "markdown",
   "id": "fe7f0bae",
   "metadata": {},
   "source": [
    "Molecules containing chiral centers in bridged rings can cause problems, so let's start with a norbornane derivative:"
   ]
  },
  {
   "cell_type": "code",
   "execution_count": 2,
   "id": "8ee93d5a",
   "metadata": {},
   "outputs": [
    {
     "data": {
      "image/png": "[encoded data removed]",
      "text/plain": [
       "<rdkit.Chem.rdchem.Mol at 0x179ad45ea40>"
      ]
     },
     "execution_count": 2,
     "metadata": {},
     "output_type": "execute_result"
    }
   ],
   "source": [
    "m = Chem.MolFromSmiles('C1C[C@]2(F)CC[C@@]1(Cl)C2')\n",
    "m"
   ]
  },
  {
   "cell_type": "code",
   "execution_count": 3,
   "id": "751fbcd5",
   "metadata": {},
   "outputs": [
    {
     "data": {
      "text/plain": [
       "0"
      ]
     },
     "execution_count": 3,
     "metadata": {},
     "output_type": "execute_result"
    }
   ],
   "source": [
    "mh = Chem.AddHs(m)\n",
    "ps = rdDistGeom.ETKDGv3()\n",
    "ps.randomSeed = 0xf00d\n",
    "rdDistGeom.EmbedMolecule(mh,ps)"
   ]
  },
  {
   "cell_type": "code",
   "execution_count": 4,
   "id": "4d5a6f0a",
   "metadata": {},
   "outputs": [
    {
     "data": {
      "application/3dmoljs_load.v0": "<div id=\"3dmolviewer_16842980760963316\"  style=\"position: relative; width: 400px; height: 400px\">\n        <p id=\"3dmolwarning_16842980760963316\" style=\"background-color:#ffcccc;color:black\">You appear to be running in JupyterLab (or JavaScript failed to load for some other reason).  You need to install the 3dmol extension: <br>\n        <tt>jupyter labextension install jupyterlab_3dmol</tt></p>\n        </div>\n<script>\n\nvar loadScriptAsync = function(uri){\n  return new Promise((resolve, reject) => {\n    //this is to ignore the existence of requirejs amd\n    var savedexports, savedmodule;\n    if (typeof exports !== 'undefined') savedexports = exports;\n    else exports = {}\n    if (typeof module !== 'undefined') savedmodule = module;\n    else module = {}\n\n    var tag = document.createElement('script');\n    tag.src = uri;\n    tag.async = true;\n    tag.onload = () => {\n        exports = savedexports;\n        module = savedmodule;\n        resolve();\n    };\n  var firstScriptTag = document.getElementsByTagName('script')[0];\n  firstScriptTag.parentNode.insertBefore(tag, firstScriptTag);\n});\n};\n\nif(typeof $3Dmolpromise === 'undefined') {\n$3Dmolpromise = null;\n  $3Dmolpromise = loadScriptAsync('https://cdnjs.cloudflare.com/ajax/libs/3Dmol/2.0.1/3Dmol-min.js');\n}\n\nvar viewer_16842980760963316 = null;\nvar warn = document.getElementById(\"3dmolwarning_16842980760963316\");\nif(warn) {\n    warn.parentNode.removeChild(warn);\n}\n$3Dmolpromise.then(function() {\nviewer_16842980760963316 = $3Dmol.createViewer(document.getElementById(\"3dmolviewer_16842980760963316\"),{backgroundColor:\"white\"});\nviewer_16842980760963316.zoomTo();\n\tviewer_16842980760963316.removeAllModels();\n\tviewer_16842980760963316.addModel(\"\\n     RDKit          3D\\n\\n 19 20  0  0  0  0  0  0  0  0999 V2000\\n    0.3977   -1.1048    0.9092 C   0  0  0  0  0  0  0  0  0  0  0  0\\n    0.1714    0.2776    1.5310 C   0  0  0  0  0  0  0  0  0  0  0  0\\n   -0.0342    1.1541    0.3112 C   0  0  2  0  0  0  0  0  0  0  0  0\\n    0.0592    2.4675    0.5313 F   0  0  0  0  0  0  0  0  0  0  0  0\\n   -1.2277    0.6891   -0.4645 C   0  0  0  0  0  0  0  0  0  0  0  0\\n   -0.8251   -0.6288   -1.1377 C   0  0  0  0  0  0  0  0  0  0  0  0\\n    0.5690   -0.8512   -0.5607 C   0  0  2  0  0  0  0  0  0  0  0  0\\n    1.5427   -1.9684   -1.4195 Cl  0  0  0  0  0  0  0  0  0  0  0  0\\n    1.0913    0.5941   -0.5783 C   0  0  0  0  0  0  0  0  0  0  0  0\\n    1.2313   -1.6370    1.3677 H   0  0  0  0  0  0  0  0  0  0  0  0\\n   -0.5685   -1.6584    1.1003 H   0  0  0  0  0  0  0  0  0  0  0  0\\n   -0.6850    0.3071    2.1972 H   0  0  0  0  0  0  0  0  0  0  0  0\\n    1.1088    0.5448    2.0466 H   0  0  0  0  0  0  0  0  0  0  0  0\\n   -1.3738    1.4261   -1.3041 H   0  0  0  0  0  0  0  0  0  0  0  0\\n   -2.1414    0.5927    0.1213 H   0  0  0  0  0  0  0  0  0  0  0  0\\n   -1.5380   -1.3969   -0.7508 H   0  0  0  0  0  0  0  0  0  0  0  0\\n   -0.8182   -0.5556   -2.2247 H   0  0  0  0  0  0  0  0  0  0  0  0\\n    0.9726    1.0587   -1.5612 H   0  0  0  0  0  0  0  0  0  0  0  0\\n    2.0679    0.6892   -0.1143 H   0  0  0  0  0  0  0  0  0  0  0  0\\n  1  2  1  0\\n  2  3  1  0\\n  3  4  1  1\\n  3  5  1  0\\n  5  6  1  0\\n  6  7  1  0\\n  7  8  1  6\\n  7  9  1  0\\n  7  1  1  0\\n  9  3  1  0\\n  1 10  1  0\\n  1 11  1  0\\n  2 12  1  0\\n  2 13  1  0\\n  5 14  1  0\\n  5 15  1  0\\n  6 16  1  0\\n  6 17  1  0\\n  9 18  1  0\\n  9 19  1  0\\nM  END\\n\",\"sdf\");\n\tviewer_16842980760963316.setStyle({\"stick\": {}});\n\tviewer_16842980760963316.setBackgroundColor(\"0xeeeeee\");\n\tviewer_16842980760963316.zoomTo();\nviewer_16842980760963316.render();\n});\n</script>",
      "text/html": [
       "<div id=\"3dmolviewer_16842980760963316\"  style=\"position: relative; width: 400px; height: 400px\">\n",
       "        <p id=\"3dmolwarning_16842980760963316\" style=\"background-color:#ffcccc;color:black\">You appear to be running in JupyterLab (or JavaScript failed to load for some other reason).  You need to install the 3dmol extension: <br>\n",
       "        <tt>jupyter labextension install jupyterlab_3dmol</tt></p>\n",
       "        </div>\n",
       "<script>\n",
       "\n",
       "var loadScriptAsync = function(uri){\n",
       "  return new Promise((resolve, reject) => {\n",
       "    //this is to ignore the existence of requirejs amd\n",
       "    var savedexports, savedmodule;\n",
       "    if (typeof exports !== 'undefined') savedexports = exports;\n",
       "    else exports = {}\n",
       "    if (typeof module !== 'undefined') savedmodule = module;\n",
       "    else module = {}\n",
       "\n",
       "    var tag = document.createElement('script');\n",
       "    tag.src = uri;\n",
       "    tag.async = true;\n",
       "    tag.onload = () => {\n",
       "        exports = savedexports;\n",
       "        module = savedmodule;\n",
       "        resolve();\n",
       "    };\n",
       "  var firstScriptTag = document.getElementsByTagName('script')[0];\n",
       "  firstScriptTag.parentNode.insertBefore(tag, firstScriptTag);\n",
       "});\n",
       "};\n",
       "\n",
       "if(typeof $3Dmolpromise === 'undefined') {\n",
       "$3Dmolpromise = null;\n",
       "  $3Dmolpromise = loadScriptAsync('https://cdnjs.cloudflare.com/ajax/libs/3Dmol/2.0.1/3Dmol-min.js');\n",
       "}\n",
       "\n",
       "var viewer_16842980760963316 = null;\n",
       "var warn = document.getElementById(\"3dmolwarning_16842980760963316\");\n",
       "if(warn) {\n",
       "    warn.parentNode.removeChild(warn);\n",
       "}\n",
       "$3Dmolpromise.then(function() {\n",
       "viewer_16842980760963316 = $3Dmol.createViewer(document.getElementById(\"3dmolviewer_16842980760963316\"),{backgroundColor:\"white\"});\n",
       "viewer_16842980760963316.zoomTo();\n",
       "\tviewer_16842980760963316.removeAllModels();\n",
       "\tviewer_16842980760963316.addModel(\"\\n     RDKit          3D\\n\\n 19 20  0  0  0  0  0  0  0  0999 V2000\\n    0.3977   -1.1048    0.9092 C   0  0  0  0  0  0  0  0  0  0  0  0\\n    0.1714    0.2776    1.5310 C   0  0  0  0  0  0  0  0  0  0  0  0\\n   -0.0342    1.1541    0.3112 C   0  0  2  0  0  0  0  0  0  0  0  0\\n    0.0592    2.4675    0.5313 F   0  0  0  0  0  0  0  0  0  0  0  0\\n   -1.2277    0.6891   -0.4645 C   0  0  0  0  0  0  0  0  0  0  0  0\\n   -0.8251   -0.6288   -1.1377 C   0  0  0  0  0  0  0  0  0  0  0  0\\n    0.5690   -0.8512   -0.5607 C   0  0  2  0  0  0  0  0  0  0  0  0\\n    1.5427   -1.9684   -1.4195 Cl  0  0  0  0  0  0  0  0  0  0  0  0\\n    1.0913    0.5941   -0.5783 C   0  0  0  0  0  0  0  0  0  0  0  0\\n    1.2313   -1.6370    1.3677 H   0  0  0  0  0  0  0  0  0  0  0  0\\n   -0.5685   -1.6584    1.1003 H   0  0  0  0  0  0  0  0  0  0  0  0\\n   -0.6850    0.3071    2.1972 H   0  0  0  0  0  0  0  0  0  0  0  0\\n    1.1088    0.5448    2.0466 H   0  0  0  0  0  0  0  0  0  0  0  0\\n   -1.3738    1.4261   -1.3041 H   0  0  0  0  0  0  0  0  0  0  0  0\\n   -2.1414    0.5927    0.1213 H   0  0  0  0  0  0  0  0  0  0  0  0\\n   -1.5380   -1.3969   -0.7508 H   0  0  0  0  0  0  0  0  0  0  0  0\\n   -0.8182   -0.5556   -2.2247 H   0  0  0  0  0  0  0  0  0  0  0  0\\n    0.9726    1.0587   -1.5612 H   0  0  0  0  0  0  0  0  0  0  0  0\\n    2.0679    0.6892   -0.1143 H   0  0  0  0  0  0  0  0  0  0  0  0\\n  1  2  1  0\\n  2  3  1  0\\n  3  4  1  1\\n  3  5  1  0\\n  5  6  1  0\\n  6  7  1  0\\n  7  8  1  6\\n  7  9  1  0\\n  7  1  1  0\\n  9  3  1  0\\n  1 10  1  0\\n  1 11  1  0\\n  2 12  1  0\\n  2 13  1  0\\n  5 14  1  0\\n  5 15  1  0\\n  6 16  1  0\\n  6 17  1  0\\n  9 18  1  0\\n  9 19  1  0\\nM  END\\n\",\"sdf\");\n",
       "\tviewer_16842980760963316.setStyle({\"stick\": {}});\n",
       "\tviewer_16842980760963316.setBackgroundColor(\"0xeeeeee\");\n",
       "\tviewer_16842980760963316.zoomTo();\n",
       "viewer_16842980760963316.render();\n",
       "});\n",
       "</script>"
      ]
     },
     "metadata": {},
     "output_type": "display_data"
    },
    {
     "data": {
      "image/png": "[encoded data removed]",
      "text/html": [],
      "text/plain": [
       "<rdkit.Chem.rdchem.Mol at 0x179ad45e960>"
      ]
     },
     "execution_count": 4,
     "metadata": {},
     "output_type": "execute_result"
    }
   ],
   "source": [
    "mh"
   ]
  },
  {
   "attachments": {},
   "cell_type": "markdown",
   "id": "b611c999",
   "metadata": {},
   "source": [
    "Now invert one of the stereocenters to create the stereoisomer which can't actually exist as a stable structure. Imagine inverting one of the chiral centers in the above molecule and you will see the problem: we'd have to point the attached halogen into the center of the cage."
   ]
  },
  {
   "cell_type": "code",
   "execution_count": 5,
   "id": "41e45aac",
   "metadata": {},
   "outputs": [
    {
     "data": {
      "image/png": "[encoded data removed]",
      "text/plain": [
       "<rdkit.Chem.rdchem.Mol at 0x179ad45ec00>"
      ]
     },
     "execution_count": 5,
     "metadata": {},
     "output_type": "execute_result"
    }
   ],
   "source": [
    "bad_m = Chem.MolFromSmiles('C1C[C@]2(F)CC[C@]1(Cl)C2')\n",
    "bad_m"
   ]
  },
  {
   "attachments": {},
   "cell_type": "markdown",
   "id": "3a1d1c67",
   "metadata": {},
   "source": [
    "Try creating a conformer for that:"
   ]
  },
  {
   "cell_type": "code",
   "execution_count": 6,
   "id": "15dce0c3",
   "metadata": {},
   "outputs": [
    {
     "data": {
      "text/plain": [
       "-1"
      ]
     },
     "execution_count": 6,
     "metadata": {},
     "output_type": "execute_result"
    }
   ],
   "source": [
    "bad_mh = Chem.AddHs(bad_m)\n",
    "ps = rdDistGeom.ETKDGv3()\n",
    "ps.randomSeed = 0xf00d\n",
    "rdDistGeom.EmbedMolecule(bad_mh,ps)"
   ]
  },
  {
   "attachments": {},
   "cell_type": "markdown",
   "id": "cccd43f0",
   "metadata": {},
   "source": [
    "The new functionality allows us to keep track of why the embedding failed:"
   ]
  },
  {
   "cell_type": "code",
   "execution_count": 7,
   "id": "c27fe123",
   "metadata": {},
   "outputs": [
    {
     "name": "stdout",
     "output_type": "stream",
     "text": [
      "-1\n"
     ]
    },
    {
     "data": {
      "text/plain": [
       "(7, 11, 30, 0, 0, 0, 142, 0, 0, 0)"
      ]
     },
     "execution_count": 7,
     "metadata": {},
     "output_type": "execute_result"
    }
   ],
   "source": [
    "ps.trackFailures = True\n",
    "print(rdDistGeom.EmbedMolecule(bad_mh,ps))\n",
    "counts = ps.GetFailureCounts()\n",
    "counts"
   ]
  },
  {
   "attachments": {},
   "cell_type": "markdown",
   "id": "4ca94985",
   "metadata": {},
   "source": [
    "Here's a quick loop over all the failure causes to see where the problems were:"
   ]
  },
  {
   "cell_type": "code",
   "execution_count": 8,
   "id": "4c12349d",
   "metadata": {},
   "outputs": [],
   "source": [
    "def print_failure_causes(counts):\n",
    "    for i,k in enumerate(rdDistGeom.EmbedFailureCauses.names):\n",
    "        print(k,counts[i])\n",
    "    # in v2022.03.1 two names are missing from `rdDistGeom.EmbedFailureCauses`:\n",
    "    print('LINEAR_DOUBLE_BOND',counts[i+1])\n",
    "    print('BAD_DOUBLE_BOND_STEREO',counts[i+2])    "
   ]
  },
  {
   "cell_type": "code",
   "execution_count": 9,
   "id": "6d67896c",
   "metadata": {},
   "outputs": [
    {
     "name": "stdout",
     "output_type": "stream",
     "text": [
      "INITIAL_COORDS 7\n",
      "FIRST_MINIMIZATION 11\n",
      "CHECK_TETRAHEDRAL_CENTERS 30\n",
      "CHECK_CHIRAL_CENTERS 0\n",
      "MINIMIZE_FOURTH_DIMENSION 0\n",
      "ETK_MINIMIZATION 0\n",
      "FINAL_CHIRAL_BOUNDS 142\n",
      "FINAL_CENTER_IN_VOLUME 0\n",
      "LINEAR_DOUBLE_BOND 0\n",
      "BAD_DOUBLE_BOND_STEREO 0\n"
     ]
    }
   ],
   "source": [
    "print_failure_causes(counts)"
   ]
  },
  {
   "attachments": {},
   "cell_type": "markdown",
   "id": "6bd3a5ec",
   "metadata": {},
   "source": [
    "Here's what the individual failures mean:\n",
    "\n",
    "- `INITIAL_COORDS`: generation of the initial coordinates from the random distance matrix (default) or from a set of random coordinates (when using random coordinate embedding) failed.\n",
    "- `FIRST_MINIMIZATION`: the initial optimization of the atom positions using the distance-geometry force field failed to produce a low-enough energy conformer. The check here has thresholds for both average energy per atom and the individual atom energies. I'm not providing the threshold values here since the energies from the distance-geometry force field are not physically meaningful - the threshold values are not interpretable.\n",
    "- `CHECK_TETRAHEDRAL_CENTERS`: at least one tetrahedral C and N centers either has a volume around it which is too small or is outside the volume defined by its neighbors\n",
    "- `MINIMIZE_FOURTH_DIMENSION`: the minmization to force the values of the fourth-dimensional component of each atom position failed\n",
    "- `ETK_MINIMIZATION`: after the minimization with the ET and/or K terms, at least one atom which should have been planar was not\n",
    "- `FINAL_CHIRAL_BOUNDS`: the neighborhood of an atom with specified chirality was too distorted (it violated distance constraints)\n",
    "- `FINAL_CENTER_IN_VOLUME`: an atom with specified chirality was outside of the volume defined by its neighbors\n",
    "- `LINEAR_DOUBLE_BOND`: one of the end atoms of a double bond had a linear geometry\n",
    "- `BAD_DOUBLE_BOND_STEREO`: the stereochemistry of a double bond with specified stereochemistry was wrong in the generated conformer\n"
   ]
  },
  {
   "attachments": {},
   "cell_type": "markdown",
   "id": "d5b31920",
   "metadata": {},
   "source": [
    "Just for comparison, the starting molecule had no failures:"
   ]
  },
  {
   "cell_type": "code",
   "execution_count": 10,
   "id": "afa0f225",
   "metadata": {},
   "outputs": [
    {
     "name": "stdout",
     "output_type": "stream",
     "text": [
      "0\n"
     ]
    },
    {
     "data": {
      "text/plain": [
       "(0, 0, 0, 0, 0, 0, 0, 0, 0, 0)"
      ]
     },
     "execution_count": 10,
     "metadata": {},
     "output_type": "execute_result"
    }
   ],
   "source": [
    "ps.trackFailures = True\n",
    "print(rdDistGeom.EmbedMolecule(mh,ps))\n",
    "counts = ps.GetFailureCounts()\n",
    "counts"
   ]
  },
  {
   "attachments": {},
   "cell_type": "markdown",
   "id": "782ace25",
   "metadata": {},
   "source": [
    "Let's try a more complicated molecule from ChEMBL; specified bond stereochemistry in macrocycles can also make conformer generation challenging."
   ]
  },
  {
   "cell_type": "code",
   "execution_count": 11,
   "id": "52ab215c",
   "metadata": {},
   "outputs": [
    {
     "data": {
      "image/png": "[encoded data removed]",
      "text/plain": [
       "<rdkit.Chem.rdchem.Mol at 0x179ad45f3e0>"
      ]
     },
     "execution_count": 11,
     "metadata": {},
     "output_type": "execute_result"
    }
   ],
   "source": [
    "m = Chem.MolFromSmiles(r'COc1cc(O)c2CSC[C@H](\\N=C(/S)\\CCC[C@@H](CO)OC(=O)c2c1C)c3onc(C)n3')\n",
    "m"
   ]
  },
  {
   "cell_type": "code",
   "execution_count": 12,
   "id": "a99ff4f6",
   "metadata": {
    "scrolled": true
   },
   "outputs": [
    {
     "name": "stdout",
     "output_type": "stream",
     "text": [
      "0\n",
      "INITIAL_COORDS 2\n",
      "FIRST_MINIMIZATION 0\n",
      "CHECK_TETRAHEDRAL_CENTERS 0\n",
      "CHECK_CHIRAL_CENTERS 0\n",
      "MINIMIZE_FOURTH_DIMENSION 0\n",
      "ETK_MINIMIZATION 0\n",
      "FINAL_CHIRAL_BOUNDS 0\n",
      "FINAL_CENTER_IN_VOLUME 0\n",
      "LINEAR_DOUBLE_BOND 3\n",
      "BAD_DOUBLE_BOND_STEREO 4\n"
     ]
    }
   ],
   "source": [
    "mh = Chem.AddHs(m)\n",
    "ps = rdDistGeom.ETKDGv3()\n",
    "ps.randomSeed = 0xbadd06\n",
    "ps.trackFailures = True\n",
    "print(rdDistGeom.EmbedMolecule(mh,ps))\n",
    "print_failure_causes(ps.GetFailureCounts())\n"
   ]
  },
  {
   "attachments": {},
   "cell_type": "markdown",
   "id": "fe8b3721",
   "metadata": {},
   "source": [
    "Here we did get a conformer, but there were some rejected conformers along the way. The double-bond-related failures indicate that the code had some problems with the ring double bond with specified stereochemistry."
   ]
  },
  {
   "cell_type": "code",
   "execution_count": null,
   "id": "9085926d",
   "metadata": {},
   "outputs": [],
   "source": []
  }
 ],
 "metadata": {
  "kernelspec": {
   "display_name": "Python 3 (ipykernel)",
   "language": "python",
   "name": "python3"
  },
  "language_info": {
   "codemirror_mode": {
    "name": "ipython",
    "version": 3
   },
   "file_extension": ".py",
   "mimetype": "text/x-python",
   "name": "python",
   "nbconvert_exporter": "python",
   "pygments_lexer": "ipython3",
   "version": "3.11.3"
  },
  "varInspector": {
   "cols": {
    "lenName": 16,
    "lenType": 16,
    "lenVar": 40
   },
   "kernels_config": {
    "python": {
     "delete_cmd_postfix": "",
     "delete_cmd_prefix": "del ",
     "library": "var_list.py",
     "varRefreshCmd": "print(var_dic_list())"
    },
    "r": {
     "delete_cmd_postfix": ") ",
     "delete_cmd_prefix": "rm(",
     "library": "var_list.r",
     "varRefreshCmd": "cat(var_dic_list()) "
    }
   },
   "types_to_exclude": [
    "module",
    "function",
    "builtin_function_or_method",
    "instance",
    "_Feature"
   ],
   "window_display": false
  }
 },
 "nbformat": 4,
 "nbformat_minor": 5
}
