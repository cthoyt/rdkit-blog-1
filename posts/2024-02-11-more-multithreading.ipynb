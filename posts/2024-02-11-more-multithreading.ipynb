{
 "cells": [
  {
   "cell_type": "raw",
   "id": "01a3ba7a",
   "metadata": {},
   "source": [
    "---\n",
    "badges: true\n",
    "categories:\n",
    "- tutorial\n",
    "date: '2024-02-11'\n",
    "title: Some new ways to speed RDKit calls up using multiple threads\n",
    "description: Let's take advantage of modern CPUs\n",
    "toc: true\n",
    "\n",
    "---"
   ]
  },
  {
   "cell_type": "markdown",
   "id": "7d8d75ed",
   "metadata": {},
   "source": [
    "This is another in a series of blog posts highlighting built-in RDKit support for speeding up some tasks by running multiple threads at once.\n",
    "\n",
    "Previous posts discussing this topic:\n",
    "\n",
    "  - [Using the Multithreaded Mol Readers](https://greglandrum.github.io/rdkit-blog/posts/2023-11-11-usingmultithreadedreaders.html)"
   ]
  },
  {
   "cell_type": "markdown",
   "id": "a400f834",
   "metadata": {},
   "source": [
    "# Preliminaries\n",
    "\n",
    "Start by reading in a bunch of molecules, multithreaded of course"
   ]
  },
  {
   "cell_type": "code",
   "execution_count": 10,
   "id": "c2ddcc56",
   "metadata": {
    "ExecuteTime": {
     "end_time": "2024-02-10T06:15:04.235961Z",
     "start_time": "2024-02-10T06:15:04.230530Z"
    }
   },
   "outputs": [
    {
     "name": "stdout",
     "output_type": "stream",
     "text": [
      "2023.09.5\n"
     ]
    }
   ],
   "source": [
    "import rdkit\n",
    "print(rdkit.__version__)"
   ]
  },
  {
   "cell_type": "code",
   "execution_count": 4,
   "id": "53e514e8",
   "metadata": {
    "ExecuteTime": {
     "end_time": "2024-02-10T06:08:29.992355Z",
     "start_time": "2024-02-10T06:08:29.811336Z"
    }
   },
   "outputs": [
    {
     "name": "stdout",
     "output_type": "stream",
     "text": [
      "smiles\ttarget_chembl_id\tlabel\tpKi\r\n",
      "Clc1ccc(cc1Cl)N2NC(=O)\\C(=C\\c3cccc(OCc4ccccc4)c3)\\C2=O\tCHEMBL1862\tinactive\t6.00\r\n",
      "Cc1ccc(cc1C)N2NC(=O)\\C(=C\\c3oc(cc3)c4ccc(C)c(Cl)c4)\\C2=O\tCHEMBL1862\tinactive\t5.30\r\n",
      "O=C(Nc1ccccc1)Nc2nnc(Cc3ccccc3)s2\tCHEMBL1862\tinactive\t4.24\r\n",
      "Brc1cc2OCOc2cc1\\C=C/3\\C(=O)NN(C3=O)c4ccc(I)cc4\tCHEMBL1862\tinactive\t5.60\r\n",
      "Nc1[nH]cnc2nnc(c3ccc(Cl)cc3)c12\tCHEMBL1862\tinactive\t6.30\r\n",
      "Ic1ccc(cc1)N2NC(=O)\\C(=C\\c3ccccc3)\\C2=O\tCHEMBL1862\tinactive\t6.22\r\n",
      "Ic1ccc(cc1)C(=O)Nc2nnc(CCc3ccccc3)s2\tCHEMBL1862\tinactive\t6.40\r\n",
      "Ic1ccccc1C(=O)Nc2nnc(CCc3ccccc3)s2\tCHEMBL1862\tinactive\t5.89\r\n",
      "Ic1ccc(\\C=C/2\\C(=O)NN(C2=O)c3ccc(I)cc3)cc1\tCHEMBL1862\tinactive\t6.10\r\n"
     ]
    }
   ],
   "source": [
    "!head ../data/BLSets_actives.txt"
   ]
  },
  {
   "cell_type": "code",
   "execution_count": 5,
   "id": "ccce7b42",
   "metadata": {
    "ExecuteTime": {
     "end_time": "2024-02-10T06:08:53.493421Z",
     "start_time": "2024-02-10T06:08:50.441390Z"
    }
   },
   "outputs": [
    {
     "data": {
      "text/plain": [
       "91663"
      ]
     },
     "execution_count": 5,
     "metadata": {},
     "output_type": "execute_result"
    }
   ],
   "source": [
    "from rdkit import Chem\n",
    "filename = '../data/BLSets_actives.txt'\n",
    "ms = [m for m in Chem.MultithreadedSmilesMolSupplier(filename,numWriterThreads=5) if m is not None]\n",
    "len(ms)"
   ]
  },
  {
   "cell_type": "markdown",
   "id": "ab21d0ce",
   "metadata": {},
   "source": [
    "# Generating fingerprints\n",
    "\n",
    "`2023.09.3` release"
   ]
  },
  {
   "cell_type": "code",
   "execution_count": 6,
   "id": "c6f0f024",
   "metadata": {
    "ExecuteTime": {
     "end_time": "2024-02-10T06:09:17.882735Z",
     "start_time": "2024-02-10T06:09:17.880740Z"
    }
   },
   "outputs": [],
   "source": [
    "from rdkit.Chem import rdFingerprintGenerator\n",
    "fpg = rdFingerprintGenerator.GetMorganGenerator()"
   ]
  },
  {
   "cell_type": "code",
   "execution_count": 7,
   "id": "5bd275dd",
   "metadata": {
    "ExecuteTime": {
     "end_time": "2024-02-10T06:10:35.508878Z",
     "start_time": "2024-02-10T06:09:38.512647Z"
    }
   },
   "outputs": [
    {
     "name": "stdout",
     "output_type": "stream",
     "text": [
      "7.11 s ± 90.7 ms per loop (mean ± std. dev. of 7 runs, 1 loop each)\n"
     ]
    }
   ],
   "source": [
    "%timeit fps=[fpg.GetFingerprint(m) for m in ms]"
   ]
  },
  {
   "cell_type": "markdown",
   "id": "5c11c9b0",
   "metadata": {},
   "source": [
    "With the `getFingerprints()` function we can generate all the fingerprints in a single call. This uses one thread by default and isn't significantly faster:"
   ]
  },
  {
   "cell_type": "code",
   "execution_count": 8,
   "id": "d26c8ba1",
   "metadata": {
    "ExecuteTime": {
     "end_time": "2024-02-10T06:11:38.858619Z",
     "start_time": "2024-02-10T06:10:42.593054Z"
    }
   },
   "outputs": [
    {
     "name": "stdout",
     "output_type": "stream",
     "text": [
      "7.02 s ± 44.3 ms per loop (mean ± std. dev. of 7 runs, 1 loop each)\n"
     ]
    }
   ],
   "source": [
    "%timeit fps=fpg.GetFingerprints(ms)"
   ]
  },
  {
   "cell_type": "markdown",
   "id": "ede5afe5",
   "metadata": {},
   "source": [
    "But we can also use getFingerprints with multiple threads, this does make a difference in run time:"
   ]
  },
  {
   "cell_type": "code",
   "execution_count": 9,
   "id": "1f35541f",
   "metadata": {
    "ExecuteTime": {
     "end_time": "2024-02-10T06:11:51.474240Z",
     "start_time": "2024-02-10T06:11:38.859698Z"
    }
   },
   "outputs": [
    {
     "name": "stdout",
     "output_type": "stream",
     "text": [
      "1.56 s ± 33.5 ms per loop (mean ± std. dev. of 7 runs, 1 loop each)\n"
     ]
    }
   ],
   "source": [
    "%timeit fps=fpg.GetFingerprints(ms, numThreads=5)"
   ]
  },
  {
   "cell_type": "markdown",
   "id": "f13f50ef",
   "metadata": {},
   "source": [
    "There are three analogous functions for the other fingerprint forms:\n",
    "\n",
    "- `fpg.GetCountFingerprints(ms)`\n",
    "- `fpg.GetSparseFingerprints(ms)`\n",
    "- `fpg.GetSparseCountFingerprints(ms)`\n"
   ]
  },
  {
   "cell_type": "markdown",
   "id": "e985b918",
   "metadata": {},
   "source": [
    "# Molecular standardization\n",
    "\n",
    "`2023.09.3` and `2023.09.4` releases"
   ]
  },
  {
   "cell_type": "markdown",
   "id": "214464ae",
   "metadata": {},
   "source": [
    "First check whether or not any of the molecules in the data set have multiple fragments:"
   ]
  },
  {
   "cell_type": "code",
   "execution_count": 15,
   "id": "b9414e9d",
   "metadata": {
    "ExecuteTime": {
     "end_time": "2024-02-10T06:33:35.624651Z",
     "start_time": "2024-02-10T06:33:35.270316Z"
    }
   },
   "outputs": [
    {
     "data": {
      "text/plain": [
       "Counter({1: 86368, 2: 4662, 3: 530, 4: 56, 5: 47})"
      ]
     },
     "execution_count": 15,
     "metadata": {},
     "output_type": "execute_result"
    }
   ],
   "source": [
    "from collections import Counter\n",
    "cntr = Counter()\n",
    "for m in ms:\n",
    "    frags = Chem.GetMolFrags(m)\n",
    "    cntr[len(frags)] += 1\n",
    "cntr"
   ]
  },
  {
   "cell_type": "markdown",
   "id": "5d1a0f72",
   "metadata": {},
   "source": [
    "Some do... we'll standardize them by finding the fragment parent:"
   ]
  },
  {
   "cell_type": "code",
   "execution_count": 14,
   "id": "492792e9",
   "metadata": {
    "ExecuteTime": {
     "end_time": "2024-02-10T06:21:29.083452Z",
     "start_time": "2024-02-10T06:21:29.059215Z"
    }
   },
   "outputs": [],
   "source": [
    "from rdkit.Chem.MolStandardize import rdMolStandardize"
   ]
  },
  {
   "cell_type": "markdown",
   "id": "a827b19a",
   "metadata": {},
   "source": [
    "Since we're going to be modifying the molecules in place we need to make a copy first so that we can do multiple experiments on the same input molecules. This adds a bit of time to the overall experiments, so let's figure out how much that is:"
   ]
  },
  {
   "cell_type": "code",
   "execution_count": 16,
   "id": "afb30109",
   "metadata": {
    "ExecuteTime": {
     "end_time": "2024-02-10T06:34:16.801203Z",
     "start_time": "2024-02-10T06:33:56.915407Z"
    }
   },
   "outputs": [
    {
     "name": "stdout",
     "output_type": "stream",
     "text": [
      "1.24 s ± 7.19 ms per loop (mean ± std. dev. of 7 runs, 1 loop each)\n"
     ]
    }
   ],
   "source": [
    "%timeit cms = [Chem.Mol(m) for m in ms]"
   ]
  },
  {
   "cell_type": "markdown",
   "id": "84a45a3a",
   "metadata": {},
   "source": [
    "Find the fragment parent (largest organic fragment) for all of the molecules using a single thread:"
   ]
  },
  {
   "cell_type": "code",
   "execution_count": 18,
   "id": "761825de",
   "metadata": {
    "ExecuteTime": {
     "end_time": "2024-02-10T06:44:07.985106Z",
     "start_time": "2024-02-10T06:35:27.581282Z"
    }
   },
   "outputs": [
    {
     "name": "stdout",
     "output_type": "stream",
     "text": [
      "1min 3s ± 949 ms per loop (mean ± std. dev. of 7 runs, 1 loop each)\n"
     ]
    }
   ],
   "source": [
    "%timeit cms = [Chem.Mol(m) for m in ms];rdMolStandardize.FragmentParentInPlace(cms,numThreads=1)"
   ]
  },
  {
   "cell_type": "markdown",
   "id": "1cdc4955",
   "metadata": {},
   "source": [
    "Using 5 threads:"
   ]
  },
  {
   "cell_type": "code",
   "execution_count": 19,
   "id": "ba39edb5",
   "metadata": {
    "ExecuteTime": {
     "end_time": "2024-02-10T06:46:12.398976Z",
     "start_time": "2024-02-10T06:44:07.986749Z"
    }
   },
   "outputs": [
    {
     "name": "stdout",
     "output_type": "stream",
     "text": [
      "14.5 s ± 64.4 ms per loop (mean ± std. dev. of 7 runs, 1 loop each)\n"
     ]
    }
   ],
   "source": [
    "%timeit cms = [Chem.Mol(m) for m in ms];rdMolStandardize.FragmentParentInPlace(cms,numThreads=5)"
   ]
  },
  {
   "cell_type": "markdown",
   "id": "520c1d6e",
   "metadata": {},
   "source": [
    "Other standardization functions that can operate on muliple molecules and support a `numThreads` argument:\n",
    "\n",
    "  - `CleanupInPlace()`: cleans up the molecule by removing Hs, sanitizing, disconnecting metals, normalizing, reionizing, and assigning stereochemistry.\n",
    "  - `NormalizeInPlace()`: normalizes the molecule by standardizing some functional groups\n",
    "  - `ReionizeInPlace()`: rearranges charges so that the strongest acids ionize first\n",
    "  - `RemoveFragmentsInPlace()`: removes common salts and solvents\n",
    "  - `TautomerParentInPlace()`: finds the canonical tautomer and then calls cleanup\n",
    "  - `StereoParentInPlace()`: removes all stereochemistry markers \n",
    "  - `IsotopeParentInPlace()`: removes all isotope labels\n",
    "  - `ChargeParentInPlace()`: neutralizes the molecule\n",
    "  - `SuperParentInPlace()`: this is the fragment, charge, isotope, stereo, and tautomer parent of the molecule\n",
    " "
   ]
  },
  {
   "cell_type": "code",
   "execution_count": 53,
   "id": "3e060d12",
   "metadata": {
    "ExecuteTime": {
     "end_time": "2024-02-11T05:52:04.701853Z",
     "start_time": "2024-02-11T05:52:04.695591Z"
    }
   },
   "outputs": [
    {
     "data": {
      "text/plain": [
       "'C.CC.[Fe]'"
      ]
     },
     "execution_count": 53,
     "metadata": {},
     "output_type": "execute_result"
    }
   ],
   "source": [
    "m = Chem.MolFromSmiles('CC.[Na+].[Cl-].C.[Fe].CCO')\n",
    "m = rdMolStandardize.RemoveFragments(m)\n",
    "Chem.MolToSmiles(m)"
   ]
  },
  {
   "cell_type": "code",
   "execution_count": 64,
   "id": "ed8144da",
   "metadata": {
    "ExecuteTime": {
     "end_time": "2024-02-11T05:58:08.756346Z",
     "start_time": "2024-02-11T05:58:08.750276Z"
    }
   },
   "outputs": [
    {
     "data": {
      "text/plain": [
       "'CC(=O)CCC[O-].[Na+]'"
      ]
     },
     "execution_count": 64,
     "metadata": {},
     "output_type": "execute_result"
    }
   ],
   "source": [
    "m = Chem.MolFromSmiles('CC(O)=CCCO[Na]')\n",
    "rdMolStandardize.TautomerParentInPlace(m)\n",
    "Chem.MolToSmiles(m)"
   ]
  },
  {
   "cell_type": "markdown",
   "id": "71d50483",
   "metadata": {},
   "source": [
    "# RMSD calculations\n",
    "`2023.09.3` release"
   ]
  },
  {
   "cell_type": "code",
   "execution_count": 21,
   "id": "2498043a",
   "metadata": {
    "ExecuteTime": {
     "end_time": "2024-02-10T06:59:55.690252Z",
     "start_time": "2024-02-10T06:59:55.026845Z"
    }
   },
   "outputs": [],
   "source": [
    "from rdkit.Chem import rdDistGeom\n",
    "from rdkit.Chem import rdMolAlign\n",
    "from rdkit.Chem.Draw import IPythonConsole\n",
    "IPythonConsole.ipython_3d = True"
   ]
  },
  {
   "cell_type": "markdown",
   "id": "619eb7e9",
   "metadata": {},
   "source": [
    "Download the ligand from a recent PDB structure"
   ]
  },
  {
   "cell_type": "code",
   "execution_count": 28,
   "id": "b4da90c4",
   "metadata": {
    "ExecuteTime": {
     "end_time": "2024-02-10T07:03:21.511082Z",
     "start_time": "2024-02-10T07:03:21.369610Z"
    }
   },
   "outputs": [
    {
     "name": "stderr",
     "output_type": "stream",
     "text": [
      "[08:03:21] Warning: molecule is tagged as 2D, but at least one Z coordinate is not zero. Marking the mol as 3D.\n"
     ]
    },
    {
     "data": {
      "application/3dmoljs_load.v0": "<div id=\"3dmolviewer_17075486014860165\"  style=\"position: relative; width: 400px; height: 400px;\">\n        <p id=\"3dmolwarning_17075486014860165\" style=\"background-color:#ffcccc;color:black\">You appear to be running in JupyterLab (or JavaScript failed to load for some other reason).  You need to install the 3dmol extension: <br>\n        <tt>jupyter labextension install jupyterlab_3dmol</tt></p>\n        </div>\n<script>\n\nvar loadScriptAsync = function(uri){\n  return new Promise((resolve, reject) => {\n    //this is to ignore the existence of requirejs amd\n    var savedexports, savedmodule;\n    if (typeof exports !== 'undefined') savedexports = exports;\n    else exports = {}\n    if (typeof module !== 'undefined') savedmodule = module;\n    else module = {}\n\n    var tag = document.createElement('script');\n    tag.src = uri;\n    tag.async = true;\n    tag.onload = () => {\n        exports = savedexports;\n        module = savedmodule;\n        resolve();\n    };\n  var firstScriptTag = document.getElementsByTagName('script')[0];\n  firstScriptTag.parentNode.insertBefore(tag, firstScriptTag);\n});\n};\n\nif(typeof $3Dmolpromise === 'undefined') {\n$3Dmolpromise = null;\n  $3Dmolpromise = loadScriptAsync('https://cdnjs.cloudflare.com/ajax/libs/3Dmol/2.0.4/3Dmol-min.js');\n}\n\nvar viewer_17075486014860165 = null;\nvar warn = document.getElementById(\"3dmolwarning_17075486014860165\");\nif(warn) {\n    warn.parentNode.removeChild(warn);\n}\n$3Dmolpromise.then(function() {\nviewer_17075486014860165 = $3Dmol.createViewer(document.getElementById(\"3dmolviewer_17075486014860165\"),{backgroundColor:\"white\"});\nviewer_17075486014860165.zoomTo();\n\tviewer_17075486014860165.removeAllModels();\n\tviewer_17075486014860165.addModel(\"U9X - Model conformer\\n     RDKit          3D\\n\\n105105  0  0  0  0  0  0  0  0999 V2000\\n   16.0270   16.8000   20.8500 O   0  0  0  0  0  0  0  0  0  0  0  0\\n   16.7990   16.4390   19.9790 C   0  0  0  0  0  0  0  0  0  0  0  0\\n   17.3400   17.4330   19.2990 N   0  0  0  0  0  0  0  0  0  0  0  0\\n   18.0420   17.2830   18.0980 C   0  0  0  0  0  0  0  0  0  0  0  0\\n   18.3270   16.1950   17.6150 O   0  0  0  0  0  0  0  0  0  0  0  0\\n   18.3980   18.5990   17.6350 C   0  0  0  0  0  0  0  0  0  0  0  0\\n   17.8480   19.5240   18.4670 C   0  0  0  0  0  0  0  0  0  0  0  0\\n   17.9440   20.8720   18.3950 O   0  0  0  0  0  0  0  0  0  0  0  0\\n   19.1280   21.4800   17.7580 C   0  0  0  0  0  0  0  0  0  0  0  0\\n   17.0630   18.8850   19.6320 C   0  0  2  0  0  0  0  0  0  0  0  0\\n   17.5270   19.4170   21.0140 C   0  0  0  0  0  0  0  0  0  0  0  0\\n   19.0680   19.4150   21.3670 C   0  0  0  0  0  0  0  0  0  0  0  0\\n   19.2870   19.0070   22.8620 C   0  0  0  0  0  0  0  0  0  0  0  0\\n   19.7830   20.7680   21.0530 C   0  0  0  0  0  0  0  0  0  0  0  0\\n   17.0060   14.9830   19.7300 C   0  0  0  0  0  0  0  0  0  0  0  0\\n   16.6710   14.2730   21.0960 C   0  0  0  0  0  0  0  0  0  0  0  0\\n   18.0340   13.8310   21.7470 C   0  0  2  0  0  0  0  0  0  0  0  0\\n   19.0680   14.9440   21.9900 C   0  0  0  0  0  0  0  0  0  0  0  0\\n   18.7760   12.7690   21.0000 N   0  0  0  0  0  0  0  0  0  0  0  0\\n   19.1430   11.5820   21.5190 C   0  0  0  0  0  0  0  0  0  0  0  0\\n   18.8400   11.2350   22.6560 O   0  0  0  0  0  0  0  0  0  0  0  0\\n   19.8850   10.5630   20.6260 C   0  0  2  0  0  0  0  0  0  0  0  0\\n   18.9040    9.4340   20.2620 C   0  0  0  0  0  0  0  0  0  0  0  0\\n   19.4350    8.4000   19.2350 C   0  0  0  0  0  0  0  0  0  0  0  0\\n   19.4730    9.0310   17.8600 C   0  0  0  0  0  0  0  0  0  0  0  0\\n   18.6130    7.0980   19.2570 C   0  0  0  0  0  0  0  0  0  0  0  0\\n   21.1190   10.0950   21.2550 N   0  0  0  0  0  0  0  0  0  0  0  0\\n   22.0340   10.8980   21.8150 C   0  0  0  0  0  0  0  0  0  0  0  0\\n   22.0290   12.1620   21.7450 O   0  0  0  0  0  0  0  0  0  0  0  0\\n   23.1090   10.2230   22.6590 C   0  0  2  0  0  0  0  0  0  0  0  0\\n   22.7380    9.8650   24.0910 C   0  0  0  0  0  0  0  0  0  0  0  0\\n   23.8450    9.3000   25.0030 C   0  0  0  0  0  0  0  0  0  0  0  0\\n   24.6870    8.1940   24.3070 C   0  0  0  0  0  0  0  0  0  0  0  0\\n   23.2640    8.8770   26.3360 C   0  0  0  0  0  0  0  0  0  0  0  0\\n   24.1810   11.1970   22.8230 O   0  0  0  0  0  0  0  0  0  0  0  0\\n   25.0430   11.4730   21.7940 C   0  0  0  0  0  0  0  0  0  0  0  0\\n   24.8970   10.9840   20.6820 O   0  0  0  0  0  0  0  0  0  0  0  0\\n   26.1570   12.4310   22.2980 C   0  0  1  0  0  0  0  0  0  0  0  0\\n   25.6460   13.7270   22.8180 N   0  0  0  0  0  0  0  0  0  0  0  0\\n   25.0130   13.8830   24.1640 C   0  0  0  0  0  0  0  0  0  0  0  0\\n   24.9220   14.4890   21.7730 C   0  0  0  0  0  0  0  0  0  0  0  0\\n   27.2530   11.6150   23.1340 C   0  0  1  0  0  0  0  0  0  0  0  0\\n   26.8760   11.3520   24.6170 C   0  0  0  0  0  0  0  0  0  0  0  0\\n   27.9170   10.3460   22.4930 C   0  0  0  0  0  0  0  0  0  0  0  0\\n   28.9780    9.5120   23.2370 C   0  0  0  0  0  0  0  0  0  0  0  0\\n   19.0040   18.8170   16.7680 H   0  0  0  0  0  0  0  0  0  0  0  0\\n   19.0390   22.5760   17.7880 H   0  0  0  0  0  0  0  0  0  0  0  0\\n   20.0350   21.1710   18.2990 H   0  0  0  0  0  0  0  0  0  0  0  0\\n   19.1930   21.1460   16.7120 H   0  0  0  0  0  0  0  0  0  0  0  0\\n   15.9910   19.0950   19.5060 H   0  0  0  0  0  0  0  0  0  0  0  0\\n   17.1820   20.4590   21.0890 H   0  0  0  0  0  0  0  0  0  0  0  0\\n   17.0220   18.8080   21.7780 H   0  0  0  0  0  0  0  0  0  0  0  0\\n   19.5420   18.6420   20.7440 H   0  0  0  0  0  0  0  0  0  0  0  0\\n   20.3630   19.0110   23.0900 H   0  0  0  0  0  0  0  0  0  0  0  0\\n   18.7710   19.7240   23.5170 H   0  0  0  0  0  0  0  0  0  0  0  0\\n   18.8800   17.9990   23.0300 H   0  0  0  0  0  0  0  0  0  0  0  0\\n   20.8470   20.6920   21.3230 H   0  0  0  0  0  0  0  0  0  0  0  0\\n   19.6920   20.9900   19.9800 H   0  0  0  0  0  0  0  0  0  0  0  0\\n   19.3130   21.5740   21.6350 H   0  0  0  0  0  0  0  0  0  0  0  0\\n   16.3320   14.6290   18.9370 H   0  0  0  0  0  0  0  0  0  0  0  0\\n   18.0490   14.7870   19.4400 H   0  0  0  0  0  0  0  0  0  0  0  0\\n   16.1450   14.9720   21.7630 H   0  0  0  0  0  0  0  0  0  0  0  0\\n   16.0380   13.3920   20.9160 H   0  0  0  0  0  0  0  0  0  0  0  0\\n   17.7820   13.4160   22.7340 H   0  0  0  0  0  0  0  0  0  0  0  0\\n   18.5950   15.7710   22.5400 H   0  0  0  0  0  0  0  0  0  0  0  0\\n   19.9060   14.5430   22.5790 H   0  0  0  0  0  0  0  0  0  0  0  0\\n   19.4430   15.3140   21.0240 H   0  0  0  0  0  0  0  0  0  0  0  0\\n   19.0170   12.9540   20.0470 H   0  0  0  0  0  0  0  0  0  0  0  0\\n   20.1490   11.0800   19.6920 H   0  0  0  0  0  0  0  0  0  0  0  0\\n   17.9970    9.8940   19.8430 H   0  0  0  0  0  0  0  0  0  0  0  0\\n   18.6480    8.8950   21.1860 H   0  0  0  0  0  0  0  0  0  0  0  0\\n   20.4670    8.1480   19.5220 H   0  0  0  0  0  0  0  0  0  0  0  0\\n   20.0700    9.9540   17.8960 H   0  0  0  0  0  0  0  0  0  0  0  0\\n   19.9280    8.3280   17.1470 H   0  0  0  0  0  0  0  0  0  0  0  0\\n   18.4490    9.2690   17.5370 H   0  0  0  0  0  0  0  0  0  0  0  0\\n   18.6150    6.6790   20.2740 H   0  0  0  0  0  0  0  0  0  0  0  0\\n   17.5780    7.3130   18.9510 H   0  0  0  0  0  0  0  0  0  0  0  0\\n   19.0580    6.3720   18.5610 H   0  0  0  0  0  0  0  0  0  0  0  0\\n   21.2920    9.1100   21.2680 H   0  0  0  0  0  0  0  0  0  0  0  0\\n   23.4780    9.3270   22.1380 H   0  0  0  0  0  0  0  0  0  0  0  0\\n   22.3550   10.7790   24.5680 H   0  0  0  0  0  0  0  0  0  0  0  0\\n   21.9370    9.1130   24.0440 H   0  0  0  0  0  0  0  0  0  0  0  0\\n   24.5350   10.1320   25.2070 H   0  0  0  0  0  0  0  0  0  0  0  0\\n   25.4580    7.8290   25.0010 H   0  0  0  0  0  0  0  0  0  0  0  0\\n   24.0300    7.3610   24.0180 H   0  0  0  0  0  0  0  0  0  0  0  0\\n   25.1680    8.6100   23.4100 H   0  0  0  0  0  0  0  0  0  0  0  0\\n   24.0650    8.4760   26.9750 H   0  0  0  0  0  0  0  0  0  0  0  0\\n   22.8030    9.7470   26.8270 H   0  0  0  0  0  0  0  0  0  0  0  0\\n   22.5020    8.1010   26.1740 H   0  0  0  0  0  0  0  0  0  0  0  0\\n   26.6970   12.7040   21.3790 H   0  0  0  0  0  0  0  0  0  0  0  0\\n   25.5810   13.3030   24.9060 H   0  0  0  0  0  0  0  0  0  0  0  0\\n   25.0150   14.9450   24.4490 H   0  0  0  0  0  0  0  0  0  0  0  0\\n   23.9770   13.5160   24.1270 H   0  0  0  0  0  0  0  0  0  0  0  0\\n   24.5610   15.4380   22.1950 H   0  0  0  0  0  0  0  0  0  0  0  0\\n   25.6020   14.6960   20.9330 H   0  0  0  0  0  0  0  0  0  0  0  0\\n   24.0660   13.8980   21.4150 H   0  0  0  0  0  0  0  0  0  0  0  0\\n   28.0880   12.3270   23.2060 H   0  0  0  0  0  0  0  0  0  0  0  0\\n   27.6840   10.7890   25.1070 H   0  0  0  0  0  0  0  0  0  0  0  0\\n   26.7320   12.3120   25.1340 H   0  0  0  0  0  0  0  0  0  0  0  0\\n   25.9440   10.7690   24.6600 H   0  0  0  0  0  0  0  0  0  0  0  0\\n   27.0940    9.6550   22.2560 H   0  0  0  0  0  0  0  0  0  0  0  0\\n   28.3910   10.6850   21.5600 H   0  0  0  0  0  0  0  0  0  0  0  0\\n   29.3010    8.6750   22.6000 H   0  0  0  0  0  0  0  0  0  0  0  0\\n   29.8440   10.1480   23.4740 H   0  0  0  0  0  0  0  0  0  0  0  0\\n   28.5470    9.1180   24.1690 H   0  0  0  0  0  0  0  0  0  0  0  0\\n  5  4  2  0\\n  6  4  1  0\\n  6  7  2  0\\n  9  8  1  0\\n 25 24  1  0\\n  4  3  1  0\\n  8  7  1  0\\n  7 10  1  0\\n 24 26  1  0\\n 24 23  1  0\\n  3 10  1  0\\n  3  2  1  0\\n 10 11  1  0\\n 15  2  1  0\\n 15 16  1  0\\n  2  1  2  0\\n 23 22  1  0\\n 22 27  1  0\\n 22 20  1  0\\n 37 36  2  0\\n 19 20  1  0\\n 19 17  1  0\\n 11 12  1  0\\n 14 12  1  0\\n 16 17  1  0\\n 27 28  1  0\\n 12 13  1  0\\n 20 21  2  0\\n 29 28  2  0\\n 17 18  1  0\\n 41 39  1  0\\n 36 38  1  0\\n 36 35  1  0\\n 28 30  1  0\\n 38 39  1  0\\n 38 42  1  0\\n 44 42  1  0\\n 44 45  1  0\\n 30 35  1  0\\n 30 31  1  0\\n 39 40  1  0\\n 42 43  1  0\\n 31 32  1  0\\n 33 32  1  0\\n 32 34  1  0\\n  6 46  1  0\\n  9 47  1  0\\n  9 48  1  0\\n  9 49  1  0\\n 10 50  1  6\\n 11 51  1  0\\n 11 52  1  0\\n 12 53  1  0\\n 13 54  1  0\\n 13 55  1  0\\n 13 56  1  0\\n 14 57  1  0\\n 14 58  1  0\\n 14 59  1  0\\n 15 60  1  0\\n 15 61  1  0\\n 16 62  1  0\\n 16 63  1  0\\n 17 64  1  1\\n 18 65  1  0\\n 18 66  1  0\\n 18 67  1  0\\n 19 68  1  0\\n 22 69  1  6\\n 23 70  1  0\\n 23 71  1  0\\n 24 72  1  0\\n 25 73  1  0\\n 25 74  1  0\\n 25 75  1  0\\n 26 76  1  0\\n 26 77  1  0\\n 26 78  1  0\\n 27 79  1  0\\n 30 80  1  6\\n 31 81  1  0\\n 31 82  1  0\\n 32 83  1  0\\n 33 84  1  0\\n 33 85  1  0\\n 33 86  1  0\\n 34 87  1  0\\n 34 88  1  0\\n 34 89  1  0\\n 38 90  1  6\\n 40 91  1  0\\n 40 92  1  0\\n 40 93  1  0\\n 41 94  1  0\\n 41 95  1  0\\n 41 96  1  0\\n 42 97  1  1\\n 43 98  1  0\\n 43 99  1  0\\n 43100  1  0\\n 44101  1  0\\n 44102  1  0\\n 45103  1  0\\n 45104  1  0\\n 45105  1  0\\nM  END\\n\",\"sdf\");\n\tviewer_17075486014860165.setStyle({\"stick\": {}});\n\tviewer_17075486014860165.setBackgroundColor(\"0xeeeeee\");\n\tviewer_17075486014860165.zoomTo();\nviewer_17075486014860165.render();\n});\n</script>",
      "text/html": [
       "<div id=\"3dmolviewer_17075486014860165\"  style=\"position: relative; width: 400px; height: 400px;\">\n",
       "        <p id=\"3dmolwarning_17075486014860165\" style=\"background-color:#ffcccc;color:black\">You appear to be running in JupyterLab (or JavaScript failed to load for some other reason).  You need to install the 3dmol extension: <br>\n",
       "        <tt>jupyter labextension install jupyterlab_3dmol</tt></p>\n",
       "        </div>\n",
       "<script>\n",
       "\n",
       "var loadScriptAsync = function(uri){\n",
       "  return new Promise((resolve, reject) => {\n",
       "    //this is to ignore the existence of requirejs amd\n",
       "    var savedexports, savedmodule;\n",
       "    if (typeof exports !== 'undefined') savedexports = exports;\n",
       "    else exports = {}\n",
       "    if (typeof module !== 'undefined') savedmodule = module;\n",
       "    else module = {}\n",
       "\n",
       "    var tag = document.createElement('script');\n",
       "    tag.src = uri;\n",
       "    tag.async = true;\n",
       "    tag.onload = () => {\n",
       "        exports = savedexports;\n",
       "        module = savedmodule;\n",
       "        resolve();\n",
       "    };\n",
       "  var firstScriptTag = document.getElementsByTagName('script')[0];\n",
       "  firstScriptTag.parentNode.insertBefore(tag, firstScriptTag);\n",
       "});\n",
       "};\n",
       "\n",
       "if(typeof $3Dmolpromise === 'undefined') {\n",
       "$3Dmolpromise = null;\n",
       "  $3Dmolpromise = loadScriptAsync('https://cdnjs.cloudflare.com/ajax/libs/3Dmol/2.0.4/3Dmol-min.js');\n",
       "}\n",
       "\n",
       "var viewer_17075486014860165 = null;\n",
       "var warn = document.getElementById(\"3dmolwarning_17075486014860165\");\n",
       "if(warn) {\n",
       "    warn.parentNode.removeChild(warn);\n",
       "}\n",
       "$3Dmolpromise.then(function() {\n",
       "viewer_17075486014860165 = $3Dmol.createViewer(document.getElementById(\"3dmolviewer_17075486014860165\"),{backgroundColor:\"white\"});\n",
       "viewer_17075486014860165.zoomTo();\n",
       "\tviewer_17075486014860165.removeAllModels();\n",
       "\tviewer_17075486014860165.addModel(\"U9X - Model conformer\\n     RDKit          3D\\n\\n105105  0  0  0  0  0  0  0  0999 V2000\\n   16.0270   16.8000   20.8500 O   0  0  0  0  0  0  0  0  0  0  0  0\\n   16.7990   16.4390   19.9790 C   0  0  0  0  0  0  0  0  0  0  0  0\\n   17.3400   17.4330   19.2990 N   0  0  0  0  0  0  0  0  0  0  0  0\\n   18.0420   17.2830   18.0980 C   0  0  0  0  0  0  0  0  0  0  0  0\\n   18.3270   16.1950   17.6150 O   0  0  0  0  0  0  0  0  0  0  0  0\\n   18.3980   18.5990   17.6350 C   0  0  0  0  0  0  0  0  0  0  0  0\\n   17.8480   19.5240   18.4670 C   0  0  0  0  0  0  0  0  0  0  0  0\\n   17.9440   20.8720   18.3950 O   0  0  0  0  0  0  0  0  0  0  0  0\\n   19.1280   21.4800   17.7580 C   0  0  0  0  0  0  0  0  0  0  0  0\\n   17.0630   18.8850   19.6320 C   0  0  2  0  0  0  0  0  0  0  0  0\\n   17.5270   19.4170   21.0140 C   0  0  0  0  0  0  0  0  0  0  0  0\\n   19.0680   19.4150   21.3670 C   0  0  0  0  0  0  0  0  0  0  0  0\\n   19.2870   19.0070   22.8620 C   0  0  0  0  0  0  0  0  0  0  0  0\\n   19.7830   20.7680   21.0530 C   0  0  0  0  0  0  0  0  0  0  0  0\\n   17.0060   14.9830   19.7300 C   0  0  0  0  0  0  0  0  0  0  0  0\\n   16.6710   14.2730   21.0960 C   0  0  0  0  0  0  0  0  0  0  0  0\\n   18.0340   13.8310   21.7470 C   0  0  2  0  0  0  0  0  0  0  0  0\\n   19.0680   14.9440   21.9900 C   0  0  0  0  0  0  0  0  0  0  0  0\\n   18.7760   12.7690   21.0000 N   0  0  0  0  0  0  0  0  0  0  0  0\\n   19.1430   11.5820   21.5190 C   0  0  0  0  0  0  0  0  0  0  0  0\\n   18.8400   11.2350   22.6560 O   0  0  0  0  0  0  0  0  0  0  0  0\\n   19.8850   10.5630   20.6260 C   0  0  2  0  0  0  0  0  0  0  0  0\\n   18.9040    9.4340   20.2620 C   0  0  0  0  0  0  0  0  0  0  0  0\\n   19.4350    8.4000   19.2350 C   0  0  0  0  0  0  0  0  0  0  0  0\\n   19.4730    9.0310   17.8600 C   0  0  0  0  0  0  0  0  0  0  0  0\\n   18.6130    7.0980   19.2570 C   0  0  0  0  0  0  0  0  0  0  0  0\\n   21.1190   10.0950   21.2550 N   0  0  0  0  0  0  0  0  0  0  0  0\\n   22.0340   10.8980   21.8150 C   0  0  0  0  0  0  0  0  0  0  0  0\\n   22.0290   12.1620   21.7450 O   0  0  0  0  0  0  0  0  0  0  0  0\\n   23.1090   10.2230   22.6590 C   0  0  2  0  0  0  0  0  0  0  0  0\\n   22.7380    9.8650   24.0910 C   0  0  0  0  0  0  0  0  0  0  0  0\\n   23.8450    9.3000   25.0030 C   0  0  0  0  0  0  0  0  0  0  0  0\\n   24.6870    8.1940   24.3070 C   0  0  0  0  0  0  0  0  0  0  0  0\\n   23.2640    8.8770   26.3360 C   0  0  0  0  0  0  0  0  0  0  0  0\\n   24.1810   11.1970   22.8230 O   0  0  0  0  0  0  0  0  0  0  0  0\\n   25.0430   11.4730   21.7940 C   0  0  0  0  0  0  0  0  0  0  0  0\\n   24.8970   10.9840   20.6820 O   0  0  0  0  0  0  0  0  0  0  0  0\\n   26.1570   12.4310   22.2980 C   0  0  1  0  0  0  0  0  0  0  0  0\\n   25.6460   13.7270   22.8180 N   0  0  0  0  0  0  0  0  0  0  0  0\\n   25.0130   13.8830   24.1640 C   0  0  0  0  0  0  0  0  0  0  0  0\\n   24.9220   14.4890   21.7730 C   0  0  0  0  0  0  0  0  0  0  0  0\\n   27.2530   11.6150   23.1340 C   0  0  1  0  0  0  0  0  0  0  0  0\\n   26.8760   11.3520   24.6170 C   0  0  0  0  0  0  0  0  0  0  0  0\\n   27.9170   10.3460   22.4930 C   0  0  0  0  0  0  0  0  0  0  0  0\\n   28.9780    9.5120   23.2370 C   0  0  0  0  0  0  0  0  0  0  0  0\\n   19.0040   18.8170   16.7680 H   0  0  0  0  0  0  0  0  0  0  0  0\\n   19.0390   22.5760   17.7880 H   0  0  0  0  0  0  0  0  0  0  0  0\\n   20.0350   21.1710   18.2990 H   0  0  0  0  0  0  0  0  0  0  0  0\\n   19.1930   21.1460   16.7120 H   0  0  0  0  0  0  0  0  0  0  0  0\\n   15.9910   19.0950   19.5060 H   0  0  0  0  0  0  0  0  0  0  0  0\\n   17.1820   20.4590   21.0890 H   0  0  0  0  0  0  0  0  0  0  0  0\\n   17.0220   18.8080   21.7780 H   0  0  0  0  0  0  0  0  0  0  0  0\\n   19.5420   18.6420   20.7440 H   0  0  0  0  0  0  0  0  0  0  0  0\\n   20.3630   19.0110   23.0900 H   0  0  0  0  0  0  0  0  0  0  0  0\\n   18.7710   19.7240   23.5170 H   0  0  0  0  0  0  0  0  0  0  0  0\\n   18.8800   17.9990   23.0300 H   0  0  0  0  0  0  0  0  0  0  0  0\\n   20.8470   20.6920   21.3230 H   0  0  0  0  0  0  0  0  0  0  0  0\\n   19.6920   20.9900   19.9800 H   0  0  0  0  0  0  0  0  0  0  0  0\\n   19.3130   21.5740   21.6350 H   0  0  0  0  0  0  0  0  0  0  0  0\\n   16.3320   14.6290   18.9370 H   0  0  0  0  0  0  0  0  0  0  0  0\\n   18.0490   14.7870   19.4400 H   0  0  0  0  0  0  0  0  0  0  0  0\\n   16.1450   14.9720   21.7630 H   0  0  0  0  0  0  0  0  0  0  0  0\\n   16.0380   13.3920   20.9160 H   0  0  0  0  0  0  0  0  0  0  0  0\\n   17.7820   13.4160   22.7340 H   0  0  0  0  0  0  0  0  0  0  0  0\\n   18.5950   15.7710   22.5400 H   0  0  0  0  0  0  0  0  0  0  0  0\\n   19.9060   14.5430   22.5790 H   0  0  0  0  0  0  0  0  0  0  0  0\\n   19.4430   15.3140   21.0240 H   0  0  0  0  0  0  0  0  0  0  0  0\\n   19.0170   12.9540   20.0470 H   0  0  0  0  0  0  0  0  0  0  0  0\\n   20.1490   11.0800   19.6920 H   0  0  0  0  0  0  0  0  0  0  0  0\\n   17.9970    9.8940   19.8430 H   0  0  0  0  0  0  0  0  0  0  0  0\\n   18.6480    8.8950   21.1860 H   0  0  0  0  0  0  0  0  0  0  0  0\\n   20.4670    8.1480   19.5220 H   0  0  0  0  0  0  0  0  0  0  0  0\\n   20.0700    9.9540   17.8960 H   0  0  0  0  0  0  0  0  0  0  0  0\\n   19.9280    8.3280   17.1470 H   0  0  0  0  0  0  0  0  0  0  0  0\\n   18.4490    9.2690   17.5370 H   0  0  0  0  0  0  0  0  0  0  0  0\\n   18.6150    6.6790   20.2740 H   0  0  0  0  0  0  0  0  0  0  0  0\\n   17.5780    7.3130   18.9510 H   0  0  0  0  0  0  0  0  0  0  0  0\\n   19.0580    6.3720   18.5610 H   0  0  0  0  0  0  0  0  0  0  0  0\\n   21.2920    9.1100   21.2680 H   0  0  0  0  0  0  0  0  0  0  0  0\\n   23.4780    9.3270   22.1380 H   0  0  0  0  0  0  0  0  0  0  0  0\\n   22.3550   10.7790   24.5680 H   0  0  0  0  0  0  0  0  0  0  0  0\\n   21.9370    9.1130   24.0440 H   0  0  0  0  0  0  0  0  0  0  0  0\\n   24.5350   10.1320   25.2070 H   0  0  0  0  0  0  0  0  0  0  0  0\\n   25.4580    7.8290   25.0010 H   0  0  0  0  0  0  0  0  0  0  0  0\\n   24.0300    7.3610   24.0180 H   0  0  0  0  0  0  0  0  0  0  0  0\\n   25.1680    8.6100   23.4100 H   0  0  0  0  0  0  0  0  0  0  0  0\\n   24.0650    8.4760   26.9750 H   0  0  0  0  0  0  0  0  0  0  0  0\\n   22.8030    9.7470   26.8270 H   0  0  0  0  0  0  0  0  0  0  0  0\\n   22.5020    8.1010   26.1740 H   0  0  0  0  0  0  0  0  0  0  0  0\\n   26.6970   12.7040   21.3790 H   0  0  0  0  0  0  0  0  0  0  0  0\\n   25.5810   13.3030   24.9060 H   0  0  0  0  0  0  0  0  0  0  0  0\\n   25.0150   14.9450   24.4490 H   0  0  0  0  0  0  0  0  0  0  0  0\\n   23.9770   13.5160   24.1270 H   0  0  0  0  0  0  0  0  0  0  0  0\\n   24.5610   15.4380   22.1950 H   0  0  0  0  0  0  0  0  0  0  0  0\\n   25.6020   14.6960   20.9330 H   0  0  0  0  0  0  0  0  0  0  0  0\\n   24.0660   13.8980   21.4150 H   0  0  0  0  0  0  0  0  0  0  0  0\\n   28.0880   12.3270   23.2060 H   0  0  0  0  0  0  0  0  0  0  0  0\\n   27.6840   10.7890   25.1070 H   0  0  0  0  0  0  0  0  0  0  0  0\\n   26.7320   12.3120   25.1340 H   0  0  0  0  0  0  0  0  0  0  0  0\\n   25.9440   10.7690   24.6600 H   0  0  0  0  0  0  0  0  0  0  0  0\\n   27.0940    9.6550   22.2560 H   0  0  0  0  0  0  0  0  0  0  0  0\\n   28.3910   10.6850   21.5600 H   0  0  0  0  0  0  0  0  0  0  0  0\\n   29.3010    8.6750   22.6000 H   0  0  0  0  0  0  0  0  0  0  0  0\\n   29.8440   10.1480   23.4740 H   0  0  0  0  0  0  0  0  0  0  0  0\\n   28.5470    9.1180   24.1690 H   0  0  0  0  0  0  0  0  0  0  0  0\\n  5  4  2  0\\n  6  4  1  0\\n  6  7  2  0\\n  9  8  1  0\\n 25 24  1  0\\n  4  3  1  0\\n  8  7  1  0\\n  7 10  1  0\\n 24 26  1  0\\n 24 23  1  0\\n  3 10  1  0\\n  3  2  1  0\\n 10 11  1  0\\n 15  2  1  0\\n 15 16  1  0\\n  2  1  2  0\\n 23 22  1  0\\n 22 27  1  0\\n 22 20  1  0\\n 37 36  2  0\\n 19 20  1  0\\n 19 17  1  0\\n 11 12  1  0\\n 14 12  1  0\\n 16 17  1  0\\n 27 28  1  0\\n 12 13  1  0\\n 20 21  2  0\\n 29 28  2  0\\n 17 18  1  0\\n 41 39  1  0\\n 36 38  1  0\\n 36 35  1  0\\n 28 30  1  0\\n 38 39  1  0\\n 38 42  1  0\\n 44 42  1  0\\n 44 45  1  0\\n 30 35  1  0\\n 30 31  1  0\\n 39 40  1  0\\n 42 43  1  0\\n 31 32  1  0\\n 33 32  1  0\\n 32 34  1  0\\n  6 46  1  0\\n  9 47  1  0\\n  9 48  1  0\\n  9 49  1  0\\n 10 50  1  6\\n 11 51  1  0\\n 11 52  1  0\\n 12 53  1  0\\n 13 54  1  0\\n 13 55  1  0\\n 13 56  1  0\\n 14 57  1  0\\n 14 58  1  0\\n 14 59  1  0\\n 15 60  1  0\\n 15 61  1  0\\n 16 62  1  0\\n 16 63  1  0\\n 17 64  1  1\\n 18 65  1  0\\n 18 66  1  0\\n 18 67  1  0\\n 19 68  1  0\\n 22 69  1  6\\n 23 70  1  0\\n 23 71  1  0\\n 24 72  1  0\\n 25 73  1  0\\n 25 74  1  0\\n 25 75  1  0\\n 26 76  1  0\\n 26 77  1  0\\n 26 78  1  0\\n 27 79  1  0\\n 30 80  1  6\\n 31 81  1  0\\n 31 82  1  0\\n 32 83  1  0\\n 33 84  1  0\\n 33 85  1  0\\n 33 86  1  0\\n 34 87  1  0\\n 34 88  1  0\\n 34 89  1  0\\n 38 90  1  6\\n 40 91  1  0\\n 40 92  1  0\\n 40 93  1  0\\n 41 94  1  0\\n 41 95  1  0\\n 41 96  1  0\\n 42 97  1  1\\n 43 98  1  0\\n 43 99  1  0\\n 43100  1  0\\n 44101  1  0\\n 44102  1  0\\n 45103  1  0\\n 45104  1  0\\n 45105  1  0\\nM  END\\n\",\"sdf\");\n",
       "\tviewer_17075486014860165.setStyle({\"stick\": {}});\n",
       "\tviewer_17075486014860165.setBackgroundColor(\"0xeeeeee\");\n",
       "\tviewer_17075486014860165.zoomTo();\n",
       "viewer_17075486014860165.render();\n",
       "});\n",
       "</script>"
      ]
     },
     "metadata": {},
     "output_type": "display_data"
    },
    {
     "data": {
      "image/png": "[encoded data removed]",
      "text/html": [],
      "text/plain": [
       "<rdkit.Chem.rdchem.Mol at 0x7fe325184c10>"
      ]
     },
     "execution_count": 28,
     "metadata": {},
     "output_type": "execute_result"
    }
   ],
   "source": [
    "import requests\n",
    "d = requests.get('https://www.ebi.ac.uk/pdbe/static/files/pdbechem_v2/U9X_model.sdf').text\n",
    "mol = Chem.MolFromMolBlock(d,removeHs=False)\n",
    "mol"
   ]
  },
  {
   "cell_type": "markdown",
   "id": "60f68196",
   "metadata": {},
   "source": [
    "You've been able to use multiple threads during conformer generation for a while, it makes a big difference:"
   ]
  },
  {
   "cell_type": "code",
   "execution_count": 30,
   "id": "0450b9de",
   "metadata": {
    "ExecuteTime": {
     "end_time": "2024-02-10T07:24:08.106278Z",
     "start_time": "2024-02-10T07:04:11.985828Z"
    }
   },
   "outputs": [
    {
     "name": "stdout",
     "output_type": "stream",
     "text": [
      "2min 29s ± 236 ms per loop (mean ± std. dev. of 7 runs, 1 loop each)\n"
     ]
    }
   ],
   "source": [
    "mcp = Chem.Mol(mol)\n",
    "ps = rdDistGeom.ETKDGv3()\n",
    "ps.randomSeed = 0xc0ffee\n",
    "\n",
    "%timeit rdDistGeom.EmbedMultipleConfs(mcp,500,ps)"
   ]
  },
  {
   "cell_type": "code",
   "execution_count": 31,
   "id": "db997242",
   "metadata": {
    "ExecuteTime": {
     "end_time": "2024-02-10T07:28:55.478598Z",
     "start_time": "2024-02-10T07:24:08.107423Z"
    }
   },
   "outputs": [
    {
     "name": "stdout",
     "output_type": "stream",
     "text": [
      "36 s ± 78.2 ms per loop (mean ± std. dev. of 7 runs, 1 loop each)\n"
     ]
    }
   ],
   "source": [
    "mcp = Chem.Mol(mol)\n",
    "ps = rdDistGeom.ETKDGv3()\n",
    "ps.randomSeed = 0xc0ffee\n",
    "ps.numThreads = 5\n",
    "%timeit rdDistGeom.EmbedMultipleConfs(mcp,500,ps)"
   ]
  },
  {
   "cell_type": "markdown",
   "id": "e5e13cbd",
   "metadata": {},
   "source": [
    "`GetAllConformerBestRMS()` returns the \"distance matrix\" between all of the molecule's conformers, it also can be nicely run in multiple threads:"
   ]
  },
  {
   "cell_type": "code",
   "execution_count": 35,
   "id": "6f486e35",
   "metadata": {
    "ExecuteTime": {
     "end_time": "2024-02-11T05:26:06.890135Z",
     "start_time": "2024-02-11T05:25:38.711850Z"
    }
   },
   "outputs": [
    {
     "name": "stdout",
     "output_type": "stream",
     "text": [
      "3.52 s ± 92.3 ms per loop (mean ± std. dev. of 7 runs, 1 loop each)\n"
     ]
    }
   ],
   "source": [
    "mol_noh = Chem.RemoveHs(mol)\n",
    "mcp_noh = Chem.RemoveHs(mcp)\n",
    "%timeit rdMolAlign.GetAllConformerBestRMS(mcp_noh)"
   ]
  },
  {
   "cell_type": "code",
   "execution_count": 36,
   "id": "c510ef9c",
   "metadata": {
    "ExecuteTime": {
     "end_time": "2024-02-11T05:26:14.435195Z",
     "start_time": "2024-02-11T05:26:06.891667Z"
    }
   },
   "outputs": [
    {
     "name": "stdout",
     "output_type": "stream",
     "text": [
      "937 ms ± 26.4 ms per loop (mean ± std. dev. of 7 runs, 1 loop each)\n"
     ]
    }
   ],
   "source": [
    "%timeit rdMolAlign.GetAllConformerBestRMS(mcp_noh, numThreads=5)"
   ]
  },
  {
   "cell_type": "markdown",
   "id": "074aa918",
   "metadata": {},
   "source": [
    "We can use this to quickly find the conformer with the best RMSD to the crystal conformer:"
   ]
  },
  {
   "cell_type": "code",
   "execution_count": 37,
   "id": "2177973d",
   "metadata": {
    "ExecuteTime": {
     "end_time": "2024-02-11T05:33:16.860470Z",
     "start_time": "2024-02-11T05:33:16.855303Z"
    }
   },
   "outputs": [
    {
     "data": {
      "text/plain": [
       "500"
      ]
     },
     "execution_count": 37,
     "metadata": {},
     "output_type": "execute_result"
    }
   ],
   "source": [
    "mcp_noh.GetNumConformers()"
   ]
  },
  {
   "cell_type": "markdown",
   "id": "f3a48206",
   "metadata": {},
   "source": [
    "Add the crystal conformer at the end of the conformer list:"
   ]
  },
  {
   "cell_type": "code",
   "execution_count": 38,
   "id": "a045a19f",
   "metadata": {
    "ExecuteTime": {
     "end_time": "2024-02-11T05:34:09.030550Z",
     "start_time": "2024-02-11T05:34:09.027913Z"
    }
   },
   "outputs": [
    {
     "data": {
      "text/plain": [
       "501"
      ]
     },
     "execution_count": 38,
     "metadata": {},
     "output_type": "execute_result"
    }
   ],
   "source": [
    "mcp_noh.AddConformer(mol_noh.GetConformer(),assignId=True)\n",
    "mcp_noh.GetNumConformers()"
   ]
  },
  {
   "cell_type": "code",
   "execution_count": 39,
   "id": "6f53cab5",
   "metadata": {
    "ExecuteTime": {
     "end_time": "2024-02-11T05:34:36.825868Z",
     "start_time": "2024-02-11T05:34:35.918774Z"
    }
   },
   "outputs": [
    {
     "data": {
      "text/plain": [
       "125250"
      ]
     },
     "execution_count": 39,
     "metadata": {},
     "output_type": "execute_result"
    }
   ],
   "source": [
    "dmat = rdMolAlign.GetAllConformerBestRMS(mcp_noh, numThreads=5)\n",
    "len(dmat)"
   ]
  },
  {
   "cell_type": "markdown",
   "id": "973a146c",
   "metadata": {},
   "source": [
    "The elements of dmat are stored in the RDKit's usual way for symmetric matrices, with the indices in the order:\n",
    "`[(1,0),(2,0),(2,1),(3,0),...]`, so the distances to the last conformer (the crystal conformer we just added) are at the end:"
   ]
  },
  {
   "cell_type": "code",
   "execution_count": 42,
   "id": "7d4f3e06",
   "metadata": {
    "ExecuteTime": {
     "end_time": "2024-02-11T05:36:40.399150Z",
     "start_time": "2024-02-11T05:36:40.396683Z"
    }
   },
   "outputs": [
    {
     "data": {
      "text/plain": [
       "1.812529263358374"
      ]
     },
     "execution_count": 42,
     "metadata": {},
     "output_type": "execute_result"
    }
   ],
   "source": [
    "dists_to_xtal = dmat[-500:]\n",
    "min(dists_to_xtal)"
   ]
  },
  {
   "cell_type": "markdown",
   "id": "7131c6cc",
   "metadata": {},
   "source": [
    "That's not a fantastic result, but the molecule I picked for this demo is super flexible and we only generated 500 conformers."
   ]
  },
  {
   "cell_type": "code",
   "execution_count": null,
   "id": "f45fd499",
   "metadata": {},
   "outputs": [],
   "source": []
  }
 ],
 "metadata": {
  "kernelspec": {
   "display_name": "Python 3 (ipykernel)",
   "language": "python",
   "name": "python3"
  },
  "language_info": {
   "codemirror_mode": {
    "name": "ipython",
    "version": 3
   },
   "file_extension": ".py",
   "mimetype": "text/x-python",
   "name": "python",
   "nbconvert_exporter": "python",
   "pygments_lexer": "ipython3",
   "version": "3.12.1"
  },
  "toc": {
   "base_numbering": 1,
   "nav_menu": {},
   "number_sections": true,
   "sideBar": true,
   "skip_h1_title": false,
   "title_cell": "Table of Contents",
   "title_sidebar": "Contents",
   "toc_cell": false,
   "toc_position": {},
   "toc_section_display": true,
   "toc_window_display": false
  }
 },
 "nbformat": 4,
 "nbformat_minor": 5
}
