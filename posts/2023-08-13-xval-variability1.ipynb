{
 "cells": [
  {
   "cell_type": "raw",
   "metadata": {},
   "source": [
    "---\n",
    "badges: true\n",
    "categories:\n",
    "- machine learning\n",
    "- exploration\n",
    "date: '2023-08-13'\n",
    "title: Variability of x-fold cross validation results\n",
    "description: Should multiple splits be run?\n",
    "image: images/blog/2023-08-13-xval-variability1.png\n",
    "toc: true\n",
    "\n",
    "---"
   ]
  },
  {
   "cell_type": "markdown",
   "metadata": {},
   "source": [
    "# Intro"
   ]
  },
  {
   "attachments": {
    "image-2.png": {
     "image/png": "[encoded data removed]"
    }
   },
   "cell_type": "markdown",
   "metadata": {},
   "source": [
    "This one is to provide at least something of an answer for a question I'm curious about, plus it's an excuse to play with a new data set. \n",
    "\n",
    "It has always somewhat bothered me that we don't don't insist that people try different random starting points when using standard N-fold cross validation to test model performance. If there's a random process involved in splitting the data into the N-folds, then it seems logical to test how much the results depend on that split. Given that sklearn provides a utility function for doing this, [RepeatedKFold](https://scikit-learn.org/stable/modules/generated/sklearn.model_selection.RepeatedKFold.html#sklearn.model_selection.RepeatedKFold), the idea obviously isn't totally alien for all people doing model building. However, I almost never see it in cheminformatics/QSAR.\n",
    "\n",
    "Part of my wondering about this is certainly due to the fact that I don't really understand the reasoning behind doing K-fold cross validation in the first place when working with data sets containing more than one hundred or so points. The usual argument I hear is something like: \"but then you know that each data point has been used to test the model\". This isn't strictly true, each data point has been used to test *one of* the models, and I'm not sure that it's important when we have more than handful of data.\n",
    "\n",
    "Anyway, here I wanted to check how much of a difference the random seed used for K-fold cross validation can make. I look at the distributions of two different quality metrics (AUC and kappa) for random forest and XGBoost models built for three different endpoints from a recent [JCIM paper from Gilead](https://pubs.acs.org/doi/10.1021/acs.jcim.3c00160) which includes a collection of consistently measured ADME data on a bunch of compounds. I also look at how often the different random K-fold splits lead to different conclusions when asking the question: \"is one model better than the other?\".\n",
    "\n",
    "The full results are below, but here's a quick summary of one way of looking at the results.\n",
    "\n",
    "These boxplots look at Cohen's kappa (left plot) and AUROC (right plot) for classifiers built on the MDCK dataset. The left pair of bars in each plot show the distribution of values for 100 random splits, the right pair show distributions for 50 different 5-fold cross validations. The left bar in each pair has the results for XGB, the right bar for RF.\n",
    "\n",
    "![image-2.png](attachment:image-2.png)\n",
    "\n",
    "We can see that the distributions are significantly narrower for the 5-fold cross validation, but that there is still a spread of values. This spread becomes more significant if we are trying to use the cross validation to answer the question \"Which method gives higher AUROC values for this data set, RF or XGB?\". The distribution makes it clear that RF is a bit better, but since the difference is small 16% of the cross validation splits would have lead to the other conclusion.\n",
    "\n",
    "It's probably worth coming back to this at some point and doing a broader set of data sets and methods in order to be more certain about the conclusions, but I think this already indicates that it wouldn't be a *terrible* idea to try different K-fold splits when comparing models where the performance differences are not large. \n"
   ]
  },
  {
   "cell_type": "code",
   "execution_count": 52,
   "metadata": {
    "ExecuteTime": {
     "end_time": "2023-08-12T04:38:44.880721Z",
     "start_time": "2023-08-12T04:38:44.861769Z"
    }
   },
   "outputs": [
    {
     "name": "stdout",
     "output_type": "stream",
     "text": [
      "2023.03.2\n"
     ]
    }
   ],
   "source": [
    "from rdkit import Chem\n",
    "from rdkit.Chem import rdFingerprintGenerator\n",
    "import pandas as pd\n",
    "import numpy as np\n",
    "\n",
    "import matplotlib.pyplot as plt\n",
    "%matplotlib inline\n",
    "import rdkit\n",
    "print(rdkit.__version__)"
   ]
  },
  {
   "cell_type": "code",
   "execution_count": 3,
   "metadata": {
    "ExecuteTime": {
     "end_time": "2023-08-12T04:03:55.822062Z",
     "start_time": "2023-08-12T04:03:55.206961Z"
    }
   },
   "outputs": [
    {
     "data": {
      "text/html": [
       "<div>\n",
       "<style scoped>\n",
       "    .dataframe tbody tr th:only-of-type {\n",
       "        vertical-align: middle;\n",
       "    }\n",
       "\n",
       "    .dataframe tbody tr th {\n",
       "        vertical-align: top;\n",
       "    }\n",
       "\n",
       "    .dataframe thead th {\n",
       "        text-align: right;\n",
       "    }\n",
       "</style>\n",
       "<table border=\"1\" class=\"dataframe\">\n",
       "  <thead>\n",
       "    <tr style=\"text-align: right;\">\n",
       "      <th></th>\n",
       "      <th>Internal ID</th>\n",
       "      <th>Vendor ID</th>\n",
       "      <th>SMILES</th>\n",
       "      <th>CollectionName</th>\n",
       "      <th>LOG HLM_CLint (mL/min/kg)</th>\n",
       "      <th>LOG MDR1-MDCK ER (B-A/A-B)</th>\n",
       "      <th>LOG SOLUBILITY PH 6.8 (ug/mL)</th>\n",
       "      <th>LOG PLASMA PROTEIN BINDING (HUMAN) (% unbound)</th>\n",
       "      <th>LOG PLASMA PROTEIN BINDING (RAT) (% unbound)</th>\n",
       "      <th>LOG RLM_CLint (mL/min/kg)</th>\n",
       "    </tr>\n",
       "  </thead>\n",
       "  <tbody>\n",
       "    <tr>\n",
       "      <th>0</th>\n",
       "      <td>Mol1</td>\n",
       "      <td>317714313</td>\n",
       "      <td>CNc1cc(Nc2cccn(-c3ccccn3)c2=O)nn2c(C(=O)N[C@@H...</td>\n",
       "      <td>emolecules</td>\n",
       "      <td>0.675687</td>\n",
       "      <td>1.493167</td>\n",
       "      <td>0.089905</td>\n",
       "      <td>0.991226</td>\n",
       "      <td>0.518514</td>\n",
       "      <td>1.392169</td>\n",
       "    </tr>\n",
       "    <tr>\n",
       "      <th>1</th>\n",
       "      <td>Mol2</td>\n",
       "      <td>324056965</td>\n",
       "      <td>CCOc1cc2nn(CCC(C)(C)O)cc2cc1NC(=O)c1cccc(C(F)F)n1</td>\n",
       "      <td>emolecules</td>\n",
       "      <td>0.675687</td>\n",
       "      <td>1.040780</td>\n",
       "      <td>0.550228</td>\n",
       "      <td>0.099681</td>\n",
       "      <td>0.268344</td>\n",
       "      <td>1.027920</td>\n",
       "    </tr>\n",
       "    <tr>\n",
       "      <th>2</th>\n",
       "      <td>Mol3</td>\n",
       "      <td>304005766</td>\n",
       "      <td>CN(c1ncc(F)cn1)[C@H]1CCCNC1</td>\n",
       "      <td>emolecules</td>\n",
       "      <td>0.675687</td>\n",
       "      <td>-0.358806</td>\n",
       "      <td>NaN</td>\n",
       "      <td>2.000000</td>\n",
       "      <td>2.000000</td>\n",
       "      <td>1.027920</td>\n",
       "    </tr>\n",
       "    <tr>\n",
       "      <th>3</th>\n",
       "      <td>Mol4</td>\n",
       "      <td>194963090</td>\n",
       "      <td>CC(C)(Oc1ccc(-c2cnc(N)c(-c3ccc(Cl)cc3)c2)cc1)C...</td>\n",
       "      <td>emolecules</td>\n",
       "      <td>0.675687</td>\n",
       "      <td>1.026662</td>\n",
       "      <td>1.657056</td>\n",
       "      <td>-1.158015</td>\n",
       "      <td>-1.403403</td>\n",
       "      <td>1.027920</td>\n",
       "    </tr>\n",
       "    <tr>\n",
       "      <th>4</th>\n",
       "      <td>Mol5</td>\n",
       "      <td>324059015</td>\n",
       "      <td>CC(C)(O)CCn1cc2cc(NC(=O)c3cccc(C(F)(F)F)n3)c(C...</td>\n",
       "      <td>emolecules</td>\n",
       "      <td>0.996380</td>\n",
       "      <td>1.010597</td>\n",
       "      <td>NaN</td>\n",
       "      <td>1.015611</td>\n",
       "      <td>1.092264</td>\n",
       "      <td>1.629093</td>\n",
       "    </tr>\n",
       "  </tbody>\n",
       "</table>\n",
       "</div>"
      ],
      "text/plain": [
       "  Internal ID  Vendor ID                                             SMILES  \\\n",
       "0        Mol1  317714313  CNc1cc(Nc2cccn(-c3ccccn3)c2=O)nn2c(C(=O)N[C@@H...   \n",
       "1        Mol2  324056965  CCOc1cc2nn(CCC(C)(C)O)cc2cc1NC(=O)c1cccc(C(F)F)n1   \n",
       "2        Mol3  304005766                        CN(c1ncc(F)cn1)[C@H]1CCCNC1   \n",
       "3        Mol4  194963090  CC(C)(Oc1ccc(-c2cnc(N)c(-c3ccc(Cl)cc3)c2)cc1)C...   \n",
       "4        Mol5  324059015  CC(C)(O)CCn1cc2cc(NC(=O)c3cccc(C(F)(F)F)n3)c(C...   \n",
       "\n",
       "  CollectionName  LOG HLM_CLint (mL/min/kg)  LOG MDR1-MDCK ER (B-A/A-B)  \\\n",
       "0     emolecules                   0.675687                    1.493167   \n",
       "1     emolecules                   0.675687                    1.040780   \n",
       "2     emolecules                   0.675687                   -0.358806   \n",
       "3     emolecules                   0.675687                    1.026662   \n",
       "4     emolecules                   0.996380                    1.010597   \n",
       "\n",
       "   LOG SOLUBILITY PH 6.8 (ug/mL)  \\\n",
       "0                       0.089905   \n",
       "1                       0.550228   \n",
       "2                            NaN   \n",
       "3                       1.657056   \n",
       "4                            NaN   \n",
       "\n",
       "   LOG PLASMA PROTEIN BINDING (HUMAN) (% unbound)  \\\n",
       "0                                        0.991226   \n",
       "1                                        0.099681   \n",
       "2                                        2.000000   \n",
       "3                                       -1.158015   \n",
       "4                                        1.015611   \n",
       "\n",
       "   LOG PLASMA PROTEIN BINDING (RAT) (% unbound)  LOG RLM_CLint (mL/min/kg)  \n",
       "0                                      0.518514                   1.392169  \n",
       "1                                      0.268344                   1.027920  \n",
       "2                                      2.000000                   1.027920  \n",
       "3                                     -1.403403                   1.027920  \n",
       "4                                      1.092264                   1.629093  "
      ]
     },
     "execution_count": 3,
     "metadata": {},
     "output_type": "execute_result"
    }
   ],
   "source": [
    "# data set from here: https://github.com/molecularinformatics/Computational-ADME/blob/main/ADME_public_set_3521.csv\n",
    "# from this publication: https://pubs.acs.org/doi/10.1021/acs.jcim.3c00160\n",
    "df = pd.read_csv('../data/ADME_public_set_3521.csv')\n",
    "df.head()"
   ]
  },
  {
   "cell_type": "markdown",
   "metadata": {},
   "source": [
    "# HLM data set"
   ]
  },
  {
   "cell_type": "code",
   "execution_count": 18,
   "metadata": {
    "ExecuteTime": {
     "end_time": "2023-08-12T04:13:33.538603Z",
     "start_time": "2023-08-12T04:13:33.535009Z"
    }
   },
   "outputs": [
    {
     "data": {
      "text/plain": [
       "(3087, 10)"
      ]
     },
     "execution_count": 18,
     "metadata": {},
     "output_type": "execute_result"
    }
   ],
   "source": [
    "hlm_df = df[df['LOG HLM_CLint (mL/min/kg)'].notnull()].copy()\n",
    "hlm_df.shape"
   ]
  },
  {
   "cell_type": "markdown",
   "metadata": {},
   "source": [
    "Take a look at the distribution of values to figure out where to place the \"active/inactive\" bin for classification."
   ]
  },
  {
   "cell_type": "code",
   "execution_count": 19,
   "metadata": {
    "ExecuteTime": {
     "end_time": "2023-08-12T04:13:34.601089Z",
     "start_time": "2023-08-12T04:13:34.458066Z"
    }
   },
   "outputs": [
    {
     "data": {
      "image/png": "[encoded data removed]",
      "text/plain": [
       "<Figure size 432x288 with 1 Axes>"
      ]
     },
     "metadata": {
      "needs_background": "light"
     },
     "output_type": "display_data"
    }
   ],
   "source": [
    "plt.hist(hlm_df['LOG HLM_CLint (mL/min/kg)']);"
   ]
  },
  {
   "cell_type": "code",
   "execution_count": 20,
   "metadata": {
    "ExecuteTime": {
     "end_time": "2023-08-12T04:13:35.078765Z",
     "start_time": "2023-08-12T04:13:35.065015Z"
    }
   },
   "outputs": [
    {
     "data": {
      "text/plain": [
       "(1162, 10)"
      ]
     },
     "execution_count": 20,
     "metadata": {},
     "output_type": "execute_result"
    }
   ],
   "source": [
    "hlm_df[hlm_df['LOG HLM_CLint (mL/min/kg)']>1.5].shape"
   ]
  },
  {
   "cell_type": "code",
   "execution_count": 21,
   "metadata": {
    "ExecuteTime": {
     "end_time": "2023-08-12T04:13:35.734956Z",
     "start_time": "2023-08-12T04:13:35.729615Z"
    }
   },
   "outputs": [],
   "source": [
    "hlm_df['active'] = [int(x) for x in hlm_df['LOG HLM_CLint (mL/min/kg)']>1.5]"
   ]
  },
  {
   "cell_type": "markdown",
   "metadata": {},
   "source": [
    "We'll use standard fingerprints for this:"
   ]
  },
  {
   "cell_type": "code",
   "execution_count": 22,
   "metadata": {
    "ExecuteTime": {
     "end_time": "2023-08-12T04:13:43.984967Z",
     "start_time": "2023-08-12T04:13:43.407159Z"
    }
   },
   "outputs": [],
   "source": [
    "ms = [Chem.MolFromSmiles(x) for x in hlm_df['SMILES']]\n",
    "fpg = rdFingerprintGenerator.GetMorganGenerator(radius=3,fpSize=2048)\n",
    "fps = [fpg.GetCountFingerprintAsNumPy(x) for x in ms]"
   ]
  },
  {
   "cell_type": "code",
   "execution_count": 28,
   "metadata": {
    "ExecuteTime": {
     "end_time": "2023-08-12T04:21:23.149691Z",
     "start_time": "2023-08-12T04:21:23.147053Z"
    }
   },
   "outputs": [],
   "source": [
    "from sklearn.ensemble import RandomForestClassifier\n",
    "from xgboost import XGBClassifier\n",
    "from sklearn.metrics import (\n",
    "    balanced_accuracy_score,\n",
    "    roc_auc_score,\n",
    "    average_precision_score,\n",
    "    cohen_kappa_score\n",
    ")\n",
    "metrics = {\n",
    "    'balanced_accuracy_score':balanced_accuracy_score,\n",
    "    'cohen_kappa_score':cohen_kappa_score,\n",
    "}"
   ]
  },
  {
   "cell_type": "markdown",
   "metadata": {},
   "source": [
    "Start by doing 100 random splits to get a sense for the amount of variability there."
   ]
  },
  {
   "cell_type": "code",
   "execution_count": 47,
   "metadata": {
    "ExecuteTime": {
     "end_time": "2023-08-12T04:33:02.217418Z",
     "start_time": "2023-08-12T04:27:55.824796Z"
    }
   },
   "outputs": [
    {
     "name": "stdout",
     "output_type": "stream",
     "text": [
      "iteration 10\n",
      "iteration 20\n",
      "iteration 30\n",
      "iteration 40\n",
      "iteration 50\n",
      "iteration 60\n",
      "iteration 70\n",
      "iteration 80\n",
      "iteration 90\n",
      "iteration 100\n"
     ]
    }
   ],
   "source": [
    "from sklearn.model_selection import train_test_split\n",
    "\n",
    "acts = hlm_df['active'].to_list()\n",
    "\n",
    "rf_accum = []\n",
    "xgb_accum = []\n",
    "for i in range(100):\n",
    "    if not (i+1)%10:\n",
    "        print(f'iteration {i+1}')\n",
    "    X_train, X_test, y_train, y_test = train_test_split(fps,acts, test_size=0.2, random_state=0xf00d+i, stratify=acts)\n",
    "    cls = RandomForestClassifier(n_estimators=200,max_depth=20,min_samples_leaf=2,min_samples_split=4, n_jobs=6, random_state=0xfeed)\n",
    "    cls.fit(X_train,y_train)\n",
    "    test_probs = [x[1] for x in cls.predict_proba(X_test)]\n",
    "    test_preds = cls.predict(X_test)\n",
    "    res = {}\n",
    "    for metric in metrics:\n",
    "        res[metric] = metrics[metric](y_test,test_preds)\n",
    "\n",
    "    res['roc_auc_score'] = roc_auc_score(y_test,test_probs)\n",
    "    res['average_precision_score'] = average_precision_score(y_test,test_probs)    \n",
    "    rf_accum.append(res)\n",
    "\n",
    "    cls = XGBClassifier(n_estimators=200,max_depth=3, n_jobs=6)\n",
    "    cls.fit(X_train,y_train)\n",
    "    test_probs = [x[1] for x in cls.predict_proba(X_test)]\n",
    "    test_preds = cls.predict(X_test)\n",
    "    res = {}\n",
    "    for metric in metrics:\n",
    "        res[metric] = metrics[metric](y_test,test_preds)\n",
    "\n",
    "    res['roc_auc_score'] = roc_auc_score(y_test,test_probs)\n",
    "    res['average_precision_score'] = average_precision_score(y_test,test_probs)    \n",
    "    xgb_accum.append(res)\n",
    "    \n",
    "    \n",
    "\n",
    "    \n",
    "    "
   ]
  },
  {
   "cell_type": "code",
   "execution_count": 51,
   "metadata": {
    "ExecuteTime": {
     "end_time": "2023-08-12T04:35:33.745662Z",
     "start_time": "2023-08-12T04:35:33.739278Z"
    }
   },
   "outputs": [],
   "source": [
    "import pickle\n",
    "with open('./results/xc_variability_random_splits.pkl','wb+') as outf:\n",
    "    pickle.dump((rf_accum,xgb_accum),outf)"
   ]
  },
  {
   "cell_type": "markdown",
   "metadata": {},
   "source": [
    "Look at the distribution of values for the normal random splits:"
   ]
  },
  {
   "cell_type": "code",
   "execution_count": 49,
   "metadata": {
    "ExecuteTime": {
     "end_time": "2023-08-12T04:33:48.120033Z",
     "start_time": "2023-08-12T04:33:47.647901Z"
    }
   },
   "outputs": [
    {
     "data": {
      "image/png": "[encoded data removed]",
      "text/plain": [
       "<Figure size 720x720 with 4 Axes>"
      ]
     },
     "metadata": {
      "needs_background": "light"
     },
     "output_type": "display_data"
    }
   ],
   "source": [
    "plt.figure(figsize=(10,10))\n",
    "plt.subplot(2,2,1)\n",
    "plt.hist([x['cohen_kappa_score'] for x in xgb_accum]);\n",
    "plt.xlabel('kappa')\n",
    "plt.title('XGB')\n",
    "plt.subplot(2,2,2)\n",
    "plt.hist([x['roc_auc_score'] for x in xgb_accum]);\n",
    "plt.xlabel('auroc')\n",
    "\n",
    "plt.subplot(2,2,3)\n",
    "plt.hist([x['cohen_kappa_score'] for x in rf_accum]);\n",
    "plt.xlabel('kappa')\n",
    "plt.title('RF')\n",
    "plt.subplot(2,2,4)\n",
    "plt.hist([x['roc_auc_score'] for x in rf_accum]);\n",
    "plt.xlabel('auroc')\n",
    "\n",
    "plt.tight_layout()\n"
   ]
  },
  {
   "cell_type": "markdown",
   "metadata": {},
   "source": [
    "Now do 50 different 5-fold cross validation runs"
   ]
  },
  {
   "cell_type": "code",
   "execution_count": 66,
   "metadata": {
    "ExecuteTime": {
     "end_time": "2023-08-12T05:11:13.456827Z",
     "start_time": "2023-08-12T04:58:15.060039Z"
    }
   },
   "outputs": [
    {
     "name": "stdout",
     "output_type": "stream",
     "text": [
      "iteration 1\n",
      "iteration 2\n",
      "iteration 3\n",
      "iteration 4\n",
      "iteration 5\n",
      "iteration 6\n",
      "iteration 7\n",
      "iteration 8\n",
      "iteration 9\n",
      "iteration 10\n",
      "iteration 11\n",
      "iteration 12\n",
      "iteration 13\n",
      "iteration 14\n",
      "iteration 15\n",
      "iteration 16\n",
      "iteration 17\n",
      "iteration 18\n",
      "iteration 19\n",
      "iteration 20\n",
      "iteration 21\n",
      "iteration 22\n",
      "iteration 23\n",
      "iteration 24\n",
      "iteration 25\n",
      "iteration 26\n",
      "iteration 27\n",
      "iteration 28\n",
      "iteration 29\n",
      "iteration 30\n",
      "iteration 31\n",
      "iteration 32\n",
      "iteration 33\n",
      "iteration 34\n",
      "iteration 35\n",
      "iteration 36\n",
      "iteration 37\n",
      "iteration 38\n",
      "iteration 39\n",
      "iteration 40\n",
      "iteration 41\n",
      "iteration 42\n",
      "iteration 43\n",
      "iteration 44\n",
      "iteration 45\n",
      "iteration 46\n",
      "iteration 47\n",
      "iteration 48\n",
      "iteration 49\n",
      "iteration 50\n"
     ]
    }
   ],
   "source": [
    "from sklearn.model_selection import StratifiedKFold\n",
    "\n",
    "acts = hlm_df['active'].to_numpy()\n",
    "\n",
    "\n",
    "rf_xc_accum = []\n",
    "xgb_xc_accum = []\n",
    "for i in range(50):\n",
    "    print(f'iteration {i+1}')\n",
    "    skf = StratifiedKFold(n_splits=5,random_state=0xf00d+i,shuffle=True)\n",
    "    lres = []\n",
    "    for train_idx,test_idx in skf.split(fps,acts):\n",
    "        X_train = np.take(fps,train_idx,axis=0)\n",
    "        X_test = np.take(fps,test_idx,axis=0)\n",
    "        y_train = np.take(acts,train_idx)\n",
    "        y_test = np.take(acts,test_idx)\n",
    "        \n",
    "        cls = RandomForestClassifier(n_estimators=200,max_depth=20,min_samples_leaf=2,min_samples_split=4, n_jobs=6, random_state=0xfeed)\n",
    "        cls.fit(X_train,y_train)\n",
    "        test_probs = [x[1] for x in cls.predict_proba(X_test)]\n",
    "        test_preds = cls.predict(X_test)\n",
    "        res = {}\n",
    "        for metric in metrics:\n",
    "            res[metric] = metrics[metric](y_test,test_preds)\n",
    "\n",
    "        res['roc_auc_score'] = roc_auc_score(y_test,test_probs)\n",
    "        res['average_precision_score'] = average_precision_score(y_test,test_probs)    \n",
    "\n",
    "        cls = XGBClassifier(n_estimators=200,max_depth=3, n_jobs=6)\n",
    "        cls.fit(X_train,y_train)\n",
    "        test_probs = [x[1] for x in cls.predict_proba(X_test)]\n",
    "        test_preds = cls.predict(X_test)\n",
    "        xgres = {}\n",
    "        for metric in metrics:\n",
    "            xgres[metric] = metrics[metric](y_test,test_preds)\n",
    "        xgres['roc_auc_score'] = roc_auc_score(y_test,test_probs)\n",
    "        xgres['average_precision_score'] = average_precision_score(y_test,test_probs)    \n",
    "        lres.append((res,xgres))\n",
    "    tres = {}\n",
    "    for k in xgres:\n",
    "        tres[k] = [x[0][k] for x in lres]\n",
    "    rf_xc_accum.append(tres)\n",
    "    tres = {}\n",
    "    for k in xgres:\n",
    "        tres[k] = [x[1][k] for x in lres]\n",
    "    xgb_xc_accum.append(tres)\n",
    "    \n",
    "    \n",
    "\n",
    "    \n",
    "    "
   ]
  },
  {
   "cell_type": "code",
   "execution_count": 67,
   "metadata": {
    "ExecuteTime": {
     "end_time": "2023-08-12T05:41:34.384400Z",
     "start_time": "2023-08-12T05:41:34.361518Z"
    }
   },
   "outputs": [],
   "source": [
    "import pickle\n",
    "with open('./results/xc_variability_xc.pkl','wb+') as outf:\n",
    "    pickle.dump((rf_xc_accum,xgb_xc_accum),outf)"
   ]
  },
  {
   "cell_type": "markdown",
   "metadata": {},
   "source": [
    "And look at the variability"
   ]
  },
  {
   "cell_type": "code",
   "execution_count": 68,
   "metadata": {
    "ExecuteTime": {
     "end_time": "2023-08-12T05:41:36.385915Z",
     "start_time": "2023-08-12T05:41:35.910400Z"
    }
   },
   "outputs": [
    {
     "data": {
      "image/png": "[encoded data removed]",
      "text/plain": [
       "<Figure size 720x720 with 4 Axes>"
      ]
     },
     "metadata": {
      "needs_background": "light"
     },
     "output_type": "display_data"
    }
   ],
   "source": [
    "plt.figure(figsize=(10,10))\n",
    "plt.subplot(2,2,1)\n",
    "plt.hist([np.mean(x['cohen_kappa_score']) for x in xgb_xc_accum]);\n",
    "plt.xlabel('kappa')\n",
    "plt.title('XGB')\n",
    "plt.subplot(2,2,2)\n",
    "plt.hist([np.mean(x['roc_auc_score']) for x in xgb_xc_accum]);\n",
    "plt.xlabel('auroc')\n",
    "\n",
    "plt.subplot(2,2,3)\n",
    "plt.hist([np.mean(x['cohen_kappa_score']) for x in rf_xc_accum]);\n",
    "plt.xlabel('kappa')\n",
    "plt.title('RF')\n",
    "plt.subplot(2,2,4)\n",
    "plt.hist([np.mean(x['roc_auc_score']) for x in rf_xc_accum]);\n",
    "plt.xlabel('auroc')\n",
    "\n",
    "plt.tight_layout()\n"
   ]
  },
  {
   "cell_type": "markdown",
   "metadata": {},
   "source": [
    "# MDCK dataset "
   ]
  },
  {
   "cell_type": "code",
   "execution_count": 78,
   "metadata": {
    "ExecuteTime": {
     "end_time": "2023-08-12T15:58:34.969723Z",
     "start_time": "2023-08-12T15:58:34.956643Z"
    },
    "scrolled": true
   },
   "outputs": [
    {
     "data": {
      "text/plain": [
       "(2642, 10)"
      ]
     },
     "execution_count": 78,
     "metadata": {},
     "output_type": "execute_result"
    }
   ],
   "source": [
    "mdck_df = df[df['LOG MDR1-MDCK ER (B-A/A-B)'].notnull()].copy()\n",
    "mdck_df.shape"
   ]
  },
  {
   "cell_type": "code",
   "execution_count": 76,
   "metadata": {
    "ExecuteTime": {
     "end_time": "2023-08-12T15:57:38.081457Z",
     "start_time": "2023-08-12T15:57:37.978117Z"
    }
   },
   "outputs": [
    {
     "data": {
      "image/png": "[encoded data removed]",
      "text/plain": [
       "<Figure size 432x288 with 1 Axes>"
      ]
     },
     "metadata": {
      "needs_background": "light"
     },
     "output_type": "display_data"
    }
   ],
   "source": [
    "plt.hist(mdck_df['LOG MDR1-MDCK ER (B-A/A-B)']);"
   ]
  },
  {
   "cell_type": "code",
   "execution_count": 79,
   "metadata": {
    "ExecuteTime": {
     "end_time": "2023-08-12T15:58:40.171885Z",
     "start_time": "2023-08-12T15:58:40.168430Z"
    }
   },
   "outputs": [
    {
     "data": {
      "text/plain": [
       "(587, 10)"
      ]
     },
     "execution_count": 79,
     "metadata": {},
     "output_type": "execute_result"
    }
   ],
   "source": [
    "mdck_df[mdck_df['LOG MDR1-MDCK ER (B-A/A-B)']>1].shape"
   ]
  },
  {
   "cell_type": "code",
   "execution_count": 80,
   "metadata": {
    "ExecuteTime": {
     "end_time": "2023-08-12T15:59:40.796574Z",
     "start_time": "2023-08-12T15:59:40.296022Z"
    }
   },
   "outputs": [],
   "source": [
    "mdck_df['active'] = [int(x) for x in mdck_df['LOG MDR1-MDCK ER (B-A/A-B)']>1]\n",
    "ms = [Chem.MolFromSmiles(x) for x in mdck_df['SMILES']]\n",
    "fpg = rdFingerprintGenerator.GetMorganGenerator(radius=3,fpSize=2048)\n",
    "fps = [fpg.GetCountFingerprintAsNumPy(x) for x in ms]"
   ]
  },
  {
   "cell_type": "code",
   "execution_count": 81,
   "metadata": {
    "ExecuteTime": {
     "end_time": "2023-08-12T16:05:00.369650Z",
     "start_time": "2023-08-12T16:00:44.099973Z"
    }
   },
   "outputs": [
    {
     "name": "stdout",
     "output_type": "stream",
     "text": [
      "iteration 10\n",
      "iteration 20\n",
      "iteration 30\n",
      "iteration 40\n",
      "iteration 50\n",
      "iteration 60\n",
      "iteration 70\n",
      "iteration 80\n",
      "iteration 90\n",
      "iteration 100\n"
     ]
    }
   ],
   "source": [
    "from sklearn.model_selection import train_test_split\n",
    "\n",
    "acts = mdck_df['active'].to_list()\n",
    "\n",
    "mdck_rf_accum = []\n",
    "mdck_xgb_accum = []\n",
    "for i in range(100):\n",
    "    if not (i+1)%10:\n",
    "        print(f'iteration {i+1}')\n",
    "    X_train, X_test, y_train, y_test = train_test_split(fps,acts, test_size=0.2, random_state=0xf00d+i, stratify=acts)\n",
    "    cls = RandomForestClassifier(n_estimators=200,max_depth=20,min_samples_leaf=2,min_samples_split=4, n_jobs=6, random_state=0xfeed)\n",
    "    cls.fit(X_train,y_train)\n",
    "    test_probs = [x[1] for x in cls.predict_proba(X_test)]\n",
    "    test_preds = cls.predict(X_test)\n",
    "    res = {}\n",
    "    for metric in metrics:\n",
    "        res[metric] = metrics[metric](y_test,test_preds)\n",
    "\n",
    "    res['roc_auc_score'] = roc_auc_score(y_test,test_probs)\n",
    "    res['average_precision_score'] = average_precision_score(y_test,test_probs)    \n",
    "    mdck_rf_accum.append(res)\n",
    "\n",
    "    cls = XGBClassifier(n_estimators=200,max_depth=3, n_jobs=6)\n",
    "    cls.fit(X_train,y_train)\n",
    "    test_probs = [x[1] for x in cls.predict_proba(X_test)]\n",
    "    test_preds = cls.predict(X_test)\n",
    "    res = {}\n",
    "    for metric in metrics:\n",
    "        res[metric] = metrics[metric](y_test,test_preds)\n",
    "\n",
    "    res['roc_auc_score'] = roc_auc_score(y_test,test_probs)\n",
    "    res['average_precision_score'] = average_precision_score(y_test,test_probs)    \n",
    "    mdck_xgb_accum.append(res)\n",
    "    \n",
    "import pickle\n",
    "with open('./results/mdck_xc_variability_random_splits.pkl','wb+') as outf:\n",
    "    pickle.dump((mdck_rf_accum,mdck_xgb_accum),outf)    \n",
    "\n",
    "    \n",
    "    "
   ]
  },
  {
   "cell_type": "code",
   "execution_count": 82,
   "metadata": {
    "ExecuteTime": {
     "end_time": "2023-08-12T16:15:41.678580Z",
     "start_time": "2023-08-12T16:05:00.371506Z"
    }
   },
   "outputs": [
    {
     "name": "stdout",
     "output_type": "stream",
     "text": [
      "iteration 1\n",
      "iteration 2\n",
      "iteration 3\n",
      "iteration 4\n",
      "iteration 5\n",
      "iteration 6\n",
      "iteration 7\n",
      "iteration 8\n",
      "iteration 9\n",
      "iteration 10\n",
      "iteration 11\n",
      "iteration 12\n",
      "iteration 13\n",
      "iteration 14\n",
      "iteration 15\n",
      "iteration 16\n",
      "iteration 17\n",
      "iteration 18\n",
      "iteration 19\n",
      "iteration 20\n",
      "iteration 21\n",
      "iteration 22\n",
      "iteration 23\n",
      "iteration 24\n",
      "iteration 25\n",
      "iteration 26\n",
      "iteration 27\n",
      "iteration 28\n",
      "iteration 29\n",
      "iteration 30\n",
      "iteration 31\n",
      "iteration 32\n",
      "iteration 33\n",
      "iteration 34\n",
      "iteration 35\n",
      "iteration 36\n",
      "iteration 37\n",
      "iteration 38\n",
      "iteration 39\n",
      "iteration 40\n",
      "iteration 41\n",
      "iteration 42\n",
      "iteration 43\n",
      "iteration 44\n",
      "iteration 45\n",
      "iteration 46\n",
      "iteration 47\n",
      "iteration 48\n",
      "iteration 49\n",
      "iteration 50\n"
     ]
    }
   ],
   "source": [
    "from sklearn.model_selection import StratifiedKFold\n",
    "\n",
    "acts = mdck_df['active'].to_numpy()\n",
    "\n",
    "\n",
    "mdck_rf_xc_accum = []\n",
    "mdck_xgb_xc_accum = []\n",
    "for i in range(50):\n",
    "    print(f'iteration {i+1}')\n",
    "    skf = StratifiedKFold(n_splits=5,random_state=0xf00d+i,shuffle=True)\n",
    "    lres = []\n",
    "    for train_idx,test_idx in skf.split(fps,acts):\n",
    "        X_train = np.take(fps,train_idx,axis=0)\n",
    "        X_test = np.take(fps,test_idx,axis=0)\n",
    "        y_train = np.take(acts,train_idx)\n",
    "        y_test = np.take(acts,test_idx)\n",
    "        \n",
    "        cls = RandomForestClassifier(n_estimators=200,max_depth=20,min_samples_leaf=2,min_samples_split=4, n_jobs=6, random_state=0xfeed)\n",
    "        cls.fit(X_train,y_train)\n",
    "        test_probs = [x[1] for x in cls.predict_proba(X_test)]\n",
    "        test_preds = cls.predict(X_test)\n",
    "        res = {}\n",
    "        for metric in metrics:\n",
    "            res[metric] = metrics[metric](y_test,test_preds)\n",
    "\n",
    "        res['roc_auc_score'] = roc_auc_score(y_test,test_probs)\n",
    "        res['average_precision_score'] = average_precision_score(y_test,test_probs)    \n",
    "\n",
    "        cls = XGBClassifier(n_estimators=200,max_depth=3, n_jobs=6)\n",
    "        cls.fit(X_train,y_train)\n",
    "        test_probs = [x[1] for x in cls.predict_proba(X_test)]\n",
    "        test_preds = cls.predict(X_test)\n",
    "        xgres = {}\n",
    "        for metric in metrics:\n",
    "            xgres[metric] = metrics[metric](y_test,test_preds)\n",
    "        xgres['roc_auc_score'] = roc_auc_score(y_test,test_probs)\n",
    "        xgres['average_precision_score'] = average_precision_score(y_test,test_probs)    \n",
    "        lres.append((res,xgres))\n",
    "    tres = {}\n",
    "    for k in xgres:\n",
    "        tres[k] = [x[0][k] for x in lres]\n",
    "    mdck_rf_xc_accum.append(tres)\n",
    "    tres = {}\n",
    "    for k in xgres:\n",
    "        tres[k] = [x[1][k] for x in lres]\n",
    "    mdck_xgb_xc_accum.append(tres)\n",
    "    \n",
    "    \n",
    "import pickle\n",
    "with open('./results/mdck_xc_variability_xc.pkl','wb+') as outf:\n",
    "    pickle.dump((mdck_rf_xc_accum,mdck_xgb_xc_accum),outf)\n",
    "    \n",
    "    "
   ]
  },
  {
   "cell_type": "code",
   "execution_count": 98,
   "metadata": {
    "ExecuteTime": {
     "end_time": "2023-08-13T04:01:28.781418Z",
     "start_time": "2023-08-13T04:01:28.227755Z"
    }
   },
   "outputs": [
    {
     "data": {
      "image/png": "[encoded data removed]",
      "text/plain": [
       "<Figure size 720x720 with 4 Axes>"
      ]
     },
     "metadata": {
      "needs_background": "light"
     },
     "output_type": "display_data"
    }
   ],
   "source": [
    "plt.figure(figsize=(10,10))\n",
    "plt.subplot(2,2,1)\n",
    "plt.hist([x['cohen_kappa_score'] for x in mdck_xgb_accum]);\n",
    "plt.xlabel('kappa')\n",
    "plt.title('XGB')\n",
    "plt.subplot(2,2,2)\n",
    "plt.hist([x['roc_auc_score'] for x in mdck_xgb_accum]);\n",
    "plt.xlabel('auroc')\n",
    "\n",
    "plt.subplot(2,2,3)\n",
    "plt.hist([x['cohen_kappa_score'] for x in mdck_rf_accum]);\n",
    "plt.xlabel('kappa')\n",
    "plt.title('RF')\n",
    "plt.subplot(2,2,4)\n",
    "plt.hist([x['roc_auc_score'] for x in mdck_rf_accum]);\n",
    "plt.xlabel('auroc')\n",
    "\n",
    "plt.tight_layout()\n"
   ]
  },
  {
   "cell_type": "code",
   "execution_count": 83,
   "metadata": {
    "ExecuteTime": {
     "end_time": "2023-08-13T03:41:19.035693Z",
     "start_time": "2023-08-13T03:41:18.555154Z"
    }
   },
   "outputs": [
    {
     "data": {
      "image/png": "[encoded data removed]",
      "text/plain": [
       "<Figure size 720x720 with 4 Axes>"
      ]
     },
     "metadata": {
      "needs_background": "light"
     },
     "output_type": "display_data"
    }
   ],
   "source": [
    "plt.figure(figsize=(10,10))\n",
    "plt.subplot(2,2,1)\n",
    "plt.hist([np.mean(x['cohen_kappa_score']) for x in mdck_xgb_xc_accum]);\n",
    "plt.xlabel('kappa')\n",
    "plt.title('XGB')\n",
    "plt.subplot(2,2,2)\n",
    "plt.hist([np.mean(x['roc_auc_score']) for x in mdck_xgb_xc_accum]);\n",
    "plt.xlabel('auroc')\n",
    "\n",
    "plt.subplot(2,2,3)\n",
    "plt.hist([np.mean(x['cohen_kappa_score']) for x in mdck_rf_xc_accum]);\n",
    "plt.xlabel('kappa')\n",
    "plt.title('RF')\n",
    "plt.subplot(2,2,4)\n",
    "plt.hist([np.mean(x['roc_auc_score']) for x in mdck_rf_xc_accum]);\n",
    "plt.xlabel('auroc')\n",
    "\n",
    "plt.tight_layout()\n"
   ]
  },
  {
   "cell_type": "markdown",
   "metadata": {},
   "source": [
    "# PPB data set (smaller)"
   ]
  },
  {
   "cell_type": "code",
   "execution_count": 94,
   "metadata": {
    "ExecuteTime": {
     "end_time": "2023-08-13T03:57:17.853357Z",
     "start_time": "2023-08-13T03:57:17.722078Z"
    }
   },
   "outputs": [
    {
     "data": {
      "image/png": "[encoded data removed]",
      "text/plain": [
       "<Figure size 432x288 with 1 Axes>"
      ]
     },
     "metadata": {
      "needs_background": "light"
     },
     "output_type": "display_data"
    }
   ],
   "source": [
    "ppb_df = df[df['LOG PLASMA PROTEIN BINDING (HUMAN) (% unbound)'].notnull()].copy()\n",
    "plt.hist(ppb_df['LOG PLASMA PROTEIN BINDING (HUMAN) (% unbound)']);"
   ]
  },
  {
   "cell_type": "code",
   "execution_count": 95,
   "metadata": {
    "ExecuteTime": {
     "end_time": "2023-08-13T03:57:18.851827Z",
     "start_time": "2023-08-13T03:57:18.801619Z"
    }
   },
   "outputs": [],
   "source": [
    "ppb_df['active'] = [int(x) for x in ppb_df['LOG PLASMA PROTEIN BINDING (HUMAN) (% unbound)']>1]\n",
    "ms = [Chem.MolFromSmiles(x) for x in ppb_df['SMILES']]\n",
    "fpg = rdFingerprintGenerator.GetMorganGenerator(radius=3,fpSize=2048)\n",
    "fps = [fpg.GetCountFingerprintAsNumPy(x) for x in ms]"
   ]
  },
  {
   "cell_type": "code",
   "execution_count": 96,
   "metadata": {
    "ExecuteTime": {
     "end_time": "2023-08-13T03:59:14.214501Z",
     "start_time": "2023-08-13T03:58:26.900902Z"
    }
   },
   "outputs": [
    {
     "name": "stdout",
     "output_type": "stream",
     "text": [
      "iteration 10\n",
      "iteration 20\n",
      "iteration 30\n",
      "iteration 40\n",
      "iteration 50\n",
      "iteration 60\n",
      "iteration 70\n",
      "iteration 80\n",
      "iteration 90\n",
      "iteration 100\n"
     ]
    }
   ],
   "source": [
    "from sklearn.model_selection import train_test_split\n",
    "\n",
    "acts = ppb_df['active'].to_list()\n",
    "\n",
    "ppb_rf_accum = []\n",
    "ppb_xgb_accum = []\n",
    "for i in range(100):\n",
    "    if not (i+1)%10:\n",
    "        print(f'iteration {i+1}')\n",
    "    X_train, X_test, y_train, y_test = train_test_split(fps,acts, test_size=0.2, random_state=0xf00d+i, stratify=acts)\n",
    "    cls = RandomForestClassifier(n_estimators=200,max_depth=20,min_samples_leaf=2,min_samples_split=4, n_jobs=6, random_state=0xfeed)\n",
    "    cls.fit(X_train,y_train)\n",
    "    test_probs = [x[1] for x in cls.predict_proba(X_test)]\n",
    "    test_preds = cls.predict(X_test)\n",
    "    res = {}\n",
    "    for metric in metrics:\n",
    "        res[metric] = metrics[metric](y_test,test_preds)\n",
    "\n",
    "    res['roc_auc_score'] = roc_auc_score(y_test,test_probs)\n",
    "    res['average_precision_score'] = average_precision_score(y_test,test_probs)    \n",
    "    ppb_rf_accum.append(res)\n",
    "\n",
    "    cls = XGBClassifier(n_estimators=200,max_depth=3, n_jobs=6)\n",
    "    cls.fit(X_train,y_train)\n",
    "    test_probs = [x[1] for x in cls.predict_proba(X_test)]\n",
    "    test_preds = cls.predict(X_test)\n",
    "    res = {}\n",
    "    for metric in metrics:\n",
    "        res[metric] = metrics[metric](y_test,test_preds)\n",
    "\n",
    "    res['roc_auc_score'] = roc_auc_score(y_test,test_probs)\n",
    "    res['average_precision_score'] = average_precision_score(y_test,test_probs)    \n",
    "    ppb_xgb_accum.append(res)\n",
    "    \n",
    "import pickle\n",
    "with open('./results/ppb_xc_variability_random_splits.pkl','wb+') as outf:\n",
    "    pickle.dump((ppb_rf_accum,mdck_xgb_accum),outf)    \n",
    "\n",
    "    \n",
    "    "
   ]
  },
  {
   "cell_type": "code",
   "execution_count": 102,
   "metadata": {
    "ExecuteTime": {
     "end_time": "2023-08-13T04:05:47.261848Z",
     "start_time": "2023-08-13T04:03:47.598369Z"
    }
   },
   "outputs": [
    {
     "name": "stdout",
     "output_type": "stream",
     "text": [
      "iteration 1\n",
      "iteration 2\n",
      "iteration 3\n",
      "iteration 4\n",
      "iteration 5\n",
      "iteration 6\n",
      "iteration 7\n",
      "iteration 8\n",
      "iteration 9\n",
      "iteration 10\n",
      "iteration 11\n",
      "iteration 12\n",
      "iteration 13\n",
      "iteration 14\n",
      "iteration 15\n",
      "iteration 16\n",
      "iteration 17\n",
      "iteration 18\n",
      "iteration 19\n",
      "iteration 20\n",
      "iteration 21\n",
      "iteration 22\n",
      "iteration 23\n",
      "iteration 24\n",
      "iteration 25\n",
      "iteration 26\n",
      "iteration 27\n",
      "iteration 28\n",
      "iteration 29\n",
      "iteration 30\n",
      "iteration 31\n",
      "iteration 32\n",
      "iteration 33\n",
      "iteration 34\n",
      "iteration 35\n",
      "iteration 36\n",
      "iteration 37\n",
      "iteration 38\n",
      "iteration 39\n",
      "iteration 40\n",
      "iteration 41\n",
      "iteration 42\n",
      "iteration 43\n",
      "iteration 44\n",
      "iteration 45\n",
      "iteration 46\n",
      "iteration 47\n",
      "iteration 48\n",
      "iteration 49\n",
      "iteration 50\n"
     ]
    }
   ],
   "source": [
    "from sklearn.model_selection import StratifiedKFold\n",
    "\n",
    "acts = ppb_df['active'].to_numpy()\n",
    "\n",
    "\n",
    "ppb_rf_xc_accum = []\n",
    "ppb_xgb_xc_accum = []\n",
    "for i in range(50):\n",
    "    print(f'iteration {i+1}')\n",
    "    skf = StratifiedKFold(n_splits=5,random_state=0xf00d+i,shuffle=True)\n",
    "    lres = []\n",
    "    for train_idx,test_idx in skf.split(fps,acts):\n",
    "        X_train = np.take(fps,train_idx,axis=0)\n",
    "        X_test = np.take(fps,test_idx,axis=0)\n",
    "        y_train = np.take(acts,train_idx)\n",
    "        y_test = np.take(acts,test_idx)\n",
    "        \n",
    "        cls = RandomForestClassifier(n_estimators=200,max_depth=20,min_samples_leaf=2,min_samples_split=4, n_jobs=6, random_state=0xfeed)\n",
    "        cls.fit(X_train,y_train)\n",
    "        test_probs = [x[1] for x in cls.predict_proba(X_test)]\n",
    "        test_preds = cls.predict(X_test)\n",
    "        res = {}\n",
    "        for metric in metrics:\n",
    "            res[metric] = metrics[metric](y_test,test_preds)\n",
    "\n",
    "        res['roc_auc_score'] = roc_auc_score(y_test,test_probs)\n",
    "        res['average_precision_score'] = average_precision_score(y_test,test_probs)    \n",
    "\n",
    "        cls = XGBClassifier(n_estimators=200,max_depth=3, n_jobs=6)\n",
    "        cls.fit(X_train,y_train)\n",
    "        test_probs = [x[1] for x in cls.predict_proba(X_test)]\n",
    "        test_preds = cls.predict(X_test)\n",
    "        xgres = {}\n",
    "        for metric in metrics:\n",
    "            xgres[metric] = metrics[metric](y_test,test_preds)\n",
    "        xgres['roc_auc_score'] = roc_auc_score(y_test,test_probs)\n",
    "        xgres['average_precision_score'] = average_precision_score(y_test,test_probs)    \n",
    "        lres.append((res,xgres))\n",
    "    tres = {}\n",
    "    for k in xgres:\n",
    "        tres[k] = [x[0][k] for x in lres]\n",
    "    ppb_rf_xc_accum.append(tres)\n",
    "    tres = {}\n",
    "    for k in xgres:\n",
    "        tres[k] = [x[1][k] for x in lres]\n",
    "    ppb_xgb_xc_accum.append(tres)\n",
    "    \n",
    "    \n",
    "import pickle\n",
    "with open('./results/ppb_xc_variability_xc.pkl','wb+') as outf:\n",
    "    pickle.dump((ppb_rf_xc_accum,ppb_xgb_xc_accum),outf)\n",
    "    \n",
    "    "
   ]
  },
  {
   "cell_type": "code",
   "execution_count": 99,
   "metadata": {
    "ExecuteTime": {
     "end_time": "2023-08-13T04:01:40.613118Z",
     "start_time": "2023-08-13T04:01:40.132730Z"
    }
   },
   "outputs": [
    {
     "data": {
      "image/png": "[encoded data removed]",
      "text/plain": [
       "<Figure size 720x720 with 4 Axes>"
      ]
     },
     "metadata": {
      "needs_background": "light"
     },
     "output_type": "display_data"
    }
   ],
   "source": [
    "plt.figure(figsize=(10,10))\n",
    "plt.subplot(2,2,1)\n",
    "plt.hist([x['cohen_kappa_score'] for x in ppb_xgb_accum]);\n",
    "plt.xlabel('kappa')\n",
    "plt.title('XGB')\n",
    "plt.subplot(2,2,2)\n",
    "plt.hist([x['roc_auc_score'] for x in ppb_xgb_accum]);\n",
    "plt.xlabel('auroc')\n",
    "\n",
    "plt.subplot(2,2,3)\n",
    "plt.hist([x['cohen_kappa_score'] for x in ppb_rf_accum]);\n",
    "plt.xlabel('kappa')\n",
    "plt.title('RF')\n",
    "plt.subplot(2,2,4)\n",
    "plt.hist([x['roc_auc_score'] for x in ppb_rf_accum]);\n",
    "plt.xlabel('auroc')\n",
    "\n",
    "plt.tight_layout()\n"
   ]
  },
  {
   "cell_type": "code",
   "execution_count": 105,
   "metadata": {
    "ExecuteTime": {
     "end_time": "2023-08-13T04:14:18.908471Z",
     "start_time": "2023-08-13T04:14:18.461093Z"
    }
   },
   "outputs": [
    {
     "data": {
      "image/png": "[encoded data removed]",
      "text/plain": [
       "<Figure size 720x720 with 4 Axes>"
      ]
     },
     "metadata": {
      "needs_background": "light"
     },
     "output_type": "display_data"
    }
   ],
   "source": [
    "plt.figure(figsize=(10,10))\n",
    "plt.subplot(2,2,1)\n",
    "plt.hist([np.mean(x['cohen_kappa_score']) for x in ppb_xgb_xc_accum]);\n",
    "plt.xlabel('kappa')\n",
    "plt.title('XGB')\n",
    "plt.subplot(2,2,2)\n",
    "plt.hist([np.mean(x['roc_auc_score']) for x in ppb_xgb_xc_accum]);\n",
    "plt.xlabel('auroc')\n",
    "\n",
    "plt.subplot(2,2,3)\n",
    "plt.hist([np.mean(x['cohen_kappa_score']) for x in ppb_rf_xc_accum]);\n",
    "plt.xlabel('kappa')\n",
    "plt.title('RF')\n",
    "plt.subplot(2,2,4)\n",
    "plt.hist([np.mean(x['roc_auc_score']) for x in ppb_rf_xc_accum]);\n",
    "plt.xlabel('auroc')\n",
    "\n",
    "plt.tight_layout()\n"
   ]
  },
  {
   "cell_type": "markdown",
   "metadata": {},
   "source": [
    "# Alternate ways of looking at the results"
   ]
  },
  {
   "cell_type": "code",
   "execution_count": 118,
   "metadata": {
    "ExecuteTime": {
     "end_time": "2023-08-13T04:25:26.500424Z",
     "start_time": "2023-08-13T04:25:26.297396Z"
    },
    "scrolled": true
   },
   "outputs": [
    {
     "data": {
      "image/png": "[encoded data removed]",
      "text/plain": [
       "<Figure size 720x360 with 2 Axes>"
      ]
     },
     "metadata": {
      "needs_background": "light"
     },
     "output_type": "display_data"
    }
   ],
   "source": [
    "title = 'PPB'\n",
    "t_rf = ppb_rf_accum\n",
    "t_xgb = ppb_xgb_accum\n",
    "t_rf_xc = ppb_rf_xc_accum\n",
    "t_xgb_xc = ppb_xgb_xc_accum\n",
    "\n",
    "plt.figure(figsize=(10,5))\n",
    "\n",
    "plt.subplot(1,2,1)\n",
    "plt.boxplot(([x['cohen_kappa_score'] for x in t_xgb],\n",
    "             [x['cohen_kappa_score'] for x in t_rf],\n",
    "             [np.mean(x['cohen_kappa_score']) for x in t_xgb_xc],\n",
    "             [np.mean(x['cohen_kappa_score']) for x in t_rf_xc]\n",
    "            ),labels=('XGB','RF','XGB-XC','RF-XC'));\n",
    "plt.ylabel('kappa');\n",
    "plt.title(title)\n",
    "\n",
    "plt.subplot(1,2,2)\n",
    "plt.boxplot(([x['roc_auc_score'] for x in t_xgb],\n",
    "             [x['roc_auc_score'] for x in t_rf],\n",
    "             [np.mean(x['roc_auc_score']) for x in t_xgb_xc],\n",
    "             [np.mean(x['roc_auc_score']) for x in t_rf_xc]\n",
    "            ),labels=('XGB','RF','XGB-XC','RF-XC'));\n",
    "plt.ylabel('AUROC');\n"
   ]
  },
  {
   "cell_type": "code",
   "execution_count": 119,
   "metadata": {
    "ExecuteTime": {
     "end_time": "2023-08-13T04:25:44.837978Z",
     "start_time": "2023-08-13T04:25:44.657455Z"
    }
   },
   "outputs": [
    {
     "data": {
      "image/png": "[encoded data removed]",
      "text/plain": [
       "<Figure size 720x360 with 2 Axes>"
      ]
     },
     "metadata": {
      "needs_background": "light"
     },
     "output_type": "display_data"
    }
   ],
   "source": [
    "title = 'MDCK'\n",
    "t_rf = mdck_rf_accum\n",
    "t_xgb = mdck_xgb_accum\n",
    "t_rf_xc = mdck_rf_xc_accum\n",
    "t_xgb_xc = mdck_xgb_xc_accum\n",
    "\n",
    "plt.figure(figsize=(10,5))\n",
    "\n",
    "plt.subplot(1,2,1)\n",
    "plt.boxplot(([x['cohen_kappa_score'] for x in t_xgb],\n",
    "             [x['cohen_kappa_score'] for x in t_rf],\n",
    "             [np.mean(x['cohen_kappa_score']) for x in t_xgb_xc],\n",
    "             [np.mean(x['cohen_kappa_score']) for x in t_rf_xc]\n",
    "            ),labels=('XGB','RF','XGB-XC','RF-XC'));\n",
    "plt.ylabel('kappa');\n",
    "plt.title(title)\n",
    "\n",
    "plt.subplot(1,2,2)\n",
    "plt.boxplot(([x['roc_auc_score'] for x in t_xgb],\n",
    "             [x['roc_auc_score'] for x in t_rf],\n",
    "             [np.mean(x['roc_auc_score']) for x in t_xgb_xc],\n",
    "             [np.mean(x['roc_auc_score']) for x in t_rf_xc]\n",
    "            ),labels=('XGB','RF','XGB-XC','RF-XC'));\n",
    "plt.ylabel('AUROC');\n"
   ]
  },
  {
   "cell_type": "code",
   "execution_count": 120,
   "metadata": {
    "ExecuteTime": {
     "end_time": "2023-08-13T04:26:27.667537Z",
     "start_time": "2023-08-13T04:26:27.481540Z"
    }
   },
   "outputs": [
    {
     "data": {
      "image/png": "[encoded data removed]",
      "text/plain": [
       "<Figure size 720x360 with 2 Axes>"
      ]
     },
     "metadata": {
      "needs_background": "light"
     },
     "output_type": "display_data"
    }
   ],
   "source": [
    "title = 'HLM'\n",
    "t_rf = rf_accum\n",
    "t_xgb = xgb_accum\n",
    "t_rf_xc = rf_xc_accum\n",
    "t_xgb_xc = xgb_xc_accum\n",
    "\n",
    "plt.figure(figsize=(10,5))\n",
    "\n",
    "plt.subplot(1,2,1)\n",
    "plt.boxplot(([x['cohen_kappa_score'] for x in t_xgb],\n",
    "             [x['cohen_kappa_score'] for x in t_rf],\n",
    "             [np.mean(x['cohen_kappa_score']) for x in t_xgb_xc],\n",
    "             [np.mean(x['cohen_kappa_score']) for x in t_rf_xc]\n",
    "            ),labels=('XGB','RF','XGB-XC','RF-XC'));\n",
    "plt.ylabel('kappa');\n",
    "plt.title(title)\n",
    "\n",
    "plt.subplot(1,2,2)\n",
    "plt.boxplot(([x['roc_auc_score'] for x in t_xgb],\n",
    "             [x['roc_auc_score'] for x in t_rf],\n",
    "             [np.mean(x['roc_auc_score']) for x in t_xgb_xc],\n",
    "             [np.mean(x['roc_auc_score']) for x in t_rf_xc]\n",
    "            ),labels=('XGB','RF','XGB-XC','RF-XC'));\n",
    "plt.ylabel('AUROC');\n"
   ]
  },
  {
   "cell_type": "markdown",
   "metadata": {},
   "source": [
    "How often do we reach different conclusions?"
   ]
  },
  {
   "cell_type": "code",
   "execution_count": 137,
   "metadata": {
    "ExecuteTime": {
     "end_time": "2023-08-13T05:23:49.758153Z",
     "start_time": "2023-08-13T05:23:49.555382Z"
    }
   },
   "outputs": [
    {
     "name": "stdout",
     "output_type": "stream",
     "text": [
      "kappa fraction>0: 0.86\n",
      "AUC fraction>0: 0.16\n"
     ]
    },
    {
     "data": {
      "image/png": "[encoded data removed]",
      "text/plain": [
       "<Figure size 720x360 with 2 Axes>"
      ]
     },
     "metadata": {
      "needs_background": "light"
     },
     "output_type": "display_data"
    }
   ],
   "source": [
    "title = 'PPB'\n",
    "t_rf = ppb_rf_accum\n",
    "t_xgb = ppb_xgb_accum\n",
    "t_rf_xc = ppb_rf_xc_accum\n",
    "t_xgb_xc = ppb_xgb_xc_accum\n",
    "\n",
    "plt.figure(figsize=(10,5))\n",
    "\n",
    "plt.subplot(1,2,1)\n",
    "diffs = [np.mean(x['cohen_kappa_score'])-np.mean(y['cohen_kappa_score']) for x,y in zip(t_xgb_xc,t_rf_xc)]\n",
    "print(f'kappa fraction>0: {sum(np.array(diffs)>0)/len(diffs):.2f}')\n",
    "plt.hist(diffs);\n",
    "plt.title(title)\n",
    "plt.xlabel('$\\Delta$ kappa')\n",
    "plt.subplot(1,2,2)\n",
    "diffs = [np.mean(x['roc_auc_score'])-np.mean(y['roc_auc_score']) for x,y in zip(t_xgb_xc,t_rf_xc)]\n",
    "print(f'AUC fraction>0: {sum(np.array(diffs)>0)/len(diffs):.2f}')\n",
    "\n",
    "plt.hist(diffs);\n",
    "plt.xlabel('$\\Delta$ AUROC');\n"
   ]
  },
  {
   "cell_type": "code",
   "execution_count": 139,
   "metadata": {
    "ExecuteTime": {
     "end_time": "2023-08-13T05:24:12.420351Z",
     "start_time": "2023-08-13T05:24:12.211477Z"
    }
   },
   "outputs": [
    {
     "name": "stdout",
     "output_type": "stream",
     "text": [
      "kappa fraction>0: 1.00\n",
      "AUC fraction>0: 0.16\n"
     ]
    },
    {
     "data": {
      "image/png": "[encoded data removed]",
      "text/plain": [
       "<Figure size 720x360 with 2 Axes>"
      ]
     },
     "metadata": {
      "needs_background": "light"
     },
     "output_type": "display_data"
    }
   ],
   "source": [
    "title = 'MDCK'\n",
    "t_rf = mdck_rf_accum\n",
    "t_xgb = mdck_xgb_accum\n",
    "t_rf_xc = mdck_rf_xc_accum\n",
    "t_xgb_xc = mdck_xgb_xc_accum\n",
    "\n",
    "plt.figure(figsize=(10,5))\n",
    "\n",
    "plt.subplot(1,2,1)\n",
    "diffs = [np.mean(x['cohen_kappa_score'])-np.mean(y['cohen_kappa_score']) for x,y in zip(t_xgb_xc,t_rf_xc)]\n",
    "print(f'kappa fraction>0: {sum(np.array(diffs)>0)/len(diffs):.2f}')\n",
    "plt.hist(diffs);\n",
    "plt.title(title)\n",
    "plt.xlabel('$\\Delta$ kappa')\n",
    "\n",
    "plt.subplot(1,2,2)\n",
    "diffs = [np.mean(x['roc_auc_score'])-np.mean(y['roc_auc_score']) for x,y in zip(t_xgb_xc,t_rf_xc)]\n",
    "print(f'AUC fraction>0: {sum(np.array(diffs)>0)/len(diffs):.2f}')\n",
    "\n",
    "plt.hist(diffs);\n",
    "plt.xlabel('$\\Delta$ AUROC');\n"
   ]
  },
  {
   "cell_type": "code",
   "execution_count": 138,
   "metadata": {
    "ExecuteTime": {
     "end_time": "2023-08-13T05:24:10.062386Z",
     "start_time": "2023-08-13T05:24:09.852200Z"
    }
   },
   "outputs": [
    {
     "name": "stdout",
     "output_type": "stream",
     "text": [
      "kappa fraction>0: 1.00\n",
      "AUC fraction>0: 1.00\n"
     ]
    },
    {
     "data": {
      "image/png": "[encoded data removed]",
      "text/plain": [
       "<Figure size 720x360 with 2 Axes>"
      ]
     },
     "metadata": {
      "needs_background": "light"
     },
     "output_type": "display_data"
    }
   ],
   "source": [
    "title = 'HLM'\n",
    "t_rf = rf_accum\n",
    "t_xgb = xgb_accum\n",
    "t_rf_xc = rf_xc_accum\n",
    "t_xgb_xc = xgb_xc_accum\n",
    "\n",
    "plt.figure(figsize=(10,5))\n",
    "\n",
    "plt.subplot(1,2,1)\n",
    "diffs = [np.mean(x['cohen_kappa_score'])-np.mean(y['cohen_kappa_score']) for x,y in zip(t_xgb_xc,t_rf_xc)]\n",
    "print(f'kappa fraction>0: {sum(np.array(diffs)>0)/len(diffs):.2f}')\n",
    "plt.hist(diffs);\n",
    "plt.title(title)\n",
    "plt.xlabel('$\\Delta$ kappa')\n",
    "\n",
    "plt.subplot(1,2,2)\n",
    "diffs = [np.mean(x['roc_auc_score'])-np.mean(y['roc_auc_score']) for x,y in zip(t_xgb_xc,t_rf_xc)]\n",
    "print(f'AUC fraction>0: {sum(np.array(diffs)>0)/len(diffs):.2f}')\n",
    "\n",
    "plt.hist(diffs);\n",
    "plt.xlabel('$\\Delta$ AUROC');\n"
   ]
  },
  {
   "cell_type": "code",
   "execution_count": null,
   "metadata": {},
   "outputs": [],
   "source": []
  }
 ],
 "metadata": {
  "kernelspec": {
   "display_name": "Python 3 (ipykernel)",
   "language": "python",
   "name": "python3"
  },
  "language_info": {
   "codemirror_mode": {
    "name": "ipython",
    "version": 3
   },
   "file_extension": ".py",
   "mimetype": "text/x-python",
   "name": "python",
   "nbconvert_exporter": "python",
   "pygments_lexer": "ipython3",
   "version": "3.10.9"
  },
  "toc": {
   "base_numbering": 1,
   "nav_menu": {},
   "number_sections": true,
   "sideBar": true,
   "skip_h1_title": false,
   "title_cell": "Table of Contents",
   "title_sidebar": "Contents",
   "toc_cell": false,
   "toc_position": {},
   "toc_section_display": true,
   "toc_window_display": false
  }
 },
 "nbformat": 4,
 "nbformat_minor": 4
}
