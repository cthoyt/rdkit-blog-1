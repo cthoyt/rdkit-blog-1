{
 "cells": [
  {
   "attachments": {},
   "cell_type": "raw",
   "id": "ffc10c60",
   "metadata": {},
   "source": [
    "---\n",
    "badges: true\n",
    "categories:\n",
    "- tutorial\n",
    "- 3d\n",
    "date: '2023-02-04'\n",
    "title: Working with conformers\n",
    "description: Tutorial on how atomic coordinates are stored\n",
    "image: images/blog/working-with-conformers-1.png\n",
    "toc: true\n",
    "\n",
    "---"
   ]
  },
  {
   "cell_type": "markdown",
   "id": "2db649ae",
   "metadata": {},
   "source": [
    "The RDKit stores atomic coordinates in `Conformer` objects which are attached to the corresponding molecules. In this tutorial post we're going to look in detail at the way conformers are stored and ways to work with them.\n"
   ]
  },
  {
   "cell_type": "code",
   "execution_count": 1,
   "id": "48f284d4",
   "metadata": {},
   "outputs": [
    {
     "name": "stdout",
     "output_type": "stream",
     "text": [
      "2022.09.4\n"
     ]
    }
   ],
   "source": [
    "from rdkit import Chem\n",
    "from rdkit.Chem.Draw import IPythonConsole\n",
    "IPythonConsole.ipython_3d = True\n",
    "import py3Dmol\n",
    "from rdkit.Chem import rdDepictor\n",
    "from rdkit.Chem import rdDistGeom\n",
    "import rdkit\n",
    "print(rdkit.__version__)"
   ]
  },
  {
   "cell_type": "markdown",
   "id": "1dbc184a",
   "metadata": {},
   "source": [
    "A molecule constructed from SMILES has no conformer information:"
   ]
  },
  {
   "cell_type": "code",
   "execution_count": 2,
   "id": "5cc65ea6",
   "metadata": {},
   "outputs": [
    {
     "data": {
      "text/plain": [
       "0"
      ]
     },
     "execution_count": 2,
     "metadata": {},
     "output_type": "execute_result"
    }
   ],
   "source": [
    "esomeprazole = Chem.MolFromSmiles('COc1ccc2[n-]c([S@@+]([O-])Cc3ncc(C)c(OC)c3C)nc2c1')\n",
    "esomeprazole.GetNumConformers()"
   ]
  },
  {
   "cell_type": "markdown",
   "id": "a03a92c3",
   "metadata": {},
   "source": [
    "An aside: when you display a molecule without conformers in Jupyter, a 2D conformer is generated so that there's something to display:"
   ]
  },
  {
   "cell_type": "code",
   "execution_count": 3,
   "id": "850a6984",
   "metadata": {},
   "outputs": [
    {
     "data": {
      "image/png": "[encoded data removed]",
      "text/plain": [
       "<rdkit.Chem.rdchem.Mol at 0x245490538b0>"
      ]
     },
     "execution_count": 3,
     "metadata": {},
     "output_type": "execute_result"
    }
   ],
   "source": [
    "esomeprazole"
   ]
  },
  {
   "cell_type": "markdown",
   "id": "a2dc28a0",
   "metadata": {},
   "source": [
    "But this conformer is just temporary; the molecule itself is not modified:"
   ]
  },
  {
   "cell_type": "code",
   "execution_count": 4,
   "id": "29ef7c71",
   "metadata": {},
   "outputs": [
    {
     "data": {
      "text/plain": [
       "0"
      ]
     },
     "execution_count": 4,
     "metadata": {},
     "output_type": "execute_result"
    }
   ],
   "source": [
    "esomeprazole.GetNumConformers()"
   ]
  },
  {
   "cell_type": "markdown",
   "id": "19f06c05",
   "metadata": {},
   "source": [
    "When we ask to have 2D coordinates generated, they are added as a conformer:"
   ]
  },
  {
   "cell_type": "code",
   "execution_count": 5,
   "id": "0f90bfe4",
   "metadata": {},
   "outputs": [
    {
     "data": {
      "text/plain": [
       "1"
      ]
     },
     "execution_count": 5,
     "metadata": {},
     "output_type": "execute_result"
    }
   ],
   "source": [
    "rdDepictor.Compute2DCoords(esomeprazole)\n",
    "esomeprazole.GetNumConformers()"
   ]
  },
  {
   "cell_type": "markdown",
   "id": "77f82f44",
   "metadata": {},
   "source": [
    "And that conformer is flagged as not being 3D:"
   ]
  },
  {
   "cell_type": "code",
   "execution_count": 6,
   "id": "29872907",
   "metadata": {},
   "outputs": [
    {
     "data": {
      "text/plain": [
       "False"
      ]
     },
     "execution_count": 6,
     "metadata": {},
     "output_type": "execute_result"
    }
   ],
   "source": [
    "esomeprazole.GetConformer().Is3D()"
   ]
  },
  {
   "cell_type": "markdown",
   "id": "4f713b85",
   "metadata": {},
   "source": [
    "Generating a 3D structure also results in a conformer being added to the molecule (by default any existing conformers are cleared):"
   ]
  },
  {
   "cell_type": "code",
   "execution_count": 7,
   "id": "9e662a49",
   "metadata": {},
   "outputs": [
    {
     "name": "stdout",
     "output_type": "stream",
     "text": [
      "1 True\n"
     ]
    },
    {
     "name": "stderr",
     "output_type": "stream",
     "text": [
      "[09:59:21] UFFTYPER: Unrecognized charge state for atom: 8\n"
     ]
    }
   ],
   "source": [
    "esomeprazole = Chem.AddHs(esomeprazole) # <- add hydrogens so that we get a reasonable conformer\n",
    "rdDistGeom.EmbedMolecule(esomeprazole)\n",
    "print(esomeprazole.GetNumConformers(),esomeprazole.GetConformer().Is3D())"
   ]
  },
  {
   "cell_type": "markdown",
   "id": "0ac21dd1",
   "metadata": {},
   "source": [
    "Molecules can have more than one conformer attached. This is what happens whenever we ask for multiple conformers to be generated:"
   ]
  },
  {
   "cell_type": "code",
   "execution_count": 8,
   "id": "f6fbc43e",
   "metadata": {},
   "outputs": [
    {
     "name": "stderr",
     "output_type": "stream",
     "text": [
      "[09:59:22] UFFTYPER: Unrecognized charge state for atom: 8\n"
     ]
    },
    {
     "name": "stdout",
     "output_type": "stream",
     "text": [
      "10 True\n"
     ]
    }
   ],
   "source": [
    "rdDistGeom.EmbedMultipleConfs(esomeprazole,10, randomSeed=0xf00d) # <- generate 10 conformers\n",
    "print(esomeprazole.GetNumConformers(),esomeprazole.GetConformer().Is3D())"
   ]
  },
  {
   "cell_type": "markdown",
   "id": "7b118fba",
   "metadata": {},
   "source": [
    "Calling `GetConformer()` without arguments on a molecule with multiple conformers (as we did above) returns the default conformer. This is also what most RDKit operations that work with conformers do:"
   ]
  },
  {
   "cell_type": "code",
   "execution_count": 9,
   "id": "a9a01cc6",
   "metadata": {},
   "outputs": [
    {
     "data": {
      "application/3dmoljs_load.v0": "<div id=\"3dmolviewer_167550116487972\"  style=\"position: relative; width: 400px; height: 400px\">\n        <p id=\"3dmolwarning_167550116487972\" style=\"background-color:#ffcccc;color:black\">You appear to be running in JupyterLab (or JavaScript failed to load for some other reason).  You need to install the 3dmol extension: <br>\n        <tt>jupyter labextension install jupyterlab_3dmol</tt></p>\n        </div>\n<script>\n\nvar loadScriptAsync = function(uri){\n  return new Promise((resolve, reject) => {\n    //this is to ignore the existence of requirejs amd\n    var savedexports, savedmodule;\n    if (typeof exports !== 'undefined') savedexports = exports;\n    else exports = {}\n    if (typeof module !== 'undefined') savedmodule = module;\n    else module = {}\n\n    var tag = document.createElement('script');\n    tag.src = uri;\n    tag.async = true;\n    tag.onload = () => {\n        exports = savedexports;\n        module = savedmodule;\n        resolve();\n    };\n  var firstScriptTag = document.getElementsByTagName('script')[0];\n  firstScriptTag.parentNode.insertBefore(tag, firstScriptTag);\n});\n};\n\nif(typeof $3Dmolpromise === 'undefined') {\n$3Dmolpromise = null;\n  $3Dmolpromise = loadScriptAsync('https://cdn.jsdelivr.net/npm/3dmol@latest/build/3Dmol-min.min.js');\n}\n\nvar viewer_167550116487972 = null;\nvar warn = document.getElementById(\"3dmolwarning_167550116487972\");\nif(warn) {\n    warn.parentNode.removeChild(warn);\n}\n$3Dmolpromise.then(function() {\nviewer_167550116487972 = $3Dmol.createViewer(document.getElementById(\"3dmolviewer_167550116487972\"),{backgroundColor:\"white\"});\nviewer_167550116487972.zoomTo();\n\tviewer_167550116487972.removeAllModels();\n\tviewer_167550116487972.addModel(\"\\n     RDKit          3D\\n\\n 42 44  0  0  0  0  0  0  0  0999 V2000\\n    7.6738    1.9026    0.7499 C   0  0  0  0  0  0  0  0  0  0  0  0\\n    6.4550    1.5864    1.3565 O   0  0  0  0  0  0  0  0  0  0  0  0\\n    5.4799    0.8715    0.7057 C   0  0  0  0  0  0  0  0  0  0  0  0\\n    5.7398    0.4970   -0.6040 C   0  0  0  0  0  0  0  0  0  0  0  0\\n    4.7837   -0.2272   -1.2808 C   0  0  0  0  0  0  0  0  0  0  0  0\\n    3.5964   -0.5446   -0.5999 C   0  0  0  0  0  0  0  0  0  0  0  0\\n    2.5941   -1.2138   -1.0393 N   0  0  0  0  0  2  0  0  0  0  0  0\\n    1.5725   -1.3492   -0.0664 C   0  0  0  0  0  0  0  0  0  0  0  0\\n    0.2376   -2.1881   -0.6107 S   0  0  0  0  0  3  0  0  0  0  0  0\\n    0.8165   -3.8576   -0.6095 O   0  0  0  0  0  1  0  0  0  0  0  0\\n   -1.2739   -2.2670    0.0901 C   0  0  0  0  0  0  0  0  0  0  0  0\\n   -2.1082   -1.1180    0.3984 C   0  0  0  0  0  0  0  0  0  0  0  0\\n   -1.9817   -0.4066    1.5657 N   0  0  0  0  0  0  0  0  0  0  0  0\\n   -2.9438    0.4470    1.9742 C   0  0  0  0  0  0  0  0  0  0  0  0\\n   -4.1030    0.6869    1.2770 C   0  0  0  0  0  0  0  0  0  0  0  0\\n   -5.1913    1.5773    1.7705 C   0  0  0  0  0  0  0  0  0  0  0  0\\n   -4.2609   -0.0101    0.0749 C   0  0  0  0  0  0  0  0  0  0  0  0\\n   -5.4257    0.2315   -0.6552 O   0  0  0  0  0  0  0  0  0  0  0  0\\n   -5.4209    1.2922   -1.6183 C   0  0  0  0  0  0  0  0  0  0  0  0\\n   -3.2935   -0.8628   -0.3141 C   0  0  0  0  0  0  0  0  0  0  0  0\\n   -3.3730   -1.5816   -1.6429 C   0  0  0  0  0  0  0  0  0  0  0  0\\n    2.0933   -0.6955    0.9609 N   0  0  0  0  0  0  0  0  0  0  0  0\\n    3.3232   -0.1867    0.6889 C   0  0  0  0  0  0  0  0  0  0  0  0\\n    4.2815    0.5323    1.3441 C   0  0  0  0  0  0  0  0  0  0  0  0\\n    8.0939    0.9560    0.2675 H   0  0  0  0  0  0  0  0  0  0  0  0\\n    7.6506    2.6297   -0.0602 H   0  0  0  0  0  0  0  0  0  0  0  0\\n    8.3862    2.2156    1.5682 H   0  0  0  0  0  0  0  0  0  0  0  0\\n    6.6685    0.7445   -1.1342 H   0  0  0  0  0  0  0  0  0  0  0  0\\n    4.8923   -0.5653   -2.3013 H   0  0  0  0  0  0  0  0  0  0  0  0\\n   -1.9754   -3.0124   -0.4361 H   0  0  0  0  0  0  0  0  0  0  0  0\\n   -1.2739   -2.8376    1.1315 H   0  0  0  0  0  0  0  0  0  0  0  0\\n   -2.8378    0.9919    2.9307 H   0  0  0  0  0  0  0  0  0  0  0  0\\n   -5.8666    0.9608    2.4493 H   0  0  0  0  0  0  0  0  0  0  0  0\\n   -5.8402    1.8355    0.9298 H   0  0  0  0  0  0  0  0  0  0  0  0\\n   -4.8624    2.5012    2.2287 H   0  0  0  0  0  0  0  0  0  0  0  0\\n   -4.7878    1.0613   -2.5043 H   0  0  0  0  0  0  0  0  0  0  0  0\\n   -4.9982    2.2349   -1.2041 H   0  0  0  0  0  0  0  0  0  0  0  0\\n   -6.4360    1.4249   -2.0040 H   0  0  0  0  0  0  0  0  0  0  0  0\\n   -4.2497   -1.2164   -2.2176 H   0  0  0  0  0  0  0  0  0  0  0  0\\n   -2.4659   -1.2269   -2.2673 H   0  0  0  0  0  0  0  0  0  0  0  0\\n   -3.4759   -2.6501   -1.5807 H   0  0  0  0  0  0  0  0  0  0  0  0\\n    4.1067    0.8368    2.3464 H   0  0  0  0  0  0  0  0  0  0  0  0\\n  1  2  1  0\\n  2  3  1  0\\n  3  4  2  0\\n  4  5  1  0\\n  5  6  2  0\\n  6  7  1  0\\n  7  8  1  0\\n  8  9  1  0\\n  9 10  1  1\\n  9 11  1  0\\n 11 12  1  0\\n 12 13  2  0\\n 13 14  1  0\\n 14 15  2  0\\n 15 16  1  0\\n 15 17  1  0\\n 17 18  1  0\\n 18 19  1  0\\n 17 20  2  0\\n 20 21  1  0\\n  8 22  2  0\\n 22 23  1  0\\n 23 24  2  0\\n 24  3  1  0\\n 23  6  1  0\\n 20 12  1  0\\n  1 25  1  0\\n  1 26  1  0\\n  1 27  1  0\\n  4 28  1  0\\n  5 29  1  0\\n 11 30  1  0\\n 11 31  1  0\\n 14 32  1  0\\n 16 33  1  0\\n 16 34  1  0\\n 16 35  1  0\\n 19 36  1  0\\n 19 37  1  0\\n 19 38  1  0\\n 21 39  1  0\\n 21 40  1  0\\n 21 41  1  0\\n 24 42  1  0\\nM  CHG  3   7  -1   9   1  10  -1\\nM  END\\n\",\"sdf\");\n\tviewer_167550116487972.setStyle({\"stick\": {}});\n\tviewer_167550116487972.setBackgroundColor(\"0xeeeeee\");\n\tviewer_167550116487972.zoomTo();\nviewer_167550116487972.render();\n});\n</script>",
      "text/html": [
       "<div id=\"3dmolviewer_167550116487972\"  style=\"position: relative; width: 400px; height: 400px\">\n",
       "        <p id=\"3dmolwarning_167550116487972\" style=\"background-color:#ffcccc;color:black\">You appear to be running in JupyterLab (or JavaScript failed to load for some other reason).  You need to install the 3dmol extension: <br>\n",
       "        <tt>jupyter labextension install jupyterlab_3dmol</tt></p>\n",
       "        </div>\n",
       "<script>\n",
       "\n",
       "var loadScriptAsync = function(uri){\n",
       "  return new Promise((resolve, reject) => {\n",
       "    //this is to ignore the existence of requirejs amd\n",
       "    var savedexports, savedmodule;\n",
       "    if (typeof exports !== 'undefined') savedexports = exports;\n",
       "    else exports = {}\n",
       "    if (typeof module !== 'undefined') savedmodule = module;\n",
       "    else module = {}\n",
       "\n",
       "    var tag = document.createElement('script');\n",
       "    tag.src = uri;\n",
       "    tag.async = true;\n",
       "    tag.onload = () => {\n",
       "        exports = savedexports;\n",
       "        module = savedmodule;\n",
       "        resolve();\n",
       "    };\n",
       "  var firstScriptTag = document.getElementsByTagName('script')[0];\n",
       "  firstScriptTag.parentNode.insertBefore(tag, firstScriptTag);\n",
       "});\n",
       "};\n",
       "\n",
       "if(typeof $3Dmolpromise === 'undefined') {\n",
       "$3Dmolpromise = null;\n",
       "  $3Dmolpromise = loadScriptAsync('https://cdn.jsdelivr.net/npm/3dmol@latest/build/3Dmol-min.min.js');\n",
       "}\n",
       "\n",
       "var viewer_167550116487972 = null;\n",
       "var warn = document.getElementById(\"3dmolwarning_167550116487972\");\n",
       "if(warn) {\n",
       "    warn.parentNode.removeChild(warn);\n",
       "}\n",
       "$3Dmolpromise.then(function() {\n",
       "viewer_167550116487972 = $3Dmol.createViewer(document.getElementById(\"3dmolviewer_167550116487972\"),{backgroundColor:\"white\"});\n",
       "viewer_167550116487972.zoomTo();\n",
       "\tviewer_167550116487972.removeAllModels();\n",
       "\tviewer_167550116487972.addModel(\"\\n     RDKit          3D\\n\\n 42 44  0  0  0  0  0  0  0  0999 V2000\\n    7.6738    1.9026    0.7499 C   0  0  0  0  0  0  0  0  0  0  0  0\\n    6.4550    1.5864    1.3565 O   0  0  0  0  0  0  0  0  0  0  0  0\\n    5.4799    0.8715    0.7057 C   0  0  0  0  0  0  0  0  0  0  0  0\\n    5.7398    0.4970   -0.6040 C   0  0  0  0  0  0  0  0  0  0  0  0\\n    4.7837   -0.2272   -1.2808 C   0  0  0  0  0  0  0  0  0  0  0  0\\n    3.5964   -0.5446   -0.5999 C   0  0  0  0  0  0  0  0  0  0  0  0\\n    2.5941   -1.2138   -1.0393 N   0  0  0  0  0  2  0  0  0  0  0  0\\n    1.5725   -1.3492   -0.0664 C   0  0  0  0  0  0  0  0  0  0  0  0\\n    0.2376   -2.1881   -0.6107 S   0  0  0  0  0  3  0  0  0  0  0  0\\n    0.8165   -3.8576   -0.6095 O   0  0  0  0  0  1  0  0  0  0  0  0\\n   -1.2739   -2.2670    0.0901 C   0  0  0  0  0  0  0  0  0  0  0  0\\n   -2.1082   -1.1180    0.3984 C   0  0  0  0  0  0  0  0  0  0  0  0\\n   -1.9817   -0.4066    1.5657 N   0  0  0  0  0  0  0  0  0  0  0  0\\n   -2.9438    0.4470    1.9742 C   0  0  0  0  0  0  0  0  0  0  0  0\\n   -4.1030    0.6869    1.2770 C   0  0  0  0  0  0  0  0  0  0  0  0\\n   -5.1913    1.5773    1.7705 C   0  0  0  0  0  0  0  0  0  0  0  0\\n   -4.2609   -0.0101    0.0749 C   0  0  0  0  0  0  0  0  0  0  0  0\\n   -5.4257    0.2315   -0.6552 O   0  0  0  0  0  0  0  0  0  0  0  0\\n   -5.4209    1.2922   -1.6183 C   0  0  0  0  0  0  0  0  0  0  0  0\\n   -3.2935   -0.8628   -0.3141 C   0  0  0  0  0  0  0  0  0  0  0  0\\n   -3.3730   -1.5816   -1.6429 C   0  0  0  0  0  0  0  0  0  0  0  0\\n    2.0933   -0.6955    0.9609 N   0  0  0  0  0  0  0  0  0  0  0  0\\n    3.3232   -0.1867    0.6889 C   0  0  0  0  0  0  0  0  0  0  0  0\\n    4.2815    0.5323    1.3441 C   0  0  0  0  0  0  0  0  0  0  0  0\\n    8.0939    0.9560    0.2675 H   0  0  0  0  0  0  0  0  0  0  0  0\\n    7.6506    2.6297   -0.0602 H   0  0  0  0  0  0  0  0  0  0  0  0\\n    8.3862    2.2156    1.5682 H   0  0  0  0  0  0  0  0  0  0  0  0\\n    6.6685    0.7445   -1.1342 H   0  0  0  0  0  0  0  0  0  0  0  0\\n    4.8923   -0.5653   -2.3013 H   0  0  0  0  0  0  0  0  0  0  0  0\\n   -1.9754   -3.0124   -0.4361 H   0  0  0  0  0  0  0  0  0  0  0  0\\n   -1.2739   -2.8376    1.1315 H   0  0  0  0  0  0  0  0  0  0  0  0\\n   -2.8378    0.9919    2.9307 H   0  0  0  0  0  0  0  0  0  0  0  0\\n   -5.8666    0.9608    2.4493 H   0  0  0  0  0  0  0  0  0  0  0  0\\n   -5.8402    1.8355    0.9298 H   0  0  0  0  0  0  0  0  0  0  0  0\\n   -4.8624    2.5012    2.2287 H   0  0  0  0  0  0  0  0  0  0  0  0\\n   -4.7878    1.0613   -2.5043 H   0  0  0  0  0  0  0  0  0  0  0  0\\n   -4.9982    2.2349   -1.2041 H   0  0  0  0  0  0  0  0  0  0  0  0\\n   -6.4360    1.4249   -2.0040 H   0  0  0  0  0  0  0  0  0  0  0  0\\n   -4.2497   -1.2164   -2.2176 H   0  0  0  0  0  0  0  0  0  0  0  0\\n   -2.4659   -1.2269   -2.2673 H   0  0  0  0  0  0  0  0  0  0  0  0\\n   -3.4759   -2.6501   -1.5807 H   0  0  0  0  0  0  0  0  0  0  0  0\\n    4.1067    0.8368    2.3464 H   0  0  0  0  0  0  0  0  0  0  0  0\\n  1  2  1  0\\n  2  3  1  0\\n  3  4  2  0\\n  4  5  1  0\\n  5  6  2  0\\n  6  7  1  0\\n  7  8  1  0\\n  8  9  1  0\\n  9 10  1  1\\n  9 11  1  0\\n 11 12  1  0\\n 12 13  2  0\\n 13 14  1  0\\n 14 15  2  0\\n 15 16  1  0\\n 15 17  1  0\\n 17 18  1  0\\n 18 19  1  0\\n 17 20  2  0\\n 20 21  1  0\\n  8 22  2  0\\n 22 23  1  0\\n 23 24  2  0\\n 24  3  1  0\\n 23  6  1  0\\n 20 12  1  0\\n  1 25  1  0\\n  1 26  1  0\\n  1 27  1  0\\n  4 28  1  0\\n  5 29  1  0\\n 11 30  1  0\\n 11 31  1  0\\n 14 32  1  0\\n 16 33  1  0\\n 16 34  1  0\\n 16 35  1  0\\n 19 36  1  0\\n 19 37  1  0\\n 19 38  1  0\\n 21 39  1  0\\n 21 40  1  0\\n 21 41  1  0\\n 24 42  1  0\\nM  CHG  3   7  -1   9   1  10  -1\\nM  END\\n\",\"sdf\");\n",
       "\tviewer_167550116487972.setStyle({\"stick\": {}});\n",
       "\tviewer_167550116487972.setBackgroundColor(\"0xeeeeee\");\n",
       "\tviewer_167550116487972.zoomTo();\n",
       "viewer_167550116487972.render();\n",
       "});\n",
       "</script>"
      ]
     },
     "metadata": {},
     "output_type": "display_data"
    }
   ],
   "source": [
    "IPythonConsole.drawMol3D(esomeprazole)"
   ]
  },
  {
   "cell_type": "code",
   "execution_count": 10,
   "id": "7b748d6f",
   "metadata": {},
   "outputs": [
    {
     "name": "stdout",
     "output_type": "stream",
     "text": [
      "\n",
      "     RDKit          3D\n",
      "\n",
      "  0  0  0  0  0  0  0  0  0  0999 V3000\n",
      "M  V30 BEGIN CTAB\n",
      "M  V30 COUNTS 42 44 0 0 0\n",
      "M  V30 BEGIN ATOM\n",
      "M  V30 1 C 7.673833 1.902627 0.749932 0\n",
      "M  V30 2 O 6.455003 1.586360 1.35\n"
     ]
    }
   ],
   "source": [
    "print(Chem.MolToV3KMolBlock(esomeprazole)[:200])"
   ]
  },
  {
   "cell_type": "markdown",
   "id": "fdad8b24",
   "metadata": {},
   "source": [
    "But functions which use conformer information also generally take an optional `confId` argument that allows you to change which conformer is used:"
   ]
  },
  {
   "cell_type": "code",
   "execution_count": 11,
   "id": "44616d53",
   "metadata": {},
   "outputs": [
    {
     "data": {
      "application/3dmoljs_load.v0": "<div id=\"3dmolviewer_1675501166831226\"  style=\"position: relative; width: 400px; height: 400px\">\n        <p id=\"3dmolwarning_1675501166831226\" style=\"background-color:#ffcccc;color:black\">You appear to be running in JupyterLab (or JavaScript failed to load for some other reason).  You need to install the 3dmol extension: <br>\n        <tt>jupyter labextension install jupyterlab_3dmol</tt></p>\n        </div>\n<script>\n\nvar loadScriptAsync = function(uri){\n  return new Promise((resolve, reject) => {\n    //this is to ignore the existence of requirejs amd\n    var savedexports, savedmodule;\n    if (typeof exports !== 'undefined') savedexports = exports;\n    else exports = {}\n    if (typeof module !== 'undefined') savedmodule = module;\n    else module = {}\n\n    var tag = document.createElement('script');\n    tag.src = uri;\n    tag.async = true;\n    tag.onload = () => {\n        exports = savedexports;\n        module = savedmodule;\n        resolve();\n    };\n  var firstScriptTag = document.getElementsByTagName('script')[0];\n  firstScriptTag.parentNode.insertBefore(tag, firstScriptTag);\n});\n};\n\nif(typeof $3Dmolpromise === 'undefined') {\n$3Dmolpromise = null;\n  $3Dmolpromise = loadScriptAsync('https://cdn.jsdelivr.net/npm/3dmol@latest/build/3Dmol-min.min.js');\n}\n\nvar viewer_1675501166831226 = null;\nvar warn = document.getElementById(\"3dmolwarning_1675501166831226\");\nif(warn) {\n    warn.parentNode.removeChild(warn);\n}\n$3Dmolpromise.then(function() {\nviewer_1675501166831226 = $3Dmol.createViewer(document.getElementById(\"3dmolviewer_1675501166831226\"),{backgroundColor:\"white\"});\nviewer_1675501166831226.zoomTo();\n\tviewer_1675501166831226.removeAllModels();\n\tviewer_1675501166831226.addModel(\"\\n     RDKit          3D\\n\\n 42 44  0  0  0  0  0  0  0  0999 V2000\\n    8.2361    0.6767   -0.1340 C   0  0  0  0  0  0  0  0  0  0  0  0\\n    7.6797   -0.5716    0.2118 O   0  0  0  0  0  0  0  0  0  0  0  0\\n    6.3031   -0.7483    0.2056 C   0  0  0  0  0  0  0  0  0  0  0  0\\n    5.7383   -1.9573    0.5395 C   0  0  0  0  0  0  0  0  0  0  0  0\\n    4.3836   -2.1513    0.5394 C   0  0  0  0  0  0  0  0  0  0  0  0\\n    3.5707   -1.1165    0.1986 C   0  0  0  0  0  0  0  0  0  0  0  0\\n    2.2397   -0.9656    0.0974 N   0  0  0  0  0  2  0  0  0  0  0  0\\n    1.9479    0.2750   -0.2822 C   0  0  0  0  0  0  0  0  0  0  0  0\\n    0.3740    1.0151   -0.5681 S   0  0  0  0  0  3  0  0  0  0  0  0\\n    0.0711    0.7206   -2.2095 O   0  0  0  0  0  1  0  0  0  0  0  0\\n   -0.7970   -0.0308    0.2919 C   0  0  0  0  0  0  0  0  0  0  0  0\\n   -2.1498    0.4692    0.1376 C   0  0  0  0  0  0  0  0  0  0  0  0\\n   -2.3435    1.5855   -0.5864 N   0  0  0  0  0  0  0  0  0  0  0  0\\n   -3.5165    2.1585   -0.8139 C   0  0  0  0  0  0  0  0  0  0  0  0\\n   -4.6381    1.5409   -0.2483 C   0  0  0  0  0  0  0  0  0  0  0  0\\n   -5.9670    2.1632   -0.4880 C   0  0  0  0  0  0  0  0  0  0  0  0\\n   -4.4897    0.3862    0.5076 C   0  0  0  0  0  0  0  0  0  0  0  0\\n   -5.6411   -0.1770    1.0406 O   0  0  0  0  0  0  0  0  0  0  0  0\\n   -6.3372   -1.1354    0.2804 C   0  0  0  0  0  0  0  0  0  0  0  0\\n   -3.2335   -0.1493    0.6987 C   0  0  0  0  0  0  0  0  0  0  0  0\\n   -3.0658   -1.3729    1.4984 C   0  0  0  0  0  0  0  0  0  0  0  0\\n    3.1025    0.9244   -0.4253 N   0  0  0  0  0  0  0  0  0  0  0  0\\n    4.1287    0.0997   -0.1377 C   0  0  0  0  0  0  0  0  0  0  0  0\\n    5.4770    0.2981   -0.1391 C   0  0  0  0  0  0  0  0  0  0  0  0\\n    8.0945    0.9462   -1.1922 H   0  0  0  0  0  0  0  0  0  0  0  0\\n    9.3030    0.6459    0.1709 H   0  0  0  0  0  0  0  0  0  0  0  0\\n    7.7407    1.4886    0.4663 H   0  0  0  0  0  0  0  0  0  0  0  0\\n    6.3898   -2.7959    0.8153 H   0  0  0  0  0  0  0  0  0  0  0  0\\n    3.9390   -3.1185    0.8067 H   0  0  0  0  0  0  0  0  0  0  0  0\\n   -0.5237    0.0692    1.3856 H   0  0  0  0  0  0  0  0  0  0  0  0\\n   -0.6435   -1.0926    0.0562 H   0  0  0  0  0  0  0  0  0  0  0  0\\n   -3.6115    3.0618   -1.4081 H   0  0  0  0  0  0  0  0  0  0  0  0\\n   -6.6911    1.8140    0.2938 H   0  0  0  0  0  0  0  0  0  0  0  0\\n   -5.8948    3.2826   -0.4268 H   0  0  0  0  0  0  0  0  0  0  0  0\\n   -6.3208    1.9093   -1.5056 H   0  0  0  0  0  0  0  0  0  0  0  0\\n   -6.0362   -1.1822   -0.7704 H   0  0  0  0  0  0  0  0  0  0  0  0\\n   -7.4443   -1.0040    0.3440 H   0  0  0  0  0  0  0  0  0  0  0  0\\n   -6.1370   -2.1368    0.7612 H   0  0  0  0  0  0  0  0  0  0  0  0\\n   -2.0564   -1.5169    1.9046 H   0  0  0  0  0  0  0  0  0  0  0  0\\n   -3.3352   -2.2801    0.9370 H   0  0  0  0  0  0  0  0  0  0  0  0\\n   -3.7530   -1.2966    2.3698 H   0  0  0  0  0  0  0  0  0  0  0  0\\n    5.9074    1.2690   -0.4082 H   0  0  0  0  0  0  0  0  0  0  0  0\\n  1  2  1  0\\n  2  3  1  0\\n  3  4  2  0\\n  4  5  1  0\\n  5  6  2  0\\n  6  7  1  0\\n  7  8  1  0\\n  8  9  1  0\\n  9 10  1  6\\n  9 11  1  0\\n 11 12  1  0\\n 12 13  2  0\\n 13 14  1  0\\n 14 15  2  0\\n 15 16  1  0\\n 15 17  1  0\\n 17 18  1  0\\n 18 19  1  0\\n 17 20  2  0\\n 20 21  1  0\\n  8 22  2  0\\n 22 23  1  0\\n 23 24  2  0\\n 24  3  1  0\\n 23  6  1  0\\n 20 12  1  0\\n  1 25  1  0\\n  1 26  1  0\\n  1 27  1  0\\n  4 28  1  0\\n  5 29  1  0\\n 11 30  1  0\\n 11 31  1  0\\n 14 32  1  0\\n 16 33  1  0\\n 16 34  1  0\\n 16 35  1  0\\n 19 36  1  0\\n 19 37  1  0\\n 19 38  1  0\\n 21 39  1  0\\n 21 40  1  0\\n 21 41  1  0\\n 24 42  1  0\\nM  CHG  3   7  -1   9   1  10  -1\\nM  END\\n\",\"sdf\");\n\tviewer_1675501166831226.setStyle({\"stick\": {}});\n\tviewer_1675501166831226.setBackgroundColor(\"0xeeeeee\");\n\tviewer_1675501166831226.zoomTo();\nviewer_1675501166831226.render();\n});\n</script>",
      "text/html": [
       "<div id=\"3dmolviewer_1675501166831226\"  style=\"position: relative; width: 400px; height: 400px\">\n",
       "        <p id=\"3dmolwarning_1675501166831226\" style=\"background-color:#ffcccc;color:black\">You appear to be running in JupyterLab (or JavaScript failed to load for some other reason).  You need to install the 3dmol extension: <br>\n",
       "        <tt>jupyter labextension install jupyterlab_3dmol</tt></p>\n",
       "        </div>\n",
       "<script>\n",
       "\n",
       "var loadScriptAsync = function(uri){\n",
       "  return new Promise((resolve, reject) => {\n",
       "    //this is to ignore the existence of requirejs amd\n",
       "    var savedexports, savedmodule;\n",
       "    if (typeof exports !== 'undefined') savedexports = exports;\n",
       "    else exports = {}\n",
       "    if (typeof module !== 'undefined') savedmodule = module;\n",
       "    else module = {}\n",
       "\n",
       "    var tag = document.createElement('script');\n",
       "    tag.src = uri;\n",
       "    tag.async = true;\n",
       "    tag.onload = () => {\n",
       "        exports = savedexports;\n",
       "        module = savedmodule;\n",
       "        resolve();\n",
       "    };\n",
       "  var firstScriptTag = document.getElementsByTagName('script')[0];\n",
       "  firstScriptTag.parentNode.insertBefore(tag, firstScriptTag);\n",
       "});\n",
       "};\n",
       "\n",
       "if(typeof $3Dmolpromise === 'undefined') {\n",
       "$3Dmolpromise = null;\n",
       "  $3Dmolpromise = loadScriptAsync('https://cdn.jsdelivr.net/npm/3dmol@latest/build/3Dmol-min.min.js');\n",
       "}\n",
       "\n",
       "var viewer_1675501166831226 = null;\n",
       "var warn = document.getElementById(\"3dmolwarning_1675501166831226\");\n",
       "if(warn) {\n",
       "    warn.parentNode.removeChild(warn);\n",
       "}\n",
       "$3Dmolpromise.then(function() {\n",
       "viewer_1675501166831226 = $3Dmol.createViewer(document.getElementById(\"3dmolviewer_1675501166831226\"),{backgroundColor:\"white\"});\n",
       "viewer_1675501166831226.zoomTo();\n",
       "\tviewer_1675501166831226.removeAllModels();\n",
       "\tviewer_1675501166831226.addModel(\"\\n     RDKit          3D\\n\\n 42 44  0  0  0  0  0  0  0  0999 V2000\\n    8.2361    0.6767   -0.1340 C   0  0  0  0  0  0  0  0  0  0  0  0\\n    7.6797   -0.5716    0.2118 O   0  0  0  0  0  0  0  0  0  0  0  0\\n    6.3031   -0.7483    0.2056 C   0  0  0  0  0  0  0  0  0  0  0  0\\n    5.7383   -1.9573    0.5395 C   0  0  0  0  0  0  0  0  0  0  0  0\\n    4.3836   -2.1513    0.5394 C   0  0  0  0  0  0  0  0  0  0  0  0\\n    3.5707   -1.1165    0.1986 C   0  0  0  0  0  0  0  0  0  0  0  0\\n    2.2397   -0.9656    0.0974 N   0  0  0  0  0  2  0  0  0  0  0  0\\n    1.9479    0.2750   -0.2822 C   0  0  0  0  0  0  0  0  0  0  0  0\\n    0.3740    1.0151   -0.5681 S   0  0  0  0  0  3  0  0  0  0  0  0\\n    0.0711    0.7206   -2.2095 O   0  0  0  0  0  1  0  0  0  0  0  0\\n   -0.7970   -0.0308    0.2919 C   0  0  0  0  0  0  0  0  0  0  0  0\\n   -2.1498    0.4692    0.1376 C   0  0  0  0  0  0  0  0  0  0  0  0\\n   -2.3435    1.5855   -0.5864 N   0  0  0  0  0  0  0  0  0  0  0  0\\n   -3.5165    2.1585   -0.8139 C   0  0  0  0  0  0  0  0  0  0  0  0\\n   -4.6381    1.5409   -0.2483 C   0  0  0  0  0  0  0  0  0  0  0  0\\n   -5.9670    2.1632   -0.4880 C   0  0  0  0  0  0  0  0  0  0  0  0\\n   -4.4897    0.3862    0.5076 C   0  0  0  0  0  0  0  0  0  0  0  0\\n   -5.6411   -0.1770    1.0406 O   0  0  0  0  0  0  0  0  0  0  0  0\\n   -6.3372   -1.1354    0.2804 C   0  0  0  0  0  0  0  0  0  0  0  0\\n   -3.2335   -0.1493    0.6987 C   0  0  0  0  0  0  0  0  0  0  0  0\\n   -3.0658   -1.3729    1.4984 C   0  0  0  0  0  0  0  0  0  0  0  0\\n    3.1025    0.9244   -0.4253 N   0  0  0  0  0  0  0  0  0  0  0  0\\n    4.1287    0.0997   -0.1377 C   0  0  0  0  0  0  0  0  0  0  0  0\\n    5.4770    0.2981   -0.1391 C   0  0  0  0  0  0  0  0  0  0  0  0\\n    8.0945    0.9462   -1.1922 H   0  0  0  0  0  0  0  0  0  0  0  0\\n    9.3030    0.6459    0.1709 H   0  0  0  0  0  0  0  0  0  0  0  0\\n    7.7407    1.4886    0.4663 H   0  0  0  0  0  0  0  0  0  0  0  0\\n    6.3898   -2.7959    0.8153 H   0  0  0  0  0  0  0  0  0  0  0  0\\n    3.9390   -3.1185    0.8067 H   0  0  0  0  0  0  0  0  0  0  0  0\\n   -0.5237    0.0692    1.3856 H   0  0  0  0  0  0  0  0  0  0  0  0\\n   -0.6435   -1.0926    0.0562 H   0  0  0  0  0  0  0  0  0  0  0  0\\n   -3.6115    3.0618   -1.4081 H   0  0  0  0  0  0  0  0  0  0  0  0\\n   -6.6911    1.8140    0.2938 H   0  0  0  0  0  0  0  0  0  0  0  0\\n   -5.8948    3.2826   -0.4268 H   0  0  0  0  0  0  0  0  0  0  0  0\\n   -6.3208    1.9093   -1.5056 H   0  0  0  0  0  0  0  0  0  0  0  0\\n   -6.0362   -1.1822   -0.7704 H   0  0  0  0  0  0  0  0  0  0  0  0\\n   -7.4443   -1.0040    0.3440 H   0  0  0  0  0  0  0  0  0  0  0  0\\n   -6.1370   -2.1368    0.7612 H   0  0  0  0  0  0  0  0  0  0  0  0\\n   -2.0564   -1.5169    1.9046 H   0  0  0  0  0  0  0  0  0  0  0  0\\n   -3.3352   -2.2801    0.9370 H   0  0  0  0  0  0  0  0  0  0  0  0\\n   -3.7530   -1.2966    2.3698 H   0  0  0  0  0  0  0  0  0  0  0  0\\n    5.9074    1.2690   -0.4082 H   0  0  0  0  0  0  0  0  0  0  0  0\\n  1  2  1  0\\n  2  3  1  0\\n  3  4  2  0\\n  4  5  1  0\\n  5  6  2  0\\n  6  7  1  0\\n  7  8  1  0\\n  8  9  1  0\\n  9 10  1  6\\n  9 11  1  0\\n 11 12  1  0\\n 12 13  2  0\\n 13 14  1  0\\n 14 15  2  0\\n 15 16  1  0\\n 15 17  1  0\\n 17 18  1  0\\n 18 19  1  0\\n 17 20  2  0\\n 20 21  1  0\\n  8 22  2  0\\n 22 23  1  0\\n 23 24  2  0\\n 24  3  1  0\\n 23  6  1  0\\n 20 12  1  0\\n  1 25  1  0\\n  1 26  1  0\\n  1 27  1  0\\n  4 28  1  0\\n  5 29  1  0\\n 11 30  1  0\\n 11 31  1  0\\n 14 32  1  0\\n 16 33  1  0\\n 16 34  1  0\\n 16 35  1  0\\n 19 36  1  0\\n 19 37  1  0\\n 19 38  1  0\\n 21 39  1  0\\n 21 40  1  0\\n 21 41  1  0\\n 24 42  1  0\\nM  CHG  3   7  -1   9   1  10  -1\\nM  END\\n\",\"sdf\");\n",
       "\tviewer_1675501166831226.setStyle({\"stick\": {}});\n",
       "\tviewer_1675501166831226.setBackgroundColor(\"0xeeeeee\");\n",
       "\tviewer_1675501166831226.zoomTo();\n",
       "viewer_1675501166831226.render();\n",
       "});\n",
       "</script>"
      ]
     },
     "metadata": {},
     "output_type": "display_data"
    }
   ],
   "source": [
    "IPythonConsole.drawMol3D(esomeprazole,confId=2)"
   ]
  },
  {
   "cell_type": "code",
   "execution_count": 12,
   "id": "83d4b9d9",
   "metadata": {},
   "outputs": [
    {
     "name": "stdout",
     "output_type": "stream",
     "text": [
      "\n",
      "     RDKit          3D\n",
      "\n",
      "  0  0  0  0  0  0  0  0  0  0999 V3000\n",
      "M  V30 BEGIN CTAB\n",
      "M  V30 COUNTS 42 44 0 0 0\n",
      "M  V30 BEGIN ATOM\n",
      "M  V30 1 C 8.236088 0.676672 -0.133971 0\n",
      "M  V30 2 O 7.679673 -0.571643 0.\n"
     ]
    }
   ],
   "source": [
    "print(Chem.MolToV3KMolBlock(esomeprazole,confId=2)[:200])"
   ]
  },
  {
   "cell_type": "markdown",
   "id": "3a233974",
   "metadata": {},
   "source": [
    "As an aside: the `Is3D` flag on conformers is used by the RDKit's jupyter integration to decide how to show the molecule. We can fool it by marking a 3D conformer as 2D:"
   ]
  },
  {
   "cell_type": "code",
   "execution_count": 14,
   "id": "cf1e7e2c",
   "metadata": {},
   "outputs": [
    {
     "data": {
      "image/png": "[encoded data removed]",
      "text/plain": [
       "<rdkit.Chem.rdchem.Mol at 0x245475e9080>"
      ]
     },
     "execution_count": 14,
     "metadata": {},
     "output_type": "execute_result"
    }
   ],
   "source": [
    "tmol = Chem.Mol(esomeprazole)\n",
    "tmol.GetConformer().Set3D(False)\n",
    "tmol"
   ]
  },
  {
   "cell_type": "markdown",
   "id": "f02f322c",
   "metadata": {},
   "source": [
    "or a 2D conformer as 3D:"
   ]
  },
  {
   "cell_type": "code",
   "execution_count": 15,
   "id": "d76b49a1",
   "metadata": {},
   "outputs": [
    {
     "data": {
      "application/3dmoljs_load.v0": "<div id=\"3dmolviewer_16755013583382678\"  style=\"position: relative; width: 400px; height: 400px\">\n        <p id=\"3dmolwarning_16755013583382678\" style=\"background-color:#ffcccc;color:black\">You appear to be running in JupyterLab (or JavaScript failed to load for some other reason).  You need to install the 3dmol extension: <br>\n        <tt>jupyter labextension install jupyterlab_3dmol</tt></p>\n        </div>\n<script>\n\nvar loadScriptAsync = function(uri){\n  return new Promise((resolve, reject) => {\n    //this is to ignore the existence of requirejs amd\n    var savedexports, savedmodule;\n    if (typeof exports !== 'undefined') savedexports = exports;\n    else exports = {}\n    if (typeof module !== 'undefined') savedmodule = module;\n    else module = {}\n\n    var tag = document.createElement('script');\n    tag.src = uri;\n    tag.async = true;\n    tag.onload = () => {\n        exports = savedexports;\n        module = savedmodule;\n        resolve();\n    };\n  var firstScriptTag = document.getElementsByTagName('script')[0];\n  firstScriptTag.parentNode.insertBefore(tag, firstScriptTag);\n});\n};\n\nif(typeof $3Dmolpromise === 'undefined') {\n$3Dmolpromise = null;\n  $3Dmolpromise = loadScriptAsync('https://cdn.jsdelivr.net/npm/3dmol@latest/build/3Dmol-min.min.js');\n}\n\nvar viewer_16755013583382678 = null;\nvar warn = document.getElementById(\"3dmolwarning_16755013583382678\");\nif(warn) {\n    warn.parentNode.removeChild(warn);\n}\n$3Dmolpromise.then(function() {\nviewer_16755013583382678 = $3Dmol.createViewer(document.getElementById(\"3dmolviewer_16755013583382678\"),{backgroundColor:\"white\"});\nviewer_16755013583382678.zoomTo();\n\tviewer_16755013583382678.removeAllModels();\n\tviewer_16755013583382678.addModel(\"\\n     RDKit          3D\\n\\n 42 44  0  0  0  0  0  0  0  0999 V2000\\n    8.4108    1.9081    0.0000 C   0  0  0  0  0  0  0  0  0  0  0  0\\n    6.9241    2.1077    0.0000 O   0  0  0  0  0  0  0  0  0  0  0  0\\n    6.0080    0.9199    0.0000 C   0  0  0  0  0  0  0  0  0  0  0  0\\n    6.5785   -0.4673    0.0000 C   0  0  0  0  0  0  0  0  0  0  0  0\\n    5.6624   -1.6551    0.0000 C   0  0  0  0  0  0  0  0  0  0  0  0\\n    4.1757   -1.4555    0.0000 C   0  0  0  0  0  0  0  0  0  0  0  0\\n    3.0327   -2.4269    0.0000 N   0  0  0  0  0  2  0  0  0  0  0  0\\n    1.7557   -1.6399    0.0000 C   0  0  0  0  0  0  0  0  0  0  0  0\\n    0.3684   -2.2104    0.0000 S   0  0  0  0  0  3  0  0  0  0  0  0\\n    0.1689   -3.6971    0.0000 O   0  0  0  0  0  1  0  0  0  0  0  0\\n   -0.8193   -1.2943    0.0000 C   0  0  0  0  0  0  0  0  0  0  0  0\\n   -2.0071   -0.3782    0.0000 C   0  0  0  0  0  0  0  0  0  0  0  0\\n   -1.8075    1.1085    0.0000 N   0  0  0  0  0  0  0  0  0  0  0  0\\n   -2.9953    2.0246    0.0000 C   0  0  0  0  0  0  0  0  0  0  0  0\\n   -4.3825    1.4540    0.0000 C   0  0  0  0  0  0  0  0  0  0  0  0\\n   -5.5703    2.3702    0.0000 C   0  0  0  0  0  0  0  0  0  0  0  0\\n   -4.5820   -0.0326    0.0000 C   0  0  0  0  0  0  0  0  0  0  0  0\\n   -5.9693   -0.6032    0.0000 O   0  0  0  0  0  0  0  0  0  0  0  0\\n   -7.1570    0.3130    0.0000 C   0  0  0  0  0  0  0  0  0  0  0  0\\n   -3.3943   -0.9487    0.0000 C   0  0  0  0  0  0  0  0  0  0  0  0\\n   -3.5938   -2.4354    0.0000 C   0  0  0  0  0  0  0  0  0  0  0  0\\n    2.1095   -0.1822    0.0000 N   0  0  0  0  0  0  0  0  0  0  0  0\\n    3.6052   -0.0683    0.0000 C   0  0  0  0  0  0  0  0  0  0  0  0\\n    4.5213    1.1194    0.0000 C   0  0  0  0  0  0  0  0  0  0  0  0\\n    9.8974    1.7086    0.0000 H   0  0  0  0  0  0  0  0  0  0  0  0\\n    8.6103    3.3948    0.0000 H   0  0  0  0  0  0  0  0  0  0  0  0\\n    8.2112    0.4215    0.0000 H   0  0  0  0  0  0  0  0  0  0  0  0\\n    8.0652   -0.6668    0.0000 H   0  0  0  0  0  0  0  0  0  0  0  0\\n    6.2329   -3.0423    0.0000 H   0  0  0  0  0  0  0  0  0  0  0  0\\n    0.0968   -0.1066    0.0000 H   0  0  0  0  0  0  0  0  0  0  0  0\\n   -1.5838   -2.5849    0.0000 H   0  0  0  0  0  0  0  0  0  0  0  0\\n   -2.7957    3.5113    0.0000 H   0  0  0  0  0  0  0  0  0  0  0  0\\n   -6.7580    3.2863    0.0000 H   0  0  0  0  0  0  0  0  0  0  0  0\\n   -4.6541    3.5579    0.0000 H   0  0  0  0  0  0  0  0  0  0  0  0\\n   -6.1304    1.8030    0.0000 H   0  0  0  0  0  0  0  0  0  0  0  0\\n   -8.3448    1.2291    0.0000 H   0  0  0  0  0  0  0  0  0  0  0  0\\n   -8.0732   -0.8748    0.0000 H   0  0  0  0  0  0  0  0  0  0  0  0\\n   -6.7507    0.9988    0.0000 H   0  0  0  0  0  0  0  0  0  0  0  0\\n   -3.7933   -3.9221    0.0000 H   0  0  0  0  0  0  0  0  0  0  0  0\\n   -5.0805   -2.2359    0.0000 H   0  0  0  0  0  0  0  0  0  0  0  0\\n   -2.1426   -2.8147    0.0000 H   0  0  0  0  0  0  0  0  0  0  0  0\\n    3.9507    2.5067    0.0000 H   0  0  0  0  0  0  0  0  0  0  0  0\\n  1  2  1  0\\n  2  3  1  0\\n  3  4  2  0\\n  4  5  1  0\\n  5  6  2  0\\n  6  7  1  0\\n  7  8  1  0\\n  8  9  1  0\\n  9 10  1  1\\n  9 11  1  0\\n 11 12  1  0\\n 12 13  2  0\\n 13 14  1  0\\n 14 15  2  0\\n 15 16  1  0\\n 15 17  1  0\\n 17 18  1  0\\n 18 19  1  0\\n 17 20  2  0\\n 20 21  1  0\\n  8 22  2  0\\n 22 23  1  0\\n 23 24  2  0\\n 24  3  1  0\\n 23  6  1  0\\n 20 12  1  0\\n  1 25  1  0\\n  1 26  1  0\\n  1 27  1  0\\n  4 28  1  0\\n  5 29  1  0\\n 11 30  1  0\\n 11 31  1  0\\n 14 32  1  0\\n 16 33  1  0\\n 16 34  1  0\\n 16 35  1  0\\n 19 36  1  0\\n 19 37  1  0\\n 19 38  1  0\\n 21 39  1  0\\n 21 40  1  0\\n 21 41  1  0\\n 24 42  1  0\\nM  CHG  3   7  -1   9   1  10  -1\\nM  END\\n\",\"sdf\");\n\tviewer_16755013583382678.setStyle({\"stick\": {}});\n\tviewer_16755013583382678.setBackgroundColor(\"0xeeeeee\");\n\tviewer_16755013583382678.zoomTo();\nviewer_16755013583382678.render();\n});\n</script>",
      "text/html": [
       "<div id=\"3dmolviewer_16755013583382678\"  style=\"position: relative; width: 400px; height: 400px\">\n",
       "        <p id=\"3dmolwarning_16755013583382678\" style=\"background-color:#ffcccc;color:black\">You appear to be running in JupyterLab (or JavaScript failed to load for some other reason).  You need to install the 3dmol extension: <br>\n",
       "        <tt>jupyter labextension install jupyterlab_3dmol</tt></p>\n",
       "        </div>\n",
       "<script>\n",
       "\n",
       "var loadScriptAsync = function(uri){\n",
       "  return new Promise((resolve, reject) => {\n",
       "    //this is to ignore the existence of requirejs amd\n",
       "    var savedexports, savedmodule;\n",
       "    if (typeof exports !== 'undefined') savedexports = exports;\n",
       "    else exports = {}\n",
       "    if (typeof module !== 'undefined') savedmodule = module;\n",
       "    else module = {}\n",
       "\n",
       "    var tag = document.createElement('script');\n",
       "    tag.src = uri;\n",
       "    tag.async = true;\n",
       "    tag.onload = () => {\n",
       "        exports = savedexports;\n",
       "        module = savedmodule;\n",
       "        resolve();\n",
       "    };\n",
       "  var firstScriptTag = document.getElementsByTagName('script')[0];\n",
       "  firstScriptTag.parentNode.insertBefore(tag, firstScriptTag);\n",
       "});\n",
       "};\n",
       "\n",
       "if(typeof $3Dmolpromise === 'undefined') {\n",
       "$3Dmolpromise = null;\n",
       "  $3Dmolpromise = loadScriptAsync('https://cdn.jsdelivr.net/npm/3dmol@latest/build/3Dmol-min.min.js');\n",
       "}\n",
       "\n",
       "var viewer_16755013583382678 = null;\n",
       "var warn = document.getElementById(\"3dmolwarning_16755013583382678\");\n",
       "if(warn) {\n",
       "    warn.parentNode.removeChild(warn);\n",
       "}\n",
       "$3Dmolpromise.then(function() {\n",
       "viewer_16755013583382678 = $3Dmol.createViewer(document.getElementById(\"3dmolviewer_16755013583382678\"),{backgroundColor:\"white\"});\n",
       "viewer_16755013583382678.zoomTo();\n",
       "\tviewer_16755013583382678.removeAllModels();\n",
       "\tviewer_16755013583382678.addModel(\"\\n     RDKit          3D\\n\\n 42 44  0  0  0  0  0  0  0  0999 V2000\\n    8.4108    1.9081    0.0000 C   0  0  0  0  0  0  0  0  0  0  0  0\\n    6.9241    2.1077    0.0000 O   0  0  0  0  0  0  0  0  0  0  0  0\\n    6.0080    0.9199    0.0000 C   0  0  0  0  0  0  0  0  0  0  0  0\\n    6.5785   -0.4673    0.0000 C   0  0  0  0  0  0  0  0  0  0  0  0\\n    5.6624   -1.6551    0.0000 C   0  0  0  0  0  0  0  0  0  0  0  0\\n    4.1757   -1.4555    0.0000 C   0  0  0  0  0  0  0  0  0  0  0  0\\n    3.0327   -2.4269    0.0000 N   0  0  0  0  0  2  0  0  0  0  0  0\\n    1.7557   -1.6399    0.0000 C   0  0  0  0  0  0  0  0  0  0  0  0\\n    0.3684   -2.2104    0.0000 S   0  0  0  0  0  3  0  0  0  0  0  0\\n    0.1689   -3.6971    0.0000 O   0  0  0  0  0  1  0  0  0  0  0  0\\n   -0.8193   -1.2943    0.0000 C   0  0  0  0  0  0  0  0  0  0  0  0\\n   -2.0071   -0.3782    0.0000 C   0  0  0  0  0  0  0  0  0  0  0  0\\n   -1.8075    1.1085    0.0000 N   0  0  0  0  0  0  0  0  0  0  0  0\\n   -2.9953    2.0246    0.0000 C   0  0  0  0  0  0  0  0  0  0  0  0\\n   -4.3825    1.4540    0.0000 C   0  0  0  0  0  0  0  0  0  0  0  0\\n   -5.5703    2.3702    0.0000 C   0  0  0  0  0  0  0  0  0  0  0  0\\n   -4.5820   -0.0326    0.0000 C   0  0  0  0  0  0  0  0  0  0  0  0\\n   -5.9693   -0.6032    0.0000 O   0  0  0  0  0  0  0  0  0  0  0  0\\n   -7.1570    0.3130    0.0000 C   0  0  0  0  0  0  0  0  0  0  0  0\\n   -3.3943   -0.9487    0.0000 C   0  0  0  0  0  0  0  0  0  0  0  0\\n   -3.5938   -2.4354    0.0000 C   0  0  0  0  0  0  0  0  0  0  0  0\\n    2.1095   -0.1822    0.0000 N   0  0  0  0  0  0  0  0  0  0  0  0\\n    3.6052   -0.0683    0.0000 C   0  0  0  0  0  0  0  0  0  0  0  0\\n    4.5213    1.1194    0.0000 C   0  0  0  0  0  0  0  0  0  0  0  0\\n    9.8974    1.7086    0.0000 H   0  0  0  0  0  0  0  0  0  0  0  0\\n    8.6103    3.3948    0.0000 H   0  0  0  0  0  0  0  0  0  0  0  0\\n    8.2112    0.4215    0.0000 H   0  0  0  0  0  0  0  0  0  0  0  0\\n    8.0652   -0.6668    0.0000 H   0  0  0  0  0  0  0  0  0  0  0  0\\n    6.2329   -3.0423    0.0000 H   0  0  0  0  0  0  0  0  0  0  0  0\\n    0.0968   -0.1066    0.0000 H   0  0  0  0  0  0  0  0  0  0  0  0\\n   -1.5838   -2.5849    0.0000 H   0  0  0  0  0  0  0  0  0  0  0  0\\n   -2.7957    3.5113    0.0000 H   0  0  0  0  0  0  0  0  0  0  0  0\\n   -6.7580    3.2863    0.0000 H   0  0  0  0  0  0  0  0  0  0  0  0\\n   -4.6541    3.5579    0.0000 H   0  0  0  0  0  0  0  0  0  0  0  0\\n   -6.1304    1.8030    0.0000 H   0  0  0  0  0  0  0  0  0  0  0  0\\n   -8.3448    1.2291    0.0000 H   0  0  0  0  0  0  0  0  0  0  0  0\\n   -8.0732   -0.8748    0.0000 H   0  0  0  0  0  0  0  0  0  0  0  0\\n   -6.7507    0.9988    0.0000 H   0  0  0  0  0  0  0  0  0  0  0  0\\n   -3.7933   -3.9221    0.0000 H   0  0  0  0  0  0  0  0  0  0  0  0\\n   -5.0805   -2.2359    0.0000 H   0  0  0  0  0  0  0  0  0  0  0  0\\n   -2.1426   -2.8147    0.0000 H   0  0  0  0  0  0  0  0  0  0  0  0\\n    3.9507    2.5067    0.0000 H   0  0  0  0  0  0  0  0  0  0  0  0\\n  1  2  1  0\\n  2  3  1  0\\n  3  4  2  0\\n  4  5  1  0\\n  5  6  2  0\\n  6  7  1  0\\n  7  8  1  0\\n  8  9  1  0\\n  9 10  1  1\\n  9 11  1  0\\n 11 12  1  0\\n 12 13  2  0\\n 13 14  1  0\\n 14 15  2  0\\n 15 16  1  0\\n 15 17  1  0\\n 17 18  1  0\\n 18 19  1  0\\n 17 20  2  0\\n 20 21  1  0\\n  8 22  2  0\\n 22 23  1  0\\n 23 24  2  0\\n 24  3  1  0\\n 23  6  1  0\\n 20 12  1  0\\n  1 25  1  0\\n  1 26  1  0\\n  1 27  1  0\\n  4 28  1  0\\n  5 29  1  0\\n 11 30  1  0\\n 11 31  1  0\\n 14 32  1  0\\n 16 33  1  0\\n 16 34  1  0\\n 16 35  1  0\\n 19 36  1  0\\n 19 37  1  0\\n 19 38  1  0\\n 21 39  1  0\\n 21 40  1  0\\n 21 41  1  0\\n 24 42  1  0\\nM  CHG  3   7  -1   9   1  10  -1\\nM  END\\n\",\"sdf\");\n",
       "\tviewer_16755013583382678.setStyle({\"stick\": {}});\n",
       "\tviewer_16755013583382678.setBackgroundColor(\"0xeeeeee\");\n",
       "\tviewer_16755013583382678.zoomTo();\n",
       "viewer_16755013583382678.render();\n",
       "});\n",
       "</script>"
      ]
     },
     "metadata": {},
     "output_type": "display_data"
    },
    {
     "data": {
      "image/png": "[encoded data removed]",
      "text/html": [],
      "text/plain": [
       "<rdkit.Chem.rdchem.Mol at 0x245475e9080>"
      ]
     },
     "execution_count": 15,
     "metadata": {},
     "output_type": "execute_result"
    }
   ],
   "source": [
    "rdDepictor.Compute2DCoords(tmol)\n",
    "tmol.GetConformer().Set3D(True)\n",
    "tmol"
   ]
  },
  {
   "cell_type": "markdown",
   "id": "69f68fc5",
   "metadata": {},
   "source": [
    "## Conformer IDs\n",
    "\n",
    "Each conformer has an ID associated with it:"
   ]
  },
  {
   "cell_type": "code",
   "execution_count": 26,
   "id": "df153a6f",
   "metadata": {},
   "outputs": [
    {
     "name": "stdout",
     "output_type": "stream",
     "text": [
      "[0, 1, 2, 3, 4, 5, 6, 7, 8, 9]\n"
     ]
    }
   ],
   "source": [
    "print([x.GetId() for x in esomeprazole.GetConformers()])"
   ]
  },
  {
   "cell_type": "markdown",
   "id": "58b61723",
   "metadata": {},
   "source": [
    "And there's no guarantee that the IDs are consecutive:"
   ]
  },
  {
   "cell_type": "code",
   "execution_count": 28,
   "id": "6391a8f6",
   "metadata": {},
   "outputs": [
    {
     "name": "stdout",
     "output_type": "stream",
     "text": [
      "[1, 2, 4, 5, 6, 8, 9]\n"
     ]
    }
   ],
   "source": [
    "cp = Chem.Mol(esomeprazole)\n",
    "cp.RemoveConformer(0)\n",
    "cp.RemoveConformer(3)\n",
    "cp.RemoveConformer(7)\n",
    "print([x.GetId() for x in cp.GetConformers()])"
   ]
  },
  {
   "cell_type": "markdown",
   "id": "fc7dc378",
   "metadata": {},
   "source": [
    "The default conformer is just the first one:"
   ]
  },
  {
   "cell_type": "code",
   "execution_count": 30,
   "id": "697b2659",
   "metadata": {},
   "outputs": [
    {
     "data": {
      "text/plain": [
       "(0, 1)"
      ]
     },
     "execution_count": 30,
     "metadata": {},
     "output_type": "execute_result"
    }
   ],
   "source": [
    "esomeprazole.GetConformer().GetId(),cp.GetConformer().GetId()"
   ]
  },
  {
   "cell_type": "markdown",
   "id": "0a0d8e23",
   "metadata": {},
   "source": [
    "If we ask for a conformer Id which doesn't exist, we get an error"
   ]
  },
  {
   "cell_type": "code",
   "execution_count": 33,
   "id": "6d6c3852",
   "metadata": {},
   "outputs": [
    {
     "ename": "ValueError",
     "evalue": "Bad Conformer Id",
     "output_type": "error",
     "traceback": [
      "\u001b[1;31m---------------------------------------------------------------------------\u001b[0m",
      "\u001b[1;31mValueError\u001b[0m                                Traceback (most recent call last)",
      "Cell \u001b[1;32mIn [33], line 1\u001b[0m\n\u001b[1;32m----> 1\u001b[0m \u001b[43mcp\u001b[49m\u001b[38;5;241;43m.\u001b[39;49m\u001b[43mGetConformer\u001b[49m\u001b[43m(\u001b[49m\u001b[38;5;241;43m12\u001b[39;49m\u001b[43m)\u001b[49m\n",
      "\u001b[1;31mValueError\u001b[0m: Bad Conformer Id"
     ]
    }
   ],
   "source": [
    "cp.GetConformer(12)"
   ]
  },
  {
   "cell_type": "markdown",
   "id": "b46e2fa9",
   "metadata": {},
   "source": [
    "So it's usually better to loop over conformers by using `for conf in m.GetConformers()` than to do something like `for confid in range(m.GetNumConformers())`"
   ]
  },
  {
   "cell_type": "markdown",
   "id": "5199416f",
   "metadata": {},
   "source": [
    "## Getting atom positions\n",
    "\n",
    "We can get the position of an individual atom using the `GetAtomPosition()` method:"
   ]
  },
  {
   "cell_type": "code",
   "execution_count": 17,
   "id": "1a83f8d4",
   "metadata": {},
   "outputs": [
    {
     "data": {
      "text/plain": [
       "<rdkit.Geometry.rdGeometry.Point3D at 0x24549d77940>"
      ]
     },
     "execution_count": 17,
     "metadata": {},
     "output_type": "execute_result"
    }
   ],
   "source": [
    "conf = esomeprazole.GetConformer()\n",
    "pos = conf.GetAtomPosition(0)\n",
    "pos"
   ]
  },
  {
   "cell_type": "markdown",
   "id": "c9c09554",
   "metadata": {},
   "source": [
    "Point3D objects have x, y, an z members:"
   ]
  },
  {
   "cell_type": "code",
   "execution_count": 18,
   "id": "98e584c1",
   "metadata": {},
   "outputs": [
    {
     "data": {
      "text/plain": [
       "7.673833423925606"
      ]
     },
     "execution_count": 18,
     "metadata": {},
     "output_type": "execute_result"
    }
   ],
   "source": [
    "pos.x"
   ]
  },
  {
   "cell_type": "markdown",
   "id": "aa206007",
   "metadata": {},
   "source": [
    "We can also treat them as vectors:"
   ]
  },
  {
   "cell_type": "code",
   "execution_count": 19,
   "id": "bdb227f7",
   "metadata": {},
   "outputs": [
    {
     "data": {
      "text/plain": [
       "7.673833423925606"
      ]
     },
     "execution_count": 19,
     "metadata": {},
     "output_type": "execute_result"
    }
   ],
   "source": [
    "pos[0]"
   ]
  },
  {
   "cell_type": "markdown",
   "id": "c919d898",
   "metadata": {},
   "source": [
    "or convert them to a list:"
   ]
  },
  {
   "cell_type": "code",
   "execution_count": 20,
   "id": "bc41fdc2",
   "metadata": {},
   "outputs": [
    {
     "data": {
      "text/plain": [
       "[7.673833423925606, 1.9026270201484923, 0.7499323617732389]"
      ]
     },
     "execution_count": 20,
     "metadata": {},
     "output_type": "execute_result"
    }
   ],
   "source": [
    "list(pos)"
   ]
  },
  {
   "cell_type": "markdown",
   "id": "fc8761b1",
   "metadata": {},
   "source": [
    "If you want to work with all of the atom positions at once, you can get the full set of positions as a numeric python array:"
   ]
  },
  {
   "cell_type": "code",
   "execution_count": 36,
   "id": "3bdc7d50",
   "metadata": {},
   "outputs": [
    {
     "data": {
      "text/plain": [
       "array([[ 7.67383342,  1.90262702,  0.74993236],\n",
       "       [ 6.45500303,  1.5863599 ,  1.35650536],\n",
       "       [ 5.47994258,  0.87148768,  0.70572686],\n",
       "       [ 5.73975972,  0.49700014, -0.60402982],\n",
       "       [ 4.78365557, -0.22724183, -1.28080521],\n",
       "       [ 3.59642905, -0.54463893, -0.59986585],\n",
       "       [ 2.59405829, -1.21382165, -1.03927358],\n",
       "       [ 1.57249064, -1.34923356, -0.0664238 ],\n",
       "       [ 0.23760111, -2.18813362, -0.61069031],\n",
       "       [ 0.81652921, -3.85758446, -0.60953112],\n",
       "       [-1.27391039, -2.26700639,  0.09012225],\n",
       "       [-2.10815098, -1.11798724,  0.39836845],\n",
       "       [-1.98174435, -0.40660263,  1.56568982],\n",
       "       [-2.94381966,  0.4469877 ,  1.9742195 ],\n",
       "       [-4.10302205,  0.68692145,  1.27699325],\n",
       "       [-5.19127878,  1.57733968,  1.7705111 ],\n",
       "       [-4.26093798, -0.01014656,  0.07490913],\n",
       "       [-5.42572563,  0.23147474, -0.6552053 ],\n",
       "       [-5.42087157,  1.29218749, -1.61825447],\n",
       "       [-3.29351791, -0.86279333, -0.31409244],\n",
       "       [-3.3729589 , -1.58163605, -1.64292335],\n",
       "       [ 2.09334884, -0.69551121,  0.96089041],\n",
       "       [ 3.32320448, -0.18671147,  0.68892685],\n",
       "       [ 4.28153998,  0.53232818,  1.34410496],\n",
       "       [ 8.09389757,  0.95596456,  0.26748966],\n",
       "       [ 7.65061035,  2.62967184, -0.06019159],\n",
       "       [ 8.38623492,  2.21563152,  1.56819868],\n",
       "       [ 6.66853902,  0.74454419, -1.13424145],\n",
       "       [ 4.89232116, -0.56528193, -2.30134486],\n",
       "       [-1.97542789, -3.01240938, -0.43608787],\n",
       "       [-1.27389641, -2.83764033,  1.13153208],\n",
       "       [-2.83784116,  0.99189563,  2.93071709],\n",
       "       [-5.86663733,  0.96082859,  2.44934068],\n",
       "       [-5.84018865,  1.83545526,  0.9297767 ],\n",
       "       [-4.86235377,  2.50117065,  2.2287445 ],\n",
       "       [-4.78779089,  1.06132465, -2.50433141],\n",
       "       [-4.99817085,  2.23486583, -1.20407518],\n",
       "       [-6.43595476,  1.42487573, -2.00400931],\n",
       "       [-4.24971742, -1.21643589, -2.21758627],\n",
       "       [-2.46593717, -1.22685901, -2.26727455],\n",
       "       [-3.47585534, -2.65007473, -1.58068986],\n",
       "       [ 4.1067109 ,  0.83680778,  2.34637208]])"
      ]
     },
     "execution_count": 36,
     "metadata": {},
     "output_type": "execute_result"
    }
   ],
   "source": [
    "conf = esomeprazole.GetConformer()\n",
    "conf.GetPositions()"
   ]
  },
  {
   "cell_type": "markdown",
   "id": "77e9216d",
   "metadata": {},
   "source": [
    "## Adding/removing conformers\n",
    "\n",
    "I already showed how to remove conformer in the section on conformer IDs, but you can also add conformers to a molecule.\n",
    "\n",
    "Let's start by getting a conformer which is a canonical orientation: centered at the origin and with its principle axes aligned with the cartesian axes:"
   ]
  },
  {
   "cell_type": "code",
   "execution_count": 22,
   "id": "003d9c34",
   "metadata": {},
   "outputs": [],
   "source": [
    "from rdkit.Chem import rdMolTransforms\n",
    "\n",
    "# GetConformer() returns a reference to the existing conformer, we want a copy:\n",
    "conf = Chem.Conformer(esomeprazole.GetConformer(0))\n",
    "rdMolTransforms.CanonicalizeConformer(conf)\n"
   ]
  },
  {
   "cell_type": "markdown",
   "id": "cb09939a",
   "metadata": {},
   "source": [
    "Make a copy of the molecule and add a 2D conformer, by default Compute2DCoords() clears the existing conformers"
   ]
  },
  {
   "cell_type": "code",
   "execution_count": 28,
   "id": "ada0f874",
   "metadata": {},
   "outputs": [
    {
     "data": {
      "text/plain": [
       "0"
      ]
     },
     "execution_count": 28,
     "metadata": {},
     "output_type": "execute_result"
    }
   ],
   "source": [
    "cp = Chem.Mol(esomeprazole)\n",
    "rdDepictor.Compute2DCoords(cp)\n"
   ]
  },
  {
   "cell_type": "markdown",
   "id": "aa57b691",
   "metadata": {},
   "source": [
    "Now add the that canonical conformer and set its ID so that it is unique. The return value is the new conformer ID\n"
   ]
  },
  {
   "cell_type": "code",
   "execution_count": 29,
   "id": "1c545ede",
   "metadata": {},
   "outputs": [
    {
     "data": {
      "text/plain": [
       "1"
      ]
     },
     "execution_count": 29,
     "metadata": {},
     "output_type": "execute_result"
    }
   ],
   "source": [
    "cp.AddConformer(conf,assignId=True)"
   ]
  },
  {
   "cell_type": "code",
   "execution_count": 32,
   "id": "4fd91de4",
   "metadata": {},
   "outputs": [
    {
     "data": {
      "text/plain": [
       "array([[8.41075857, 1.90814121, 0.        ],\n",
       "       [6.92408705, 2.10766008, 0.        ],\n",
       "       [6.00796287, 0.91992422, 0.        ]])"
      ]
     },
     "execution_count": 32,
     "metadata": {},
     "output_type": "execute_result"
    }
   ],
   "source": [
    "cp.GetConformer().GetPositions()[:3]"
   ]
  },
  {
   "cell_type": "code",
   "execution_count": 33,
   "id": "f15be6d9",
   "metadata": {},
   "outputs": [
    {
     "data": {
      "text/plain": [
       "array([[ 7.39395019,  1.81765991, -0.52124964],\n",
       "       [ 6.17231368,  1.90827963,  0.15172549],\n",
       "       [ 5.15244456,  1.01460864, -0.06395248]])"
      ]
     },
     "execution_count": 33,
     "metadata": {},
     "output_type": "execute_result"
    }
   ],
   "source": [
    "cp.GetConformer(1).GetPositions()[:3]"
   ]
  },
  {
   "cell_type": "markdown",
   "id": "56aff997",
   "metadata": {},
   "source": [
    "## Getting a new molecule with just one conformer\n",
    "\n",
    "There are often times you want to copy a multi-conformer molecule but just keep one of the conformers.\n",
    "\n",
    "The standard way of copying RDKit molecules will copy all conformers:"
   ]
  },
  {
   "cell_type": "code",
   "execution_count": 35,
   "id": "6748c0c7",
   "metadata": {},
   "outputs": [
    {
     "data": {
      "text/plain": [
       "10"
      ]
     },
     "execution_count": 35,
     "metadata": {},
     "output_type": "execute_result"
    }
   ],
   "source": [
    "cp = Chem.Mol(esomeprazole)\n",
    "cp.GetNumConformers()"
   ]
  },
  {
   "cell_type": "markdown",
   "id": "781b8c8b",
   "metadata": {},
   "source": [
    "But we can tell it to just copy one:"
   ]
  },
  {
   "cell_type": "code",
   "execution_count": 38,
   "id": "14a1d9bc",
   "metadata": {},
   "outputs": [
    {
     "name": "stdout",
     "output_type": "stream",
     "text": [
      "1 5\n"
     ]
    }
   ],
   "source": [
    "cp = Chem.Mol(esomeprazole,confId=5)\n",
    "print(cp.GetNumConformers(), cp.GetConformer().GetId())"
   ]
  }
 ],
 "metadata": {
  "kernelspec": {
   "display_name": "Python 3 (ipykernel)",
   "language": "python",
   "name": "python3"
  },
  "language_info": {
   "codemirror_mode": {
    "name": "ipython",
    "version": 3
   },
   "file_extension": ".py",
   "mimetype": "text/x-python",
   "name": "python",
   "nbconvert_exporter": "python",
   "pygments_lexer": "ipython3",
   "version": "3.10.8"
  }
 },
 "nbformat": 4,
 "nbformat_minor": 5
}
